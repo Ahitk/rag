{
 "cells": [
  {
   "cell_type": "code",
   "execution_count": 7,
   "metadata": {},
   "outputs": [],
   "source": [
    "# Import necessary libraries\n",
    "import os\n",
    "import numpy as np\n",
    "import chromadb\n",
    "import asyncio\n",
    "import gc\n",
    "import tiktoken\n",
    "from dotenv import load_dotenv\n",
    "from langchain_openai import ChatOpenAI\n",
    "from langchain_openai.embeddings import OpenAIEmbeddings\n",
    "from langchain.document_loaders import DirectoryLoader, TextLoader\n",
    "from langchain.vectorstores import Chroma\n",
    "from langchain_core.output_parsers import StrOutputParser\n",
    "from langchain.chains.summarize import load_summarize_chain\n",
    "from langchain_core.pydantic_v1 import BaseModel, Field\n",
    "from langchain_core.runnables import RunnableLambda, RunnablePassthrough\n",
    "from langchain_core.prompts import ChatPromptTemplate, HumanMessagePromptTemplate, FewShotChatMessagePromptTemplate, PromptTemplate\n",
    "from langchain.load import dumps, loads\n",
    "from langchain.schema import Document\n",
    "from operator import itemgetter\n",
    "from typing import Literal, List, Tuple"
   ]
  },
  {
   "cell_type": "code",
   "execution_count": 8,
   "metadata": {},
   "outputs": [],
   "source": [
    "# Load API Keys from environment variables\n",
    "load_dotenv()  # Load environment variables from a .env file\n",
    "\n",
    "# Retrieve API keys from environment variables\n",
    "OPENAI_API_KEY = os.getenv(\"OPENAI_API_KEY\")\n",
    "LANGCHAIN_API_KEY = os.getenv(\"LANGCHAIN_API_KEY\")  # This key is loaded but not used in the code\n",
    "\n",
    "# Initialize the chat model and embedding model\n",
    "# ChatOpenAI is used to interact with the OpenAI GPT model, and OpenAIEmbeddings is used for generating embeddings for documents\n",
    "model = ChatOpenAI(model=\"gpt-4o\", api_key=OPENAI_API_KEY)\n",
    "embedding = OpenAIEmbeddings(api_key=OPENAI_API_KEY)"
   ]
  },
  {
   "cell_type": "code",
   "execution_count": 9,
   "metadata": {},
   "outputs": [
    {
     "name": "stdout",
     "output_type": "stream",
     "text": [
      "MagentaEINS klasörüne _summary.txt dosyası yazıldı.\n",
      "Hilfe bei Störungen klasörüne _summary.txt dosyası yazıldı.\n",
      "Geräte & Zubehör klasörüne _summary.txt dosyası yazıldı.\n",
      "TV klasörüne _summary.txt dosyası yazıldı.\n",
      "Vertrag & Rechnung klasörüne _summary.txt dosyası yazıldı.\n",
      "Internet & Telefonie klasörüne _summary.txt dosyası yazıldı.\n",
      "Apps & Dienste klasörüne _summary.txt dosyası yazıldı.\n",
      "Mobilfunk klasörüne _summary.txt dosyası yazıldı.\n"
     ]
    }
   ],
   "source": [
    "# Özetleme zincirini oluşturma\n",
    "def create_summary_chain():\n",
    "    prompt_template = ChatPromptTemplate.from_template(\n",
    "        \"Summarize the following document in a way that best describes it semantically, considering the question and answer pairs it contains:\\n\\n{doc}\"\n",
    "    )\n",
    "    chain = prompt_template | model | StrOutputParser()\n",
    "    return chain\n",
    "\n",
    "def summarize_document_with_chain(doc_content):\n",
    "    \"\"\"Verilen belge içeriğini LangChain ile özetler.\"\"\"\n",
    "    chain = create_summary_chain()\n",
    "    # Belgeyi özetlemek için chain'i çalıştır\n",
    "    summary = chain.invoke({\"doc\": doc_content})\n",
    "    return summary\n",
    "\n",
    "# Ana klasörün yolu (data klasörünün yolu)\n",
    "data_directory = 'data'\n",
    "\n",
    "# data klasörü altındaki her bir ana klasör için işlem yapıyoruz\n",
    "for root, dirs, files in os.walk(data_directory):\n",
    "    # root sadece bir üst seviyedeki dizini verir, bu yüzden sadece root içindeki ana klasörlerde işlemi yaparız\n",
    "    if root == data_directory:\n",
    "        for folder in dirs:\n",
    "            folder_path = os.path.join(data_directory, folder)\n",
    "            \n",
    "            # _summary.txt dosyasını bu ana klasör içinde oluşturuyoruz (alfabetik olarak en üstte olacak şekilde)\n",
    "            summary_file_path = os.path.join(folder_path, '_summary.txt')\n",
    "            \n",
    "            with open(summary_file_path, 'w') as summary_file:\n",
    "                # Bu klasörün altındaki tüm dosyaları listelemek için tekrar os.walk kullanıyoruz\n",
    "                for sub_root, sub_dirs, sub_files in os.walk(folder_path):\n",
    "                    for file_name in sub_files:\n",
    "                        if file_name != '_summary.txt' and file_name.endswith('.txt'):\n",
    "                            # Her txt dosyasının tam yolunu alıyoruz\n",
    "                            file_path = os.path.join(sub_root, file_name)\n",
    "                            \n",
    "                            # Dosyanın içeriğini okuyoruz\n",
    "                            with open(file_path, 'r', encoding='utf-8') as txt_file:\n",
    "                                content = txt_file.read()\n",
    "                            \n",
    "                            # LangChain chain yapısını kullanarak belgeyi özetliyoruz\n",
    "                            summary = summarize_document_with_chain(content)\n",
    "                            \n",
    "                            # Dosya yolunu ve özetini _summary.txt dosyasına yazıyoruz\n",
    "                            summary_file.write(f\"\\n=== Chunk ===\\n[File path: {file_path}\\nFile summary: {summary}]\\n\")\n",
    "            \n",
    "            print(f\"{folder} klasörüne _summary.txt dosyası yazıldı.\")"
   ]
  }
 ],
 "metadata": {
  "kernelspec": {
   "display_name": "venv",
   "language": "python",
   "name": "python3"
  },
  "language_info": {
   "codemirror_mode": {
    "name": "ipython",
    "version": 3
   },
   "file_extension": ".py",
   "mimetype": "text/x-python",
   "name": "python",
   "nbconvert_exporter": "python",
   "pygments_lexer": "ipython3",
   "version": "3.12.5"
  }
 },
 "nbformat": 4,
 "nbformat_minor": 2
}
