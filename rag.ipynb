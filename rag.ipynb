{
 "cells": [
  {
   "cell_type": "markdown",
   "metadata": {},
   "source": [
    "## Ortam Değişkenlerini Yükleyin\n",
    "### Ortam değişkenlerini .env dosyasından yüklemek için dotenv kütüphanesini kullanacağız:"
   ]
  },
  {
   "cell_type": "code",
   "execution_count": 7,
   "metadata": {},
   "outputs": [],
   "source": [
    "# hücre 1\n",
    "\n",
    "import os\n",
    "from dotenv import load_dotenv\n",
    "\n",
    "# .env dosyasını yükle\n",
    "load_dotenv()\n",
    "\n",
    "# OpenAI API anahtarını al\n",
    "OPENAI_API_KEY = os.getenv(\"OPENAI_API_KEY\")"
   ]
  },
  {
   "cell_type": "markdown",
   "metadata": {},
   "source": [
    "## Veriyi Yükleyin ve İşleyin\n",
    "\n",
    "### Veri dosyalarını (txt) okuyup, her bir dosyanın içeriğini vektör haline getirmek için OpenAI Embeddings’i kullanacağız. Ardından, bu vektörleri ChromaDB’ye ekleyeceğiz."
   ]
  },
  {
   "cell_type": "code",
   "execution_count": 8,
   "metadata": {},
   "outputs": [
    {
     "name": "stdout",
     "output_type": "stream",
     "text": [
      "Yüklendi 1923 adet soru-cevap çifti.\n"
     ]
    }
   ],
   "source": [
    "# Hücre 2: Veriyi Yükleyin ve Ayıklayın\n",
    "\n",
    "import os\n",
    "import re\n",
    "\n",
    "data_directory = \"rag_data/website/organized_data\"\n",
    "\n",
    "def extract_qa_pairs(text):\n",
    "    \"\"\"\n",
    "    Bir txt dosyasındaki tüm soru-cevap çiftlerini çıkartır.\n",
    "    \"\"\"\n",
    "    qa_pairs = []\n",
    "    pattern = r\"(\\d+)\\.\\s*Question:(.*?)\\n\\s*Answer:(.*?)(?=\\n\\d+\\.|\\Z)\"\n",
    "    matches = re.findall(pattern, text, re.DOTALL)\n",
    "    \n",
    "    for match in matches:\n",
    "        question = match[1].strip()\n",
    "        answer = match[2].strip()\n",
    "        qa_pairs.append({\"question\": question, \"answer\": answer})\n",
    "    \n",
    "    return qa_pairs\n",
    "\n",
    "def load_data(directory):\n",
    "    \"\"\"\n",
    "    Klasördeki tüm txt dosyalarını yükler ve bunları kategorilere göre sınıflandırır.\n",
    "    \"\"\"\n",
    "    categorized_data = {}\n",
    "    \n",
    "    for category in os.listdir(directory):\n",
    "        category_path = os.path.join(directory, category)\n",
    "        if os.path.isdir(category_path):\n",
    "            categorized_data[category] = []\n",
    "            \n",
    "            for file_name in os.listdir(category_path):\n",
    "                if file_name.endswith(\".txt\"):\n",
    "                    file_path = os.path.join(category_path, file_name)\n",
    "                    with open(file_path, \"r\", encoding=\"utf-8\") as f:\n",
    "                        content = f.read()\n",
    "                        qa_pairs = extract_qa_pairs(content)\n",
    "                        categorized_data[category].extend(qa_pairs)\n",
    "    \n",
    "    return categorized_data\n",
    "\n",
    "categorized_data = load_data(data_directory)\n",
    "print(f\"Yüklendi {sum(len(v) for v in categorized_data.values())} adet soru-cevap çifti.\")"
   ]
  },
  {
   "cell_type": "markdown",
   "metadata": {},
   "source": [
    "## Embeddings ve Veritabanına Yükleme\n",
    "\n",
    "### Belge başına soru-cevap çiftlerini kullanarak vektörleri oluşturup ChromaDB’ye ekleyeceğiz. Kategorilere göre verileri ayrı koleksiyonlara ayıracağız."
   ]
  },
  {
   "cell_type": "code",
   "execution_count": 15,
   "metadata": {},
   "outputs": [
    {
     "name": "stdout",
     "output_type": "stream",
     "text": [
      "Mevcut koleksiyon 'magentaeins' silindi.\n",
      "14 adet soru-cevap çifti 'magentaeins' kategorisine eklendi.\n",
      "Mevcut koleksiyon 'hilfe_bei_storungen' silindi.\n",
      "6 adet soru-cevap çifti 'hilfe_bei_storungen' kategorisine eklendi.\n",
      "Mevcut koleksiyon 'gerate_and_zubehor' silindi.\n",
      "519 adet soru-cevap çifti 'gerate_and_zubehor' kategorisine eklendi.\n",
      "Mevcut koleksiyon 'others' silindi.\n",
      "750 adet soru-cevap çifti 'others' kategorisine eklendi.\n",
      "Koleksiyon 'tv_collection' bulunamadı, oluşturulacak.\n",
      "80 adet soru-cevap çifti 'tv_collection' kategorisine eklendi.\n",
      "Koleksiyon 'vertrag_and_rechnung' bulunamadı, oluşturulacak.\n",
      "103 adet soru-cevap çifti 'vertrag_and_rechnung' kategorisine eklendi.\n",
      "Koleksiyon 'internet_and_telefonie' bulunamadı, oluşturulacak.\n",
      "106 adet soru-cevap çifti 'internet_and_telefonie' kategorisine eklendi.\n",
      "Koleksiyon 'apps_and_dienste' bulunamadı, oluşturulacak.\n",
      "186 adet soru-cevap çifti 'apps_and_dienste' kategorisine eklendi.\n",
      "Koleksiyon 'mobilfunk' bulunamadı, oluşturulacak.\n",
      "159 adet soru-cevap çifti 'mobilfunk' kategorisine eklendi.\n"
     ]
    }
   ],
   "source": [
    "# Hücre3: Embeddings ve Veritabanına Yükleme\n",
    "\n",
    "import unicodedata\n",
    "from langchain.embeddings import OpenAIEmbeddings\n",
    "from chromadb import Client\n",
    "from chromadb.config import Settings\n",
    "\n",
    "# OpenAI Embeddings başlat\n",
    "embeddings = OpenAIEmbeddings(openai_api_key=OPENAI_API_KEY)\n",
    "\n",
    "# ChromaDB Client oluştur\n",
    "chroma_client = Client(Settings())\n",
    "\n",
    "def normalize_text(text):\n",
    "    \"\"\"\n",
    "    Özel karakterleri kaldırarak metni normalleştirir.\n",
    "    \"\"\"\n",
    "    # Özel karakterleri değiştir\n",
    "    replacements = {\n",
    "        'ö': 'o', 'ü': 'u', 'ä': 'a', 'ß': 'ss', \n",
    "        'ğ': 'g', 'ç': 'c', 'ş': 's', 'ı': 'i'\n",
    "    }\n",
    "    for search, replace in replacements.items():\n",
    "        text = text.replace(search, replace)\n",
    "    # Unicode normalizasyonu yap ve sadece ASCII karakterleri koru\n",
    "    return unicodedata.normalize('NFKD', text).encode('ascii', 'ignore').decode('ascii')\n",
    "\n",
    "def create_embeddings(text):\n",
    "    \"\"\"\n",
    "    Bir metni vektöre dönüştürür.\n",
    "    \"\"\"\n",
    "    return embeddings.embed_query(text)\n",
    "\n",
    "def valid_collection_name(name):\n",
    "    \"\"\"\n",
    "    Koleksiyon ismini geçerli bir formata dönüştürür.\n",
    "    \"\"\"\n",
    "    name = normalize_text(name.lower())\n",
    "    # Geçerli karakterler: alfanümerik, alt çizgi ve kısa çizgi\n",
    "    name = name.replace(\" \", \"_\").replace(\"&\", \"and\").replace(\",\", \"\")\n",
    "    if len(name) < 3:\n",
    "        name = name + \"_collection\"  # Kısa isimleri geçerli uzunlukta hale getir\n",
    "    return name[:63]  # En fazla 63 karakter uzunluğunda olmalı\n",
    "\n",
    "def create_and_populate_database(categorized_data):\n",
    "    \"\"\"\n",
    "    Kategorilere göre veritabanına vektörleri ekler.\n",
    "    \"\"\"\n",
    "    for category, qa_pairs in categorized_data.items():\n",
    "        valid_name = valid_collection_name(category)\n",
    "\n",
    "        # Eğer koleksiyon varsa sil\n",
    "        try:\n",
    "            chroma_client.delete_collection(name=valid_name)\n",
    "            print(f\"Mevcut koleksiyon '{valid_name}' silindi.\")\n",
    "        except:\n",
    "            print(f\"Koleksiyon '{valid_name}' bulunamadı, oluşturulacak.\")\n",
    "\n",
    "        # Yeni koleksiyon oluştur\n",
    "        collection = chroma_client.create_collection(name=valid_name)\n",
    "\n",
    "        for idx, qa_pair in enumerate(qa_pairs):\n",
    "            question = qa_pair[\"question\"]\n",
    "            answer = qa_pair[\"answer\"]\n",
    "            vector = create_embeddings(question)  # Sadece soruyu embed edelim\n",
    "            metadata = {\"question\": question, \"answer\": answer}\n",
    "\n",
    "            # Benzersiz bir ID oluştur\n",
    "            unique_id = f\"{valid_name}_{idx}\"\n",
    "\n",
    "            # Koleksiyona veriyi ekle\n",
    "            collection.add(ids=[unique_id], documents=[question], embeddings=[vector], metadatas=[metadata])\n",
    "\n",
    "        print(f\"{len(qa_pairs)} adet soru-cevap çifti '{valid_name}' kategorisine eklendi.\")\n",
    "\n",
    "create_and_populate_database(categorized_data)"
   ]
  },
  {
   "cell_type": "markdown",
   "metadata": {},
   "source": [
    "## Backend API’yi Oluşturun\n",
    "\n",
    "### Backend API’sini oluşturmak için Langchain ve ChromaDB kullanacağız. Kullanıcıdan gelen sorulara cevap vereceğiz."
   ]
  },
  {
   "cell_type": "code",
   "execution_count": 17,
   "metadata": {},
   "outputs": [],
   "source": [
    "# Hücre 4: Backend API Oluşturma\n",
    "\n",
    "from langchain.chains import RetrievalQA\n",
    "from langchain.vectorstores import Chroma\n",
    "from langchain.llms import OpenAI\n",
    "from langchain.embeddings import OpenAIEmbeddings\n",
    "from langchain.prompts import PromptTemplate\n",
    "\n",
    "# OpenAI Embeddings başlat\n",
    "embeddings = OpenAIEmbeddings(openai_api_key=OPENAI_API_KEY)\n",
    "\n",
    "# Chroma ile bağlantı kur\n",
    "def initialize_qa_chain(category):\n",
    "    \"\"\"\n",
    "    Belirli bir kategori için RAG Retrieval QA zincirini başlatır.\n",
    "    \"\"\"\n",
    "    # Vektör mağazasını oluştur\n",
    "    collection_name = valid_collection_name(category)\n",
    "    vectorstore = Chroma(collection_name, embedding_function=embeddings.embed_query)\n",
    "\n",
    "    # OpenAI modelini başlat\n",
    "    llm = OpenAI(model=\"gpt-4\", openai_api_key=OPENAI_API_KEY)\n",
    "\n",
    "    # Prompt şablonunu oluştur\n",
    "    prompt_template = PromptTemplate(\n",
    "        template=\"Soru: {question}\\n\\nCevap:\",\n",
    "        input_variables=[\"question\"]\n",
    "    )\n",
    "\n",
    "    # RetrievalQA zincirini başlat\n",
    "    qa_chain = RetrievalQA.from_chain_type(\n",
    "        llm=llm,\n",
    "        chain_type=\"stuff\",  # Burada `stuff` seçeneğini kullanıyoruz; ihtiyaca göre değiştirilebilir\n",
    "        retriever=vectorstore.as_retriever(),\n",
    "        prompt=prompt_template\n",
    "    )\n",
    "    \n",
    "    return qa_chain"
   ]
  },
  {
   "cell_type": "markdown",
   "metadata": {},
   "source": [
    "## Streamlit ile Frontend Oluşturun\n",
    "\n",
    "### Kullanıcıların belirli bir kategori seçerek soru sorabilmesi için bir frontend oluşturacağız."
   ]
  },
  {
   "cell_type": "code",
   "execution_count": 18,
   "metadata": {},
   "outputs": [
    {
     "name": "stderr",
     "output_type": "stream",
     "text": [
      "2024-08-29 19:44:45.572 \n",
      "  \u001b[33m\u001b[1mWarning:\u001b[0m to view this Streamlit app on a browser, run it with the following\n",
      "  command:\n",
      "\n",
      "    streamlit run /Users/taha/Desktop/rag/venv/lib/python3.12/site-packages/ipykernel_launcher.py [ARGUMENTS]\n",
      "2024-08-29 19:44:45.572 Session state does not function when running a script without `streamlit run`\n"
     ]
    }
   ],
   "source": [
    "# Hücre 5: Streamlit ile API'yi Yayınlama\n",
    "\n",
    "import streamlit as st\n",
    "\n",
    "# Kategoriyi seçmek için dropdown menüsü\n",
    "categories = [\n",
    "    \"Geräte & Zubehör\",\n",
    "    \"Hilfe bei Störungen\",\n",
    "    \"Internet & Telefonie\",\n",
    "    \"MagentaEINS\",\n",
    "    \"Mobilfunk\",\n",
    "    \"TV\",\n",
    "    \"Vertrag & Rechnung\",\n",
    "    \"Apps & Dienste\",\n",
    "    \"Others\"\n",
    "]\n",
    "\n",
    "# Streamlit arayüzü\n",
    "st.title(\"Soru-Cevap API\")\n",
    "\n",
    "selected_category = st.selectbox(\"Kategori Seçin:\", categories)\n",
    "question = st.text_input(\"Soru:\", \"\")\n",
    "\n",
    "if st.button(\"Cevapla\"):\n",
    "    if selected_category and question:\n",
    "        # QA zincirini başlat\n",
    "        qa_chain = initialize_qa_chain(selected_category)\n",
    "\n",
    "        # Soruyu yanıtla\n",
    "        answer = qa_chain.run(question)\n",
    "        st.write(\"Cevap:\", answer)\n",
    "    else:\n",
    "        st.warning(\"Lütfen kategori ve soru girin.\")"
   ]
  }
 ],
 "metadata": {
  "kernelspec": {
   "display_name": "venv",
   "language": "python",
   "name": "python3"
  },
  "language_info": {
   "codemirror_mode": {
    "name": "ipython",
    "version": 3
   },
   "file_extension": ".py",
   "mimetype": "text/x-python",
   "name": "python",
   "nbconvert_exporter": "python",
   "pygments_lexer": "ipython3",
   "version": "3.12.5"
  }
 },
 "nbformat": 4,
 "nbformat_minor": 2
}
