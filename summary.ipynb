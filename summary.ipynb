{
 "cells": [
  {
   "cell_type": "code",
   "execution_count": 2,
   "metadata": {},
   "outputs": [],
   "source": [
    "import os\n",
    "import tiktoken\n",
    "import numpy as np\n",
    "from dotenv import load_dotenv\n",
    "import streamlit as st\n",
    "from langchain_openai.embeddings import OpenAIEmbeddings\n",
    "from langchain.load import dumps, loads\n",
    "from langchain_openai import ChatOpenAI\n",
    "from langchain_core.output_parsers import StrOutputParser\n",
    "from langchain_core.prompts import ChatPromptTemplate\n",
    "\n",
    "load_dotenv()\n",
    "OPENAI_API_KEY = os.getenv(\"OPENAI_API_KEY\")\n",
    "model = ChatOpenAI(model=\"gpt-4o-mini\", api_key=OPENAI_API_KEY)\n",
    "\n",
    "data_directory = \"/Users/taha/Desktop/rag/data\""
   ]
  },
  {
   "cell_type": "code",
   "execution_count": 3,
   "metadata": {},
   "outputs": [],
   "source": [
    "# Özetleme zincirini oluşturma\n",
    "def create_summary(doc_content):\n",
    "    summary_template = ChatPromptTemplate.from_template(\n",
    "        \"Summarize the following document in German in a way that captures its semantic meaning most accurately.\\n\\n{doc}\"\n",
    "    )\n",
    "    chain = summary_template | model | StrOutputParser()\n",
    "    return chain.invoke({\"doc\": doc_content})\n",
    "\n",
    "# Ana klasörün yolu (data klasörünün yolu)\n",
    "data_directory = 'data'\n",
    "\n",
    "# BURASI HER APP CALISTIGINDA TEKRARDAN SUMMARY OLSUTURUYOR\n",
    "# CÜNKÜ KOMPLE PY DOSYASINI YÜKLÜYOR VE CALISTIRIYOR.\n",
    "# SADECE SUMMARY YAPTIRMAK ISTEDIGINDE CALISTIR.\n",
    "\n",
    "def summarize(data_directory): \n",
    "# data klasörü altındaki her bir ana klasör için işlem yapıyoruz\n",
    "    for root, dirs, files in os.walk(data_directory):\n",
    "        # root sadece bir üst seviyedeki dizini verir, bu yüzden sadece root içindeki ana klasörlerde işlemi yaparız\n",
    "        if root == data_directory:\n",
    "            for folder in dirs:\n",
    "                folder_path = os.path.join(data_directory, folder)\n",
    "                \n",
    "                # _summary.txt dosyasını bu ana klasör içinde oluşturuyoruz (alfabetik olarak en üstte olacak şekilde)\n",
    "                summary_file_path = os.path.join(folder_path, '_summary.txt')\n",
    "                \n",
    "                with open(summary_file_path, 'w') as summary_file:\n",
    "                    # Bu klasörün altındaki tüm dosyaları listelemek için tekrar os.walk kullanıyoruz\n",
    "                    for sub_root, sub_dirs, sub_files in os.walk(folder_path):\n",
    "                        for file_name in sub_files:\n",
    "                            if file_name != '_summary.txt' and file_name.endswith('.txt'):\n",
    "                                # Her txt dosyasının tam yolunu alıyoruz\n",
    "                                file_path = os.path.join(sub_root, file_name)\n",
    "                                \n",
    "                                # Dosyanın içeriğini okuyoruz\n",
    "                                with open(file_path, 'r', encoding='utf-8') as txt_file:\n",
    "                                    content = txt_file.read()\n",
    "                                \n",
    "                                # LangChain chain yapısını kullanarak belgeyi özetliyoruz\n",
    "                                summary = create_summary(content)\n",
    "                                \n",
    "                                # Dosya yolunu ve özetini _summary.txt dosyasına yazıyoruz\n",
    "                                summary_file.write(f\"\\n=== Chunk ===\\n[File path: {file_path}\\nFile summary: {summary}]\\n\")\n",
    "                \n",
    "                print(f\"{folder} klasörüne _summary.txt dosyası yazıldı.\")"
   ]
  },
  {
   "cell_type": "code",
   "execution_count": 7,
   "metadata": {},
   "outputs": [],
   "source": [
    "summarize(data_directory)"
   ]
  }
 ],
 "metadata": {
  "kernelspec": {
   "display_name": "venv",
   "language": "python",
   "name": "python3"
  },
  "language_info": {
   "codemirror_mode": {
    "name": "ipython",
    "version": 3
   },
   "file_extension": ".py",
   "mimetype": "text/x-python",
   "name": "python",
   "nbconvert_exporter": "python",
   "pygments_lexer": "ipython3",
   "version": "3.12.5"
  }
 },
 "nbformat": 4,
 "nbformat_minor": 2
}
