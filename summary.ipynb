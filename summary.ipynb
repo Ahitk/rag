{
 "cells": [
  {
   "cell_type": "code",
   "execution_count": 4,
   "metadata": {},
   "outputs": [],
   "source": [
    "import os\n",
    "\n",
    "def update_file_paths(file_path):\n",
    "    updated_lines = []\n",
    "    \n",
    "    # Dosyayı satır satır okuyun\n",
    "    with open(file_path, 'r', encoding='utf-8') as file:\n",
    "        for line in file:\n",
    "            # Eğer satır \"File path:\" ile başlıyorsa\n",
    "            if line.startswith(\"[File path:\"):\n",
    "                # Yolun yalnızca dosya adını almak için dosya adını ayıklıyoruz\n",
    "                full_path = line.split(\"[File path: \")[1].strip()\n",
    "                file_name = os.path.basename(full_path)\n",
    "                \n",
    "                # Yeni satırı \"File name:\" ve yalnızca dosya adı olacak şekilde oluşturuyoruz\n",
    "                updated_line = f\"[File name: {file_name}\\n\"\n",
    "                updated_lines.append(updated_line)\n",
    "            else:\n",
    "                # Diğer satırları olduğu gibi ekliyoruz\n",
    "                updated_lines.append(line)\n",
    "    \n",
    "    # Dosyayı güncellenmiş içerik ile tekrar yazın\n",
    "    with open(file_path, 'w', encoding='utf-8') as file:\n",
    "        file.writelines(updated_lines)\n",
    "\n",
    "# Güncellemek istediğiniz dosyanın yolunu buraya yazın\n",
    "file_path = '/Users/taha/Desktop/rag/test_data_routing/Mobilfunk/_summary.txt'\n",
    "update_file_paths(file_path)"
   ]
  }
 ],
 "metadata": {
  "kernelspec": {
   "display_name": "venv",
   "language": "python",
   "name": "python3"
  },
  "language_info": {
   "codemirror_mode": {
    "name": "ipython",
    "version": 3
   },
   "file_extension": ".py",
   "mimetype": "text/x-python",
   "name": "python",
   "nbconvert_exporter": "python",
   "pygments_lexer": "ipython3",
   "version": "3.12.5"
  }
 },
 "nbformat": 4,
 "nbformat_minor": 2
}
