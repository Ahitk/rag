{
 "cells": [
  {
   "cell_type": "code",
   "execution_count": 4,
   "metadata": {},
   "outputs": [],
   "source": [
    "import os\n",
    "\n",
    "def update_file_paths(file_path):\n",
    "    updated_lines = []\n",
    "    \n",
    "    # Dosyayı satır satır okuyun\n",
    "    with open(file_path, 'r', encoding='utf-8') as file:\n",
    "        for line in file:\n",
    "            # Eğer satır \"File path:\" ile başlıyorsa\n",
    "            if line.startswith(\"[File path:\"):\n",
    "                # Yolun yalnızca dosya adını almak için dosya adını ayıklıyoruz\n",
    "                full_path = line.split(\"[File path: \")[1].strip()\n",
    "                file_name = os.path.basename(full_path)\n",
    "                \n",
    "                # Yeni satırı \"File name:\" ve yalnızca dosya adı olacak şekilde oluşturuyoruz\n",
    "                updated_line = f\"[File name: {file_name}\\n\"\n",
    "                updated_lines.append(updated_line)\n",
    "            else:\n",
    "                # Diğer satırları olduğu gibi ekliyoruz\n",
    "                updated_lines.append(line)\n",
    "    \n",
    "    # Dosyayı güncellenmiş içerik ile tekrar yazın\n",
    "    with open(file_path, 'w', encoding='utf-8') as file:\n",
    "        file.writelines(updated_lines)\n",
    "\n",
    "# Güncellemek istediğiniz dosyanın yolunu buraya yazın\n",
    "file_path = '/Users/taha/Desktop/rag/test_data_routing/Mobilfunk/_summary.txt'\n",
    "update_file_paths(file_path)"
   ]
  },
  {
   "cell_type": "code",
   "execution_count": 3,
   "metadata": {},
   "outputs": [
    {
     "name": "stdout",
     "output_type": "stream",
     "text": [
      "Filtering complete. _summary.txt now contains only summaries of files present in the directory.\n"
     ]
    }
   ],
   "source": [
    "import os\n",
    "\n",
    "def filter_summary_file(directory_path, summary_file_path):\n",
    "    \"\"\"\n",
    "    Filters the contents of the _summary.txt file to only include summaries of .txt files present in the specified directory.\n",
    "    \n",
    "    Parameters:\n",
    "    - directory_path (str): Path to the directory containing the .txt files.\n",
    "    - summary_file_path (str): Path to the _summary.txt file to be filtered.\n",
    "    \"\"\"\n",
    "    # Get the list of .txt files in the specified directory\n",
    "    existing_files = {file_name for file_name in os.listdir(directory_path) if file_name.endswith('.txt')}\n",
    "    \n",
    "    # Read the _summary.txt file content\n",
    "    with open(summary_file_path, 'r', encoding='utf-8') as summary_file:\n",
    "        content = summary_file.read()\n",
    "    \n",
    "    # Split the content into chunks\n",
    "    chunks = content.split(\"=== Chunk ===\")\n",
    "    filtered_chunks = []\n",
    "\n",
    "    # Process each chunk and keep only those that match the .txt files in the directory\n",
    "    for chunk in chunks:\n",
    "        if \"File name:\" in chunk:\n",
    "            try:\n",
    "                # Extract the file name\n",
    "                file_name_line = next(line for line in chunk.split('\\n') if \"File name:\" in line)\n",
    "                file_name = file_name_line.split(\"File name:\")[1].strip()\n",
    "\n",
    "                # Check if the file name is in the directory's file list\n",
    "                if file_name in existing_files:\n",
    "                    filtered_chunks.append(chunk)\n",
    "\n",
    "            except StopIteration:\n",
    "                print(\"Warning: Skipping a chunk due to formatting issues.\")\n",
    "    \n",
    "    # Join the filtered chunks back into a single string\n",
    "    filtered_content = \"=== Chunk ===\".join(filtered_chunks)\n",
    "\n",
    "    # Write the filtered content back to the _summary.txt file\n",
    "    with open(summary_file_path, 'w', encoding='utf-8') as summary_file:\n",
    "        summary_file.write(filtered_content)\n",
    "\n",
    "    print(\"Filtering complete. _summary.txt now contains only summaries of files present in the directory.\")\n",
    "\n",
    "# Usage\n",
    "directory_path = '/Users/taha/Desktop/rag/test_data_routing/Mobilfunk'  # Replace with the path to your directory with .txt files\n",
    "summary_file_path = '/Users/taha/Desktop/rag/test_data_routing/Mobilfunk/_summary.txt'  # Replace with the path to your _summary.txt\n",
    "\n",
    "filter_summary_file(directory_path, summary_file_path)"
   ]
  }
 ],
 "metadata": {
  "kernelspec": {
   "display_name": "venv",
   "language": "python",
   "name": "python3"
  },
  "language_info": {
   "codemirror_mode": {
    "name": "ipython",
    "version": 3
   },
   "file_extension": ".py",
   "mimetype": "text/x-python",
   "name": "python",
   "nbconvert_exporter": "python",
   "pygments_lexer": "ipython3",
   "version": "3.12.5"
  }
 },
 "nbformat": 4,
 "nbformat_minor": 2
}
