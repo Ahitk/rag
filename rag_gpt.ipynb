{
 "cells": [
  {
   "cell_type": "markdown",
   "metadata": {},
   "source": [
    "# web scraping"
   ]
  },
  {
   "cell_type": "code",
   "execution_count": null,
   "metadata": {},
   "outputs": [],
   "source": [
    "import requests\n",
    "from bs4 import BeautifulSoup\n",
    "\n",
    "# Base URL\n",
    "base_url = \"https://www.telekom.de/hilfe\"\n",
    "visited_urls = set()\n",
    "to_visit_urls = [base_url]\n",
    "\n",
    "# Function to scrape a single page\n",
    "def scrape_page(url):\n",
    "    response = requests.get(url)\n",
    "    soup = BeautifulSoup(response.text, 'html.parser')\n",
    "\n",
    "    # Extract content, links, etc.\n",
    "    page_content = soup.get_text()  # Or any specific part of the page\n",
    "    links = soup.find_all('a', href=True)\n",
    "\n",
    "    # Extract URLs and normalize them\n",
    "    for link in links:\n",
    "        full_url = requests.compat.urljoin(base_url, link['href'])\n",
    "        if full_url not in visited_urls and base_url in full_url:\n",
    "            to_visit_urls.append(full_url)\n",
    "\n",
    "    return page_content\n",
    "\n",
    "# Iterate over all URLs and scrape\n",
    "all_pages_content = []\n",
    "while to_visit_urls:\n",
    "    url = to_visit_urls.pop(0)\n",
    "    if url in visited_urls:\n",
    "        continue\n",
    "    \n",
    "    content = scrape_page(url)\n",
    "    all_pages_content.append(content)\n",
    "    visited_urls.add(url)"
   ]
  },
  {
   "cell_type": "markdown",
   "metadata": {},
   "source": [
    "# Text Embeddings"
   ]
  },
  {
   "cell_type": "code",
   "execution_count": null,
   "metadata": {},
   "outputs": [],
   "source": [
    "import openai\n",
    "import os\n",
    "import chromadb\n",
    "\n",
    "from dotenv import load_dotenv\n",
    "from chromadb.utils import embedding_functions\n",
    "\n",
    "load_dotenv() #.env dosyasini yüklüyor, API key'leri yüklüyor.\n",
    "\n",
    "openai.api_key = os.getenv(\"OPENAI_API_KEY\")\n",
    "\n",
    "def get_embedding(text):\n",
    "    response = openai.Embedding.create(\n",
    "      input=text,\n",
    "      model=\"text-embedding-ada-002\"  # Model is subject to change\n",
    "    )\n",
    "    return response['data'][0]['embedding']\n",
    "\n",
    "# Example usage\n",
    "embeddings = [get_embedding(content) for content in all_pages_content]\n",
    "\n",
    "\n",
    "# Initialize ChromaDB client\n",
    "client = chromadb.Client()\n",
    "\n",
    "# Create a collection\n",
    "collection = client.create_collection(\"telekom_help\")\n",
    "\n",
    "# Add embeddings to the collection\n",
    "for i, embedding in enumerate(embeddings):\n",
    "    collection.add(\n",
    "        embeddings=[embedding],\n",
    "        documents=[all_pages_content[i]],\n",
    "        ids=[str(i)]\n",
    "    )"
   ]
  },
  {
   "cell_type": "markdown",
   "metadata": {},
   "source": [
    "# Langchain"
   ]
  },
  {
   "cell_type": "code",
   "execution_count": null,
   "metadata": {},
   "outputs": [],
   "source": [
    "from langchain import OpenAI, Chroma\n",
    "from langchain.vectorstores import ChromaVectorStore\n",
    "from langchain.chains import RetrievalQA\n",
    "\n",
    "# Load Chroma vector store\n",
    "vector_store = ChromaVectorStore(collection)\n",
    "\n",
    "# Initialize OpenAI model\n",
    "llm = OpenAI(model_name=\"gpt-4\", openai_api_key = openai.api_key)\n",
    "\n",
    "# Create a RetrievalQA chain\n",
    "qa_chain = RetrievalQA(llm=llm, vector_store=vector_store)\n",
    "\n",
    "# Example query\n",
    "query = \"Telekom internet tarifeleri hakkında bilgi ver\"\n",
    "result = qa_chain.run(query)\n",
    "print(result)\n"
   ]
  },
  {
   "cell_type": "markdown",
   "metadata": {},
   "source": [
    "# Streamlit"
   ]
  },
  {
   "cell_type": "code",
   "execution_count": null,
   "metadata": {},
   "outputs": [],
   "source": [
    "import streamlit as st\n",
    "\n",
    "st.title(\"Telekom.de Yardım Sorgu Arayüzü\")\n",
    "\n",
    "query = st.text_input(\"Sorgu Girin:\")\n",
    "\n",
    "if query:\n",
    "    result = qa_chain.run(query)\n",
    "    st.write(result)\n"
   ]
  }
 ],
 "metadata": {
  "kernelspec": {
   "display_name": "venv",
   "language": "python",
   "name": "python3"
  },
  "language_info": {
   "name": "python",
   "version": "3.12.5"
  }
 },
 "nbformat": 4,
 "nbformat_minor": 2
}
