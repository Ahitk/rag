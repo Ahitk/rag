{
 "cells": [
  {
   "cell_type": "markdown",
   "metadata": {},
   "source": [
    "# Web Data"
   ]
  },
  {
   "cell_type": "code",
   "execution_count": null,
   "metadata": {
    "vscode": {
     "languageId": "plaintext"
    }
   },
   "outputs": [],
   "source": [
    "from bs4 import BeautifulSoup\n",
    "import requests\n",
    "\n",
    "# HTML From File\n",
    "with open(\"index.html\", \"r\") as f:\n",
    "\tdoc = BeautifulSoup(f, \"html.parser\")\n",
    "\n",
    "tags = doc.find_all(\"p\")[0]\n",
    "\n",
    "print(tags.find_all(\"b\"))\n",
    "\n",
    "# HTML From Website\n",
    "url = \"https://www.newegg.ca/gigabyte-geforce-rtx-3080-ti-gv-n308tgaming-oc-12gd/p/N82E16814932436?Description=3080&cm_re=3080-_-14-932-436-_-Product\"\n",
    "\n",
    "result = requests.get(url)\n",
    "doc = BeautifulSoup(result.text, \"html.parser\")\n",
    "\n",
    "prices = doc.find_all(text=\"$\")\n",
    "parent = prices[0].parent\n",
    "strong = parent.find(\"strong\")\n",
    "print(strong.string)"
   ]
  }
 ],
 "metadata": {
  "language_info": {
   "name": "python"
  }
 },
 "nbformat": 4,
 "nbformat_minor": 2
}
