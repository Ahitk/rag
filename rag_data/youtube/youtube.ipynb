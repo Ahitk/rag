{
 "cells": [
  {
   "cell_type": "markdown",
   "metadata": {},
   "source": [
    "# YouTube Video URL Fetcher\n",
    "\n",
    "This script demonstrates how to use the YouTube Data API to fetch video URLs from a specific YouTube channel. The script performs the following tasks:\n",
    "\n",
    "1. Retrieves the channel ID for a given channel name.\n",
    "2. Retrieves the playlist ID for the uploads playlist of the channel.\n",
    "3. Fetches all video IDs from the playlist.\n",
    "4. Converts video IDs into YouTube video URLs.\n",
    "5. Saves the list of video URLs to a specified file.\n",
    "\n",
    "Place your YouTube API key in a `.env` file as shown below:\n",
    "\n",
    "```dotenv\n",
    "YOUTUBE_API_KEY=your_youtube_api_key_here\n"
   ]
  },
  {
   "cell_type": "code",
   "execution_count": 1,
   "metadata": {},
   "outputs": [
    {
     "name": "stdout",
     "output_type": "stream",
     "text": [
      "Fetched 243 video URLs and saved to data/video_urls.txt\n"
     ]
    }
   ],
   "source": [
    "import os\n",
    "from dotenv import load_dotenv\n",
    "from googleapiclient.discovery import build\n",
    "\n",
    "# Load environment variables from a .env file\n",
    "load_dotenv()  # Loads .env file to get API keys.\n",
    "\n",
    "# API Key and channel name\n",
    "api_key = os.getenv(\"YOUTUBE_API_KEY\")  # Retrieve the YouTube API key from environment variables\n",
    "channel_name = 'TelekomHilfe-Videos'  # The name of the YouTube channel to search for\n",
    "\n",
    "def get_channel_id(api_key, channel_name):\n",
    "    \"\"\"\n",
    "    Retrieves the channel ID for a given channel name using the YouTube Data API.\n",
    "    \n",
    "    Args:\n",
    "        api_key (str): The API key for authenticating with the YouTube Data API.\n",
    "        channel_name (str): The name of the YouTube channel to search for.\n",
    "        \n",
    "    Returns:\n",
    "        str or None: The channel ID if found, otherwise None.\n",
    "    \"\"\"\n",
    "    youtube = build('youtube', 'v3', developerKey=api_key)\n",
    "    \n",
    "    # Search for the channel by name\n",
    "    request = youtube.search().list(\n",
    "        part='snippet',\n",
    "        q=channel_name,\n",
    "        type='channel',\n",
    "        maxResults=1\n",
    "    )\n",
    "    response = request.execute()\n",
    "    \n",
    "    # Extract and return the channel ID if available\n",
    "    if response['items']:\n",
    "        return response['items'][0]['id']['channelId']\n",
    "    else:\n",
    "        return None\n",
    "\n",
    "def get_playlist_id(api_key, channel_id):\n",
    "    \"\"\"\n",
    "    Retrieves the playlist ID for the uploads playlist of a given channel ID.\n",
    "    \n",
    "    Args:\n",
    "        api_key (str): The API key for authenticating with the YouTube Data API.\n",
    "        channel_id (str): The ID of the YouTube channel.\n",
    "        \n",
    "    Returns:\n",
    "        str or None: The playlist ID for uploads if found, otherwise None.\n",
    "    \"\"\"\n",
    "    youtube = build('youtube', 'v3', developerKey=api_key)\n",
    "    \n",
    "    # Get the channel details, including the uploads playlist ID\n",
    "    request = youtube.channels().list(\n",
    "        part='contentDetails',\n",
    "        id=channel_id\n",
    "    )\n",
    "    response = request.execute()\n",
    "    \n",
    "    # Extract and return the playlist ID if available\n",
    "    if response['items']:\n",
    "        playlist_id = response['items'][0]['contentDetails']['relatedPlaylists']['uploads']\n",
    "        return playlist_id\n",
    "    else:\n",
    "        return None\n",
    "\n",
    "def get_video_ids_from_playlist(api_key, playlist_id):\n",
    "    \"\"\"\n",
    "    Retrieves all video IDs from a given playlist.\n",
    "    \n",
    "    Args:\n",
    "        api_key (str): The API key for authenticating with the YouTube Data API.\n",
    "        playlist_id (str): The ID of the playlist to fetch video IDs from.\n",
    "        \n",
    "    Returns:\n",
    "        list of str: A list of video IDs from the playlist.\n",
    "    \"\"\"\n",
    "    youtube = build('youtube', 'v3', developerKey=api_key)\n",
    "    video_ids = []\n",
    "    \n",
    "    # Request video IDs from the playlist\n",
    "    request = youtube.playlistItems().list(\n",
    "        part='contentDetails',\n",
    "        playlistId=playlist_id,\n",
    "        maxResults=50\n",
    "    )\n",
    "    \n",
    "    while request:\n",
    "        response = request.execute()\n",
    "        # Append video IDs to the list\n",
    "        video_ids.extend(item['contentDetails']['videoId'] for item in response.get('items', []))\n",
    "        # Get the next page of results if available\n",
    "        request = youtube.playlistItems().list_next(request, response)\n",
    "    \n",
    "    return video_ids\n",
    "\n",
    "def get_video_urls(video_ids):\n",
    "    \"\"\"\n",
    "    Converts a list of video IDs into YouTube video URLs.\n",
    "    \n",
    "    Args:\n",
    "        video_ids (list of str): A list of video IDs to convert.\n",
    "        \n",
    "    Returns:\n",
    "        list of str: A list of full YouTube video URLs.\n",
    "    \"\"\"\n",
    "    return [f\"https://www.youtube.com/watch?v={video_id}\" for video_id in video_ids]\n",
    "\n",
    "def save_urls_to_file(urls, file_path):\n",
    "    \"\"\"\n",
    "    Saves a list of video URLs to a specified file.\n",
    "    \n",
    "    Args:\n",
    "        urls (list of str): The list of URLs to save.\n",
    "        file_path (str): The path to the file where URLs will be saved.\n",
    "    \"\"\"\n",
    "    os.makedirs(os.path.dirname(file_path), exist_ok=True)  # Ensure the directory exists\n",
    "    with open(file_path, 'w') as file:\n",
    "        for url in urls:\n",
    "            file.write(url + '\\n')  # Write each URL on a new line\n",
    "\n",
    "def main():\n",
    "    \"\"\"\n",
    "    Main function to execute the process of fetching video URLs from a YouTube channel\n",
    "    and saving them to a file.\n",
    "    \"\"\"\n",
    "    # Retrieve the channel ID for the given channel name\n",
    "    channel_id = get_channel_id(api_key, channel_name)\n",
    "    if channel_id:\n",
    "        # Retrieve the playlist ID for the uploads playlist of the channel\n",
    "        playlist_id = get_playlist_id(api_key, channel_id)\n",
    "        if playlist_id:\n",
    "            # Get video IDs from the playlist\n",
    "            video_ids = get_video_ids_from_playlist(api_key, playlist_id)\n",
    "            \n",
    "            # Convert video IDs to URLs\n",
    "            video_urls = get_video_urls(video_ids)\n",
    "            \n",
    "            # Save the video URLs to a file\n",
    "            output_file = 'data/video_urls.txt'\n",
    "            save_urls_to_file(video_urls, output_file)\n",
    "            print(f\"Fetched {len(video_urls)} video URLs and saved to {output_file}\")\n",
    "        else:\n",
    "            print(\"Playlist not found.\")\n",
    "    else:\n",
    "        print(\"Channel not found.\")\n",
    "\n",
    "if __name__ == \"__main__\":\n",
    "    main()\n"
   ]
  },
  {
   "cell_type": "markdown",
   "metadata": {},
   "source": [
    "# Downloading and Processing Audio Files from YouTube\n",
    "\n",
    "This notebook automates the process of extracting audio from YouTube videos and converting them to MP3 format, making it useful for collecting and processing audio content for various purposes.\n",
    "\n",
    "\n",
    "### Libraries Used\n",
    "\n",
    "- **`os`**: Provides a way to interact with the operating system, including file and directory operations.\n",
    "- **`yt_dlp`**: A command-line program to download videos from YouTube and other video platforms, used here to extract audio from videos.\n",
    "- **`re`**: Supports regular expression operations to manipulate and validate filenames.\n",
    "\n",
    "### Code Workflow\n",
    "\n",
    "1. **Read Video URLs**:\n",
    "   - Video URLs are read from `data/video_urls.txt`, with each URL stripped of extra whitespace.\n",
    "\n",
    "2. **Configure `yt-dlp`**:\n",
    "   - Set up options for `yt-dlp` to download the best available audio format and convert it to MP3 format.\n",
    "   - The output files are saved in the directory `data/mp3_files/`.\n",
    "\n",
    "3. **Download and Process Audio**:\n",
    "   - For each URL, the script extracts video information and downloads the audio.\n",
    "   - The audio file is then saved as an MP3 file using a sanitized filename.\n",
    "   - If an error occurs during download, it is caught and reported.\n",
    "   - After downloading, the script verifies the presence of the MP3 file and prints a confirmation message.\n",
    "\n",
    "4. **Completion**:\n",
    "   - A message is printed to indicate that all processes have been completed.\n",
    "\n",
    "### Error Handling\n",
    "\n",
    "- Errors during the download process are caught and printed, allowing the script to continue processing other URLs even if one fails.\n",
    "- The existence of the MP3 file is checked to confirm successful download."
   ]
  },
  {
   "cell_type": "code",
   "execution_count": 2,
   "metadata": {},
   "outputs": [
    {
     "name": "stdout",
     "output_type": "stream",
     "text": [
      "File not found: data/mp3_files/magentatv_statt_kabel-tv_-_was_der_wegfall_des_nebenkostenprivilegs_für_dich_bedeutet!.mp3\n",
      "File not found: data/mp3_files/kuriose_kundennachrichten_…_#shorts_#telekom_#magenta_#comedy_#jokes_#funny_#fyp_#like_#follow.mp3\n",
      "File not found: data/mp3_files/werde_teil_der_telekom_hilft_community!_#telekom_#shorts_#magenta_#fyp_#community_#like_#follow_#yt.mp3\n",
      "File not found: data/mp3_files/frag_magenta_der_digitale_assistent_#shorts#telekom#fragmagenta#support#tech#digitalart#fyp#like.mp3\n",
      "File not found: data/mp3_files/wlan-name_ändern_-_fritzbox_und_speedport!_#telekom_#magenta_#wlan_#tech_#fyp_#support_#help_#change.mp3\n",
      "File not found: data/mp3_files/erste_hilfe_bei_internetstörungen_#telekom_#magenta_#wlan_#problem_#help_#fyp_#tech_#support_#like.mp3\n",
      "File not found: data/mp3_files/meinmagenta_app_halte_dein_datenvolumen_im_blick!_#shorts_#magenta_#telekom_#diy_#fyp_#technology.mp3\n",
      "File not found: data/mp3_files/beste_wlan-verbindung_bei_dir_zuhause!_#telekom_#wlan_#netzwerk_#magenta_#trending_#help_#tips_#fyp.mp3\n",
      "File not found: data/mp3_files/wir_arbeiten_bei_der_telekom,_natürlich_..._#telekom_#shorts_#employees_#trending_#magenta_#tech.mp3\n",
      "File not found: data/mp3_files/teile_dein_wlan_mit_dem_qr-code!_#shorts_#telekom_#wlan_#magenta_#tech_#hilfe_#smartphone.mp3\n",
      "File not found: data/mp3_files/frag_magenta_-_kennst_du_es_bereits_#shorts_#telekom_#magenta_#fragmagenta_#tech_#service_#help.mp3\n",
      "File not found: data/mp3_files/heimnetz_–_die_besten_tipps_für_ein_perfektes_wlan_und_internet_in_allen_räumen_i_telekom.mp3\n",
      "File not found: data/mp3_files/telekom_digitalisierungsbox_smart_2_&_premium_2_-_einrichtung_portfreischaltung.mp3\n",
      "File not found: data/mp3_files/telekom_digitalisierungsbox_smart_2_&_premium_2_-_einrichtung_dual-wan.mp3\n",
      "File not found: data/mp3_files/telekom_digitalisierungsbox_smart_2_&_premium_2_-_einrichtung_sfp-modems.mp3\n",
      "File not found: data/mp3_files/telekom_digitalisierungsbox_smart_2_&_premium_2_-_einrichtung_gäste-wlan.mp3\n",
      "File not found: data/mp3_files/wlan-namen_ändern_so_geht's_beim_speedport_telekom.mp3\n",
      "File not found: data/mp3_files/wlan-namen_ändern_schnell_und_einfach_telekom.mp3\n",
      "File not found: data/mp3_files/wlan-namen_ändern_so_geht´s_bei_der_fritzbox_telekom.mp3\n",
      "File not found: data/mp3_files/glasfaseranbindung_-_so_läuft's_ab!_#shorts_#telekom_#glasfaser_#tech_#shortvideo_#magenta.mp3\n",
      "File not found: data/mp3_files/wlan-name_ändern_leicht_gemacht!_#shorts_#telekom_#magenta_#wlan_#security_#hilfe_#smartphone_#tech.mp3\n",
      "File not found: data/mp3_files/ready_to_surf_dein_neuer_festnetzanschluss_ohne_techniker_-_schnell_und_einfach!.mp3\n",
      "File not found: data/mp3_files/magentatv-geräte,_die_jeder_braucht!_#shorts_#magentatv#_telekom_#tv_#euro2024_#magenta#_tech_#tipps.mp3\n",
      "File not found: data/mp3_files/magentatv_megastream!_#telekom_#hilfe_#magenta_#magentatv_#streaming_#streamer_#shorts.mp3\n",
      "File not found: data/mp3_files/störung_diagnose_selbst_durchführen_-_kinderleicht..mp3\n",
      "File not found: data/mp3_files/rundumservice_für_router,_wlan,_internet_und_magenta_tv_–_kennst_du…die_persönliche_installation.mp3\n",
      "File not found: data/mp3_files/videokonferenzen_mit_zoom_durchführen_–_schritt-für-schritt_anleitung_i_telekom_senioren-akademie.mp3\n",
      "File not found: data/mp3_files/digitale_sicherheit_-_tipps_für_sichere_passwörter_i_telekom_senioren-akademie.mp3\n",
      "File not found: data/mp3_files/digitale_organisation_mit_ios-geräten_–_adressbuch,_kalender_und_co._i_telekom_senioren-akademie.mp3\n",
      "File not found: data/mp3_files/digitale_organisation_mit_android-geräten_–_adressbuch,_kalender_und_co._i_telekom_senioren-akademie.mp3\n",
      "File not found: data/mp3_files/digitales_zeitalter_verstehen_und_nutzen_-_kennst_du...die_telekom_senioren-akademie_i_telekom.mp3\n",
      "File not found: data/mp3_files/geräte_service_austausch,_reparatur_und_selbsthilfe-tipps_#shorts_#hilfe_#service_#telekom_#magenta.mp3\n",
      "File not found: data/mp3_files/telekom_hilft_news_dein_wechsel_zu_magentatv_-_einfach_erklärt.mp3\n",
      "File not found: data/mp3_files/zahle_einfach_per_handyrechnung!_#telekom_#hilfe_#handyrechnung_#magenta_#tipp_#smartphone_#easy.mp3\n",
      "File not found: data/mp3_files/per_handyrechnung_bezahlen_-_warum_nicht_#shorts_#telekom_#handyrechnung_#telekomhilft_#magenta.mp3\n",
      "File not found: data/mp3_files/digitale_soforthilfe_ohne_wartezeit_-_kennst_du...frag_magenta_i_telekom.mp3\n",
      "File not found: data/mp3_files/magentatv_summer_essentials!_#telekom_#magenta_#em2024_#fußball_#tipps_#magentatv.mp3\n",
      "File not found: data/mp3_files/frag_magenta_-_digitaler_service_auf_neue_und_innovative_weise_i_telekom.mp3\n",
      "File not found: data/mp3_files/bezahlen_per_handyrechnung_–_so_funktioniert´s_schritt_für_schritt_bei_android-geräten_i_telekom.mp3\n",
      "File not found: data/mp3_files/bezahlen_per_handyrechnung_–_so_funktioniert´s_schritt_für_schritt_bei_ios-geräte_i_telekom.mp3\n",
      "File not found: data/mp3_files/bezahlen_per_handyrechnung_–_einfach_und_schnell_einrichten_i_telekom.mp3\n",
      "File not found: data/mp3_files/wlan_fest_verriegelt_deine_sicherheitscheckliste!_#shorts_#telekom_#magenta_#hilfe_#wlan_#security.mp3\n",
      "File not found: data/mp3_files/leitung_selbst_freischalten_-_so_geht's!_#telekom_#hilfe_#leitung_#magenta_#shorts_#.mp3\n",
      "File not found: data/mp3_files/pin_oder_puk_vergessen!_keine_panik_-_wir_helfen_dir!_#shorts_#telekom_#hilfe_#magenta_#pin_#puk.mp3\n",
      "File not found: data/mp3_files/top-standorte_für_deinen_router!_#shorts_#magenta_#telekom_#hilfe_#router_#internet_#empfang.mp3\n",
      "File not found: data/mp3_files/gönn_deinem_router_eine_auszeit_-_wie_und_weshalb!_#shorts_#telekom_#hilfe_#router_#reset_#magenta.mp3\n",
      "File not found: data/mp3_files/6_wlan-tipps_gegen_störenfriede!_#shorts_#telekom_#magenta_#hilfe_#wlan_#störung_#signal.mp3\n",
      "File not found: data/mp3_files/internetleitung_nach_umzug_einrichten_-_diy-anleitung!_#shorts_#telekom_#internet_#hilfe_#magenta.mp3\n",
      "File not found: data/mp3_files/router-notfallhilfe_schnelle_lösungen_bei_ausfällen_#shorts_#telekom_#hilfe_#router_#magenta.mp3\n",
      "File not found: data/mp3_files/so_geht_das_verlegen_der_glasfaser_was_sie_bei_den_leitungswegen_beachten_müssen_telekom.mp3\n",
      "File not found: data/mp3_files/magenta_thermostat_dein_smarter_heizungshelfer!#shorts_#telekom_#magenta_#hilfe_#thermostat_#heizen.mp3\n",
      "File not found: data/mp3_files/leitung_blockiert!_die_telekom_eilt_zur_hilfe_#shorts_#telekom_#magenta_#leitung_#internet_#hilfe.mp3\n",
      "File not found: data/mp3_files/internet-abbrüche_hier_die_lösung!_#shorts_#magenta_#telekom_#internet_#wlan_#hilfe_#störung.mp3\n",
      "File not found: data/mp3_files/kabel_durchschnitten_so_läuft_das_internet_wieder!_#shorts_#telekom_#magenta_#hilfe_#internet.mp3\n",
      "File not found: data/mp3_files/internet_weg_melde_so_die_störung!_#shorts_#telekom_#telekomhilft_#internet_#wlan_#hilfe_#magenta.mp3\n",
      "File not found: data/mp3_files/angriffe_aus_dem_netz_-_schutz_vor'm_phishing!_#shorts_#telekom_#magenta_#security_#fußball_#5g.mp3\n",
      "File not found: data/mp3_files/so_schützt_du_dein_wlan_vor_ungebetenen_gästen!_#shorts_#telekom_#wlan_#security_#magenta.mp3\n",
      "File not found: data/mp3_files/fußball_schauen_im_garten_speed_home_wlan_macht_es_möglich!_#shorts_#telekom_#fußball_#em2024.mp3\n",
      "File not found: data/mp3_files/wlan_in_allen_ecken_-_mesh_wlan_mit_dem_speedhome_wlan!_#shorts_#telekom_#magenta_#wlan.mp3\n",
      "File not found: data/mp3_files/5g_empfänger_-_unboxing_telekom_#shorts_#telekom_#5g_#telekomhilft_#magenta.mp3\n",
      "File not found: data/mp3_files/glasfaser_oder_kupfer_-_welchen_router_brauche_ich_#shorts_#telekom_#telekomhilft_#magenta.mp3\n",
      "File not found: data/mp3_files/magentatv_one_-_unboxing!_#shorts_#telekom_#telekomhilft_#magenta.mp3\n",
      "File not found: data/mp3_files/kontakt_zur_telekom_-_warum_ihr_eure_e-mail_verifizieren_solltet_!_#shorts_#telekom_#telekomhilft.mp3\n",
      "File not found: data/mp3_files/glasfaser_iii_#shorts_#telekom_#telekomhilft_#magenta.mp3\n",
      "File not found: data/mp3_files/kennst_du...unseren_proaktiven_heimnetzservice_i_telekom.mp3\n",
      "File not found: data/mp3_files/festnetz_und_handy_aus_einer_hand_-_kennst_du...unsere_meinmagenta_app_i_telekom.mp3\n",
      "File not found: data/mp3_files/probleme_mit_dem_computer_-_der_digital_home_service_hilft!_#shorts_#telekom_#telekomhilft_#magenta.mp3\n",
      "File not found: data/mp3_files/glasfaser_ii_#shorts_#telekom_#telekomhilft_#magenta.mp3\n",
      "File not found: data/mp3_files/glasfaser_i_#shorts_#telekom_#telekomhilft_#magenta.mp3\n",
      "File not found: data/mp3_files/kennst_du…unseren_digital_home_service.mp3\n",
      "File not found: data/mp3_files/urlaubsreif_-_telekommobilfunk_im_ausland!_#shorts_#telekom_#telekomhilft_#magenta.mp3\n",
      "File not found: data/mp3_files/der_freizeichentonservice_der_telekom_#telekom_#telekomhilft_#telekomvideos_#magenta.mp3\n",
      "File not found: data/mp3_files/whatsapp_service_in_60_sekunden_erklärt.mp3\n",
      "File not found: data/mp3_files/enkel-tipp_meinmagenta_app_auf_dem_iphone_installieren_-_schritt-für-schritt_anleitung.mp3\n",
      "File not found: data/mp3_files/kann_ich_dein_wlan-passwort_haben_-_gastwlan!.mp3\n",
      "File not found: data/mp3_files/kennst_du...unseren_whatsapp_service_i_telekom.mp3\n",
      "File not found: data/mp3_files/so_tauschst_du_deine_esim_schritt-für-schritt-anleitung.mp3\n",
      "File not found: data/mp3_files/wofür_brauche_ich_den_telekomlogin_#shorts#telekom#telekomhilft.mp3\n",
      "File not found: data/mp3_files/telekom_hilft_news_die_neue_oberfläche_von_magentatv.mp3\n",
      "File not found: data/mp3_files/was_ist_das_telefoniecenter_#shorts#telekom#telekomhilft.mp3\n",
      "File not found: data/mp3_files/keine_langen_warteschleifen_-_nutze_den_rückrufservice!.mp3\n",
      "File not found: data/mp3_files/online-ident_-_verträge_von_zuhause_mit_der_nect-app_bestätigen_#shorts_#telekom_#telekomhilft.mp3\n",
      "File not found: data/mp3_files/hast_du_schon_die_mein_magenta_app.mp3\n",
      "File not found: data/mp3_files/kennst_du_schon_das_kundencenter_tipps_und_funktionen_einfach_erklärt.mp3\n",
      "File not found: data/mp3_files/zoom_seminare_der_telekom_senioren-akademie_-_teilnahme_mit_einem_ipad.mp3\n",
      "File not found: data/mp3_files/zoom_seminare_der_telekom_senioren-akademie_-_teilnahme_mit_einem_windows-pc.mp3\n",
      "File not found: data/mp3_files/zoom_seminare_der_telekom_senioren-akademie_-_teilnahme_mit_einem_android_tablet.mp3\n",
      "File not found: data/mp3_files/companyflex_sip-trunk_-_ersteinrichtung.mp3\n",
      "File not found: data/mp3_files/einfach_und_schnell_wechsel_ins_beste_netz_mit_der_telekom.mp3\n",
      "File not found: data/mp3_files/telekom_magentaservice_live_–_persönliche_beratung_per_videocall.mp3\n",
      "File not found: data/mp3_files/magentaservice_live_–_deine_persönliche_videoberatung.mp3\n",
      "File not found: data/mp3_files/kennt_ihr_schon_unsere_videoberatung_hier_ist_magentaservice_live.mp3\n",
      "File not found: data/mp3_files/schützt_euer_postfach_vor_spam_-_telekom_tipps!.mp3\n",
      "File not found: data/mp3_files/spam-schutz_bei_der_telekom_-_so_einfach_geht's!.mp3\n",
      "File not found: data/mp3_files/telekom_making_of_„spamfilter“_#shorts.mp3\n",
      "File not found: data/mp3_files/die_moderatoren_der_telekom_hilfe-videos_lernen_sie_unser_team_kennen!.mp3\n",
      "File not found: data/mp3_files/die_optimalen_einstellungen_am_smart-tv_für_magentatv.mp3\n",
      "File not found: data/mp3_files/das_optimale_wlan-netz_für_magentatv_i_telekom.mp3\n",
      "File not found: data/mp3_files/die_beste_verbindung_für_magentatv_i_telekom.mp3\n",
      "File not found: data/mp3_files/telekom_die_beste_verbindung_für_magentatv_(13).mp3\n",
      "File not found: data/mp3_files/telekom_das_optimale_wlan-netz_für_magentatv_(23).mp3\n",
      "File not found: data/mp3_files/telekom_die_optimalen_einstellungen_am_smart-tv_für_magentatv_(33).mp3\n",
      "File not found: data/mp3_files/telekom_die_beste_verbindung_für_magentatv_i_making_of_#shorts_#magentatv.mp3\n",
      "File not found: data/mp3_files/telekom_magentatv_statt_kabel-tv_-_wegfall_nebenkostenprivileg.mp3\n",
      "File not found: data/mp3_files/einfache_anmeldung_bei_der_meinmagenta_app_-_schritt_für_schritt_erklärt!.mp3\n",
      "File not found: data/mp3_files/telekom_wegfall_nebenkostenprivileg_-_magentatv_statt_kabel-tv_i_making_of_#shorts.mp3\n",
      "File not found: data/mp3_files/magentazuhause_schnellstartpaket_–_so_richtest_du_deinen_ersatzrouter_schnell_und_einfach_ein.mp3\n",
      "File not found: data/mp3_files/telekom_dsl-anschluss_einrichten_-_so_geht‘s_kinderleicht!_#shorts_👍🎞️🎥👍.mp3\n",
      "File not found: data/mp3_files/telekom_selfie-ident_via_app_#shorts.mp3\n",
      "File not found: data/mp3_files/video-ident_-_videocall_mit_telekom_service.mp3\n",
      "File not found: data/mp3_files/video-ident_videocall_mit_telekom_service_-_schritt_für_schritt.mp3\n",
      "File not found: data/mp3_files/telekom_selfie-ident_via_app_-_einfache_identitätsbestätigung_schritt_für_schritt.mp3\n",
      "File not found: data/mp3_files/online-identifikation_so_identifizierst_du_dich_einfach_online_i_telekom.mp3\n",
      "File not found: data/mp3_files/telekom_kündigung_mietgerät_bei_der_telekom.mp3\n",
      "File not found: data/mp3_files/telekom_dsl-anschluss_schnell_und_einfach_einrichten.mp3\n",
      "File not found: data/mp3_files/wie_bereite_ich_mich_auf_einen_technikerbesuch_vor.mp3\n",
      "File not found: data/mp3_files/e-mail-adresse_bei_der_telekom_bestätigen_-_so_geht's!.mp3\n",
      "File not found: data/mp3_files/so_kündigst_du_dein_mietgerät_einfach_und_schnell!.mp3\n",
      "File not found: data/mp3_files/enkel-tipps_so_finden_sie_den_nächstgelegenen_telekom_shop.mp3\n",
      "File not found: data/mp3_files/enkel-tipps_inhalte_auf_dem_smartphone_vergrößern.mp3\n",
      "File not found: data/mp3_files/enkel-tipps_wichtige_smartphone-symbole_verständlich_erklärt.mp3\n",
      "File not found: data/mp3_files/telekom_esim_bei_zusatzgeräten.mp3\n",
      "File not found: data/mp3_files/so_erkennt_ihr_von_der_telekom_autorisierte_verkäuferinnen.mp3\n",
      "File not found: data/mp3_files/telekom_esim_bei_gerätewechsel_leicht_gemacht.mp3\n",
      "File not found: data/mp3_files/aktiviere_dein_esim_profil_in_minuten_einfach_und_schnell_erklärt!.mp3\n",
      "File not found: data/mp3_files/companyflex_cloud_pbx_2.0_-_outlook_integration.mp3\n",
      "File not found: data/mp3_files/companyflex_sip-trunk_-_arbeitsplatz_powered_by_webex.mp3\n",
      "File not found: data/mp3_files/companyflex_cloud_pbx_2.0_-_microsoft_teams_integration.mp3\n",
      "File not found: data/mp3_files/hybrid_5glte_installation_schritt_für_schritt_erklärt_(23).mp3\n",
      "File not found: data/mp3_files/telekom_hybrid_5glte_der_turbo_für_dein_internet_(13).mp3\n",
      "File not found: data/mp3_files/telekom_hybrid_5glte_bestes_erlebnis_(33).mp3\n",
      "File not found: data/mp3_files/frag_magenta_dein_digitaler_assistent_–_hilfe_rund_um_die_uhr!.mp3\n",
      "File not found: data/mp3_files/deine_erste_telekom_rechnung_nach_tarifwechsel_erklärung_&_details.mp3\n",
      "File not found: data/mp3_files/deine_erste_telekom_rechnung_-_wir_erklären_dir_die_details.mp3\n",
      "File not found: data/mp3_files/enkel-tipps_was_sind_apps_-_einfache_erklärung.mp3\n",
      "File not found: data/mp3_files/enkel-tipps_was_ist_eigentlich_ein_qr_code.mp3\n",
      "File not found: data/mp3_files/cell_broadcast_–_das_handy_als_mobiler_warnmelder.mp3\n",
      "File not found: data/mp3_files/störung_bei_der_telekom_melden_–_so_einfach_geht's!.mp3\n",
      "File not found: data/mp3_files/meinmagenta_app_ihre_gesamte_telekom_welt_immer_im_blick.mp3\n",
      "File not found: data/mp3_files/so_passen_sie_die_lautstärke_und_den_klingelton_auf_ihrem_iphone_an.mp3\n",
      "File not found: data/mp3_files/enkel-tipp_kontakte_verwalten_+_geburtsdatum_hinzufügen_beim_iphone.mp3\n",
      "File not found: data/mp3_files/enkel-tipps_apps_korrekt_schließen_beim_android_smartphone.mp3\n",
      "File not found: data/mp3_files/enkel-tipps_apps_korrekt_schließen_beim_iphone.mp3\n",
      "File not found: data/mp3_files/herausforderungen_beim_glasfaserausbau.mp3\n",
      "File not found: data/mp3_files/companyflex_cloud_pbx_2.0_–_konferenzen_leicht_gemacht!.mp3\n",
      "File not found: data/mp3_files/enkel-tipp_schriftgröße_anpassen_iphone.mp3\n",
      "File not found: data/mp3_files/enkel-tipp_schriftgröße_anpassen_android_smartphone.mp3\n",
      "File not found: data/mp3_files/enkel-tipp_wecker_stellen_beim_iphone.mp3\n",
      "File not found: data/mp3_files/enkel-tipp_wecker_stellen_beim_android_smartphone.mp3\n",
      "File not found: data/mp3_files/enkel-tipp_iphone_mit_wlan_verbinden.mp3\n",
      "File not found: data/mp3_files/enkel-tipp_android_smartphone_mit_wlan_verbinden.mp3\n",
      "File not found: data/mp3_files/для_українців_як_перевести_безкоштовну_картку_мобільного_телефону_на_передплачений_тариф_i_telekom.mp3\n",
      "File not found: data/mp3_files/die_neuen_magentamobil_angebote_für_alle,_die_familie_sind_-_magentaeins_vorteil.mp3\n",
      "File not found: data/mp3_files/die_neuen_magentamobil_angebote_für_alle,_die_familie_sind_-_magentamobil_pluskarten.mp3\n",
      "File not found: data/mp3_files/companyflex_cloud_pbx_2.0_-_anruf_übernehmen_leicht_gemacht.mp3\n",
      "File not found: data/mp3_files/companyflex_cloud_pbx_2.0_-_controlhub.mp3\n",
      "File not found: data/mp3_files/meinmagenta_app_ihre_gesamte_telekom_welt_immer_im_blick_-_kompakt.mp3\n",
      "File not found: data/mp3_files/die_telekom_ideenschmiede_gestalten_sie_die_zukunft_mit_uns!.mp3\n",
      "File not found: data/mp3_files/alles_zur_telekom_abschlussrechnung_bei_mobilfunk-verträgen.mp3\n",
      "File not found: data/mp3_files/abschlussrechnung_für_festnetz_alles,_was_du_wissen_musst.mp3\n",
      "File not found: data/mp3_files/vertragsverwaltung_leicht_gemacht_business_service_portal_der_telekom_im_webinar.mp3\n",
      "File not found: data/mp3_files/magentatv_schneller_auswählen_und_steuern_mit_sprachsteuerung.mp3\n",
      "File not found: data/mp3_files/magenta_tv_sprachsteuerung_-_so_einfach_geht's.mp3\n",
      "File not found: data/mp3_files/magentatv_schneller_navigieren_mit_sprachsteuerung!.mp3\n",
      "File not found: data/mp3_files/so_geht_der_wlan_call_mit_dem_smartphone_über_wlan_telefonieren_telekom.mp3\n",
      "File not found: data/mp3_files/telekom_business_customer's_obligations_to_cooperate_(english)..mp3\n",
      "File not found: data/mp3_files/magentatv_sprachsteuerung_so_nutzt_du_die_sprachbefehle_effektiv.mp3\n",
      "File not found: data/mp3_files/suchmaschinenoptimierung_für_ihre_webseite–besser_gefunden_werden_mit_homepage-baukasten_der_telekom.mp3\n",
      "File not found: data/mp3_files/individuelle_firmenhomepage_–_einfach_und_professionell_mit_dem_homepage-baukasten_der_telekom.mp3\n",
      "File not found: data/mp3_files/professionelle_homepage_selbst_erstellen_-_einfache_schritte_mit_dem_telekom_homepage-baukasten.mp3\n",
      "File not found: data/mp3_files/so_geht_wlan_mit_telekom_speedport_funktionen_und_einstellungen_im_überblick.mp3\n",
      "File not found: data/mp3_files/so_geht_die_glasfaser-installation_schritt-für-schritt_anleitung_für_highspeed-internet!.mp3\n",
      "File not found: data/mp3_files/datenroaming_aktivieren_–_mit_travel_&_surf_ohne_versteckte_kosten_im_ausland_surfen.mp3\n",
      "File not found: data/mp3_files/telekom_hilft_news_internet-abbrüche_vermeiden_-_so_geht's!.mp3\n",
      "File not found: data/mp3_files/die_b2b_schnittstelle_für_geschäftskunden.mp3\n",
      "File not found: data/mp3_files/simpleshow_zum_leistungsmerkmal_„proaktives_faultmanagement“.mp3\n",
      "File not found: data/mp3_files/prepaid_guthaben_automatisch_aufladen_leicht_gemacht.mp3\n",
      "File not found: data/mp3_files/simpleshow_mitwirkungspflichten_bei_der_bereitstellung_von_übertragungswegen.mp3\n",
      "File not found: data/mp3_files/telekom_digibox_smart_2_+_premium_2_-_site-to-site_vpn_leicht_gemacht!.mp3\n",
      "File not found: data/mp3_files/einfache_einrichtung_von_apple_tv_4k_mit_magentatv_tipps_und_tricks.mp3\n",
      "File not found: data/mp3_files/telekom_digibox_smart_2_+_premium_2_–_client-to-site_mit_apple_ios_ipados.mp3\n",
      "File not found: data/mp3_files/telekom_digibox_smart_2_+_premium_2_–_client-to-site_mit_dem_bintec_secure_ipsec_client.mp3\n",
      "File not found: data/mp3_files/telekom_digitalisierungsbox_smart_2_&_premium_2_-_erstinbetriebnahme.mp3\n",
      "File not found: data/mp3_files/telekom_digitalisierungsbox_premium_2_-_ersteinrichtung_pbx.mp3\n",
      "File not found: data/mp3_files/telekom_digitalisierungsbox_smart_2_pbx_ersteinrichtung_leicht_gemacht.mp3\n",
      "File not found: data/mp3_files/digitalisierungsbox_premium_2_-_einrichtung_ip-systemtelefon.mp3\n",
      "File not found: data/mp3_files/telekom_digitalisierungsbox_premium_2_-_ersteinrichtung_dect150.mp3\n",
      "File not found: data/mp3_files/telekom_digitalisierungsbox_premium_2_-_ersteinrichtung_dect160.mp3\n",
      "File not found: data/mp3_files/telekom_digitalisierungsbox_smart_2_-_einrichtung_ip-systemtelefon.mp3\n",
      "File not found: data/mp3_files/digitalisierungsbox_smart_2_dect160_einrichten_–_schritt-für-schritt_anleitung.mp3\n",
      "File not found: data/mp3_files/telekom_digitalisierungsbox_smart_2_-_ersteinrichtung_dect150.mp3\n",
      "File not found: data/mp3_files/wlan_überall_richte_dein_speed_home_wlan_richtig_ein.mp3\n",
      "File not found: data/mp3_files/telekom_hilft_news_wie_solltet_ihr_euch_bei_spam_via_sms_verhalten.mp3\n",
      "File not found: data/mp3_files/telekom_microsoft_teams_telefonie_in_companyflex_einrichten.mp3\n",
      "File not found: data/mp3_files/telekom_hilft_news_wichtige_tipps_zur_registrierung_bei_disney+.mp3\n",
      "File not found: data/mp3_files/telekom_hilft_news_-_thomas_stellt_euch_die_telekom_speedbox_2_vor.mp3\n",
      "File not found: data/mp3_files/das_digital_schutzpaket_–_umfassender_schutz_für_ihre_familie.mp3\n",
      "File not found: data/mp3_files/telekom_hilft_news_installation_der_magentatv_app_an_eurem_smart_tv.mp3\n",
      "File not found: data/mp3_files/wie_installiere_ich_ein_magenta_smarthome_heizkörperthermostat_telekom.mp3\n",
      "File not found: data/mp3_files/telekom_hilft_news_einrichtung_von_magenta_smarthome_mit_tür-fensterkontakt.mp3\n",
      "File not found: data/mp3_files/feste_ip-adresse_auf_neuen_ip-anschluss_übertragen_für_geschäftskunden_-_anleitung.mp3\n",
      "File not found: data/mp3_files/digitalisierungsbox_smart_&_premium_-_end-to-site_vpn_mit_einem_android_mobile_device_einrichten.mp3\n",
      "File not found: data/mp3_files/telekom_digitalisierungsbox_smart_&_premium_-_end-to-site_vpn_mit_apple_ios_und_ipados.mp3\n",
      "File not found: data/mp3_files/anrufweiterleitung_mit_der_digitalisierungsbox_smart_&_premium_einrichten_–_schritt-für-schritt.mp3\n",
      "File not found: data/mp3_files/glasfaser-installation_so_bereitest_du_dich_optimal_vor!.mp3\n",
      "File not found: data/mp3_files/rufnummernportierung_für_geschäftskunden_-_nehmen_sie_ihre_mobilfunknummer_ganz_einfach_mit.mp3\n",
      "File not found: data/mp3_files/telekom_digitalisierungsbox_premium_-_team_voice_mail_box_einrichten.mp3\n",
      "File not found: data/mp3_files/telekom_digitalisierungsbox_premium_-_kalender_und_tagnachtbetrieb_einrichten.mp3\n",
      "File not found: data/mp3_files/digitalisierungsbox_smart_–_externer_zugriff_auf_webserver_&_webcam_einrichten.mp3\n",
      "File not found: data/mp3_files/telekom_digitalisierungsbox_premium-_ersteinrichtung_telefonanlage_an_einem_sip-mehrgeräteanschluss.mp3\n",
      "File not found: data/mp3_files/telekom_digitalisierungsbox_smart_&_premium_-_vpn_site-to-site_zwischen_zwei_digitalisierungsboxen.mp3\n",
      "File not found: data/mp3_files/digitalisierungbox_smart_-_einrichtung_eines_bintec_elmeg_ip-telefons_–_rev2.mp3\n",
      "File not found: data/mp3_files/telekom_digitalisierungsbox_premium_-_einrichtung_eines_sip-trunks_im_pbx-modus.mp3\n",
      "File not found: data/mp3_files/telekom_digitalisierungsbox_smart_-_ersteinrichtung_telefonanlage.mp3\n",
      "File not found: data/mp3_files/telekom_digitalisierungsbox_premium_-_einrichtung_eines_bintec_elmeg_ip-telefons_–_rev2.mp3\n",
      "File not found: data/mp3_files/telekom_digitalisierungsbox_smart_-_pbx_–_einrichtung_über_den_telefonie_assistenten.mp3\n",
      "File not found: data/mp3_files/digitalisierungsbox_premium_–_pbx-einrichtung_leicht_gemacht.mp3\n",
      "File not found: data/mp3_files/digitalisierungsbox_smart_&_premium_-_session_border_controller_mit_unify_osbiz.mp3\n",
      "File not found: data/mp3_files/änderung_der_lan_ip_adresse_bei_der_digitalisierungsbox_smart.mp3\n",
      "File not found: data/mp3_files/telekom_digitalisierungsbox_smart_-_einrichtung_eines_sip-trunks_im_media_gateway_modus.mp3\n",
      "File not found: data/mp3_files/digitalisierungbox_smart_-_media_gateway_einfache_einrichtung_über_den_telefonie_assistenten.mp3\n",
      "File not found: data/mp3_files/telekom_digitalisierungsbox_smart_-_einrichtung_eines_dect150.mp3\n",
      "File not found: data/mp3_files/digitalisierungbox_premium_-_einrichten_einer_dect150_basisstation.mp3\n",
      "File not found: data/mp3_files/telekom_digitalisierungsbox_smart_-_einrichtung_eines_sip-trunks_im_pbx-modus.mp3\n",
      "File not found: data/mp3_files/telekom_digitalisierungsbox_smart_-_ersteinrichtung_media_gateway.mp3\n",
      "File not found: data/mp3_files/telekom_digitalisierungsbox_premium_-_end-to-site_vpn_mit_dem_bintec_elmeg_secure_ipsec_client.mp3\n",
      "File not found: data/mp3_files/telekom_digitalisierungsbox_smart_&_premium_-_einführung.mp3\n",
      "File not found: data/mp3_files/digitalisierungsbox_premium_-_schnelle_einrichtung_eines_sip-trunks_im_media_gateway_modus.mp3\n",
      "File not found: data/mp3_files/szenen_erstellen_mit_telekom_magenta_smarthome.mp3\n",
      "File not found: data/mp3_files/telekom_speedbox_–_inbetriebnahme_und_konfiguration.mp3\n",
      "File not found: data/mp3_files/telekom_hilft_news_speedbox_–_mobil_und_flexibel_ins_internet.mp3\n",
      "File not found: data/mp3_files/telekom_hilft_news_kombiprotect_–_gps-tracker_für_haustiere_und_mehr.mp3\n",
      "File not found: data/mp3_files/glasfaserausbau_der_telekom_so_profitiert_ihre_immobilie!.mp3\n",
      "File not found: data/mp3_files/ein_tag_mit_dem_servicetechniker_-_einblicke_in_den_außendienst.mp3\n",
      "File not found: data/mp3_files/telefoniecenter_-_erste_schritte_ihre_telefonische_erreichbarkeit_einfach_online_steuern.mp3\n",
      "File not found: data/mp3_files/telefoniecenter_–_alles_zur_sprachbox.mp3\n",
      "File not found: data/mp3_files/telekom_telefoniecenter_–_themenbereich_„sicherheit“.mp3\n",
      "File not found: data/mp3_files/telekom_telefoniecenter_–_themenbereich_„komfort“.mp3\n",
      "File not found: data/mp3_files/telekom_telefoniecenter_–_themenbereich_„erreichbarkeit“.mp3\n",
      "File not found: data/mp3_files/telekom_anbindung_an_ftth_(fiber_to_the_home)_glasfasertechnik.mp3\n",
      "File not found: data/mp3_files/telekom_hausanschluss_und_hausverkabelung_ftthglasfasertechnik.mp3\n",
      "File not found: data/mp3_files/digitalisierungsbox_premium_–_einrichtung_und_funktionen.mp3\n",
      "File not found: data/mp3_files/telekom_meine_mobilfunk-rechnung_-_die_erste_rechnung_nach_einem_tarifwechsel.mp3\n",
      "All operations completed.\n"
     ]
    }
   ],
   "source": [
    "import os\n",
    "import yt_dlp\n",
    "import re\n",
    "\n",
    "# Function to create a safe filename by removing or replacing invalid characters\n",
    "def safe_filename(filename):\n",
    "    # Remove invalid characters for filenames\n",
    "    filename = re.sub(r'[\\\\/*?:\"<>|]', \"\", filename)\n",
    "    # Replace spaces with underscores\n",
    "    filename = re.sub(r'\\s+', '_', filename)\n",
    "    # Limit the filename length to 255 characters\n",
    "    filename = filename[:255]\n",
    "    return filename.lower()\n",
    "\n",
    "# Read video URLs from 'data/video_urls.txt'\n",
    "input_file_path = \"data/video_urls.txt\"\n",
    "with open(input_file_path, \"r\") as file:\n",
    "    video_urls = [line.strip() for line in file.readlines()]\n",
    "\n",
    "# yt-dlp options for downloading and processing audio files\n",
    "ydl_opts = {\n",
    "    # Download the best available audio format\n",
    "    'format': 'bestaudio/best',\n",
    "    # Post-process the downloaded file to extract audio and convert to MP3\n",
    "    'postprocessors': [{\n",
    "        'key': 'FFmpegExtractAudio',\n",
    "        'preferredcodec': 'mp3',\n",
    "        'preferredquality': '192',\n",
    "    }],\n",
    "    # Output template for the downloaded files\n",
    "    'outtmpl': 'data/mp3_files/%(title)s.%(ext)s',\n",
    "    # Suppress verbose output\n",
    "    'quiet': True,\n",
    "}\n",
    "\n",
    "# Loop through each video URL to download and save audio files\n",
    "for video_url in video_urls:\n",
    "    with yt_dlp.YoutubeDL(ydl_opts) as ydl:\n",
    "        try:\n",
    "            # Extract information and download the video\n",
    "            info_dict = ydl.extract_info(video_url, download=True)\n",
    "            # Get the title of the video\n",
    "            title = info_dict.get('title', None)\n",
    "            # Create a safe filename from the video title\n",
    "            safe_title = safe_filename(title)\n",
    "            # Define the path for the MP3 file\n",
    "            mp3_filename = f\"data/mp3_files/{safe_title}.mp3\"\n",
    "        except Exception as e:\n",
    "            # Print an error message if there is an issue with downloading\n",
    "            print(f\"Download error: {e}\")\n",
    "            continue\n",
    "\n",
    "        # Check if the MP3 file has been successfully created\n",
    "        if not os.path.exists(mp3_filename):\n",
    "            print(f\"File not found: {mp3_filename}\")\n",
    "            continue\n",
    "\n",
    "        # Print a success message with the path of the downloaded MP3 file\n",
    "        print(f\"MP3 file successfully downloaded: {mp3_filename}\")\n",
    "\n",
    "# Indicate that all processes have completed\n",
    "print(\"All operations completed.\")\n"
   ]
  },
  {
   "cell_type": "markdown",
   "metadata": {},
   "source": [
    "# MP3 Files Transcription\n",
    "\n",
    "It is designed to handle the transcription of MP3 audio files using the Whisper model. The notebook performs the following steps:\n",
    "\n",
    "1. **Conversion of MP3 Files to WAV Format**:\n",
    "   - MP3 files are converted to WAV format as Whisper works more efficiently with WAV files for transcription.\n",
    "\n",
    "2. **Transcription of WAV Files**:\n",
    "   - The converted WAV files are processed using the Whisper model to generate transcriptions.\n",
    "\n",
    "3. **Saving Transcriptions**:\n",
    "   - The transcriptions are saved as text files in a specified directory."
   ]
  },
  {
   "cell_type": "code",
   "execution_count": 3,
   "metadata": {},
   "outputs": [
    {
     "name": "stderr",
     "output_type": "stream",
     "text": [
      "/Users/taha/Desktop/rag/venv/lib/python3.12/site-packages/whisper/__init__.py:146: FutureWarning: You are using `torch.load` with `weights_only=False` (the current default value), which uses the default pickle module implicitly. It is possible to construct malicious pickle data which will execute arbitrary code during unpickling (See https://github.com/pytorch/pytorch/blob/main/SECURITY.md#untrusted-models for more details). In a future release, the default value for `weights_only` will be flipped to `True`. This limits the functions that could be executed during unpickling. Arbitrary objects will no longer be allowed to be loaded via this mode unless they are explicitly allowlisted by the user via `torch.serialization.add_safe_globals`. We recommend you start setting `weights_only=True` for any use case where you don't have full control of the loaded file. Please open an issue on GitHub for any issues related to this experimental feature.\n",
      "  checkpoint = torch.load(fp, map_location=device)\n",
      "/Users/taha/Desktop/rag/venv/lib/python3.12/site-packages/whisper/transcribe.py:115: UserWarning: FP16 is not supported on CPU; using FP32 instead\n",
      "  warnings.warn(\"FP16 is not supported on CPU; using FP32 instead\")\n"
     ]
    },
    {
     "name": "stdout",
     "output_type": "stream",
     "text": [
      "Transcription saved for: Änderung der LAN IP Adresse bei der Digitalisierungsbox Smart.mp3\n"
     ]
    },
    {
     "name": "stderr",
     "output_type": "stream",
     "text": [
      "/Users/taha/Desktop/rag/venv/lib/python3.12/site-packages/whisper/transcribe.py:115: UserWarning: FP16 is not supported on CPU; using FP32 instead\n",
      "  warnings.warn(\"FP16 is not supported on CPU; using FP32 instead\")\n"
     ]
    },
    {
     "name": "stdout",
     "output_type": "stream",
     "text": [
      "Transcription saved for: Для українців： як перевести безкоштовну картку мобільного телефону на передплачений тариф I Telekom.mp3\n"
     ]
    },
    {
     "name": "stderr",
     "output_type": "stream",
     "text": [
      "/Users/taha/Desktop/rag/venv/lib/python3.12/site-packages/whisper/transcribe.py:115: UserWarning: FP16 is not supported on CPU; using FP32 instead\n",
      "  warnings.warn(\"FP16 is not supported on CPU; using FP32 instead\")\n"
     ]
    },
    {
     "name": "stdout",
     "output_type": "stream",
     "text": [
      "Transcription saved for: Telekom hilft News： Speedbox – Mobil und flexibel ins Internet.mp3\n"
     ]
    },
    {
     "name": "stderr",
     "output_type": "stream",
     "text": [
      "/Users/taha/Desktop/rag/venv/lib/python3.12/site-packages/whisper/transcribe.py:115: UserWarning: FP16 is not supported on CPU; using FP32 instead\n",
      "  warnings.warn(\"FP16 is not supported on CPU; using FP32 instead\")\n"
     ]
    },
    {
     "name": "stdout",
     "output_type": "stream",
     "text": [
      "Transcription saved for: Telekom hilft News： Die neue Oberfläche von MagentaTV.mp3\n"
     ]
    },
    {
     "name": "stderr",
     "output_type": "stream",
     "text": [
      "/Users/taha/Desktop/rag/venv/lib/python3.12/site-packages/whisper/transcribe.py:115: UserWarning: FP16 is not supported on CPU; using FP32 instead\n",
      "  warnings.warn(\"FP16 is not supported on CPU; using FP32 instead\")\n"
     ]
    },
    {
     "name": "stdout",
     "output_type": "stream",
     "text": [
      "Transcription saved for: Heimnetz – Die besten Tipps für ein perfektes WLAN und Internet in allen Räumen I Telekom.mp3\n"
     ]
    },
    {
     "name": "stderr",
     "output_type": "stream",
     "text": [
      "/Users/taha/Desktop/rag/venv/lib/python3.12/site-packages/whisper/transcribe.py:115: UserWarning: FP16 is not supported on CPU; using FP32 instead\n",
      "  warnings.warn(\"FP16 is not supported on CPU; using FP32 instead\")\n"
     ]
    },
    {
     "name": "stdout",
     "output_type": "stream",
     "text": [
      "Transcription saved for: Enkel-Tipp： Wecker stellen beim Android Smartphone.mp3\n"
     ]
    },
    {
     "name": "stderr",
     "output_type": "stream",
     "text": [
      "/Users/taha/Desktop/rag/venv/lib/python3.12/site-packages/whisper/transcribe.py:115: UserWarning: FP16 is not supported on CPU; using FP32 instead\n",
      "  warnings.warn(\"FP16 is not supported on CPU; using FP32 instead\")\n"
     ]
    },
    {
     "name": "stdout",
     "output_type": "stream",
     "text": [
      "Transcription saved for: WLAN überall： Richte Dein Speed Home WLAN richtig ein.mp3\n"
     ]
    },
    {
     "name": "stderr",
     "output_type": "stream",
     "text": [
      "/Users/taha/Desktop/rag/venv/lib/python3.12/site-packages/whisper/transcribe.py:115: UserWarning: FP16 is not supported on CPU; using FP32 instead\n",
      "  warnings.warn(\"FP16 is not supported on CPU; using FP32 instead\")\n"
     ]
    },
    {
     "name": "stdout",
     "output_type": "stream",
     "text": [
      "Transcription saved for: Telekom： Digitalisierungsbox Premium- Ersteinrichtung Telefonanlage an einem SIP-Mehrgeräteanschluss.mp3\n"
     ]
    },
    {
     "name": "stderr",
     "output_type": "stream",
     "text": [
      "/Users/taha/Desktop/rag/venv/lib/python3.12/site-packages/whisper/transcribe.py:115: UserWarning: FP16 is not supported on CPU; using FP32 instead\n",
      "  warnings.warn(\"FP16 is not supported on CPU; using FP32 instead\")\n"
     ]
    },
    {
     "name": "stdout",
     "output_type": "stream",
     "text": [
      "Transcription saved for: MagentaTV Summer Essentials! #telekom #magenta #em2024  #fußball #tipps #magentatv.mp3\n"
     ]
    },
    {
     "name": "stderr",
     "output_type": "stream",
     "text": [
      "/Users/taha/Desktop/rag/venv/lib/python3.12/site-packages/whisper/transcribe.py:115: UserWarning: FP16 is not supported on CPU; using FP32 instead\n",
      "  warnings.warn(\"FP16 is not supported on CPU; using FP32 instead\")\n"
     ]
    },
    {
     "name": "stdout",
     "output_type": "stream",
     "text": [
      "Transcription saved for: Telekom： Digitalisierungsbox Premium 2 - Ersteinrichtung DECT150.mp3\n"
     ]
    },
    {
     "name": "stderr",
     "output_type": "stream",
     "text": [
      "/Users/taha/Desktop/rag/venv/lib/python3.12/site-packages/whisper/transcribe.py:115: UserWarning: FP16 is not supported on CPU; using FP32 instead\n",
      "  warnings.warn(\"FP16 is not supported on CPU; using FP32 instead\")\n"
     ]
    },
    {
     "name": "stdout",
     "output_type": "stream",
     "text": [
      "Transcription saved for: Glasfaser oder Kupfer - Welchen Router brauche Ich？ #shorts #telekom #telekomhilft #magenta.mp3\n"
     ]
    },
    {
     "name": "stderr",
     "output_type": "stream",
     "text": [
      "/Users/taha/Desktop/rag/venv/lib/python3.12/site-packages/whisper/transcribe.py:115: UserWarning: FP16 is not supported on CPU; using FP32 instead\n",
      "  warnings.warn(\"FP16 is not supported on CPU; using FP32 instead\")\n"
     ]
    },
    {
     "name": "stdout",
     "output_type": "stream",
     "text": [
      "Transcription saved for: Telekom： Selfie-Ident via App - Einfache Identitätsbestätigung Schritt für Schritt.mp3\n"
     ]
    },
    {
     "name": "stderr",
     "output_type": "stream",
     "text": [
      "/Users/taha/Desktop/rag/venv/lib/python3.12/site-packages/whisper/transcribe.py:115: UserWarning: FP16 is not supported on CPU; using FP32 instead\n",
      "  warnings.warn(\"FP16 is not supported on CPU; using FP32 instead\")\n"
     ]
    },
    {
     "name": "stdout",
     "output_type": "stream",
     "text": [
      "Transcription saved for: Leitung selbst freischalten - So geht's! #telekom #hilfe #leitung #magenta #shorts #.mp3\n"
     ]
    },
    {
     "name": "stderr",
     "output_type": "stream",
     "text": [
      "/Users/taha/Desktop/rag/venv/lib/python3.12/site-packages/whisper/transcribe.py:115: UserWarning: FP16 is not supported on CPU; using FP32 instead\n",
      "  warnings.warn(\"FP16 is not supported on CPU; using FP32 instead\")\n"
     ]
    },
    {
     "name": "stdout",
     "output_type": "stream",
     "text": [
      "Transcription saved for: Telekom hilft News - Thomas stellt euch die Telekom Speedbox 2 vor.mp3\n"
     ]
    },
    {
     "name": "stderr",
     "output_type": "stream",
     "text": [
      "/Users/taha/Desktop/rag/venv/lib/python3.12/site-packages/whisper/transcribe.py:115: UserWarning: FP16 is not supported on CPU; using FP32 instead\n",
      "  warnings.warn(\"FP16 is not supported on CPU; using FP32 instead\")\n"
     ]
    },
    {
     "name": "stdout",
     "output_type": "stream",
     "text": [
      "Transcription saved for: Individuelle Firmenhomepage – einfach und professionell mit dem Homepage-Baukasten der Telekom.mp3\n"
     ]
    },
    {
     "name": "stderr",
     "output_type": "stream",
     "text": [
      "/Users/taha/Desktop/rag/venv/lib/python3.12/site-packages/whisper/transcribe.py:115: UserWarning: FP16 is not supported on CPU; using FP32 instead\n",
      "  warnings.warn(\"FP16 is not supported on CPU; using FP32 instead\")\n"
     ]
    },
    {
     "name": "stdout",
     "output_type": "stream",
     "text": [
      "Transcription saved for: Wie installiere ich ein Magenta SmartHome Heizkörperthermostat？ ｜ Telekom.mp3\n"
     ]
    },
    {
     "name": "stderr",
     "output_type": "stream",
     "text": [
      "/Users/taha/Desktop/rag/venv/lib/python3.12/site-packages/whisper/transcribe.py:115: UserWarning: FP16 is not supported on CPU; using FP32 instead\n",
      "  warnings.warn(\"FP16 is not supported on CPU; using FP32 instead\")\n"
     ]
    },
    {
     "name": "stdout",
     "output_type": "stream",
     "text": [
      "Transcription saved for: Glasfaser II #shorts #telekom #telekomhilft #magenta.mp3\n"
     ]
    },
    {
     "name": "stderr",
     "output_type": "stream",
     "text": [
      "/Users/taha/Desktop/rag/venv/lib/python3.12/site-packages/whisper/transcribe.py:115: UserWarning: FP16 is not supported on CPU; using FP32 instead\n",
      "  warnings.warn(\"FP16 is not supported on CPU; using FP32 instead\")\n"
     ]
    },
    {
     "name": "stdout",
     "output_type": "stream",
     "text": [
      "Transcription saved for: Telefoniecenter – Alles zur Sprachbox.mp3\n"
     ]
    },
    {
     "name": "stderr",
     "output_type": "stream",
     "text": [
      "/Users/taha/Desktop/rag/venv/lib/python3.12/site-packages/whisper/transcribe.py:115: UserWarning: FP16 is not supported on CPU; using FP32 instead\n",
      "  warnings.warn(\"FP16 is not supported on CPU; using FP32 instead\")\n"
     ]
    },
    {
     "name": "stdout",
     "output_type": "stream",
     "text": [
      "Transcription saved for: Glasfaser III #shorts #telekom #telekomhilft #magenta.mp3\n"
     ]
    },
    {
     "name": "stderr",
     "output_type": "stream",
     "text": [
      "/Users/taha/Desktop/rag/venv/lib/python3.12/site-packages/whisper/transcribe.py:115: UserWarning: FP16 is not supported on CPU; using FP32 instead\n",
      "  warnings.warn(\"FP16 is not supported on CPU; using FP32 instead\")\n"
     ]
    },
    {
     "name": "stdout",
     "output_type": "stream",
     "text": [
      "Transcription saved for: Kennst Du...unseren WhatsApp Service？ I Telekom.mp3\n"
     ]
    },
    {
     "name": "stderr",
     "output_type": "stream",
     "text": [
      "/Users/taha/Desktop/rag/venv/lib/python3.12/site-packages/whisper/transcribe.py:115: UserWarning: FP16 is not supported on CPU; using FP32 instead\n",
      "  warnings.warn(\"FP16 is not supported on CPU; using FP32 instead\")\n"
     ]
    },
    {
     "name": "stdout",
     "output_type": "stream",
     "text": [
      "Transcription saved for: CompanyFlex Cloud PBX 2.0 - Outlook Integration.mp3\n"
     ]
    },
    {
     "name": "stderr",
     "output_type": "stream",
     "text": [
      "/Users/taha/Desktop/rag/venv/lib/python3.12/site-packages/whisper/transcribe.py:115: UserWarning: FP16 is not supported on CPU; using FP32 instead\n",
      "  warnings.warn(\"FP16 is not supported on CPU; using FP32 instead\")\n"
     ]
    },
    {
     "name": "stdout",
     "output_type": "stream",
     "text": [
      "Transcription saved for: Alles zur Telekom Abschlussrechnung bei Mobilfunk-Verträgen.mp3\n"
     ]
    },
    {
     "name": "stderr",
     "output_type": "stream",
     "text": [
      "/Users/taha/Desktop/rag/venv/lib/python3.12/site-packages/whisper/transcribe.py:115: UserWarning: FP16 is not supported on CPU; using FP32 instead\n",
      "  warnings.warn(\"FP16 is not supported on CPU; using FP32 instead\")\n"
     ]
    },
    {
     "name": "stdout",
     "output_type": "stream",
     "text": [
      "Transcription saved for: Fußball schauen im Garten？ Speed Home WLAN macht es möglich! #shorts #telekom #fußball #em2024.mp3\n"
     ]
    },
    {
     "name": "stderr",
     "output_type": "stream",
     "text": [
      "/Users/taha/Desktop/rag/venv/lib/python3.12/site-packages/whisper/transcribe.py:115: UserWarning: FP16 is not supported on CPU; using FP32 instead\n",
      "  warnings.warn(\"FP16 is not supported on CPU; using FP32 instead\")\n"
     ]
    },
    {
     "name": "stdout",
     "output_type": "stream",
     "text": [
      "Transcription saved for: Telekom： Digitalisierungsbox Premium 2 - Ersteinrichtung PBX.mp3\n"
     ]
    },
    {
     "name": "stderr",
     "output_type": "stream",
     "text": [
      "/Users/taha/Desktop/rag/venv/lib/python3.12/site-packages/whisper/transcribe.py:115: UserWarning: FP16 is not supported on CPU; using FP32 instead\n",
      "  warnings.warn(\"FP16 is not supported on CPU; using FP32 instead\")\n"
     ]
    },
    {
     "name": "stdout",
     "output_type": "stream",
     "text": [
      "Transcription saved for: Probleme mit dem Computer？ - Der Digital Home Service hilft! #shorts #telekom #telekomhilft #magenta.mp3\n"
     ]
    },
    {
     "name": "stderr",
     "output_type": "stream",
     "text": [
      "/Users/taha/Desktop/rag/venv/lib/python3.12/site-packages/whisper/transcribe.py:115: UserWarning: FP16 is not supported on CPU; using FP32 instead\n",
      "  warnings.warn(\"FP16 is not supported on CPU; using FP32 instead\")\n"
     ]
    },
    {
     "name": "stdout",
     "output_type": "stream",
     "text": [
      "Transcription saved for: Router-Notfallhilfe： Schnelle Lösungen bei Ausfällen #shorts #telekom #hilfe #router #magenta.mp3\n"
     ]
    },
    {
     "name": "stderr",
     "output_type": "stream",
     "text": [
      "/Users/taha/Desktop/rag/venv/lib/python3.12/site-packages/whisper/transcribe.py:115: UserWarning: FP16 is not supported on CPU; using FP32 instead\n",
      "  warnings.warn(\"FP16 is not supported on CPU; using FP32 instead\")\n"
     ]
    },
    {
     "name": "stdout",
     "output_type": "stream",
     "text": [
      "Transcription saved for: Enkel-Tipp： Kontakte verwalten + Geburtsdatum hinzufügen beim iPhone.mp3\n"
     ]
    },
    {
     "name": "stderr",
     "output_type": "stream",
     "text": [
      "/Users/taha/Desktop/rag/venv/lib/python3.12/site-packages/whisper/transcribe.py:115: UserWarning: FP16 is not supported on CPU; using FP32 instead\n",
      "  warnings.warn(\"FP16 is not supported on CPU; using FP32 instead\")\n"
     ]
    },
    {
     "name": "stdout",
     "output_type": "stream",
     "text": [
      "Transcription saved for: Telekom hilft News： Wichtige Tipps zur Registrierung bei Disney+.mp3\n"
     ]
    },
    {
     "name": "stderr",
     "output_type": "stream",
     "text": [
      "/Users/taha/Desktop/rag/venv/lib/python3.12/site-packages/whisper/transcribe.py:115: UserWarning: FP16 is not supported on CPU; using FP32 instead\n",
      "  warnings.warn(\"FP16 is not supported on CPU; using FP32 instead\")\n"
     ]
    },
    {
     "name": "stdout",
     "output_type": "stream",
     "text": [
      "Transcription saved for: Gönn deinem Router eine Auszeit - Wie und weshalb？! #shorts #telekom #hilfe #router #reset #magenta.mp3\n"
     ]
    },
    {
     "name": "stderr",
     "output_type": "stream",
     "text": [
      "/Users/taha/Desktop/rag/venv/lib/python3.12/site-packages/whisper/transcribe.py:115: UserWarning: FP16 is not supported on CPU; using FP32 instead\n",
      "  warnings.warn(\"FP16 is not supported on CPU; using FP32 instead\")\n"
     ]
    },
    {
     "name": "stdout",
     "output_type": "stream",
     "text": [
      "Transcription saved for: Die neuen MagentaMobil Angebote für alle, die Familie sind - MagentaEins Vorteil.mp3\n"
     ]
    },
    {
     "name": "stderr",
     "output_type": "stream",
     "text": [
      "/Users/taha/Desktop/rag/venv/lib/python3.12/site-packages/whisper/transcribe.py:115: UserWarning: FP16 is not supported on CPU; using FP32 instead\n",
      "  warnings.warn(\"FP16 is not supported on CPU; using FP32 instead\")\n"
     ]
    },
    {
     "name": "stdout",
     "output_type": "stream",
     "text": [
      "Transcription saved for: Enkel-Tipp： iPhone mit WLAN verbinden.mp3\n"
     ]
    },
    {
     "name": "stderr",
     "output_type": "stream",
     "text": [
      "/Users/taha/Desktop/rag/venv/lib/python3.12/site-packages/whisper/transcribe.py:115: UserWarning: FP16 is not supported on CPU; using FP32 instead\n",
      "  warnings.warn(\"FP16 is not supported on CPU; using FP32 instead\")\n"
     ]
    },
    {
     "name": "stdout",
     "output_type": "stream",
     "text": [
      "Transcription saved for: MagentaZuhause Schnellstartpaket – So richtest du deinen Ersatzrouter schnell und einfach ein.mp3\n"
     ]
    },
    {
     "name": "stderr",
     "output_type": "stream",
     "text": [
      "/Users/taha/Desktop/rag/venv/lib/python3.12/site-packages/whisper/transcribe.py:115: UserWarning: FP16 is not supported on CPU; using FP32 instead\n",
      "  warnings.warn(\"FP16 is not supported on CPU; using FP32 instead\")\n"
     ]
    },
    {
     "name": "stdout",
     "output_type": "stream",
     "text": [
      "Transcription saved for: Die B2B Schnittstelle für Geschäftskunden.mp3\n"
     ]
    },
    {
     "name": "stderr",
     "output_type": "stream",
     "text": [
      "/Users/taha/Desktop/rag/venv/lib/python3.12/site-packages/whisper/transcribe.py:115: UserWarning: FP16 is not supported on CPU; using FP32 instead\n",
      "  warnings.warn(\"FP16 is not supported on CPU; using FP32 instead\")\n"
     ]
    },
    {
     "name": "stdout",
     "output_type": "stream",
     "text": [
      "Transcription saved for: WLAN-Name ändern leicht gemacht! #shorts #telekom #magenta #wlan #security #hilfe #smartphone #tech.mp3\n"
     ]
    },
    {
     "name": "stderr",
     "output_type": "stream",
     "text": [
      "/Users/taha/Desktop/rag/venv/lib/python3.12/site-packages/whisper/transcribe.py:115: UserWarning: FP16 is not supported on CPU; using FP32 instead\n",
      "  warnings.warn(\"FP16 is not supported on CPU; using FP32 instead\")\n"
     ]
    },
    {
     "name": "stdout",
     "output_type": "stream",
     "text": [
      "Transcription saved for: CompanyFlex Cloud PBX 2.0 - Anruf übernehmen leicht gemacht.mp3\n"
     ]
    },
    {
     "name": "stderr",
     "output_type": "stream",
     "text": [
      "/Users/taha/Desktop/rag/venv/lib/python3.12/site-packages/whisper/transcribe.py:115: UserWarning: FP16 is not supported on CPU; using FP32 instead\n",
      "  warnings.warn(\"FP16 is not supported on CPU; using FP32 instead\")\n"
     ]
    },
    {
     "name": "stdout",
     "output_type": "stream",
     "text": [
      "Transcription saved for: Telekom： Making of „Spamfilter“ #shorts.mp3\n"
     ]
    },
    {
     "name": "stderr",
     "output_type": "stream",
     "text": [
      "/Users/taha/Desktop/rag/venv/lib/python3.12/site-packages/whisper/transcribe.py:115: UserWarning: FP16 is not supported on CPU; using FP32 instead\n",
      "  warnings.warn(\"FP16 is not supported on CPU; using FP32 instead\")\n"
     ]
    },
    {
     "name": "stdout",
     "output_type": "stream",
     "text": [
      "Transcription saved for: Kennt ihr schon unsere Videoberatung？ Hier ist MagentaService Live.mp3\n"
     ]
    },
    {
     "name": "stderr",
     "output_type": "stream",
     "text": [
      "/Users/taha/Desktop/rag/venv/lib/python3.12/site-packages/whisper/transcribe.py:115: UserWarning: FP16 is not supported on CPU; using FP32 instead\n",
      "  warnings.warn(\"FP16 is not supported on CPU; using FP32 instead\")\n"
     ]
    },
    {
     "name": "stdout",
     "output_type": "stream",
     "text": [
      "Transcription saved for: Prepaid Guthaben automatisch aufladen leicht gemacht.mp3\n"
     ]
    },
    {
     "name": "stderr",
     "output_type": "stream",
     "text": [
      "/Users/taha/Desktop/rag/venv/lib/python3.12/site-packages/whisper/transcribe.py:115: UserWarning: FP16 is not supported on CPU; using FP32 instead\n",
      "  warnings.warn(\"FP16 is not supported on CPU; using FP32 instead\")\n"
     ]
    },
    {
     "name": "stdout",
     "output_type": "stream",
     "text": [
      "Transcription saved for: Telekom： Digibox Smart 2 + Premium 2 - Site-to-Site VPN leicht gemacht!.mp3\n"
     ]
    },
    {
     "name": "stderr",
     "output_type": "stream",
     "text": [
      "/Users/taha/Desktop/rag/venv/lib/python3.12/site-packages/whisper/transcribe.py:115: UserWarning: FP16 is not supported on CPU; using FP32 instead\n",
      "  warnings.warn(\"FP16 is not supported on CPU; using FP32 instead\")\n"
     ]
    },
    {
     "name": "stdout",
     "output_type": "stream",
     "text": [
      "Transcription saved for: Cell Broadcast – das Handy als mobiler Warnmelder.mp3\n"
     ]
    },
    {
     "name": "stderr",
     "output_type": "stream",
     "text": [
      "/Users/taha/Desktop/rag/venv/lib/python3.12/site-packages/whisper/transcribe.py:115: UserWarning: FP16 is not supported on CPU; using FP32 instead\n",
      "  warnings.warn(\"FP16 is not supported on CPU; using FP32 instead\")\n"
     ]
    },
    {
     "name": "stdout",
     "output_type": "stream",
     "text": [
      "Transcription saved for: Per Handyrechnung bezahlen - warum nicht？ #shorts #telekom #handyrechnung #telekomhilft #magenta.mp3\n"
     ]
    },
    {
     "name": "stderr",
     "output_type": "stream",
     "text": [
      "/Users/taha/Desktop/rag/venv/lib/python3.12/site-packages/whisper/transcribe.py:115: UserWarning: FP16 is not supported on CPU; using FP32 instead\n",
      "  warnings.warn(\"FP16 is not supported on CPU; using FP32 instead\")\n"
     ]
    },
    {
     "name": "stdout",
     "output_type": "stream",
     "text": [
      "Transcription saved for: Internet-Abbrüche？ Hier die Lösung! #shorts #magenta #telekom #internet #wlan #hilfe #störung.mp3\n"
     ]
    },
    {
     "name": "stderr",
     "output_type": "stream",
     "text": [
      "/Users/taha/Desktop/rag/venv/lib/python3.12/site-packages/whisper/transcribe.py:115: UserWarning: FP16 is not supported on CPU; using FP32 instead\n",
      "  warnings.warn(\"FP16 is not supported on CPU; using FP32 instead\")\n"
     ]
    },
    {
     "name": "stdout",
     "output_type": "stream",
     "text": [
      "Transcription saved for: CompanyFlex Cloud PBX 2.0 – Konferenzen leicht gemacht!.mp3\n"
     ]
    },
    {
     "name": "stderr",
     "output_type": "stream",
     "text": [
      "/Users/taha/Desktop/rag/venv/lib/python3.12/site-packages/whisper/transcribe.py:115: UserWarning: FP16 is not supported on CPU; using FP32 instead\n",
      "  warnings.warn(\"FP16 is not supported on CPU; using FP32 instead\")\n"
     ]
    },
    {
     "name": "stdout",
     "output_type": "stream",
     "text": [
      "Transcription saved for: Telekom： eSIM bei Zusatzgeräten.mp3\n"
     ]
    },
    {
     "name": "stderr",
     "output_type": "stream",
     "text": [
      "/Users/taha/Desktop/rag/venv/lib/python3.12/site-packages/whisper/transcribe.py:115: UserWarning: FP16 is not supported on CPU; using FP32 instead\n",
      "  warnings.warn(\"FP16 is not supported on CPU; using FP32 instead\")\n"
     ]
    },
    {
     "name": "stdout",
     "output_type": "stream",
     "text": [
      "Transcription saved for: MagentaTV： Schneller Navigieren mit Sprachsteuerung!.mp3\n"
     ]
    },
    {
     "name": "stderr",
     "output_type": "stream",
     "text": [
      "/Users/taha/Desktop/rag/venv/lib/python3.12/site-packages/whisper/transcribe.py:115: UserWarning: FP16 is not supported on CPU; using FP32 instead\n",
      "  warnings.warn(\"FP16 is not supported on CPU; using FP32 instead\")\n"
     ]
    },
    {
     "name": "stdout",
     "output_type": "stream",
     "text": [
      "Transcription saved for: Herausforderungen beim Glasfaserausbau.mp3\n"
     ]
    },
    {
     "name": "stderr",
     "output_type": "stream",
     "text": [
      "/Users/taha/Desktop/rag/venv/lib/python3.12/site-packages/whisper/transcribe.py:115: UserWarning: FP16 is not supported on CPU; using FP32 instead\n",
      "  warnings.warn(\"FP16 is not supported on CPU; using FP32 instead\")\n"
     ]
    },
    {
     "name": "stdout",
     "output_type": "stream",
     "text": [
      "Transcription saved for: Vertragsverwaltung leicht gemacht： Business Service Portal der Telekom im Webinar.mp3\n"
     ]
    },
    {
     "name": "stderr",
     "output_type": "stream",
     "text": [
      "/Users/taha/Desktop/rag/venv/lib/python3.12/site-packages/whisper/transcribe.py:115: UserWarning: FP16 is not supported on CPU; using FP32 instead\n",
      "  warnings.warn(\"FP16 is not supported on CPU; using FP32 instead\")\n"
     ]
    },
    {
     "name": "stdout",
     "output_type": "stream",
     "text": [
      "Transcription saved for: So geht die Glasfaser-Installation： Schritt-für-Schritt Anleitung für Highspeed-Internet!.mp3\n"
     ]
    },
    {
     "name": "stderr",
     "output_type": "stream",
     "text": [
      "/Users/taha/Desktop/rag/venv/lib/python3.12/site-packages/whisper/transcribe.py:115: UserWarning: FP16 is not supported on CPU; using FP32 instead\n",
      "  warnings.warn(\"FP16 is not supported on CPU; using FP32 instead\")\n"
     ]
    },
    {
     "name": "stdout",
     "output_type": "stream",
     "text": [
      "Transcription saved for: Abschlussrechnung für Festnetz： Alles, was Du wissen musst.mp3\n"
     ]
    },
    {
     "name": "stderr",
     "output_type": "stream",
     "text": [
      "/Users/taha/Desktop/rag/venv/lib/python3.12/site-packages/whisper/transcribe.py:115: UserWarning: FP16 is not supported on CPU; using FP32 instead\n",
      "  warnings.warn(\"FP16 is not supported on CPU; using FP32 instead\")\n"
     ]
    },
    {
     "name": "stdout",
     "output_type": "stream",
     "text": [
      "Transcription saved for: Enkel-Tipps： Was ist eigentlich ein QR Code？.mp3\n"
     ]
    },
    {
     "name": "stderr",
     "output_type": "stream",
     "text": [
      "/Users/taha/Desktop/rag/venv/lib/python3.12/site-packages/whisper/transcribe.py:115: UserWarning: FP16 is not supported on CPU; using FP32 instead\n",
      "  warnings.warn(\"FP16 is not supported on CPU; using FP32 instead\")\n"
     ]
    },
    {
     "name": "stdout",
     "output_type": "stream",
     "text": [
      "Transcription saved for: Kontakt zur Telekom - Warum Ihr Eure E-Mail verifizieren solltet ! #shorts #telekom #telekomhilft.mp3\n"
     ]
    },
    {
     "name": "stderr",
     "output_type": "stream",
     "text": [
      "/Users/taha/Desktop/rag/venv/lib/python3.12/site-packages/whisper/transcribe.py:115: UserWarning: FP16 is not supported on CPU; using FP32 instead\n",
      "  warnings.warn(\"FP16 is not supported on CPU; using FP32 instead\")\n"
     ]
    },
    {
     "name": "stdout",
     "output_type": "stream",
     "text": [
      "Transcription saved for: Datenroaming aktivieren – Mit Travel & Surf ohne versteckte Kosten im Ausland surfen.mp3\n"
     ]
    },
    {
     "name": "stderr",
     "output_type": "stream",
     "text": [
      "/Users/taha/Desktop/rag/venv/lib/python3.12/site-packages/whisper/transcribe.py:115: UserWarning: FP16 is not supported on CPU; using FP32 instead\n",
      "  warnings.warn(\"FP16 is not supported on CPU; using FP32 instead\")\n"
     ]
    },
    {
     "name": "stdout",
     "output_type": "stream",
     "text": [
      "Transcription saved for: Video-Ident - Videocall mit Telekom Service.mp3\n"
     ]
    },
    {
     "name": "stderr",
     "output_type": "stream",
     "text": [
      "/Users/taha/Desktop/rag/venv/lib/python3.12/site-packages/whisper/transcribe.py:115: UserWarning: FP16 is not supported on CPU; using FP32 instead\n",
      "  warnings.warn(\"FP16 is not supported on CPU; using FP32 instead\")\n"
     ]
    },
    {
     "name": "stdout",
     "output_type": "stream",
     "text": [
      "Transcription saved for: Telekom： Hausanschluss und Hausverkabelung FTTH⧸Glasfasertechnik.mp3\n"
     ]
    },
    {
     "name": "stderr",
     "output_type": "stream",
     "text": [
      "/Users/taha/Desktop/rag/venv/lib/python3.12/site-packages/whisper/transcribe.py:115: UserWarning: FP16 is not supported on CPU; using FP32 instead\n",
      "  warnings.warn(\"FP16 is not supported on CPU; using FP32 instead\")\n"
     ]
    },
    {
     "name": "stdout",
     "output_type": "stream",
     "text": [
      "Transcription saved for: Telekom： Business customer's obligations to cooperate  (english)..mp3\n"
     ]
    },
    {
     "name": "stderr",
     "output_type": "stream",
     "text": [
      "/Users/taha/Desktop/rag/venv/lib/python3.12/site-packages/whisper/transcribe.py:115: UserWarning: FP16 is not supported on CPU; using FP32 instead\n",
      "  warnings.warn(\"FP16 is not supported on CPU; using FP32 instead\")\n"
     ]
    },
    {
     "name": "stdout",
     "output_type": "stream",
     "text": [
      "Transcription saved for: Professionelle Homepage selbst erstellen - Einfache Schritte mit dem Telekom Homepage-Baukasten.mp3\n"
     ]
    },
    {
     "name": "stderr",
     "output_type": "stream",
     "text": [
      "/Users/taha/Desktop/rag/venv/lib/python3.12/site-packages/whisper/transcribe.py:115: UserWarning: FP16 is not supported on CPU; using FP32 instead\n",
      "  warnings.warn(\"FP16 is not supported on CPU; using FP32 instead\")\n"
     ]
    },
    {
     "name": "stdout",
     "output_type": "stream",
     "text": [
      "Transcription saved for: So passen Sie die Lautstärke und den Klingelton auf Ihrem iPhone an.mp3\n"
     ]
    },
    {
     "name": "stderr",
     "output_type": "stream",
     "text": [
      "/Users/taha/Desktop/rag/venv/lib/python3.12/site-packages/whisper/transcribe.py:115: UserWarning: FP16 is not supported on CPU; using FP32 instead\n",
      "  warnings.warn(\"FP16 is not supported on CPU; using FP32 instead\")\n"
     ]
    },
    {
     "name": "stdout",
     "output_type": "stream",
     "text": [
      "Transcription saved for: Telekom： Selfie-Ident via App #shorts.mp3\n"
     ]
    },
    {
     "name": "stderr",
     "output_type": "stream",
     "text": [
      "/Users/taha/Desktop/rag/venv/lib/python3.12/site-packages/whisper/transcribe.py:115: UserWarning: FP16 is not supported on CPU; using FP32 instead\n",
      "  warnings.warn(\"FP16 is not supported on CPU; using FP32 instead\")\n"
     ]
    },
    {
     "name": "stdout",
     "output_type": "stream",
     "text": [
      "Transcription saved for: Werde Teil der Telekom hilft Community! #telekom #shorts #magenta #fyp #community #like #follow #yt.mp3\n"
     ]
    },
    {
     "name": "stderr",
     "output_type": "stream",
     "text": [
      "/Users/taha/Desktop/rag/venv/lib/python3.12/site-packages/whisper/transcribe.py:115: UserWarning: FP16 is not supported on CPU; using FP32 instead\n",
      "  warnings.warn(\"FP16 is not supported on CPU; using FP32 instead\")\n"
     ]
    },
    {
     "name": "stdout",
     "output_type": "stream",
     "text": [
      "Transcription saved for: Telekom： Digibox Smart 2 + Premium 2 – Client-to-Site mit Apple iOS ⧸ iPadOS.mp3\n"
     ]
    },
    {
     "name": "stderr",
     "output_type": "stream",
     "text": [
      "/Users/taha/Desktop/rag/venv/lib/python3.12/site-packages/whisper/transcribe.py:115: UserWarning: FP16 is not supported on CPU; using FP32 instead\n",
      "  warnings.warn(\"FP16 is not supported on CPU; using FP32 instead\")\n"
     ]
    },
    {
     "name": "stdout",
     "output_type": "stream",
     "text": [
      "Transcription saved for: CompanyFlex Cloud PBX 2.0 - ControlHub.mp3\n"
     ]
    },
    {
     "name": "stderr",
     "output_type": "stream",
     "text": [
      "/Users/taha/Desktop/rag/venv/lib/python3.12/site-packages/whisper/transcribe.py:115: UserWarning: FP16 is not supported on CPU; using FP32 instead\n",
      "  warnings.warn(\"FP16 is not supported on CPU; using FP32 instead\")\n"
     ]
    },
    {
     "name": "stdout",
     "output_type": "stream",
     "text": [
      "Transcription saved for: Enkel-Tipps： Was sind Apps？ - Einfache Erklärung.mp3\n"
     ]
    },
    {
     "name": "stderr",
     "output_type": "stream",
     "text": [
      "/Users/taha/Desktop/rag/venv/lib/python3.12/site-packages/whisper/transcribe.py:115: UserWarning: FP16 is not supported on CPU; using FP32 instead\n",
      "  warnings.warn(\"FP16 is not supported on CPU; using FP32 instead\")\n"
     ]
    },
    {
     "name": "stdout",
     "output_type": "stream",
     "text": [
      "Transcription saved for: Enkel-Tipps： Apps korrekt schließen beim Android Smartphone.mp3\n"
     ]
    },
    {
     "name": "stderr",
     "output_type": "stream",
     "text": [
      "/Users/taha/Desktop/rag/venv/lib/python3.12/site-packages/whisper/transcribe.py:115: UserWarning: FP16 is not supported on CPU; using FP32 instead\n",
      "  warnings.warn(\"FP16 is not supported on CPU; using FP32 instead\")\n"
     ]
    },
    {
     "name": "stdout",
     "output_type": "stream",
     "text": [
      "Transcription saved for: Telekom hilft News： Internet-Abbrüche vermeiden - So geht's!.mp3\n"
     ]
    },
    {
     "name": "stderr",
     "output_type": "stream",
     "text": [
      "/Users/taha/Desktop/rag/venv/lib/python3.12/site-packages/whisper/transcribe.py:115: UserWarning: FP16 is not supported on CPU; using FP32 instead\n",
      "  warnings.warn(\"FP16 is not supported on CPU; using FP32 instead\")\n"
     ]
    },
    {
     "name": "stdout",
     "output_type": "stream",
     "text": [
      "Transcription saved for: Digitales Zeitalter verstehen und nutzen - Kennst Du...die Telekom Senioren-Akademie？ I Telekom.mp3\n"
     ]
    },
    {
     "name": "stderr",
     "output_type": "stream",
     "text": [
      "/Users/taha/Desktop/rag/venv/lib/python3.12/site-packages/whisper/transcribe.py:115: UserWarning: FP16 is not supported on CPU; using FP32 instead\n",
      "  warnings.warn(\"FP16 is not supported on CPU; using FP32 instead\")\n"
     ]
    },
    {
     "name": "stdout",
     "output_type": "stream",
     "text": [
      "Transcription saved for: Ready to Surf： Dein neuer Festnetzanschluss ohne Techniker - Schnell und Einfach!.mp3\n"
     ]
    },
    {
     "name": "stderr",
     "output_type": "stream",
     "text": [
      "/Users/taha/Desktop/rag/venv/lib/python3.12/site-packages/whisper/transcribe.py:115: UserWarning: FP16 is not supported on CPU; using FP32 instead\n",
      "  warnings.warn(\"FP16 is not supported on CPU; using FP32 instead\")\n"
     ]
    },
    {
     "name": "stdout",
     "output_type": "stream",
     "text": [
      "Transcription saved for: ZOOM Seminare der Telekom Senioren-Akademie - Teilnahme mit einem Windows-PC.mp3\n"
     ]
    },
    {
     "name": "stderr",
     "output_type": "stream",
     "text": [
      "/Users/taha/Desktop/rag/venv/lib/python3.12/site-packages/whisper/transcribe.py:115: UserWarning: FP16 is not supported on CPU; using FP32 instead\n",
      "  warnings.warn(\"FP16 is not supported on CPU; using FP32 instead\")\n"
     ]
    },
    {
     "name": "stdout",
     "output_type": "stream",
     "text": [
      "Transcription saved for: Kennst Du…unseren Digital Home Service？.mp3\n"
     ]
    },
    {
     "name": "stderr",
     "output_type": "stream",
     "text": [
      "/Users/taha/Desktop/rag/venv/lib/python3.12/site-packages/whisper/transcribe.py:115: UserWarning: FP16 is not supported on CPU; using FP32 instead\n",
      "  warnings.warn(\"FP16 is not supported on CPU; using FP32 instead\")\n"
     ]
    },
    {
     "name": "stdout",
     "output_type": "stream",
     "text": [
      "Transcription saved for: Telekom Digitalisierungsbox Smart 2： PBX Ersteinrichtung leicht gemacht.mp3\n"
     ]
    },
    {
     "name": "stderr",
     "output_type": "stream",
     "text": [
      "/Users/taha/Desktop/rag/venv/lib/python3.12/site-packages/whisper/transcribe.py:115: UserWarning: FP16 is not supported on CPU; using FP32 instead\n",
      "  warnings.warn(\"FP16 is not supported on CPU; using FP32 instead\")\n"
     ]
    },
    {
     "name": "stdout",
     "output_type": "stream",
     "text": [
      "Transcription saved for: So geht das Verlegen der Glasfaser： Was Sie bei den Leitungswegen beachten müssen ｜ Telekom.mp3\n"
     ]
    },
    {
     "name": "stderr",
     "output_type": "stream",
     "text": [
      "/Users/taha/Desktop/rag/venv/lib/python3.12/site-packages/whisper/transcribe.py:115: UserWarning: FP16 is not supported on CPU; using FP32 instead\n",
      "  warnings.warn(\"FP16 is not supported on CPU; using FP32 instead\")\n"
     ]
    },
    {
     "name": "stdout",
     "output_type": "stream",
     "text": [
      "Transcription saved for: Digitalisierungsbox Smart 2： DECT160 Einrichten – Schritt-für-Schritt Anleitung.mp3\n"
     ]
    },
    {
     "name": "stderr",
     "output_type": "stream",
     "text": [
      "/Users/taha/Desktop/rag/venv/lib/python3.12/site-packages/whisper/transcribe.py:115: UserWarning: FP16 is not supported on CPU; using FP32 instead\n",
      "  warnings.warn(\"FP16 is not supported on CPU; using FP32 instead\")\n"
     ]
    },
    {
     "name": "stdout",
     "output_type": "stream",
     "text": [
      "Transcription saved for: Enkel-Tipps： Inhalte auf dem Smartphone vergrößern.mp3\n"
     ]
    },
    {
     "name": "stderr",
     "output_type": "stream",
     "text": [
      "/Users/taha/Desktop/rag/venv/lib/python3.12/site-packages/whisper/transcribe.py:115: UserWarning: FP16 is not supported on CPU; using FP32 instead\n",
      "  warnings.warn(\"FP16 is not supported on CPU; using FP32 instead\")\n"
     ]
    },
    {
     "name": "stdout",
     "output_type": "stream",
     "text": [
      "Transcription saved for: Digitalisierungsbox Premium – PBX-Einrichtung leicht gemacht.mp3\n"
     ]
    },
    {
     "name": "stderr",
     "output_type": "stream",
     "text": [
      "/Users/taha/Desktop/rag/venv/lib/python3.12/site-packages/whisper/transcribe.py:115: UserWarning: FP16 is not supported on CPU; using FP32 instead\n",
      "  warnings.warn(\"FP16 is not supported on CPU; using FP32 instead\")\n"
     ]
    },
    {
     "name": "stdout",
     "output_type": "stream",
     "text": [
      "Transcription saved for: Telekom： Digitalisierungsbox Smart -  PBX – Einrichtung über den Telefonie Assistenten.mp3\n"
     ]
    },
    {
     "name": "stderr",
     "output_type": "stream",
     "text": [
      "/Users/taha/Desktop/rag/venv/lib/python3.12/site-packages/whisper/transcribe.py:115: UserWarning: FP16 is not supported on CPU; using FP32 instead\n",
      "  warnings.warn(\"FP16 is not supported on CPU; using FP32 instead\")\n"
     ]
    },
    {
     "name": "stdout",
     "output_type": "stream",
     "text": [
      "Transcription saved for: Aktiviere Dein eSIM Profil in Minuten： Einfach und Schnell erklärt!.mp3\n"
     ]
    },
    {
     "name": "stderr",
     "output_type": "stream",
     "text": [
      "/Users/taha/Desktop/rag/venv/lib/python3.12/site-packages/whisper/transcribe.py:115: UserWarning: FP16 is not supported on CPU; using FP32 instead\n",
      "  warnings.warn(\"FP16 is not supported on CPU; using FP32 instead\")\n"
     ]
    },
    {
     "name": "stdout",
     "output_type": "stream",
     "text": [
      "Transcription saved for: Telekom Speedbox – Inbetriebnahme und Konfiguration.mp3\n"
     ]
    },
    {
     "name": "stderr",
     "output_type": "stream",
     "text": [
      "/Users/taha/Desktop/rag/venv/lib/python3.12/site-packages/whisper/transcribe.py:115: UserWarning: FP16 is not supported on CPU; using FP32 instead\n",
      "  warnings.warn(\"FP16 is not supported on CPU; using FP32 instead\")\n"
     ]
    },
    {
     "name": "stdout",
     "output_type": "stream",
     "text": [
      "Transcription saved for: Glasfaserausbau der Telekom： So profitiert Ihre Immobilie!.mp3\n"
     ]
    },
    {
     "name": "stderr",
     "output_type": "stream",
     "text": [
      "/Users/taha/Desktop/rag/venv/lib/python3.12/site-packages/whisper/transcribe.py:115: UserWarning: FP16 is not supported on CPU; using FP32 instead\n",
      "  warnings.warn(\"FP16 is not supported on CPU; using FP32 instead\")\n"
     ]
    },
    {
     "name": "stdout",
     "output_type": "stream",
     "text": [
      "Transcription saved for: MagentaTV MegaStream! #telekom #hilfe #magenta #magentatv #streaming #streamer #shorts.mp3\n"
     ]
    },
    {
     "name": "stderr",
     "output_type": "stream",
     "text": [
      "/Users/taha/Desktop/rag/venv/lib/python3.12/site-packages/whisper/transcribe.py:115: UserWarning: FP16 is not supported on CPU; using FP32 instead\n",
      "  warnings.warn(\"FP16 is not supported on CPU; using FP32 instead\")\n"
     ]
    },
    {
     "name": "stdout",
     "output_type": "stream",
     "text": [
      "Transcription saved for: Telekom hilft News： KombiProtect – GPS-Tracker für Haustiere und mehr.mp3\n"
     ]
    },
    {
     "name": "stderr",
     "output_type": "stream",
     "text": [
      "/Users/taha/Desktop/rag/venv/lib/python3.12/site-packages/whisper/transcribe.py:115: UserWarning: FP16 is not supported on CPU; using FP32 instead\n",
      "  warnings.warn(\"FP16 is not supported on CPU; using FP32 instead\")\n"
     ]
    },
    {
     "name": "stdout",
     "output_type": "stream",
     "text": [
      "Transcription saved for: Frag Magenta - Digitaler Service auf neue und innovative Weise I Telekom.mp3\n"
     ]
    },
    {
     "name": "stderr",
     "output_type": "stream",
     "text": [
      "/Users/taha/Desktop/rag/venv/lib/python3.12/site-packages/whisper/transcribe.py:115: UserWarning: FP16 is not supported on CPU; using FP32 instead\n",
      "  warnings.warn(\"FP16 is not supported on CPU; using FP32 instead\")\n"
     ]
    },
    {
     "name": "stdout",
     "output_type": "stream",
     "text": [
      "Transcription saved for: MagentaTV statt Kabel-TV - Was der Wegfall des Nebenkostenprivilegs für dich bedeutet!.mp3\n"
     ]
    },
    {
     "name": "stderr",
     "output_type": "stream",
     "text": [
      "/Users/taha/Desktop/rag/venv/lib/python3.12/site-packages/whisper/transcribe.py:115: UserWarning: FP16 is not supported on CPU; using FP32 instead\n",
      "  warnings.warn(\"FP16 is not supported on CPU; using FP32 instead\")\n"
     ]
    },
    {
     "name": "stdout",
     "output_type": "stream",
     "text": [
      "Transcription saved for: Internetleitung nach Umzug einrichten - DIY-Anleitung! #shorts #telekom #internet #hilfe #magenta.mp3\n"
     ]
    },
    {
     "name": "stderr",
     "output_type": "stream",
     "text": [
      "/Users/taha/Desktop/rag/venv/lib/python3.12/site-packages/whisper/transcribe.py:115: UserWarning: FP16 is not supported on CPU; using FP32 instead\n",
      "  warnings.warn(\"FP16 is not supported on CPU; using FP32 instead\")\n"
     ]
    },
    {
     "name": "stdout",
     "output_type": "stream",
     "text": [
      "Transcription saved for: Geräte Service： Austausch, Reparatur und Selbsthilfe-Tipps #shorts #hilfe #service #telekom #magenta.mp3\n"
     ]
    },
    {
     "name": "stderr",
     "output_type": "stream",
     "text": [
      "/Users/taha/Desktop/rag/venv/lib/python3.12/site-packages/whisper/transcribe.py:115: UserWarning: FP16 is not supported on CPU; using FP32 instead\n",
      "  warnings.warn(\"FP16 is not supported on CPU; using FP32 instead\")\n"
     ]
    },
    {
     "name": "stdout",
     "output_type": "stream",
     "text": [
      "Transcription saved for: Telekom： Telefoniecenter – Themenbereich „Sicherheit“.mp3\n"
     ]
    },
    {
     "name": "stderr",
     "output_type": "stream",
     "text": [
      "/Users/taha/Desktop/rag/venv/lib/python3.12/site-packages/whisper/transcribe.py:115: UserWarning: FP16 is not supported on CPU; using FP32 instead\n",
      "  warnings.warn(\"FP16 is not supported on CPU; using FP32 instead\")\n"
     ]
    },
    {
     "name": "stdout",
     "output_type": "stream",
     "text": [
      "Transcription saved for: Digitalisierungsbox Smart – Externer Zugriff auf Webserver & Webcam einrichten.mp3\n"
     ]
    },
    {
     "name": "stderr",
     "output_type": "stream",
     "text": [
      "/Users/taha/Desktop/rag/venv/lib/python3.12/site-packages/whisper/transcribe.py:115: UserWarning: FP16 is not supported on CPU; using FP32 instead\n",
      "  warnings.warn(\"FP16 is not supported on CPU; using FP32 instead\")\n"
     ]
    },
    {
     "name": "stdout",
     "output_type": "stream",
     "text": [
      "Transcription saved for: MagentaTV-Geräte, die jeder braucht! #shorts #magentatv# telekom #tv #euro2024 #magenta# tech #tipps.mp3\n"
     ]
    },
    {
     "name": "stderr",
     "output_type": "stream",
     "text": [
      "/Users/taha/Desktop/rag/venv/lib/python3.12/site-packages/whisper/transcribe.py:115: UserWarning: FP16 is not supported on CPU; using FP32 instead\n",
      "  warnings.warn(\"FP16 is not supported on CPU; using FP32 instead\")\n"
     ]
    },
    {
     "name": "stdout",
     "output_type": "stream",
     "text": [
      "Transcription saved for: Wir arbeiten bei der Telekom, natürlich ... #telekom #shorts #employees #trending #magenta #tech.mp3\n"
     ]
    },
    {
     "name": "stderr",
     "output_type": "stream",
     "text": [
      "/Users/taha/Desktop/rag/venv/lib/python3.12/site-packages/whisper/transcribe.py:115: UserWarning: FP16 is not supported on CPU; using FP32 instead\n",
      "  warnings.warn(\"FP16 is not supported on CPU; using FP32 instead\")\n"
     ]
    },
    {
     "name": "stdout",
     "output_type": "stream",
     "text": [
      "Transcription saved for: Telekom hilft News： Einrichtung von Magenta SmartHome mit Tür-⧸Fensterkontakt.mp3\n"
     ]
    },
    {
     "name": "stderr",
     "output_type": "stream",
     "text": [
      "/Users/taha/Desktop/rag/venv/lib/python3.12/site-packages/whisper/transcribe.py:115: UserWarning: FP16 is not supported on CPU; using FP32 instead\n",
      "  warnings.warn(\"FP16 is not supported on CPU; using FP32 instead\")\n"
     ]
    },
    {
     "name": "stdout",
     "output_type": "stream",
     "text": [
      "Transcription saved for: Das Digital Schutzpaket – Umfassender Schutz für Ihre Familie.mp3\n"
     ]
    },
    {
     "name": "stderr",
     "output_type": "stream",
     "text": [
      "/Users/taha/Desktop/rag/venv/lib/python3.12/site-packages/whisper/transcribe.py:115: UserWarning: FP16 is not supported on CPU; using FP32 instead\n",
      "  warnings.warn(\"FP16 is not supported on CPU; using FP32 instead\")\n"
     ]
    },
    {
     "name": "stdout",
     "output_type": "stream",
     "text": [
      "Transcription saved for: Wie bereite ich mich auf einen Technikerbesuch vor？.mp3\n"
     ]
    },
    {
     "name": "stderr",
     "output_type": "stream",
     "text": [
      "/Users/taha/Desktop/rag/venv/lib/python3.12/site-packages/whisper/transcribe.py:115: UserWarning: FP16 is not supported on CPU; using FP32 instead\n",
      "  warnings.warn(\"FP16 is not supported on CPU; using FP32 instead\")\n"
     ]
    },
    {
     "name": "stdout",
     "output_type": "stream",
     "text": [
      "Transcription saved for: Frag Magenta： Dein digitaler Assistent – Hilfe rund um die Uhr!.mp3\n"
     ]
    },
    {
     "name": "stderr",
     "output_type": "stream",
     "text": [
      "/Users/taha/Desktop/rag/venv/lib/python3.12/site-packages/whisper/transcribe.py:115: UserWarning: FP16 is not supported on CPU; using FP32 instead\n",
      "  warnings.warn(\"FP16 is not supported on CPU; using FP32 instead\")\n"
     ]
    },
    {
     "name": "stdout",
     "output_type": "stream",
     "text": [
      "Transcription saved for: MeinMagenta App： Ihre gesamte Telekom Welt immer im Blick.mp3\n"
     ]
    },
    {
     "name": "stderr",
     "output_type": "stream",
     "text": [
      "/Users/taha/Desktop/rag/venv/lib/python3.12/site-packages/whisper/transcribe.py:115: UserWarning: FP16 is not supported on CPU; using FP32 instead\n",
      "  warnings.warn(\"FP16 is not supported on CPU; using FP32 instead\")\n"
     ]
    },
    {
     "name": "stdout",
     "output_type": "stream",
     "text": [
      "Transcription saved for: Telekom： Telefoniecenter – Themenbereich „Komfort“.mp3\n"
     ]
    },
    {
     "name": "stderr",
     "output_type": "stream",
     "text": [
      "/Users/taha/Desktop/rag/venv/lib/python3.12/site-packages/whisper/transcribe.py:115: UserWarning: FP16 is not supported on CPU; using FP32 instead\n",
      "  warnings.warn(\"FP16 is not supported on CPU; using FP32 instead\")\n"
     ]
    },
    {
     "name": "stdout",
     "output_type": "stream",
     "text": [
      "Transcription saved for: Teile dein WLAN mit dem QR-Code! #shorts #telekom #wlan #magenta #tech #hilfe #smartphone.mp3\n"
     ]
    },
    {
     "name": "stderr",
     "output_type": "stream",
     "text": [
      "/Users/taha/Desktop/rag/venv/lib/python3.12/site-packages/whisper/transcribe.py:115: UserWarning: FP16 is not supported on CPU; using FP32 instead\n",
      "  warnings.warn(\"FP16 is not supported on CPU; using FP32 instead\")\n"
     ]
    },
    {
     "name": "stdout",
     "output_type": "stream",
     "text": [
      "Transcription saved for: Telekom： Digitalisierungsbox Smart -  Ersteinrichtung Media Gateway.mp3\n"
     ]
    },
    {
     "name": "stderr",
     "output_type": "stream",
     "text": [
      "/Users/taha/Desktop/rag/venv/lib/python3.12/site-packages/whisper/transcribe.py:115: UserWarning: FP16 is not supported on CPU; using FP32 instead\n",
      "  warnings.warn(\"FP16 is not supported on CPU; using FP32 instead\")\n"
     ]
    },
    {
     "name": "stdout",
     "output_type": "stream",
     "text": [
      "Transcription saved for: Top-Standorte für deinen Router! #shorts #magenta #telekom #hilfe #router #internet #empfang.mp3\n"
     ]
    },
    {
     "name": "stderr",
     "output_type": "stream",
     "text": [
      "/Users/taha/Desktop/rag/venv/lib/python3.12/site-packages/whisper/transcribe.py:115: UserWarning: FP16 is not supported on CPU; using FP32 instead\n",
      "  warnings.warn(\"FP16 is not supported on CPU; using FP32 instead\")\n"
     ]
    },
    {
     "name": "stdout",
     "output_type": "stream",
     "text": [
      "Transcription saved for: So tauschst du deine eSIM： Schritt-für-Schritt-Anleitung.mp3\n"
     ]
    },
    {
     "name": "stderr",
     "output_type": "stream",
     "text": [
      "/Users/taha/Desktop/rag/venv/lib/python3.12/site-packages/whisper/transcribe.py:115: UserWarning: FP16 is not supported on CPU; using FP32 instead\n",
      "  warnings.warn(\"FP16 is not supported on CPU; using FP32 instead\")\n"
     ]
    },
    {
     "name": "stdout",
     "output_type": "stream",
     "text": [
      "Transcription saved for: Telekom： Digitalisierungsbox Smart 2 & Premium 2 - Einrichtung SFP-Modems.mp3\n"
     ]
    },
    {
     "name": "stderr",
     "output_type": "stream",
     "text": [
      "/Users/taha/Desktop/rag/venv/lib/python3.12/site-packages/whisper/transcribe.py:115: UserWarning: FP16 is not supported on CPU; using FP32 instead\n",
      "  warnings.warn(\"FP16 is not supported on CPU; using FP32 instead\")\n"
     ]
    },
    {
     "name": "stdout",
     "output_type": "stream",
     "text": [
      "Transcription saved for: Keine langen Warteschleifen - Nutze den Rückrufservice!.mp3\n"
     ]
    },
    {
     "name": "stderr",
     "output_type": "stream",
     "text": [
      "/Users/taha/Desktop/rag/venv/lib/python3.12/site-packages/whisper/transcribe.py:115: UserWarning: FP16 is not supported on CPU; using FP32 instead\n",
      "  warnings.warn(\"FP16 is not supported on CPU; using FP32 instead\")\n"
     ]
    },
    {
     "name": "stdout",
     "output_type": "stream",
     "text": [
      "Transcription saved for: Schützt euer Postfach vor Spam - Telekom Tipps!.mp3\n"
     ]
    },
    {
     "name": "stderr",
     "output_type": "stream",
     "text": [
      "/Users/taha/Desktop/rag/venv/lib/python3.12/site-packages/whisper/transcribe.py:115: UserWarning: FP16 is not supported on CPU; using FP32 instead\n",
      "  warnings.warn(\"FP16 is not supported on CPU; using FP32 instead\")\n"
     ]
    },
    {
     "name": "stdout",
     "output_type": "stream",
     "text": [
      "Transcription saved for: Zahle einfach per Handyrechnung! #telekom #hilfe #handyrechnung #magenta #tipp #smartphone #easy.mp3\n"
     ]
    },
    {
     "name": "stderr",
     "output_type": "stream",
     "text": [
      "/Users/taha/Desktop/rag/venv/lib/python3.12/site-packages/whisper/transcribe.py:115: UserWarning: FP16 is not supported on CPU; using FP32 instead\n",
      "  warnings.warn(\"FP16 is not supported on CPU; using FP32 instead\")\n"
     ]
    },
    {
     "name": "stdout",
     "output_type": "stream",
     "text": [
      "Transcription saved for: Digitalisierungbox Smart - Einrichtung eines bintec elmeg IP-Telefons – REV2.mp3\n"
     ]
    },
    {
     "name": "stderr",
     "output_type": "stream",
     "text": [
      "/Users/taha/Desktop/rag/venv/lib/python3.12/site-packages/whisper/transcribe.py:115: UserWarning: FP16 is not supported on CPU; using FP32 instead\n",
      "  warnings.warn(\"FP16 is not supported on CPU; using FP32 instead\")\n"
     ]
    },
    {
     "name": "stdout",
     "output_type": "stream",
     "text": [
      "Transcription saved for: So schützt du dein WLAN vor ungebetenen Gästen! #shorts #telekom #wlan #security #magenta.mp3\n"
     ]
    },
    {
     "name": "stderr",
     "output_type": "stream",
     "text": [
      "/Users/taha/Desktop/rag/venv/lib/python3.12/site-packages/whisper/transcribe.py:115: UserWarning: FP16 is not supported on CPU; using FP32 instead\n",
      "  warnings.warn(\"FP16 is not supported on CPU; using FP32 instead\")\n"
     ]
    },
    {
     "name": "stdout",
     "output_type": "stream",
     "text": [
      "Transcription saved for: Telekom： Kündigung Mietgerät bei der Telekom.mp3\n"
     ]
    },
    {
     "name": "stderr",
     "output_type": "stream",
     "text": [
      "/Users/taha/Desktop/rag/venv/lib/python3.12/site-packages/whisper/transcribe.py:115: UserWarning: FP16 is not supported on CPU; using FP32 instead\n",
      "  warnings.warn(\"FP16 is not supported on CPU; using FP32 instead\")\n"
     ]
    },
    {
     "name": "stdout",
     "output_type": "stream",
     "text": [
      "Transcription saved for: WLAN-Namen ändern： So geht´s bei der Fritzbox ｜ Telekom.mp3\n"
     ]
    },
    {
     "name": "stderr",
     "output_type": "stream",
     "text": [
      "/Users/taha/Desktop/rag/venv/lib/python3.12/site-packages/whisper/transcribe.py:115: UserWarning: FP16 is not supported on CPU; using FP32 instead\n",
      "  warnings.warn(\"FP16 is not supported on CPU; using FP32 instead\")\n"
     ]
    },
    {
     "name": "stdout",
     "output_type": "stream",
     "text": [
      "Transcription saved for: Spam-Schutz bei der Telekom - So einfach geht's!.mp3\n"
     ]
    },
    {
     "name": "stderr",
     "output_type": "stream",
     "text": [
      "/Users/taha/Desktop/rag/venv/lib/python3.12/site-packages/whisper/transcribe.py:115: UserWarning: FP16 is not supported on CPU; using FP32 instead\n",
      "  warnings.warn(\"FP16 is not supported on CPU; using FP32 instead\")\n"
     ]
    },
    {
     "name": "stdout",
     "output_type": "stream",
     "text": [
      "Transcription saved for: Telefoniecenter - Erste Schritte ｜ Ihre telefonische Erreichbarkeit einfach online steuern.mp3\n"
     ]
    },
    {
     "name": "stderr",
     "output_type": "stream",
     "text": [
      "/Users/taha/Desktop/rag/venv/lib/python3.12/site-packages/whisper/transcribe.py:115: UserWarning: FP16 is not supported on CPU; using FP32 instead\n",
      "  warnings.warn(\"FP16 is not supported on CPU; using FP32 instead\")\n"
     ]
    },
    {
     "name": "stdout",
     "output_type": "stream",
     "text": [
      "Transcription saved for: Telekom： Digitalisierungsbox Smart -  Ersteinrichtung Telefonanlage.mp3\n"
     ]
    },
    {
     "name": "stderr",
     "output_type": "stream",
     "text": [
      "/Users/taha/Desktop/rag/venv/lib/python3.12/site-packages/whisper/transcribe.py:115: UserWarning: FP16 is not supported on CPU; using FP32 instead\n",
      "  warnings.warn(\"FP16 is not supported on CPU; using FP32 instead\")\n"
     ]
    },
    {
     "name": "stdout",
     "output_type": "stream",
     "text": [
      "Transcription saved for: WLAN-Namen ändern： Schnell und einfach ｜ Telekom.mp3\n"
     ]
    },
    {
     "name": "stderr",
     "output_type": "stream",
     "text": [
      "/Users/taha/Desktop/rag/venv/lib/python3.12/site-packages/whisper/transcribe.py:115: UserWarning: FP16 is not supported on CPU; using FP32 instead\n",
      "  warnings.warn(\"FP16 is not supported on CPU; using FP32 instead\")\n"
     ]
    },
    {
     "name": "stdout",
     "output_type": "stream",
     "text": [
      "Transcription saved for: Telekom： MagentaService Live – Persönliche Beratung per Videocall.mp3\n"
     ]
    },
    {
     "name": "stderr",
     "output_type": "stream",
     "text": [
      "/Users/taha/Desktop/rag/venv/lib/python3.12/site-packages/whisper/transcribe.py:115: UserWarning: FP16 is not supported on CPU; using FP32 instead\n",
      "  warnings.warn(\"FP16 is not supported on CPU; using FP32 instead\")\n"
     ]
    },
    {
     "name": "stdout",
     "output_type": "stream",
     "text": [
      "Transcription saved for: Telekom： Digitalisierungsbox Smart 2 & Premium 2 - Erstinbetriebnahme.mp3\n"
     ]
    },
    {
     "name": "stderr",
     "output_type": "stream",
     "text": [
      "/Users/taha/Desktop/rag/venv/lib/python3.12/site-packages/whisper/transcribe.py:115: UserWarning: FP16 is not supported on CPU; using FP32 instead\n",
      "  warnings.warn(\"FP16 is not supported on CPU; using FP32 instead\")\n"
     ]
    },
    {
     "name": "stdout",
     "output_type": "stream",
     "text": [
      "Transcription saved for: Digitale Soforthilfe ohne Wartezeit - Kennst Du...Frag Magenta？ I Telekom.mp3\n"
     ]
    },
    {
     "name": "stderr",
     "output_type": "stream",
     "text": [
      "/Users/taha/Desktop/rag/venv/lib/python3.12/site-packages/whisper/transcribe.py:115: UserWarning: FP16 is not supported on CPU; using FP32 instead\n",
      "  warnings.warn(\"FP16 is not supported on CPU; using FP32 instead\")\n"
     ]
    },
    {
     "name": "stdout",
     "output_type": "stream",
     "text": [
      "Transcription saved for: Einfache Anmeldung bei der MeinMagenta App - Schritt für Schritt erklärt!.mp3\n"
     ]
    },
    {
     "name": "stderr",
     "output_type": "stream",
     "text": [
      "/Users/taha/Desktop/rag/venv/lib/python3.12/site-packages/whisper/transcribe.py:115: UserWarning: FP16 is not supported on CPU; using FP32 instead\n",
      "  warnings.warn(\"FP16 is not supported on CPU; using FP32 instead\")\n"
     ]
    },
    {
     "name": "stdout",
     "output_type": "stream",
     "text": [
      "Transcription saved for: Telekom： Digitalisierungsbox Smart 2 & Premium 2 - Einrichtung Portfreischaltung.mp3\n"
     ]
    },
    {
     "name": "stderr",
     "output_type": "stream",
     "text": [
      "/Users/taha/Desktop/rag/venv/lib/python3.12/site-packages/whisper/transcribe.py:115: UserWarning: FP16 is not supported on CPU; using FP32 instead\n",
      "  warnings.warn(\"FP16 is not supported on CPU; using FP32 instead\")\n"
     ]
    },
    {
     "name": "stdout",
     "output_type": "stream",
     "text": [
      "Transcription saved for: Telekom： Die optimalen Einstellungen am Smart-TV für MagentaTV (3⧸3).mp3\n"
     ]
    },
    {
     "name": "stderr",
     "output_type": "stream",
     "text": [
      "/Users/taha/Desktop/rag/venv/lib/python3.12/site-packages/whisper/transcribe.py:115: UserWarning: FP16 is not supported on CPU; using FP32 instead\n",
      "  warnings.warn(\"FP16 is not supported on CPU; using FP32 instead\")\n"
     ]
    },
    {
     "name": "stdout",
     "output_type": "stream",
     "text": [
      "Transcription saved for: Enkel-Tipp： Schriftgröße anpassen Android Smartphone.mp3\n"
     ]
    },
    {
     "name": "stderr",
     "output_type": "stream",
     "text": [
      "/Users/taha/Desktop/rag/venv/lib/python3.12/site-packages/whisper/transcribe.py:115: UserWarning: FP16 is not supported on CPU; using FP32 instead\n",
      "  warnings.warn(\"FP16 is not supported on CPU; using FP32 instead\")\n"
     ]
    },
    {
     "name": "stdout",
     "output_type": "stream",
     "text": [
      "Transcription saved for: Telekom： Digitalisierungsbox Smart - Einrichtung eines SIP-Trunks im PBX-Modus.mp3\n"
     ]
    },
    {
     "name": "stderr",
     "output_type": "stream",
     "text": [
      "/Users/taha/Desktop/rag/venv/lib/python3.12/site-packages/whisper/transcribe.py:115: UserWarning: FP16 is not supported on CPU; using FP32 instead\n",
      "  warnings.warn(\"FP16 is not supported on CPU; using FP32 instead\")\n"
     ]
    },
    {
     "name": "stdout",
     "output_type": "stream",
     "text": [
      "Transcription saved for: Telekom： Digitalisierungsbox Premium - Kalender und Tag⧸Nachtbetrieb einrichten.mp3\n"
     ]
    },
    {
     "name": "stderr",
     "output_type": "stream",
     "text": [
      "/Users/taha/Desktop/rag/venv/lib/python3.12/site-packages/whisper/transcribe.py:115: UserWarning: FP16 is not supported on CPU; using FP32 instead\n",
      "  warnings.warn(\"FP16 is not supported on CPU; using FP32 instead\")\n"
     ]
    },
    {
     "name": "stdout",
     "output_type": "stream",
     "text": [
      "Transcription saved for: Telekom： Digitalisierungsbox Smart & Premium - End-to-Site VPN mit Apple iOS und iPadOS.mp3\n"
     ]
    },
    {
     "name": "stderr",
     "output_type": "stream",
     "text": [
      "/Users/taha/Desktop/rag/venv/lib/python3.12/site-packages/whisper/transcribe.py:115: UserWarning: FP16 is not supported on CPU; using FP32 instead\n",
      "  warnings.warn(\"FP16 is not supported on CPU; using FP32 instead\")\n"
     ]
    },
    {
     "name": "stdout",
     "output_type": "stream",
     "text": [
      "Transcription saved for: Deine erste Telekom Rechnung nach Tarifwechsel： Erklärung & Details.mp3\n"
     ]
    },
    {
     "name": "stderr",
     "output_type": "stream",
     "text": [
      "/Users/taha/Desktop/rag/venv/lib/python3.12/site-packages/whisper/transcribe.py:115: UserWarning: FP16 is not supported on CPU; using FP32 instead\n",
      "  warnings.warn(\"FP16 is not supported on CPU; using FP32 instead\")\n"
     ]
    },
    {
     "name": "stdout",
     "output_type": "stream",
     "text": [
      "Transcription saved for: Wofür brauche Ich den TelekomLogin？ #shorts#telekom#telekomhilft.mp3\n"
     ]
    },
    {
     "name": "stderr",
     "output_type": "stream",
     "text": [
      "/Users/taha/Desktop/rag/venv/lib/python3.12/site-packages/whisper/transcribe.py:115: UserWarning: FP16 is not supported on CPU; using FP32 instead\n",
      "  warnings.warn(\"FP16 is not supported on CPU; using FP32 instead\")\n"
     ]
    },
    {
     "name": "stdout",
     "output_type": "stream",
     "text": [
      "Transcription saved for: Enkel-Tipp： MeinMagenta App auf dem iPhone installieren - Schritt-für-Schritt Anleitung.mp3\n"
     ]
    },
    {
     "name": "stderr",
     "output_type": "stream",
     "text": [
      "/Users/taha/Desktop/rag/venv/lib/python3.12/site-packages/whisper/transcribe.py:115: UserWarning: FP16 is not supported on CPU; using FP32 instead\n",
      "  warnings.warn(\"FP16 is not supported on CPU; using FP32 instead\")\n"
     ]
    },
    {
     "name": "stdout",
     "output_type": "stream",
     "text": [
      "Transcription saved for: Die Telekom Ideenschmiede： Gestalten Sie die Zukunft mit uns!.mp3\n"
     ]
    },
    {
     "name": "stderr",
     "output_type": "stream",
     "text": [
      "/Users/taha/Desktop/rag/venv/lib/python3.12/site-packages/whisper/transcribe.py:115: UserWarning: FP16 is not supported on CPU; using FP32 instead\n",
      "  warnings.warn(\"FP16 is not supported on CPU; using FP32 instead\")\n"
     ]
    },
    {
     "name": "stdout",
     "output_type": "stream",
     "text": [
      "Transcription saved for: E-Mail-Adresse bei der Telekom bestätigen - So geht's!.mp3\n"
     ]
    },
    {
     "name": "stderr",
     "output_type": "stream",
     "text": [
      "/Users/taha/Desktop/rag/venv/lib/python3.12/site-packages/whisper/transcribe.py:115: UserWarning: FP16 is not supported on CPU; using FP32 instead\n",
      "  warnings.warn(\"FP16 is not supported on CPU; using FP32 instead\")\n"
     ]
    },
    {
     "name": "stdout",
     "output_type": "stream",
     "text": [
      "Transcription saved for: 5G Empfänger - Unboxing ｜ Telekom #shorts #telekom #5g #telekomhilft #magenta.mp3\n"
     ]
    },
    {
     "name": "stderr",
     "output_type": "stream",
     "text": [
      "/Users/taha/Desktop/rag/venv/lib/python3.12/site-packages/whisper/transcribe.py:115: UserWarning: FP16 is not supported on CPU; using FP32 instead\n",
      "  warnings.warn(\"FP16 is not supported on CPU; using FP32 instead\")\n"
     ]
    },
    {
     "name": "stdout",
     "output_type": "stream",
     "text": [
      "Transcription saved for: Die beste Verbindung für MagentaTV I Telekom.mp3\n"
     ]
    },
    {
     "name": "stderr",
     "output_type": "stream",
     "text": [
      "/Users/taha/Desktop/rag/venv/lib/python3.12/site-packages/whisper/transcribe.py:115: UserWarning: FP16 is not supported on CPU; using FP32 instead\n",
      "  warnings.warn(\"FP16 is not supported on CPU; using FP32 instead\")\n"
     ]
    },
    {
     "name": "stdout",
     "output_type": "stream",
     "text": [
      "Transcription saved for: Telekom： Digitalisierungsbox Premium - End-to-Site VPN mit dem bintec elmeg Secure IPSec Client.mp3\n"
     ]
    },
    {
     "name": "stderr",
     "output_type": "stream",
     "text": [
      "/Users/taha/Desktop/rag/venv/lib/python3.12/site-packages/whisper/transcribe.py:115: UserWarning: FP16 is not supported on CPU; using FP32 instead\n",
      "  warnings.warn(\"FP16 is not supported on CPU; using FP32 instead\")\n"
     ]
    },
    {
     "name": "stdout",
     "output_type": "stream",
     "text": [
      "Transcription saved for: Der Freizeichentonservice der Telekom #telekom #telekomhilft #telekomvideos #magenta.mp3\n"
     ]
    },
    {
     "name": "stderr",
     "output_type": "stream",
     "text": [
      "/Users/taha/Desktop/rag/venv/lib/python3.12/site-packages/whisper/transcribe.py:115: UserWarning: FP16 is not supported on CPU; using FP32 instead\n",
      "  warnings.warn(\"FP16 is not supported on CPU; using FP32 instead\")\n"
     ]
    },
    {
     "name": "stdout",
     "output_type": "stream",
     "text": [
      "Transcription saved for: Glasfaser-Installation： So bereitest du dich optimal vor!.mp3\n"
     ]
    },
    {
     "name": "stderr",
     "output_type": "stream",
     "text": [
      "/Users/taha/Desktop/rag/venv/lib/python3.12/site-packages/whisper/transcribe.py:115: UserWarning: FP16 is not supported on CPU; using FP32 instead\n",
      "  warnings.warn(\"FP16 is not supported on CPU; using FP32 instead\")\n"
     ]
    },
    {
     "name": "stdout",
     "output_type": "stream",
     "text": [
      "Transcription saved for: ZOOM Seminare der Telekom Senioren-Akademie - Teilnahme mit einem iPad.mp3\n"
     ]
    },
    {
     "name": "stderr",
     "output_type": "stream",
     "text": [
      "/Users/taha/Desktop/rag/venv/lib/python3.12/site-packages/whisper/transcribe.py:115: UserWarning: FP16 is not supported on CPU; using FP32 instead\n",
      "  warnings.warn(\"FP16 is not supported on CPU; using FP32 instead\")\n"
     ]
    },
    {
     "name": "stdout",
     "output_type": "stream",
     "text": [
      "Transcription saved for: Telekom： Digitalisierungsbox Premium - Team Voice Mail Box einrichten.mp3\n"
     ]
    },
    {
     "name": "stderr",
     "output_type": "stream",
     "text": [
      "/Users/taha/Desktop/rag/venv/lib/python3.12/site-packages/whisper/transcribe.py:115: UserWarning: FP16 is not supported on CPU; using FP32 instead\n",
      "  warnings.warn(\"FP16 is not supported on CPU; using FP32 instead\")\n"
     ]
    },
    {
     "name": "stdout",
     "output_type": "stream",
     "text": [
      "Transcription saved for: Frag Magenta： Der digitale Assistent #shorts#telekom#fragmagenta#support#tech#digitalart#fyp#like.mp3\n"
     ]
    },
    {
     "name": "stderr",
     "output_type": "stream",
     "text": [
      "/Users/taha/Desktop/rag/venv/lib/python3.12/site-packages/whisper/transcribe.py:115: UserWarning: FP16 is not supported on CPU; using FP32 instead\n",
      "  warnings.warn(\"FP16 is not supported on CPU; using FP32 instead\")\n"
     ]
    },
    {
     "name": "stdout",
     "output_type": "stream",
     "text": [
      "Transcription saved for: Telekom： Anbindung an FTTH (Fiber to the Home) ⧸ Glasfasertechnik.mp3\n"
     ]
    },
    {
     "name": "stderr",
     "output_type": "stream",
     "text": [
      "/Users/taha/Desktop/rag/venv/lib/python3.12/site-packages/whisper/transcribe.py:115: UserWarning: FP16 is not supported on CPU; using FP32 instead\n",
      "  warnings.warn(\"FP16 is not supported on CPU; using FP32 instead\")\n"
     ]
    },
    {
     "name": "stdout",
     "output_type": "stream",
     "text": [
      "Transcription saved for: Szenen erstellen mit Telekom Magenta SmartHome.mp3\n"
     ]
    },
    {
     "name": "stderr",
     "output_type": "stream",
     "text": [
      "/Users/taha/Desktop/rag/venv/lib/python3.12/site-packages/whisper/transcribe.py:115: UserWarning: FP16 is not supported on CPU; using FP32 instead\n",
      "  warnings.warn(\"FP16 is not supported on CPU; using FP32 instead\")\n"
     ]
    },
    {
     "name": "stdout",
     "output_type": "stream",
     "text": [
      "Transcription saved for: Die Moderatoren der Telekom Hilfe-Videos： Lernen Sie unser Team kennen!.mp3\n"
     ]
    },
    {
     "name": "stderr",
     "output_type": "stream",
     "text": [
      "/Users/taha/Desktop/rag/venv/lib/python3.12/site-packages/whisper/transcribe.py:115: UserWarning: FP16 is not supported on CPU; using FP32 instead\n",
      "  warnings.warn(\"FP16 is not supported on CPU; using FP32 instead\")\n"
     ]
    },
    {
     "name": "stdout",
     "output_type": "stream",
     "text": [
      "Transcription saved for: ZOOM Seminare der Telekom Senioren-Akademie - Teilnahme mit einem Android Tablet.mp3\n"
     ]
    },
    {
     "name": "stderr",
     "output_type": "stream",
     "text": [
      "/Users/taha/Desktop/rag/venv/lib/python3.12/site-packages/whisper/transcribe.py:115: UserWarning: FP16 is not supported on CPU; using FP32 instead\n",
      "  warnings.warn(\"FP16 is not supported on CPU; using FP32 instead\")\n"
     ]
    },
    {
     "name": "stdout",
     "output_type": "stream",
     "text": [
      "Transcription saved for: Bezahlen per Handyrechnung – einfach und schnell einrichten I Telekom.mp3\n"
     ]
    },
    {
     "name": "stderr",
     "output_type": "stream",
     "text": [
      "/Users/taha/Desktop/rag/venv/lib/python3.12/site-packages/whisper/transcribe.py:115: UserWarning: FP16 is not supported on CPU; using FP32 instead\n",
      "  warnings.warn(\"FP16 is not supported on CPU; using FP32 instead\")\n"
     ]
    },
    {
     "name": "stdout",
     "output_type": "stream",
     "text": [
      "Transcription saved for: CompanyFlex Cloud PBX 2.0 - Microsoft Teams Integration.mp3\n"
     ]
    },
    {
     "name": "stderr",
     "output_type": "stream",
     "text": [
      "/Users/taha/Desktop/rag/venv/lib/python3.12/site-packages/whisper/transcribe.py:115: UserWarning: FP16 is not supported on CPU; using FP32 instead\n",
      "  warnings.warn(\"FP16 is not supported on CPU; using FP32 instead\")\n"
     ]
    },
    {
     "name": "stdout",
     "output_type": "stream",
     "text": [
      "Transcription saved for: MagentaService Live – Deine persönliche Videoberatung.mp3\n"
     ]
    },
    {
     "name": "stderr",
     "output_type": "stream",
     "text": [
      "/Users/taha/Desktop/rag/venv/lib/python3.12/site-packages/whisper/transcribe.py:115: UserWarning: FP16 is not supported on CPU; using FP32 instead\n",
      "  warnings.warn(\"FP16 is not supported on CPU; using FP32 instead\")\n"
     ]
    },
    {
     "name": "stdout",
     "output_type": "stream",
     "text": [
      "Transcription saved for: CompanyFlex SIP-Trunk - Arbeitsplatz powered by Webex.mp3\n"
     ]
    },
    {
     "name": "stderr",
     "output_type": "stream",
     "text": [
      "/Users/taha/Desktop/rag/venv/lib/python3.12/site-packages/whisper/transcribe.py:115: UserWarning: FP16 is not supported on CPU; using FP32 instead\n",
      "  warnings.warn(\"FP16 is not supported on CPU; using FP32 instead\")\n"
     ]
    },
    {
     "name": "stdout",
     "output_type": "stream",
     "text": [
      "Transcription saved for: WhatsApp Service in 60 Sekunden erklärt.mp3\n"
     ]
    },
    {
     "name": "stderr",
     "output_type": "stream",
     "text": [
      "/Users/taha/Desktop/rag/venv/lib/python3.12/site-packages/whisper/transcribe.py:115: UserWarning: FP16 is not supported on CPU; using FP32 instead\n",
      "  warnings.warn(\"FP16 is not supported on CPU; using FP32 instead\")\n"
     ]
    },
    {
     "name": "stdout",
     "output_type": "stream",
     "text": [
      "Transcription saved for: Telekom： Telefoniecenter – Themenbereich „Erreichbarkeit“.mp3\n"
     ]
    },
    {
     "name": "stderr",
     "output_type": "stream",
     "text": [
      "/Users/taha/Desktop/rag/venv/lib/python3.12/site-packages/whisper/transcribe.py:115: UserWarning: FP16 is not supported on CPU; using FP32 instead\n",
      "  warnings.warn(\"FP16 is not supported on CPU; using FP32 instead\")\n"
     ]
    },
    {
     "name": "stdout",
     "output_type": "stream",
     "text": [
      "Transcription saved for: Internet weg？ Melde so die Störung! #shorts #telekom #telekomhilft #internet #wlan #hilfe #magenta.mp3\n"
     ]
    },
    {
     "name": "stderr",
     "output_type": "stream",
     "text": [
      "/Users/taha/Desktop/rag/venv/lib/python3.12/site-packages/whisper/transcribe.py:115: UserWarning: FP16 is not supported on CPU; using FP32 instead\n",
      "  warnings.warn(\"FP16 is not supported on CPU; using FP32 instead\")\n"
     ]
    },
    {
     "name": "stdout",
     "output_type": "stream",
     "text": [
      "Transcription saved for: Glasfaseranbindung - So läuft's ab! #shorts #telekom #glasfaser #tech #shortvideo #magenta.mp3\n"
     ]
    },
    {
     "name": "stderr",
     "output_type": "stream",
     "text": [
      "/Users/taha/Desktop/rag/venv/lib/python3.12/site-packages/whisper/transcribe.py:115: UserWarning: FP16 is not supported on CPU; using FP32 instead\n",
      "  warnings.warn(\"FP16 is not supported on CPU; using FP32 instead\")\n"
     ]
    },
    {
     "name": "stdout",
     "output_type": "stream",
     "text": [
      "Transcription saved for: MagentaTV One - Unboxing! #shorts #telekom #telekomhilft #magenta.mp3\n"
     ]
    },
    {
     "name": "stderr",
     "output_type": "stream",
     "text": [
      "/Users/taha/Desktop/rag/venv/lib/python3.12/site-packages/whisper/transcribe.py:115: UserWarning: FP16 is not supported on CPU; using FP32 instead\n",
      "  warnings.warn(\"FP16 is not supported on CPU; using FP32 instead\")\n"
     ]
    },
    {
     "name": "stdout",
     "output_type": "stream",
     "text": [
      "Transcription saved for: MeinMagenta App： Ihre gesamte Telekom Welt immer im Blick - kompakt.mp3\n"
     ]
    },
    {
     "name": "stderr",
     "output_type": "stream",
     "text": [
      "/Users/taha/Desktop/rag/venv/lib/python3.12/site-packages/whisper/transcribe.py:115: UserWarning: FP16 is not supported on CPU; using FP32 instead\n",
      "  warnings.warn(\"FP16 is not supported on CPU; using FP32 instead\")\n"
     ]
    },
    {
     "name": "stdout",
     "output_type": "stream",
     "text": [
      "Transcription saved for: Digitale Organisation mit Android-Geräten – Adressbuch, Kalender und Co. I Telekom Senioren-Akademie.mp3\n"
     ]
    },
    {
     "name": "stderr",
     "output_type": "stream",
     "text": [
      "/Users/taha/Desktop/rag/venv/lib/python3.12/site-packages/whisper/transcribe.py:115: UserWarning: FP16 is not supported on CPU; using FP32 instead\n",
      "  warnings.warn(\"FP16 is not supported on CPU; using FP32 instead\")\n"
     ]
    },
    {
     "name": "stdout",
     "output_type": "stream",
     "text": [
      "Transcription saved for: Telekom： Das optimale WLAN-Netz für MagentaTV (2⧸3).mp3\n"
     ]
    },
    {
     "name": "stderr",
     "output_type": "stream",
     "text": [
      "/Users/taha/Desktop/rag/venv/lib/python3.12/site-packages/whisper/transcribe.py:115: UserWarning: FP16 is not supported on CPU; using FP32 instead\n",
      "  warnings.warn(\"FP16 is not supported on CPU; using FP32 instead\")\n"
     ]
    },
    {
     "name": "stdout",
     "output_type": "stream",
     "text": [
      "Transcription saved for: Urlaubsreif ？ - TelekomMobilfunk im Ausland! #shorts #telekom #telekomhilft #magenta.mp3\n"
     ]
    },
    {
     "name": "stderr",
     "output_type": "stream",
     "text": [
      "/Users/taha/Desktop/rag/venv/lib/python3.12/site-packages/whisper/transcribe.py:115: UserWarning: FP16 is not supported on CPU; using FP32 instead\n",
      "  warnings.warn(\"FP16 is not supported on CPU; using FP32 instead\")\n"
     ]
    },
    {
     "name": "stdout",
     "output_type": "stream",
     "text": [
      "Transcription saved for: Telekom： Hybrid 5G⧸LTE Bestes Erlebnis (3⧸3).mp3\n"
     ]
    },
    {
     "name": "stderr",
     "output_type": "stream",
     "text": [
      "/Users/taha/Desktop/rag/venv/lib/python3.12/site-packages/whisper/transcribe.py:115: UserWarning: FP16 is not supported on CPU; using FP32 instead\n",
      "  warnings.warn(\"FP16 is not supported on CPU; using FP32 instead\")\n"
     ]
    },
    {
     "name": "stdout",
     "output_type": "stream",
     "text": [
      "Transcription saved for: Telekom： Digitalisierungsbox Smart 2 - Einrichtung IP-Systemtelefon.mp3\n"
     ]
    },
    {
     "name": "stderr",
     "output_type": "stream",
     "text": [
      "/Users/taha/Desktop/rag/venv/lib/python3.12/site-packages/whisper/transcribe.py:115: UserWarning: FP16 is not supported on CPU; using FP32 instead\n",
      "  warnings.warn(\"FP16 is not supported on CPU; using FP32 instead\")\n"
     ]
    },
    {
     "name": "stdout",
     "output_type": "stream",
     "text": [
      "Transcription saved for: Glasfaser I #shorts #telekom #telekomhilft #magenta.mp3\n"
     ]
    },
    {
     "name": "stderr",
     "output_type": "stream",
     "text": [
      "/Users/taha/Desktop/rag/venv/lib/python3.12/site-packages/whisper/transcribe.py:115: UserWarning: FP16 is not supported on CPU; using FP32 instead\n",
      "  warnings.warn(\"FP16 is not supported on CPU; using FP32 instead\")\n"
     ]
    },
    {
     "name": "stdout",
     "output_type": "stream",
     "text": [
      "Transcription saved for: Digitale Sicherheit - Tipps für sichere Passwörter I Telekom Senioren-Akademie.mp3\n"
     ]
    },
    {
     "name": "stderr",
     "output_type": "stream",
     "text": [
      "/Users/taha/Desktop/rag/venv/lib/python3.12/site-packages/whisper/transcribe.py:115: UserWarning: FP16 is not supported on CPU; using FP32 instead\n",
      "  warnings.warn(\"FP16 is not supported on CPU; using FP32 instead\")\n"
     ]
    },
    {
     "name": "stdout",
     "output_type": "stream",
     "text": [
      "Transcription saved for: Bezahlen per Handyrechnung – so funktioniert´s Schritt für Schritt bei IOS-Geräte I Telekom.mp3\n"
     ]
    },
    {
     "name": "stderr",
     "output_type": "stream",
     "text": [
      "/Users/taha/Desktop/rag/venv/lib/python3.12/site-packages/whisper/transcribe.py:115: UserWarning: FP16 is not supported on CPU; using FP32 instead\n",
      "  warnings.warn(\"FP16 is not supported on CPU; using FP32 instead\")\n"
     ]
    },
    {
     "name": "stdout",
     "output_type": "stream",
     "text": [
      "Transcription saved for: Telekom hilft News： Wie solltet ihr euch bei Spam via SMS verhalten？.mp3\n"
     ]
    },
    {
     "name": "stderr",
     "output_type": "stream",
     "text": [
      "/Users/taha/Desktop/rag/venv/lib/python3.12/site-packages/whisper/transcribe.py:115: UserWarning: FP16 is not supported on CPU; using FP32 instead\n",
      "  warnings.warn(\"FP16 is not supported on CPU; using FP32 instead\")\n"
     ]
    },
    {
     "name": "stdout",
     "output_type": "stream",
     "text": [
      "Transcription saved for: Telekom： eSIM bei Gerätewechsel leicht gemacht.mp3\n"
     ]
    },
    {
     "name": "stderr",
     "output_type": "stream",
     "text": [
      "/Users/taha/Desktop/rag/venv/lib/python3.12/site-packages/whisper/transcribe.py:115: UserWarning: FP16 is not supported on CPU; using FP32 instead\n",
      "  warnings.warn(\"FP16 is not supported on CPU; using FP32 instead\")\n"
     ]
    },
    {
     "name": "stdout",
     "output_type": "stream",
     "text": [
      "Transcription saved for: Hybrid 5G⧸LTE Installation： Schritt für Schritt erklärt (2⧸3).mp3\n"
     ]
    },
    {
     "name": "stderr",
     "output_type": "stream",
     "text": [
      "/Users/taha/Desktop/rag/venv/lib/python3.12/site-packages/whisper/transcribe.py:115: UserWarning: FP16 is not supported on CPU; using FP32 instead\n",
      "  warnings.warn(\"FP16 is not supported on CPU; using FP32 instead\")\n"
     ]
    },
    {
     "name": "stdout",
     "output_type": "stream",
     "text": [
      "Transcription saved for: Video-Ident： Videocall mit Telekom Service - Schritt für Schritt.mp3\n"
     ]
    },
    {
     "name": "stderr",
     "output_type": "stream",
     "text": [
      "/Users/taha/Desktop/rag/venv/lib/python3.12/site-packages/whisper/transcribe.py:115: UserWarning: FP16 is not supported on CPU; using FP32 instead\n",
      "  warnings.warn(\"FP16 is not supported on CPU; using FP32 instead\")\n"
     ]
    },
    {
     "name": "stdout",
     "output_type": "stream",
     "text": [
      "Transcription saved for: Telekom： Digitalisierungsbox Premium - Einrichtung eines SIP-Trunks im PBX-Modus.mp3\n"
     ]
    },
    {
     "name": "stderr",
     "output_type": "stream",
     "text": [
      "/Users/taha/Desktop/rag/venv/lib/python3.12/site-packages/whisper/transcribe.py:115: UserWarning: FP16 is not supported on CPU; using FP32 instead\n",
      "  warnings.warn(\"FP16 is not supported on CPU; using FP32 instead\")\n"
     ]
    },
    {
     "name": "stdout",
     "output_type": "stream",
     "text": [
      "Transcription saved for: Telekom： Digitalisierungsbox Premium - Einrichtung eines bintec elmeg IP-Telefons – REV2.mp3\n"
     ]
    },
    {
     "name": "stderr",
     "output_type": "stream",
     "text": [
      "/Users/taha/Desktop/rag/venv/lib/python3.12/site-packages/whisper/transcribe.py:115: UserWarning: FP16 is not supported on CPU; using FP32 instead\n",
      "  warnings.warn(\"FP16 is not supported on CPU; using FP32 instead\")\n"
     ]
    },
    {
     "name": "stdout",
     "output_type": "stream",
     "text": [
      "Transcription saved for: Die neuen MagentaMobil Angebote für alle, die Familie sind - MagentaMobil PlusKarten.mp3\n"
     ]
    },
    {
     "name": "stderr",
     "output_type": "stream",
     "text": [
      "/Users/taha/Desktop/rag/venv/lib/python3.12/site-packages/whisper/transcribe.py:115: UserWarning: FP16 is not supported on CPU; using FP32 instead\n",
      "  warnings.warn(\"FP16 is not supported on CPU; using FP32 instead\")\n"
     ]
    },
    {
     "name": "stdout",
     "output_type": "stream",
     "text": [
      "Transcription saved for: WLAN in allen Ecken？ - Mesh WLAN mit dem Speedhome WLAN! #shorts #telekom #magenta #wlan.mp3\n"
     ]
    },
    {
     "name": "stderr",
     "output_type": "stream",
     "text": [
      "/Users/taha/Desktop/rag/venv/lib/python3.12/site-packages/whisper/transcribe.py:115: UserWarning: FP16 is not supported on CPU; using FP32 instead\n",
      "  warnings.warn(\"FP16 is not supported on CPU; using FP32 instead\")\n"
     ]
    },
    {
     "name": "stdout",
     "output_type": "stream",
     "text": [
      "Transcription saved for: Deine erste Telekom Rechnung - Wir erklären dir die Details.mp3\n"
     ]
    },
    {
     "name": "stderr",
     "output_type": "stream",
     "text": [
      "/Users/taha/Desktop/rag/venv/lib/python3.12/site-packages/whisper/transcribe.py:115: UserWarning: FP16 is not supported on CPU; using FP32 instead\n",
      "  warnings.warn(\"FP16 is not supported on CPU; using FP32 instead\")\n"
     ]
    },
    {
     "name": "stdout",
     "output_type": "stream",
     "text": [
      "Transcription saved for: WLAN fest verriegelt： Deine Sicherheitscheckliste! #shorts #telekom #magenta #hilfe #wlan #security.mp3\n"
     ]
    },
    {
     "name": "stderr",
     "output_type": "stream",
     "text": [
      "/Users/taha/Desktop/rag/venv/lib/python3.12/site-packages/whisper/transcribe.py:115: UserWarning: FP16 is not supported on CPU; using FP32 instead\n",
      "  warnings.warn(\"FP16 is not supported on CPU; using FP32 instead\")\n"
     ]
    },
    {
     "name": "stdout",
     "output_type": "stream",
     "text": [
      "Transcription saved for: Telekom： Digitalisierungsbox Smart 2 & Premium 2 - Einrichtung Dual-WAN.mp3\n"
     ]
    },
    {
     "name": "stderr",
     "output_type": "stream",
     "text": [
      "/Users/taha/Desktop/rag/venv/lib/python3.12/site-packages/whisper/transcribe.py:115: UserWarning: FP16 is not supported on CPU; using FP32 instead\n",
      "  warnings.warn(\"FP16 is not supported on CPU; using FP32 instead\")\n"
     ]
    },
    {
     "name": "stdout",
     "output_type": "stream",
     "text": [
      "Transcription saved for: WLAN-Namen ändern： So geht's beim Speedport ｜ Telekom.mp3\n"
     ]
    },
    {
     "name": "stderr",
     "output_type": "stream",
     "text": [
      "/Users/taha/Desktop/rag/venv/lib/python3.12/site-packages/whisper/transcribe.py:115: UserWarning: FP16 is not supported on CPU; using FP32 instead\n",
      "  warnings.warn(\"FP16 is not supported on CPU; using FP32 instead\")\n"
     ]
    },
    {
     "name": "stdout",
     "output_type": "stream",
     "text": [
      "Transcription saved for: Telekom： Die beste Verbindung für MagentaTV (1⧸3).mp3\n"
     ]
    },
    {
     "name": "stderr",
     "output_type": "stream",
     "text": [
      "/Users/taha/Desktop/rag/venv/lib/python3.12/site-packages/whisper/transcribe.py:115: UserWarning: FP16 is not supported on CPU; using FP32 instead\n",
      "  warnings.warn(\"FP16 is not supported on CPU; using FP32 instead\")\n"
     ]
    },
    {
     "name": "stdout",
     "output_type": "stream",
     "text": [
      "Transcription saved for: Einfache Einrichtung von Apple TV 4K mit MagentaTV： Tipps und Tricks.mp3\n"
     ]
    },
    {
     "name": "stderr",
     "output_type": "stream",
     "text": [
      "/Users/taha/Desktop/rag/venv/lib/python3.12/site-packages/whisper/transcribe.py:115: UserWarning: FP16 is not supported on CPU; using FP32 instead\n",
      "  warnings.warn(\"FP16 is not supported on CPU; using FP32 instead\")\n"
     ]
    },
    {
     "name": "stdout",
     "output_type": "stream",
     "text": [
      "Transcription saved for: Rufnummernportierung für Geschäftskunden - nehmen Sie Ihre Mobilfunknummer ganz einfach mit.mp3\n"
     ]
    },
    {
     "name": "stderr",
     "output_type": "stream",
     "text": [
      "/Users/taha/Desktop/rag/venv/lib/python3.12/site-packages/whisper/transcribe.py:115: UserWarning: FP16 is not supported on CPU; using FP32 instead\n",
      "  warnings.warn(\"FP16 is not supported on CPU; using FP32 instead\")\n"
     ]
    },
    {
     "name": "stdout",
     "output_type": "stream",
     "text": [
      "Transcription saved for: Feste IP-Adresse auf neuen IP-Anschluss übertragen für Geschäftskunden - Anleitung.mp3\n"
     ]
    },
    {
     "name": "stderr",
     "output_type": "stream",
     "text": [
      "/Users/taha/Desktop/rag/venv/lib/python3.12/site-packages/whisper/transcribe.py:115: UserWarning: FP16 is not supported on CPU; using FP32 instead\n",
      "  warnings.warn(\"FP16 is not supported on CPU; using FP32 instead\")\n"
     ]
    },
    {
     "name": "stdout",
     "output_type": "stream",
     "text": [
      "Transcription saved for: Telekom： Digitalisierungsbox Smart & Premium - Einführung.mp3\n"
     ]
    },
    {
     "name": "stderr",
     "output_type": "stream",
     "text": [
      "/Users/taha/Desktop/rag/venv/lib/python3.12/site-packages/whisper/transcribe.py:115: UserWarning: FP16 is not supported on CPU; using FP32 instead\n",
      "  warnings.warn(\"FP16 is not supported on CPU; using FP32 instead\")\n"
     ]
    },
    {
     "name": "stdout",
     "output_type": "stream",
     "text": [
      "Transcription saved for: Telekom： DSL-Anschluss schnell und einfach einrichten.mp3\n"
     ]
    },
    {
     "name": "stderr",
     "output_type": "stream",
     "text": [
      "/Users/taha/Desktop/rag/venv/lib/python3.12/site-packages/whisper/transcribe.py:115: UserWarning: FP16 is not supported on CPU; using FP32 instead\n",
      "  warnings.warn(\"FP16 is not supported on CPU; using FP32 instead\")\n"
     ]
    },
    {
     "name": "stdout",
     "output_type": "stream",
     "text": [
      "Transcription saved for: Enkel-Tipps： Wichtige Smartphone-Symbole verständlich erklärt.mp3\n"
     ]
    },
    {
     "name": "stderr",
     "output_type": "stream",
     "text": [
      "/Users/taha/Desktop/rag/venv/lib/python3.12/site-packages/whisper/transcribe.py:115: UserWarning: FP16 is not supported on CPU; using FP32 instead\n",
      "  warnings.warn(\"FP16 is not supported on CPU; using FP32 instead\")\n"
     ]
    },
    {
     "name": "stdout",
     "output_type": "stream",
     "text": [
      "Transcription saved for: Ein Tag mit dem Servicetechniker - Einblicke in den Außendienst.mp3\n"
     ]
    },
    {
     "name": "stderr",
     "output_type": "stream",
     "text": [
      "/Users/taha/Desktop/rag/venv/lib/python3.12/site-packages/whisper/transcribe.py:115: UserWarning: FP16 is not supported on CPU; using FP32 instead\n",
      "  warnings.warn(\"FP16 is not supported on CPU; using FP32 instead\")\n"
     ]
    },
    {
     "name": "stdout",
     "output_type": "stream",
     "text": [
      "Transcription saved for: Digitalisierungsbox Premium – Einrichtung und Funktionen.mp3\n"
     ]
    },
    {
     "name": "stderr",
     "output_type": "stream",
     "text": [
      "/Users/taha/Desktop/rag/venv/lib/python3.12/site-packages/whisper/transcribe.py:115: UserWarning: FP16 is not supported on CPU; using FP32 instead\n",
      "  warnings.warn(\"FP16 is not supported on CPU; using FP32 instead\")\n"
     ]
    },
    {
     "name": "stdout",
     "output_type": "stream",
     "text": [
      "Transcription saved for: Leitung blockiert？! Die Telekom eilt zur Hilfe #shorts #telekom #magenta #leitung #internet #hilfe.mp3\n"
     ]
    },
    {
     "name": "stderr",
     "output_type": "stream",
     "text": [
      "/Users/taha/Desktop/rag/venv/lib/python3.12/site-packages/whisper/transcribe.py:115: UserWarning: FP16 is not supported on CPU; using FP32 instead\n",
      "  warnings.warn(\"FP16 is not supported on CPU; using FP32 instead\")\n"
     ]
    },
    {
     "name": "stdout",
     "output_type": "stream",
     "text": [
      "Transcription saved for: So kündigst du dein Mietgerät einfach und schnell!.mp3\n"
     ]
    },
    {
     "name": "stderr",
     "output_type": "stream",
     "text": [
      "/Users/taha/Desktop/rag/venv/lib/python3.12/site-packages/whisper/transcribe.py:115: UserWarning: FP16 is not supported on CPU; using FP32 instead\n",
      "  warnings.warn(\"FP16 is not supported on CPU; using FP32 instead\")\n"
     ]
    },
    {
     "name": "stdout",
     "output_type": "stream",
     "text": [
      "Transcription saved for: Einfach und schnell： Wechsel ins beste Netz mit der Telekom.mp3\n"
     ]
    },
    {
     "name": "stderr",
     "output_type": "stream",
     "text": [
      "/Users/taha/Desktop/rag/venv/lib/python3.12/site-packages/whisper/transcribe.py:115: UserWarning: FP16 is not supported on CPU; using FP32 instead\n",
      "  warnings.warn(\"FP16 is not supported on CPU; using FP32 instead\")\n"
     ]
    },
    {
     "name": "stdout",
     "output_type": "stream",
     "text": [
      "Transcription saved for: Frag Magenta - Kennst Du es bereits？ #shorts #telekom #magenta #fragmagenta #tech #service #help.mp3\n"
     ]
    },
    {
     "name": "stderr",
     "output_type": "stream",
     "text": [
      "/Users/taha/Desktop/rag/venv/lib/python3.12/site-packages/whisper/transcribe.py:115: UserWarning: FP16 is not supported on CPU; using FP32 instead\n",
      "  warnings.warn(\"FP16 is not supported on CPU; using FP32 instead\")\n"
     ]
    },
    {
     "name": "stdout",
     "output_type": "stream",
     "text": [
      "Transcription saved for: Telekom： Meine Mobilfunk-Rechnung - Die erste Rechnung nach einem Tarifwechsel.mp3\n"
     ]
    },
    {
     "name": "stderr",
     "output_type": "stream",
     "text": [
      "/Users/taha/Desktop/rag/venv/lib/python3.12/site-packages/whisper/transcribe.py:115: UserWarning: FP16 is not supported on CPU; using FP32 instead\n",
      "  warnings.warn(\"FP16 is not supported on CPU; using FP32 instead\")\n"
     ]
    },
    {
     "name": "stdout",
     "output_type": "stream",
     "text": [
      "Transcription saved for: Festnetz und Handy aus einer Hand - Kennst Du...unsere MeinMagenta App？ I Telekom.mp3\n"
     ]
    },
    {
     "name": "stderr",
     "output_type": "stream",
     "text": [
      "/Users/taha/Desktop/rag/venv/lib/python3.12/site-packages/whisper/transcribe.py:115: UserWarning: FP16 is not supported on CPU; using FP32 instead\n",
      "  warnings.warn(\"FP16 is not supported on CPU; using FP32 instead\")\n"
     ]
    },
    {
     "name": "stdout",
     "output_type": "stream",
     "text": [
      "Transcription saved for: SimpleShow zum Leistungsmerkmal „Proaktives Faultmanagement“.mp3\n"
     ]
    },
    {
     "name": "stderr",
     "output_type": "stream",
     "text": [
      "/Users/taha/Desktop/rag/venv/lib/python3.12/site-packages/whisper/transcribe.py:115: UserWarning: FP16 is not supported on CPU; using FP32 instead\n",
      "  warnings.warn(\"FP16 is not supported on CPU; using FP32 instead\")\n"
     ]
    },
    {
     "name": "stdout",
     "output_type": "stream",
     "text": [
      "Transcription saved for: Kabel durchschnitten？ So läuft das Internet wieder! #shorts #telekom #magenta #hilfe #internet.mp3\n"
     ]
    },
    {
     "name": "stderr",
     "output_type": "stream",
     "text": [
      "/Users/taha/Desktop/rag/venv/lib/python3.12/site-packages/whisper/transcribe.py:115: UserWarning: FP16 is not supported on CPU; using FP32 instead\n",
      "  warnings.warn(\"FP16 is not supported on CPU; using FP32 instead\")\n"
     ]
    },
    {
     "name": "stdout",
     "output_type": "stream",
     "text": [
      "Transcription saved for: Kann ich dein WLAN-Passwort haben？ - Gastwlan!.mp3\n"
     ]
    },
    {
     "name": "stderr",
     "output_type": "stream",
     "text": [
      "/Users/taha/Desktop/rag/venv/lib/python3.12/site-packages/whisper/transcribe.py:115: UserWarning: FP16 is not supported on CPU; using FP32 instead\n",
      "  warnings.warn(\"FP16 is not supported on CPU; using FP32 instead\")\n"
     ]
    },
    {
     "name": "stdout",
     "output_type": "stream",
     "text": [
      "Transcription saved for: Telekom： Digitalisierungsbox Smart 2 - Ersteinrichtung DECT150.mp3\n"
     ]
    },
    {
     "name": "stderr",
     "output_type": "stream",
     "text": [
      "/Users/taha/Desktop/rag/venv/lib/python3.12/site-packages/whisper/transcribe.py:115: UserWarning: FP16 is not supported on CPU; using FP32 instead\n",
      "  warnings.warn(\"FP16 is not supported on CPU; using FP32 instead\")\n"
     ]
    },
    {
     "name": "stdout",
     "output_type": "stream",
     "text": [
      "Transcription saved for: Telekom： Digitalisierungsbox Smart - Einrichtung eines SIP-Trunks im Media Gateway Modus.mp3\n"
     ]
    },
    {
     "name": "stderr",
     "output_type": "stream",
     "text": [
      "/Users/taha/Desktop/rag/venv/lib/python3.12/site-packages/whisper/transcribe.py:115: UserWarning: FP16 is not supported on CPU; using FP32 instead\n",
      "  warnings.warn(\"FP16 is not supported on CPU; using FP32 instead\")\n"
     ]
    },
    {
     "name": "stdout",
     "output_type": "stream",
     "text": [
      "Transcription saved for: Was ist das Telefoniecenter？ #shorts#telekom#telekomhilft.mp3\n"
     ]
    },
    {
     "name": "stderr",
     "output_type": "stream",
     "text": [
      "/Users/taha/Desktop/rag/venv/lib/python3.12/site-packages/whisper/transcribe.py:115: UserWarning: FP16 is not supported on CPU; using FP32 instead\n",
      "  warnings.warn(\"FP16 is not supported on CPU; using FP32 instead\")\n"
     ]
    },
    {
     "name": "stdout",
     "output_type": "stream",
     "text": [
      "Transcription saved for: Enkel-Tipp： Android Smartphone mit WLAN verbinden.mp3\n"
     ]
    },
    {
     "name": "stderr",
     "output_type": "stream",
     "text": [
      "/Users/taha/Desktop/rag/venv/lib/python3.12/site-packages/whisper/transcribe.py:115: UserWarning: FP16 is not supported on CPU; using FP32 instead\n",
      "  warnings.warn(\"FP16 is not supported on CPU; using FP32 instead\")\n"
     ]
    },
    {
     "name": "stdout",
     "output_type": "stream",
     "text": [
      "Transcription saved for: Das optimale WLAN-Netz für MagentaTV I Telekom.mp3\n"
     ]
    },
    {
     "name": "stderr",
     "output_type": "stream",
     "text": [
      "/Users/taha/Desktop/rag/venv/lib/python3.12/site-packages/whisper/transcribe.py:115: UserWarning: FP16 is not supported on CPU; using FP32 instead\n",
      "  warnings.warn(\"FP16 is not supported on CPU; using FP32 instead\")\n"
     ]
    },
    {
     "name": "stdout",
     "output_type": "stream",
     "text": [
      "Transcription saved for: Telekom： DSL-Anschluss einrichten - So geht‘s kinderleicht! #shorts                   👍🎞️🎥👍.mp3\n"
     ]
    },
    {
     "name": "stderr",
     "output_type": "stream",
     "text": [
      "/Users/taha/Desktop/rag/venv/lib/python3.12/site-packages/whisper/transcribe.py:115: UserWarning: FP16 is not supported on CPU; using FP32 instead\n",
      "  warnings.warn(\"FP16 is not supported on CPU; using FP32 instead\")\n"
     ]
    },
    {
     "name": "stdout",
     "output_type": "stream",
     "text": [
      "Transcription saved for: WLAN-Name ändern - Fritzbox und Speedport! #telekom #magenta #wlan #tech #fyp #support #help #change.mp3\n"
     ]
    },
    {
     "name": "stderr",
     "output_type": "stream",
     "text": [
      "/Users/taha/Desktop/rag/venv/lib/python3.12/site-packages/whisper/transcribe.py:115: UserWarning: FP16 is not supported on CPU; using FP32 instead\n",
      "  warnings.warn(\"FP16 is not supported on CPU; using FP32 instead\")\n"
     ]
    },
    {
     "name": "stdout",
     "output_type": "stream",
     "text": [
      "Transcription saved for: Enkel-Tipps： Apps korrekt schließen beim iPhone.mp3\n"
     ]
    },
    {
     "name": "stderr",
     "output_type": "stream",
     "text": [
      "/Users/taha/Desktop/rag/venv/lib/python3.12/site-packages/whisper/transcribe.py:115: UserWarning: FP16 is not supported on CPU; using FP32 instead\n",
      "  warnings.warn(\"FP16 is not supported on CPU; using FP32 instead\")\n"
     ]
    },
    {
     "name": "stdout",
     "output_type": "stream",
     "text": [
      "Transcription saved for: So geht der WLAN Call： Mit dem Smartphone über WLAN telefonieren ｜ Telekom.mp3\n"
     ]
    },
    {
     "name": "stderr",
     "output_type": "stream",
     "text": [
      "/Users/taha/Desktop/rag/venv/lib/python3.12/site-packages/whisper/transcribe.py:115: UserWarning: FP16 is not supported on CPU; using FP32 instead\n",
      "  warnings.warn(\"FP16 is not supported on CPU; using FP32 instead\")\n"
     ]
    },
    {
     "name": "stdout",
     "output_type": "stream",
     "text": [
      "Transcription saved for: Anrufweiterleitung mit der Digitalisierungsbox Smart & Premium einrichten – Schritt-für-Schritt.mp3\n"
     ]
    },
    {
     "name": "stderr",
     "output_type": "stream",
     "text": [
      "/Users/taha/Desktop/rag/venv/lib/python3.12/site-packages/whisper/transcribe.py:115: UserWarning: FP16 is not supported on CPU; using FP32 instead\n",
      "  warnings.warn(\"FP16 is not supported on CPU; using FP32 instead\")\n"
     ]
    },
    {
     "name": "stdout",
     "output_type": "stream",
     "text": [
      "Transcription saved for: Kennst Du...unseren proaktiven Heimnetzservice？ I Telekom.mp3\n"
     ]
    },
    {
     "name": "stderr",
     "output_type": "stream",
     "text": [
      "/Users/taha/Desktop/rag/venv/lib/python3.12/site-packages/whisper/transcribe.py:115: UserWarning: FP16 is not supported on CPU; using FP32 instead\n",
      "  warnings.warn(\"FP16 is not supported on CPU; using FP32 instead\")\n"
     ]
    },
    {
     "name": "stdout",
     "output_type": "stream",
     "text": [
      "Transcription saved for: Telekom： Die beste Verbindung für MagentaTV I Making of #shorts  #magentatv.mp3\n"
     ]
    },
    {
     "name": "stderr",
     "output_type": "stream",
     "text": [
      "/Users/taha/Desktop/rag/venv/lib/python3.12/site-packages/whisper/transcribe.py:115: UserWarning: FP16 is not supported on CPU; using FP32 instead\n",
      "  warnings.warn(\"FP16 is not supported on CPU; using FP32 instead\")\n"
     ]
    },
    {
     "name": "stdout",
     "output_type": "stream",
     "text": [
      "Transcription saved for: Telekom： Microsoft Teams Telefonie in CompanyFlex einrichten.mp3\n"
     ]
    },
    {
     "name": "stderr",
     "output_type": "stream",
     "text": [
      "/Users/taha/Desktop/rag/venv/lib/python3.12/site-packages/whisper/transcribe.py:115: UserWarning: FP16 is not supported on CPU; using FP32 instead\n",
      "  warnings.warn(\"FP16 is not supported on CPU; using FP32 instead\")\n"
     ]
    },
    {
     "name": "stdout",
     "output_type": "stream",
     "text": [
      "Transcription saved for: Digitalisierungbox Premium - Einrichten einer DECT150 Basisstation.mp3\n"
     ]
    },
    {
     "name": "stderr",
     "output_type": "stream",
     "text": [
      "/Users/taha/Desktop/rag/venv/lib/python3.12/site-packages/whisper/transcribe.py:115: UserWarning: FP16 is not supported on CPU; using FP32 instead\n",
      "  warnings.warn(\"FP16 is not supported on CPU; using FP32 instead\")\n"
     ]
    },
    {
     "name": "stdout",
     "output_type": "stream",
     "text": [
      "Transcription saved for: CompanyFlex SIP-Trunk - Ersteinrichtung.mp3\n"
     ]
    },
    {
     "name": "stderr",
     "output_type": "stream",
     "text": [
      "/Users/taha/Desktop/rag/venv/lib/python3.12/site-packages/whisper/transcribe.py:115: UserWarning: FP16 is not supported on CPU; using FP32 instead\n",
      "  warnings.warn(\"FP16 is not supported on CPU; using FP32 instead\")\n"
     ]
    },
    {
     "name": "stdout",
     "output_type": "stream",
     "text": [
      "Transcription saved for: Kuriose Kundennachrichten … #shorts #telekom #magenta #comedy #jokes #funny #fyp #like #follow.mp3\n"
     ]
    },
    {
     "name": "stderr",
     "output_type": "stream",
     "text": [
      "/Users/taha/Desktop/rag/venv/lib/python3.12/site-packages/whisper/transcribe.py:115: UserWarning: FP16 is not supported on CPU; using FP32 instead\n",
      "  warnings.warn(\"FP16 is not supported on CPU; using FP32 instead\")\n"
     ]
    },
    {
     "name": "stdout",
     "output_type": "stream",
     "text": [
      "Transcription saved for: So erkennt ihr von der Telekom autorisierte Verkäufer＊innen.mp3\n"
     ]
    },
    {
     "name": "stderr",
     "output_type": "stream",
     "text": [
      "/Users/taha/Desktop/rag/venv/lib/python3.12/site-packages/whisper/transcribe.py:115: UserWarning: FP16 is not supported on CPU; using FP32 instead\n",
      "  warnings.warn(\"FP16 is not supported on CPU; using FP32 instead\")\n"
     ]
    },
    {
     "name": "stdout",
     "output_type": "stream",
     "text": [
      "Transcription saved for: Digitalisierungsbox Premium 2 - Einrichtung IP-Systemtelefon.mp3\n"
     ]
    },
    {
     "name": "stderr",
     "output_type": "stream",
     "text": [
      "/Users/taha/Desktop/rag/venv/lib/python3.12/site-packages/whisper/transcribe.py:115: UserWarning: FP16 is not supported on CPU; using FP32 instead\n",
      "  warnings.warn(\"FP16 is not supported on CPU; using FP32 instead\")\n"
     ]
    },
    {
     "name": "stdout",
     "output_type": "stream",
     "text": [
      "Transcription saved for: Magenta Thermostat： Dein smarter Heizungshelfer!#shorts #telekom #magenta #hilfe #thermostat #heizen.mp3\n"
     ]
    },
    {
     "name": "stderr",
     "output_type": "stream",
     "text": [
      "/Users/taha/Desktop/rag/venv/lib/python3.12/site-packages/whisper/transcribe.py:115: UserWarning: FP16 is not supported on CPU; using FP32 instead\n",
      "  warnings.warn(\"FP16 is not supported on CPU; using FP32 instead\")\n"
     ]
    },
    {
     "name": "stdout",
     "output_type": "stream",
     "text": [
      "Transcription saved for: MagentaTV： Schneller auswählen und steuern mit Sprachsteuerung.mp3\n"
     ]
    },
    {
     "name": "stderr",
     "output_type": "stream",
     "text": [
      "/Users/taha/Desktop/rag/venv/lib/python3.12/site-packages/whisper/transcribe.py:115: UserWarning: FP16 is not supported on CPU; using FP32 instead\n",
      "  warnings.warn(\"FP16 is not supported on CPU; using FP32 instead\")\n"
     ]
    },
    {
     "name": "stdout",
     "output_type": "stream",
     "text": [
      "Transcription saved for: Telekom： Hybrid 5G⧸LTE der Turbo für dein Internet (1⧸3).mp3\n"
     ]
    },
    {
     "name": "stderr",
     "output_type": "stream",
     "text": [
      "/Users/taha/Desktop/rag/venv/lib/python3.12/site-packages/whisper/transcribe.py:115: UserWarning: FP16 is not supported on CPU; using FP32 instead\n",
      "  warnings.warn(\"FP16 is not supported on CPU; using FP32 instead\")\n"
     ]
    },
    {
     "name": "stdout",
     "output_type": "stream",
     "text": [
      "Transcription saved for: Die optimalen Einstellungen am Smart-TV für MagentaTV.mp3\n"
     ]
    },
    {
     "name": "stderr",
     "output_type": "stream",
     "text": [
      "/Users/taha/Desktop/rag/venv/lib/python3.12/site-packages/whisper/transcribe.py:115: UserWarning: FP16 is not supported on CPU; using FP32 instead\n",
      "  warnings.warn(\"FP16 is not supported on CPU; using FP32 instead\")\n"
     ]
    },
    {
     "name": "stdout",
     "output_type": "stream",
     "text": [
      "Transcription saved for: Erste Hilfe bei Internetstörungen #telekom #magenta #wlan #problem #help #fyp #tech #support #like.mp3\n"
     ]
    },
    {
     "name": "stderr",
     "output_type": "stream",
     "text": [
      "/Users/taha/Desktop/rag/venv/lib/python3.12/site-packages/whisper/transcribe.py:115: UserWarning: FP16 is not supported on CPU; using FP32 instead\n",
      "  warnings.warn(\"FP16 is not supported on CPU; using FP32 instead\")\n"
     ]
    },
    {
     "name": "stdout",
     "output_type": "stream",
     "text": [
      "Transcription saved for: Telekom： Wegfall Nebenkostenprivileg - MagentaTV statt Kabel-TV I Making of #shorts.mp3\n"
     ]
    },
    {
     "name": "stderr",
     "output_type": "stream",
     "text": [
      "/Users/taha/Desktop/rag/venv/lib/python3.12/site-packages/whisper/transcribe.py:115: UserWarning: FP16 is not supported on CPU; using FP32 instead\n",
      "  warnings.warn(\"FP16 is not supported on CPU; using FP32 instead\")\n"
     ]
    },
    {
     "name": "stdout",
     "output_type": "stream",
     "text": [
      "Transcription saved for: So geht WLAN mit Telekom Speedport： Funktionen und Einstellungen im Überblick.mp3\n"
     ]
    },
    {
     "name": "stderr",
     "output_type": "stream",
     "text": [
      "/Users/taha/Desktop/rag/venv/lib/python3.12/site-packages/whisper/transcribe.py:115: UserWarning: FP16 is not supported on CPU; using FP32 instead\n",
      "  warnings.warn(\"FP16 is not supported on CPU; using FP32 instead\")\n"
     ]
    },
    {
     "name": "stdout",
     "output_type": "stream",
     "text": [
      "Transcription saved for: Enkel-Tipp： Schriftgröße anpassen iPhone.mp3\n"
     ]
    },
    {
     "name": "stderr",
     "output_type": "stream",
     "text": [
      "/Users/taha/Desktop/rag/venv/lib/python3.12/site-packages/whisper/transcribe.py:115: UserWarning: FP16 is not supported on CPU; using FP32 instead\n",
      "  warnings.warn(\"FP16 is not supported on CPU; using FP32 instead\")\n"
     ]
    },
    {
     "name": "stdout",
     "output_type": "stream",
     "text": [
      "Transcription saved for: Telekom hilft News： Dein Wechsel zu MagentaTV - einfach erklärt.mp3\n"
     ]
    },
    {
     "name": "stderr",
     "output_type": "stream",
     "text": [
      "/Users/taha/Desktop/rag/venv/lib/python3.12/site-packages/whisper/transcribe.py:115: UserWarning: FP16 is not supported on CPU; using FP32 instead\n",
      "  warnings.warn(\"FP16 is not supported on CPU; using FP32 instead\")\n"
     ]
    },
    {
     "name": "stdout",
     "output_type": "stream",
     "text": [
      "Transcription saved for: Telekom： Digitalisierungsbox Smart & Premium -  VPN Site-to-Site zwischen zwei Digitalisierungsboxen.mp3\n"
     ]
    },
    {
     "name": "stderr",
     "output_type": "stream",
     "text": [
      "/Users/taha/Desktop/rag/venv/lib/python3.12/site-packages/whisper/transcribe.py:115: UserWarning: FP16 is not supported on CPU; using FP32 instead\n",
      "  warnings.warn(\"FP16 is not supported on CPU; using FP32 instead\")\n"
     ]
    },
    {
     "name": "stdout",
     "output_type": "stream",
     "text": [
      "Transcription saved for: Online-Ident - Verträge von Zuhause mit der NECT-App bestätigen #shorts #telekom #telekomhilft.mp3\n"
     ]
    },
    {
     "name": "stderr",
     "output_type": "stream",
     "text": [
      "/Users/taha/Desktop/rag/venv/lib/python3.12/site-packages/whisper/transcribe.py:115: UserWarning: FP16 is not supported on CPU; using FP32 instead\n",
      "  warnings.warn(\"FP16 is not supported on CPU; using FP32 instead\")\n"
     ]
    },
    {
     "name": "stdout",
     "output_type": "stream",
     "text": [
      "Transcription saved for: Störung bei der Telekom melden – So einfach geht's!.mp3\n"
     ]
    },
    {
     "name": "stderr",
     "output_type": "stream",
     "text": [
      "/Users/taha/Desktop/rag/venv/lib/python3.12/site-packages/whisper/transcribe.py:115: UserWarning: FP16 is not supported on CPU; using FP32 instead\n",
      "  warnings.warn(\"FP16 is not supported on CPU; using FP32 instead\")\n"
     ]
    },
    {
     "name": "stdout",
     "output_type": "stream",
     "text": [
      "Transcription saved for: Telekom： Digibox Smart 2 + Premium 2 – Client-to-Site mit dem bintec Secure IPSec Client.mp3\n"
     ]
    },
    {
     "name": "stderr",
     "output_type": "stream",
     "text": [
      "/Users/taha/Desktop/rag/venv/lib/python3.12/site-packages/whisper/transcribe.py:115: UserWarning: FP16 is not supported on CPU; using FP32 instead\n",
      "  warnings.warn(\"FP16 is not supported on CPU; using FP32 instead\")\n"
     ]
    },
    {
     "name": "stdout",
     "output_type": "stream",
     "text": [
      "Transcription saved for: Digitalisierungsbox Smart & Premium - End-to-Site VPN mit einem Android Mobile Device einrichten.mp3\n"
     ]
    },
    {
     "name": "stderr",
     "output_type": "stream",
     "text": [
      "/Users/taha/Desktop/rag/venv/lib/python3.12/site-packages/whisper/transcribe.py:115: UserWarning: FP16 is not supported on CPU; using FP32 instead\n",
      "  warnings.warn(\"FP16 is not supported on CPU; using FP32 instead\")\n"
     ]
    },
    {
     "name": "stdout",
     "output_type": "stream",
     "text": [
      "Transcription saved for: Hast Du schon die Mein Magenta App？.mp3\n"
     ]
    },
    {
     "name": "stderr",
     "output_type": "stream",
     "text": [
      "/Users/taha/Desktop/rag/venv/lib/python3.12/site-packages/whisper/transcribe.py:115: UserWarning: FP16 is not supported on CPU; using FP32 instead\n",
      "  warnings.warn(\"FP16 is not supported on CPU; using FP32 instead\")\n"
     ]
    },
    {
     "name": "stdout",
     "output_type": "stream",
     "text": [
      "Transcription saved for: Kennst du schon das Kundencenter？ Tipps und Funktionen einfach erklärt.mp3\n"
     ]
    },
    {
     "name": "stderr",
     "output_type": "stream",
     "text": [
      "/Users/taha/Desktop/rag/venv/lib/python3.12/site-packages/whisper/transcribe.py:115: UserWarning: FP16 is not supported on CPU; using FP32 instead\n",
      "  warnings.warn(\"FP16 is not supported on CPU; using FP32 instead\")\n"
     ]
    },
    {
     "name": "stdout",
     "output_type": "stream",
     "text": [
      "Transcription saved for: Beste WLAN-Verbindung bei dir Zuhause! #telekom #wlan #netzwerk  #magenta #trending #help #tips #fyp.mp3\n"
     ]
    },
    {
     "name": "stderr",
     "output_type": "stream",
     "text": [
      "/Users/taha/Desktop/rag/venv/lib/python3.12/site-packages/whisper/transcribe.py:115: UserWarning: FP16 is not supported on CPU; using FP32 instead\n",
      "  warnings.warn(\"FP16 is not supported on CPU; using FP32 instead\")\n"
     ]
    },
    {
     "name": "stdout",
     "output_type": "stream",
     "text": [
      "Transcription saved for: Digitalisierungsbox Smart & Premium - Session Border Controller mit Unify OSBiz.mp3\n"
     ]
    },
    {
     "name": "stderr",
     "output_type": "stream",
     "text": [
      "/Users/taha/Desktop/rag/venv/lib/python3.12/site-packages/whisper/transcribe.py:115: UserWarning: FP16 is not supported on CPU; using FP32 instead\n",
      "  warnings.warn(\"FP16 is not supported on CPU; using FP32 instead\")\n"
     ]
    },
    {
     "name": "stdout",
     "output_type": "stream",
     "text": [
      "Transcription saved for: Videokonferenzen mit Zoom durchführen – Schritt-für-Schritt Anleitung I Telekom Senioren-Akademie.mp3\n"
     ]
    },
    {
     "name": "stderr",
     "output_type": "stream",
     "text": [
      "/Users/taha/Desktop/rag/venv/lib/python3.12/site-packages/whisper/transcribe.py:115: UserWarning: FP16 is not supported on CPU; using FP32 instead\n",
      "  warnings.warn(\"FP16 is not supported on CPU; using FP32 instead\")\n"
     ]
    },
    {
     "name": "stdout",
     "output_type": "stream",
     "text": [
      "Transcription saved for: Suchmaschinenoptimierung für Ihre Webseite–Besser gefunden werden mit Homepage-Baukasten der Telekom.mp3\n"
     ]
    },
    {
     "name": "stderr",
     "output_type": "stream",
     "text": [
      "/Users/taha/Desktop/rag/venv/lib/python3.12/site-packages/whisper/transcribe.py:115: UserWarning: FP16 is not supported on CPU; using FP32 instead\n",
      "  warnings.warn(\"FP16 is not supported on CPU; using FP32 instead\")\n"
     ]
    },
    {
     "name": "stdout",
     "output_type": "stream",
     "text": [
      "Transcription saved for: Telekom hilft News： Installation der MagentaTV App an eurem Smart TV.mp3\n"
     ]
    },
    {
     "name": "stderr",
     "output_type": "stream",
     "text": [
      "/Users/taha/Desktop/rag/venv/lib/python3.12/site-packages/whisper/transcribe.py:115: UserWarning: FP16 is not supported on CPU; using FP32 instead\n",
      "  warnings.warn(\"FP16 is not supported on CPU; using FP32 instead\")\n"
     ]
    },
    {
     "name": "stdout",
     "output_type": "stream",
     "text": [
      "Transcription saved for: Bezahlen per Handyrechnung – so funktioniert´s Schritt für Schritt bei Android-Geräten I Telekom.mp3\n"
     ]
    },
    {
     "name": "stderr",
     "output_type": "stream",
     "text": [
      "/Users/taha/Desktop/rag/venv/lib/python3.12/site-packages/whisper/transcribe.py:115: UserWarning: FP16 is not supported on CPU; using FP32 instead\n",
      "  warnings.warn(\"FP16 is not supported on CPU; using FP32 instead\")\n"
     ]
    },
    {
     "name": "stdout",
     "output_type": "stream",
     "text": [
      "Transcription saved for: Digitale Organisation mit iOS-Geräten – Adressbuch, Kalender und Co. I Telekom Senioren-Akademie.mp3\n"
     ]
    },
    {
     "name": "stderr",
     "output_type": "stream",
     "text": [
      "/Users/taha/Desktop/rag/venv/lib/python3.12/site-packages/whisper/transcribe.py:115: UserWarning: FP16 is not supported on CPU; using FP32 instead\n",
      "  warnings.warn(\"FP16 is not supported on CPU; using FP32 instead\")\n"
     ]
    },
    {
     "name": "stdout",
     "output_type": "stream",
     "text": [
      "Transcription saved for: MeinMagenta App： Halte dein Datenvolumen im Blick! #shorts #magenta #telekom #diy #fyp #technology.mp3\n"
     ]
    },
    {
     "name": "stderr",
     "output_type": "stream",
     "text": [
      "/Users/taha/Desktop/rag/venv/lib/python3.12/site-packages/whisper/transcribe.py:115: UserWarning: FP16 is not supported on CPU; using FP32 instead\n",
      "  warnings.warn(\"FP16 is not supported on CPU; using FP32 instead\")\n"
     ]
    },
    {
     "name": "stdout",
     "output_type": "stream",
     "text": [
      "Transcription saved for: Enkel-Tipps： So finden Sie den nächstgelegenen Telekom Shop.mp3\n"
     ]
    },
    {
     "name": "stderr",
     "output_type": "stream",
     "text": [
      "/Users/taha/Desktop/rag/venv/lib/python3.12/site-packages/whisper/transcribe.py:115: UserWarning: FP16 is not supported on CPU; using FP32 instead\n",
      "  warnings.warn(\"FP16 is not supported on CPU; using FP32 instead\")\n"
     ]
    },
    {
     "name": "stdout",
     "output_type": "stream",
     "text": [
      "Transcription saved for: Angriffe aus dem Netz - Schutz vor'm Phishing! #shorts #telekom #magenta #security #fußball #5g.mp3\n"
     ]
    },
    {
     "name": "stderr",
     "output_type": "stream",
     "text": [
      "/Users/taha/Desktop/rag/venv/lib/python3.12/site-packages/whisper/transcribe.py:115: UserWarning: FP16 is not supported on CPU; using FP32 instead\n",
      "  warnings.warn(\"FP16 is not supported on CPU; using FP32 instead\")\n"
     ]
    },
    {
     "name": "stdout",
     "output_type": "stream",
     "text": [
      "Transcription saved for: PIN oder PUK vergessen？! Keine Panik - Wir helfen Dir! #shorts #telekom #hilfe #magenta #pin #puk.mp3\n"
     ]
    },
    {
     "name": "stderr",
     "output_type": "stream",
     "text": [
      "/Users/taha/Desktop/rag/venv/lib/python3.12/site-packages/whisper/transcribe.py:115: UserWarning: FP16 is not supported on CPU; using FP32 instead\n",
      "  warnings.warn(\"FP16 is not supported on CPU; using FP32 instead\")\n"
     ]
    },
    {
     "name": "stdout",
     "output_type": "stream",
     "text": [
      "Transcription saved for: Störung？ Diagnose selbst durchführen - kinderleicht..mp3\n"
     ]
    },
    {
     "name": "stderr",
     "output_type": "stream",
     "text": [
      "/Users/taha/Desktop/rag/venv/lib/python3.12/site-packages/whisper/transcribe.py:115: UserWarning: FP16 is not supported on CPU; using FP32 instead\n",
      "  warnings.warn(\"FP16 is not supported on CPU; using FP32 instead\")\n"
     ]
    },
    {
     "name": "stdout",
     "output_type": "stream",
     "text": [
      "Transcription saved for: Telekom： Digitalisierungsbox Smart 2 & Premium 2 - Einrichtung Gäste-WLAN.mp3\n"
     ]
    },
    {
     "name": "stderr",
     "output_type": "stream",
     "text": [
      "/Users/taha/Desktop/rag/venv/lib/python3.12/site-packages/whisper/transcribe.py:115: UserWarning: FP16 is not supported on CPU; using FP32 instead\n",
      "  warnings.warn(\"FP16 is not supported on CPU; using FP32 instead\")\n"
     ]
    },
    {
     "name": "stdout",
     "output_type": "stream",
     "text": [
      "Transcription saved for: MagentaTV Sprachsteuerung： So nutzt du die Sprachbefehle effektiv.mp3\n"
     ]
    },
    {
     "name": "stderr",
     "output_type": "stream",
     "text": [
      "/Users/taha/Desktop/rag/venv/lib/python3.12/site-packages/whisper/transcribe.py:115: UserWarning: FP16 is not supported on CPU; using FP32 instead\n",
      "  warnings.warn(\"FP16 is not supported on CPU; using FP32 instead\")\n"
     ]
    },
    {
     "name": "stdout",
     "output_type": "stream",
     "text": [
      "Transcription saved for: Magenta TV Sprachsteuerung - So einfach geht's.mp3\n"
     ]
    },
    {
     "name": "stderr",
     "output_type": "stream",
     "text": [
      "/Users/taha/Desktop/rag/venv/lib/python3.12/site-packages/whisper/transcribe.py:115: UserWarning: FP16 is not supported on CPU; using FP32 instead\n",
      "  warnings.warn(\"FP16 is not supported on CPU; using FP32 instead\")\n"
     ]
    },
    {
     "name": "stdout",
     "output_type": "stream",
     "text": [
      "Transcription saved for: SimpleShow： Mitwirkungspflichten bei der Bereitstellung von Übertragungswegen.mp3\n"
     ]
    },
    {
     "name": "stderr",
     "output_type": "stream",
     "text": [
      "/Users/taha/Desktop/rag/venv/lib/python3.12/site-packages/whisper/transcribe.py:115: UserWarning: FP16 is not supported on CPU; using FP32 instead\n",
      "  warnings.warn(\"FP16 is not supported on CPU; using FP32 instead\")\n"
     ]
    },
    {
     "name": "stdout",
     "output_type": "stream",
     "text": [
      "Transcription saved for: Telekom： Digitalisierungsbox Smart -  Einrichtung eines DECT150.mp3\n"
     ]
    },
    {
     "name": "stderr",
     "output_type": "stream",
     "text": [
      "/Users/taha/Desktop/rag/venv/lib/python3.12/site-packages/whisper/transcribe.py:115: UserWarning: FP16 is not supported on CPU; using FP32 instead\n",
      "  warnings.warn(\"FP16 is not supported on CPU; using FP32 instead\")\n"
     ]
    },
    {
     "name": "stdout",
     "output_type": "stream",
     "text": [
      "Transcription saved for: Rundumservice für Router, WLAN, Internet und Magenta TV – Kennst Du…die Persönliche Installation？.mp3\n"
     ]
    },
    {
     "name": "stderr",
     "output_type": "stream",
     "text": [
      "/Users/taha/Desktop/rag/venv/lib/python3.12/site-packages/whisper/transcribe.py:115: UserWarning: FP16 is not supported on CPU; using FP32 instead\n",
      "  warnings.warn(\"FP16 is not supported on CPU; using FP32 instead\")\n"
     ]
    },
    {
     "name": "stdout",
     "output_type": "stream",
     "text": [
      "Transcription saved for: Enkel-Tipp： Wecker stellen beim iPhone.mp3\n"
     ]
    },
    {
     "name": "stderr",
     "output_type": "stream",
     "text": [
      "/Users/taha/Desktop/rag/venv/lib/python3.12/site-packages/whisper/transcribe.py:115: UserWarning: FP16 is not supported on CPU; using FP32 instead\n",
      "  warnings.warn(\"FP16 is not supported on CPU; using FP32 instead\")\n"
     ]
    },
    {
     "name": "stdout",
     "output_type": "stream",
     "text": [
      "Transcription saved for: Telekom： Digitalisierungsbox Premium 2 - Ersteinrichtung DECT160.mp3\n"
     ]
    },
    {
     "name": "stderr",
     "output_type": "stream",
     "text": [
      "/Users/taha/Desktop/rag/venv/lib/python3.12/site-packages/whisper/transcribe.py:115: UserWarning: FP16 is not supported on CPU; using FP32 instead\n",
      "  warnings.warn(\"FP16 is not supported on CPU; using FP32 instead\")\n"
     ]
    },
    {
     "name": "stdout",
     "output_type": "stream",
     "text": [
      "Transcription saved for: Digitalisierungbox Smart - Media Gateway： Einfache Einrichtung über den Telefonie Assistenten.mp3\n"
     ]
    },
    {
     "name": "stderr",
     "output_type": "stream",
     "text": [
      "/Users/taha/Desktop/rag/venv/lib/python3.12/site-packages/whisper/transcribe.py:115: UserWarning: FP16 is not supported on CPU; using FP32 instead\n",
      "  warnings.warn(\"FP16 is not supported on CPU; using FP32 instead\")\n"
     ]
    },
    {
     "name": "stdout",
     "output_type": "stream",
     "text": [
      "Transcription saved for: Online-Identifikation： So identifizierst du dich einfach online I Telekom.mp3\n"
     ]
    },
    {
     "name": "stderr",
     "output_type": "stream",
     "text": [
      "/Users/taha/Desktop/rag/venv/lib/python3.12/site-packages/whisper/transcribe.py:115: UserWarning: FP16 is not supported on CPU; using FP32 instead\n",
      "  warnings.warn(\"FP16 is not supported on CPU; using FP32 instead\")\n"
     ]
    },
    {
     "name": "stdout",
     "output_type": "stream",
     "text": [
      "Transcription saved for: 6 WLAN-Tipps gegen Störenfriede! #shorts #telekom #magenta #hilfe #wlan #störung #signal.mp3\n"
     ]
    },
    {
     "name": "stderr",
     "output_type": "stream",
     "text": [
      "/Users/taha/Desktop/rag/venv/lib/python3.12/site-packages/whisper/transcribe.py:115: UserWarning: FP16 is not supported on CPU; using FP32 instead\n",
      "  warnings.warn(\"FP16 is not supported on CPU; using FP32 instead\")\n"
     ]
    },
    {
     "name": "stdout",
     "output_type": "stream",
     "text": [
      "Transcription saved for: Digitalisierungsbox Premium - Schnelle Einrichtung eines SIP-Trunks im Media Gateway Modus.mp3\n"
     ]
    },
    {
     "name": "stderr",
     "output_type": "stream",
     "text": [
      "/Users/taha/Desktop/rag/venv/lib/python3.12/site-packages/whisper/transcribe.py:115: UserWarning: FP16 is not supported on CPU; using FP32 instead\n",
      "  warnings.warn(\"FP16 is not supported on CPU; using FP32 instead\")\n"
     ]
    },
    {
     "name": "stdout",
     "output_type": "stream",
     "text": [
      "Transcription saved for: Telekom： MagentaTV statt Kabel-TV - Wegfall Nebenkostenprivileg.mp3\n"
     ]
    }
   ],
   "source": [
    "# transcribe_mp3_files.ipynb\n",
    "\n",
    "import os\n",
    "import whisper\n",
    "from pydub import AudioSegment\n",
    "\n",
    "# Define paths for input and output folders\n",
    "mp3_folder = 'data/mp3_files'  # Folder containing the MP3 files to be processed\n",
    "wav_folder = 'data/wav_files'  # Folder where converted WAV files will be saved\n",
    "transcript_folder = 'data/transcripts'  # Folder where transcriptions will be saved\n",
    "\n",
    "# Create necessary folders if they do not exist\n",
    "os.makedirs(wav_folder, exist_ok=True)  # Create the WAV files folder if it does not exist\n",
    "os.makedirs(transcript_folder, exist_ok=True)  # Create the transcripts folder if it does not exist\n",
    "\n",
    "# Load the Whisper model for transcription\n",
    "model = whisper.load_model(\"base\")\n",
    "\n",
    "# Function to convert MP3 file to WAV format\n",
    "def convert_mp3_to_wav(mp3_path, wav_path):\n",
    "    \"\"\"\n",
    "    Convert an MP3 file to WAV format using the AudioSegment module.\n",
    "    \n",
    "    Parameters:\n",
    "    mp3_path (str): Path to the input MP3 file.\n",
    "    wav_path (str): Path where the output WAV file will be saved.\n",
    "    \"\"\"\n",
    "    audio = AudioSegment.from_mp3(mp3_path)  # Load MP3 file\n",
    "    audio.export(wav_path, format='wav')  # Export as WAV file\n",
    "\n",
    "# Function to transcribe audio file in WAV format\n",
    "def transcribe_audio(wav_path):\n",
    "    \"\"\"\n",
    "    Transcribe the audio from a WAV file using the Whisper model.\n",
    "    \n",
    "    Parameters:\n",
    "    wav_path (str): Path to the WAV file to be transcribed.\n",
    "    \n",
    "    Returns:\n",
    "    str: Transcribed text from the audio file.\n",
    "    \"\"\"\n",
    "    result = model.transcribe(wav_path)  # Transcribe the WAV file\n",
    "    return result['text']  # Return the transcribed text\n",
    "\n",
    "# Process each MP3 file in the specified folder\n",
    "for mp3_file in os.listdir(mp3_folder):\n",
    "    if mp3_file.endswith('.mp3'):  # Check if the file has an MP3 extension\n",
    "        mp3_path = os.path.join(mp3_folder, mp3_file)  # Full path to the MP3 file\n",
    "        wav_file = mp3_file.replace('.mp3', '.wav')  # Generate the WAV filename\n",
    "        wav_path = os.path.join(wav_folder, wav_file)  # Full path to the WAV file\n",
    "        transcript_file = mp3_file.replace('.mp3', '.txt')  # Generate the transcript filename\n",
    "        transcript_path = os.path.join(transcript_folder, transcript_file)  # Full path to the transcript file\n",
    "        \n",
    "        # Convert MP3 file to WAV format\n",
    "        convert_mp3_to_wav(mp3_path, wav_path)\n",
    "        \n",
    "        # Transcribe the WAV file\n",
    "        transcript = transcribe_audio(wav_path)\n",
    "        \n",
    "        # Save the transcription to a text file\n",
    "        with open(transcript_path, 'w') as f:\n",
    "            f.write(transcript)\n",
    "        \n",
    "        # Print a message indicating that the transcription has been saved\n",
    "        print(f\"Transcription saved for: {mp3_file}\")\n"
   ]
  },
  {
   "cell_type": "markdown",
   "metadata": {},
   "source": [
    "# Youtube QA generated via gpt-4\n",
    "## 'data/transcripts.' kaynagi önemli"
   ]
  },
  {
   "cell_type": "code",
   "execution_count": 1,
   "metadata": {},
   "outputs": [
    {
     "name": "stderr",
     "output_type": "stream",
     "text": [
      "2024-09-01 22:45:31,260 - INFO - HTTP Request: POST https://api.openai.com/v1/chat/completions \"HTTP/1.1 200 OK\"\n",
      "2024-09-01 22:45:44,725 - INFO - HTTP Request: POST https://api.openai.com/v1/chat/completions \"HTTP/1.1 200 OK\"\n",
      "2024-09-01 22:45:45,743 - INFO - HTTP Request: POST https://api.openai.com/v1/chat/completions \"HTTP/1.1 200 OK\"\n",
      "2024-09-01 22:45:45,748 - INFO - Processed WLAN-Namen ändern： So geht's beim Speedport ｜ Telekom.txt and saved to /Users/taha/Desktop/rag/data/Internet & Telefonie/youtube_WLAN-Namen ändern： So geht's beim Speedport ｜ Telekom.txt\n",
      "2024-09-01 22:45:46,590 - INFO - HTTP Request: POST https://api.openai.com/v1/chat/completions \"HTTP/1.1 200 OK\"\n",
      "2024-09-01 22:45:57,314 - INFO - HTTP Request: POST https://api.openai.com/v1/chat/completions \"HTTP/1.1 200 OK\"\n",
      "2024-09-01 22:45:59,055 - INFO - HTTP Request: POST https://api.openai.com/v1/chat/completions \"HTTP/1.1 200 OK\"\n",
      "2024-09-01 22:45:59,059 - INFO - Processed Telekom： Digitalisierungsbox Smart 2 & Premium 2 - Einrichtung Dual-WAN.txt and saved to /Users/taha/Desktop/rag/data/Internet & Telefonie/youtube_Telekom： Digitalisierungsbox Smart 2 & Premium 2 - Einrichtung Dual-WAN.txt\n",
      "2024-09-01 22:45:59,874 - INFO - HTTP Request: POST https://api.openai.com/v1/chat/completions \"HTTP/1.1 200 OK\"\n",
      "2024-09-01 22:46:04,688 - INFO - HTTP Request: POST https://api.openai.com/v1/chat/completions \"HTTP/1.1 200 OK\"\n",
      "2024-09-01 22:46:06,429 - INFO - HTTP Request: POST https://api.openai.com/v1/chat/completions \"HTTP/1.1 200 OK\"\n",
      "2024-09-01 22:46:06,434 - INFO - Processed WLAN fest verriegelt： Deine Sicherheitscheckliste! #shorts #telekom #magenta #hilfe #wlan #security.txt and saved to /Users/taha/Desktop/rag/data/Hilfe bei Störungen/youtube_WLAN fest verriegelt： Deine Sicherheitscheckliste! #shorts #telekom #magenta #hilfe #wlan #security.txt\n",
      "2024-09-01 22:46:07,193 - INFO - HTTP Request: POST https://api.openai.com/v1/chat/completions \"HTTP/1.1 200 OK\"\n",
      "2024-09-01 22:46:19,435 - INFO - HTTP Request: POST https://api.openai.com/v1/chat/completions \"HTTP/1.1 200 OK\"\n",
      "2024-09-01 22:46:20,663 - INFO - HTTP Request: POST https://api.openai.com/v1/chat/completions \"HTTP/1.1 200 OK\"\n",
      "2024-09-01 22:46:20,669 - INFO - Processed Deine erste Telekom Rechnung - Wir erklären dir die Details.txt and saved to /Users/taha/Desktop/rag/data/Vertrag & Rechnung/youtube_Deine erste Telekom Rechnung - Wir erklären dir die Details.txt\n",
      "2024-09-01 22:46:21,379 - INFO - HTTP Request: POST https://api.openai.com/v1/chat/completions \"HTTP/1.1 200 OK\"\n",
      "2024-09-01 22:46:31,496 - INFO - HTTP Request: POST https://api.openai.com/v1/chat/completions \"HTTP/1.1 200 OK\"\n",
      "2024-09-01 22:46:33,052 - INFO - HTTP Request: POST https://api.openai.com/v1/chat/completions \"HTTP/1.1 200 OK\"\n",
      "2024-09-01 22:46:33,056 - INFO - Processed Telekom： Die beste Verbindung für MagentaTV (1⧸3).txt and saved to /Users/taha/Desktop/rag/data/Hilfe bei Störungen/youtube_Telekom： Die beste Verbindung für MagentaTV (1⧸3).txt\n",
      "2024-09-01 22:46:33,643 - INFO - HTTP Request: POST https://api.openai.com/v1/chat/completions \"HTTP/1.1 200 OK\"\n",
      "2024-09-01 22:46:42,371 - INFO - HTTP Request: POST https://api.openai.com/v1/chat/completions \"HTTP/1.1 200 OK\"\n",
      "2024-09-01 22:46:43,906 - INFO - HTTP Request: POST https://api.openai.com/v1/chat/completions \"HTTP/1.1 200 OK\"\n",
      "2024-09-01 22:46:43,910 - INFO - Processed Einfache Einrichtung von Apple TV 4K mit MagentaTV： Tipps und Tricks.txt and saved to /Users/taha/Desktop/rag/data/TV/youtube_Einfache Einrichtung von Apple TV 4K mit MagentaTV： Tipps und Tricks.txt\n",
      "2024-09-01 22:46:45,341 - INFO - HTTP Request: POST https://api.openai.com/v1/chat/completions \"HTTP/1.1 200 OK\"\n",
      "2024-09-01 22:47:03,571 - INFO - HTTP Request: POST https://api.openai.com/v1/chat/completions \"HTTP/1.1 200 OK\"\n",
      "2024-09-01 22:47:05,719 - INFO - HTTP Request: POST https://api.openai.com/v1/chat/completions \"HTTP/1.1 200 OK\"\n",
      "2024-09-01 22:47:05,723 - INFO - Processed Telekom： Digitalisierungsbox Premium - Einrichtung eines SIP-Trunks im PBX-Modus.txt and saved to /Users/taha/Desktop/rag/data/Hilfe bei Störungen/youtube_Telekom： Digitalisierungsbox Premium - Einrichtung eines SIP-Trunks im PBX-Modus.txt\n",
      "2024-09-01 22:47:06,538 - INFO - HTTP Request: POST https://api.openai.com/v1/chat/completions \"HTTP/1.1 200 OK\"\n",
      "2024-09-01 22:47:21,587 - INFO - HTTP Request: POST https://api.openai.com/v1/chat/completions \"HTTP/1.1 200 OK\"\n",
      "2024-09-01 22:47:23,393 - INFO - HTTP Request: POST https://api.openai.com/v1/chat/completions \"HTTP/1.1 200 OK\"\n",
      "2024-09-01 22:47:23,396 - INFO - Processed Telekom： Digitalisierungsbox Premium - Einrichtung eines bintec elmeg IP-Telefons – REV2.txt and saved to /Users/taha/Desktop/rag/data/Internet & Telefonie/youtube_Telekom： Digitalisierungsbox Premium - Einrichtung eines bintec elmeg IP-Telefons – REV2.txt\n",
      "2024-09-01 22:47:24,252 - INFO - HTTP Request: POST https://api.openai.com/v1/chat/completions \"HTTP/1.1 200 OK\"\n",
      "2024-09-01 22:47:28,251 - INFO - HTTP Request: POST https://api.openai.com/v1/chat/completions \"HTTP/1.1 200 OK\"\n",
      "2024-09-01 22:47:29,451 - INFO - HTTP Request: POST https://api.openai.com/v1/chat/completions \"HTTP/1.1 200 OK\"\n",
      "2024-09-01 22:47:29,457 - INFO - Processed WLAN in allen Ecken？ - Mesh WLAN mit dem Speedhome WLAN! #shorts #telekom #magenta #wlan.txt and saved to /Users/taha/Desktop/rag/data/Geräte & Zubehör/youtube_WLAN in allen Ecken？ - Mesh WLAN mit dem Speedhome WLAN! #shorts #telekom #magenta #wlan.txt\n",
      "2024-09-01 22:47:30,192 - INFO - HTTP Request: POST https://api.openai.com/v1/chat/completions \"HTTP/1.1 200 OK\"\n",
      "2024-09-01 22:47:39,892 - INFO - HTTP Request: POST https://api.openai.com/v1/chat/completions \"HTTP/1.1 200 OK\"\n",
      "2024-09-01 22:47:41,148 - INFO - HTTP Request: POST https://api.openai.com/v1/chat/completions \"HTTP/1.1 200 OK\"\n",
      "2024-09-01 22:47:41,153 - INFO - Processed Die neuen MagentaMobil Angebote für alle, die Familie sind - MagentaMobil PlusKarten.txt and saved to /Users/taha/Desktop/rag/data/Mobilfunk/youtube_Die neuen MagentaMobil Angebote für alle, die Familie sind - MagentaMobil PlusKarten.txt\n",
      "2024-09-01 22:47:42,174 - INFO - HTTP Request: POST https://api.openai.com/v1/chat/completions \"HTTP/1.1 200 OK\"\n",
      "2024-09-01 22:47:52,311 - INFO - HTTP Request: POST https://api.openai.com/v1/chat/completions \"HTTP/1.1 200 OK\"\n",
      "2024-09-01 22:47:53,644 - INFO - HTTP Request: POST https://api.openai.com/v1/chat/completions \"HTTP/1.1 200 OK\"\n",
      "2024-09-01 22:47:53,646 - INFO - Processed Hybrid 5G⧸LTE Installation： Schritt für Schritt erklärt (2⧸3).txt and saved to /Users/taha/Desktop/rag/data/Internet & Telefonie/youtube_Hybrid 5G⧸LTE Installation： Schritt für Schritt erklärt (2⧸3).txt\n",
      "2024-09-01 22:47:54,298 - INFO - HTTP Request: POST https://api.openai.com/v1/chat/completions \"HTTP/1.1 200 OK\"\n",
      "2024-09-01 22:48:01,261 - INFO - HTTP Request: POST https://api.openai.com/v1/chat/completions \"HTTP/1.1 200 OK\"\n",
      "2024-09-01 22:48:02,653 - INFO - HTTP Request: POST https://api.openai.com/v1/chat/completions \"HTTP/1.1 200 OK\"\n",
      "2024-09-01 22:48:02,656 - INFO - Processed Video-Ident： Videocall mit Telekom Service - Schritt für Schritt.txt and saved to /Users/taha/Desktop/rag/data/Internet & Telefonie/youtube_Video-Ident： Videocall mit Telekom Service - Schritt für Schritt.txt\n",
      "2024-09-01 22:48:04,599 - INFO - HTTP Request: POST https://api.openai.com/v1/chat/completions \"HTTP/1.1 200 OK\"\n",
      "2024-09-01 22:48:13,611 - INFO - HTTP Request: POST https://api.openai.com/v1/chat/completions \"HTTP/1.1 200 OK\"\n",
      "2024-09-01 22:48:15,161 - INFO - HTTP Request: POST https://api.openai.com/v1/chat/completions \"HTTP/1.1 200 OK\"\n",
      "2024-09-01 22:48:15,166 - INFO - Processed Telekom hilft News： Wie solltet ihr euch bei Spam via SMS verhalten？.txt and saved to /Users/taha/Desktop/rag/data/Hilfe bei Störungen/youtube_Telekom hilft News： Wie solltet ihr euch bei Spam via SMS verhalten？.txt\n",
      "2024-09-01 22:48:15,964 - INFO - HTTP Request: POST https://api.openai.com/v1/chat/completions \"HTTP/1.1 200 OK\"\n",
      "2024-09-01 22:48:29,072 - INFO - HTTP Request: POST https://api.openai.com/v1/chat/completions \"HTTP/1.1 200 OK\"\n",
      "2024-09-01 22:48:30,201 - INFO - HTTP Request: POST https://api.openai.com/v1/chat/completions \"HTTP/1.1 200 OK\"\n",
      "2024-09-01 22:48:30,204 - INFO - Processed Telekom： eSIM bei Gerätewechsel leicht gemacht.txt and saved to /Users/taha/Desktop/rag/data/Mobilfunk/youtube_Telekom： eSIM bei Gerätewechsel leicht gemacht.txt\n",
      "2024-09-01 22:48:30,919 - INFO - HTTP Request: POST https://api.openai.com/v1/chat/completions \"HTTP/1.1 200 OK\"\n",
      "2024-09-01 22:48:38,186 - INFO - HTTP Request: POST https://api.openai.com/v1/chat/completions \"HTTP/1.1 200 OK\"\n",
      "2024-09-01 22:48:39,312 - INFO - HTTP Request: POST https://api.openai.com/v1/chat/completions \"HTTP/1.1 200 OK\"\n",
      "2024-09-01 22:48:39,313 - INFO - Processed Glasfaser I #shorts #telekom #telekomhilft #magenta.txt and saved to /Users/taha/Desktop/rag/data/Internet & Telefonie/youtube_Glasfaser I #shorts #telekom #telekomhilft #magenta.txt\n",
      "2024-09-01 22:48:40,085 - INFO - HTTP Request: POST https://api.openai.com/v1/chat/completions \"HTTP/1.1 200 OK\"\n",
      "2024-09-01 22:48:51,166 - INFO - HTTP Request: POST https://api.openai.com/v1/chat/completions \"HTTP/1.1 200 OK\"\n",
      "2024-09-01 22:48:52,932 - INFO - HTTP Request: POST https://api.openai.com/v1/chat/completions \"HTTP/1.1 200 OK\"\n",
      "2024-09-01 22:48:52,935 - INFO - Processed Telekom： Digitalisierungsbox Smart 2 - Einrichtung IP-Systemtelefon.txt and saved to /Users/taha/Desktop/rag/data/Internet & Telefonie/youtube_Telekom： Digitalisierungsbox Smart 2 - Einrichtung IP-Systemtelefon.txt\n",
      "2024-09-01 22:48:53,751 - INFO - HTTP Request: POST https://api.openai.com/v1/chat/completions \"HTTP/1.1 200 OK\"\n",
      "2024-09-01 22:49:01,175 - INFO - HTTP Request: POST https://api.openai.com/v1/chat/completions \"HTTP/1.1 200 OK\"\n",
      "2024-09-01 22:49:03,278 - INFO - HTTP Request: POST https://api.openai.com/v1/chat/completions \"HTTP/1.1 200 OK\"\n",
      "2024-09-01 22:49:03,281 - INFO - Processed Bezahlen per Handyrechnung – so funktioniert´s Schritt für Schritt bei IOS-Geräte I Telekom.txt and saved to /Users/taha/Desktop/rag/data/Mobilfunk/youtube_Bezahlen per Handyrechnung – so funktioniert´s Schritt für Schritt bei IOS-Geräte I Telekom.txt\n",
      "2024-09-01 22:49:04,305 - INFO - HTTP Request: POST https://api.openai.com/v1/chat/completions \"HTTP/1.1 200 OK\"\n",
      "2024-09-01 22:49:15,769 - INFO - HTTP Request: POST https://api.openai.com/v1/chat/completions \"HTTP/1.1 200 OK\"\n",
      "2024-09-01 22:49:18,235 - INFO - HTTP Request: POST https://api.openai.com/v1/chat/completions \"HTTP/1.1 200 OK\"\n",
      "2024-09-01 22:49:18,243 - INFO - Processed Digitale Sicherheit - Tipps für sichere Passwörter I Telekom Senioren-Akademie.txt and saved to /Users/taha/Desktop/rag/data/Internet & Telefonie/youtube_Digitale Sicherheit - Tipps für sichere Passwörter I Telekom Senioren-Akademie.txt\n",
      "2024-09-01 22:49:18,739 - INFO - HTTP Request: POST https://api.openai.com/v1/chat/completions \"HTTP/1.1 200 OK\"\n",
      "2024-09-01 22:49:19,965 - INFO - HTTP Request: POST https://api.openai.com/v1/chat/completions \"HTTP/1.1 200 OK\"\n",
      "2024-09-01 22:49:21,502 - INFO - HTTP Request: POST https://api.openai.com/v1/chat/completions \"HTTP/1.1 200 OK\"\n",
      "2024-09-01 22:49:21,506 - INFO - Processed MeinMagenta App： Ihre gesamte Telekom Welt immer im Blick - kompakt.txt and saved to /Users/taha/Desktop/rag/data/Others/youtube_MeinMagenta App： Ihre gesamte Telekom Welt immer im Blick - kompakt.txt\n",
      "2024-09-01 22:49:22,321 - INFO - HTTP Request: POST https://api.openai.com/v1/chat/completions \"HTTP/1.1 200 OK\"\n",
      "2024-09-01 22:49:30,823 - INFO - HTTP Request: POST https://api.openai.com/v1/chat/completions \"HTTP/1.1 200 OK\"\n",
      "2024-09-01 22:49:32,868 - INFO - HTTP Request: POST https://api.openai.com/v1/chat/completions \"HTTP/1.1 200 OK\"\n",
      "2024-09-01 22:49:32,871 - INFO - Processed Urlaubsreif ？ - TelekomMobilfunk im Ausland! #shorts #telekom #telekomhilft #magenta.txt and saved to /Users/taha/Desktop/rag/data/Mobilfunk/youtube_Urlaubsreif ？ - TelekomMobilfunk im Ausland! #shorts #telekom #telekomhilft #magenta.txt\n",
      "2024-09-01 22:49:33,794 - INFO - HTTP Request: POST https://api.openai.com/v1/chat/completions \"HTTP/1.1 200 OK\"\n",
      "2024-09-01 22:49:45,059 - INFO - HTTP Request: POST https://api.openai.com/v1/chat/completions \"HTTP/1.1 200 OK\"\n",
      "2024-09-01 22:49:46,787 - INFO - HTTP Request: POST https://api.openai.com/v1/chat/completions \"HTTP/1.1 200 OK\"\n",
      "2024-09-01 22:49:46,791 - INFO - Processed Telekom： Das optimale WLAN-Netz für MagentaTV (2⧸3).txt and saved to /Users/taha/Desktop/rag/data/Hilfe bei Störungen/youtube_Telekom： Das optimale WLAN-Netz für MagentaTV (2⧸3).txt\n",
      "2024-09-01 22:49:48,127 - INFO - HTTP Request: POST https://api.openai.com/v1/chat/completions \"HTTP/1.1 200 OK\"\n",
      "2024-09-01 22:50:00,518 - INFO - HTTP Request: POST https://api.openai.com/v1/chat/completions \"HTTP/1.1 200 OK\"\n",
      "2024-09-01 22:50:02,221 - INFO - HTTP Request: POST https://api.openai.com/v1/chat/completions \"HTTP/1.1 200 OK\"\n",
      "2024-09-01 22:50:02,224 - INFO - Processed Digitale Organisation mit Android-Geräten – Adressbuch, Kalender und Co. I Telekom Senioren-Akademie.txt and saved to /Users/taha/Desktop/rag/data/Geräte & Zubehör/youtube_Digitale Organisation mit Android-Geräten – Adressbuch, Kalender und Co. I Telekom Senioren-Akademie.txt\n",
      "2024-09-01 22:50:03,079 - INFO - HTTP Request: POST https://api.openai.com/v1/chat/completions \"HTTP/1.1 200 OK\"\n",
      "2024-09-01 22:50:10,140 - INFO - HTTP Request: POST https://api.openai.com/v1/chat/completions \"HTTP/1.1 200 OK\"\n",
      "2024-09-01 22:50:12,601 - INFO - HTTP Request: POST https://api.openai.com/v1/chat/completions \"HTTP/1.1 200 OK\"\n",
      "2024-09-01 22:50:12,605 - INFO - Processed Telekom： Hybrid 5G⧸LTE Bestes Erlebnis (3⧸3).txt and saved to /Users/taha/Desktop/rag/data/Hilfe bei Störungen/youtube_Telekom： Hybrid 5G⧸LTE Bestes Erlebnis (3⧸3).txt\n",
      "2024-09-01 22:50:15,776 - INFO - HTTP Request: POST https://api.openai.com/v1/chat/completions \"HTTP/1.1 200 OK\"\n",
      "2024-09-01 22:50:27,044 - INFO - HTTP Request: POST https://api.openai.com/v1/chat/completions \"HTTP/1.1 200 OK\"\n",
      "2024-09-01 22:50:28,781 - INFO - HTTP Request: POST https://api.openai.com/v1/chat/completions \"HTTP/1.1 200 OK\"\n",
      "2024-09-01 22:50:28,786 - INFO - Processed CompanyFlex SIP-Trunk - Arbeitsplatz powered by Webex.txt and saved to /Users/taha/Desktop/rag/data/Internet & Telefonie/youtube_CompanyFlex SIP-Trunk - Arbeitsplatz powered by Webex.txt\n",
      "2024-09-01 22:50:29,599 - INFO - HTTP Request: POST https://api.openai.com/v1/chat/completions \"HTTP/1.1 200 OK\"\n",
      "2024-09-01 22:50:34,209 - INFO - HTTP Request: POST https://api.openai.com/v1/chat/completions \"HTTP/1.1 200 OK\"\n",
      "2024-09-01 22:50:36,358 - INFO - HTTP Request: POST https://api.openai.com/v1/chat/completions \"HTTP/1.1 200 OK\"\n",
      "2024-09-01 22:50:36,366 - INFO - Processed Internet weg？ Melde so die Störung! #shorts #telekom #telekomhilft #internet #wlan #hilfe #magenta.txt and saved to /Users/taha/Desktop/rag/data/Hilfe bei Störungen/youtube_Internet weg？ Melde so die Störung! #shorts #telekom #telekomhilft #internet #wlan #hilfe #magenta.txt\n",
      "2024-09-01 22:50:36,973 - INFO - HTTP Request: POST https://api.openai.com/v1/chat/completions \"HTTP/1.1 200 OK\"\n",
      "2024-09-01 22:50:40,352 - INFO - HTTP Request: POST https://api.openai.com/v1/chat/completions \"HTTP/1.1 200 OK\"\n",
      "2024-09-01 22:50:41,478 - INFO - HTTP Request: POST https://api.openai.com/v1/chat/completions \"HTTP/1.1 200 OK\"\n",
      "2024-09-01 22:50:41,481 - INFO - Processed WhatsApp Service in 60 Sekunden erklärt.txt and saved to /Users/taha/Desktop/rag/data/Apps & Dienste/youtube_WhatsApp Service in 60 Sekunden erklärt.txt\n",
      "2024-09-01 22:50:42,098 - INFO - HTTP Request: POST https://api.openai.com/v1/chat/completions \"HTTP/1.1 200 OK\"\n",
      "2024-09-01 22:50:49,776 - INFO - HTTP Request: POST https://api.openai.com/v1/chat/completions \"HTTP/1.1 200 OK\"\n",
      "2024-09-01 22:50:51,308 - INFO - HTTP Request: POST https://api.openai.com/v1/chat/completions \"HTTP/1.1 200 OK\"\n",
      "2024-09-01 22:50:51,312 - INFO - Processed Telekom： Telefoniecenter – Themenbereich „Erreichbarkeit“.txt and saved to /Users/taha/Desktop/rag/data/Internet & Telefonie/youtube_Telekom： Telefoniecenter – Themenbereich „Erreichbarkeit“.txt\n",
      "2024-09-01 22:50:51,826 - INFO - HTTP Request: POST https://api.openai.com/v1/chat/completions \"HTTP/1.1 200 OK\"\n",
      "2024-09-01 22:51:01,210 - INFO - HTTP Request: POST https://api.openai.com/v1/chat/completions \"HTTP/1.1 200 OK\"\n",
      "2024-09-01 22:51:02,881 - INFO - HTTP Request: POST https://api.openai.com/v1/chat/completions \"HTTP/1.1 200 OK\"\n",
      "2024-09-01 22:51:02,885 - INFO - Processed MagentaTV One - Unboxing! #shorts #telekom #telekomhilft #magenta.txt and saved to /Users/taha/Desktop/rag/data/TV/youtube_MagentaTV One - Unboxing! #shorts #telekom #telekomhilft #magenta.txt\n",
      "2024-09-01 22:51:03,595 - INFO - HTTP Request: POST https://api.openai.com/v1/chat/completions \"HTTP/1.1 200 OK\"\n",
      "2024-09-01 22:51:12,508 - INFO - HTTP Request: POST https://api.openai.com/v1/chat/completions \"HTTP/1.1 200 OK\"\n",
      "2024-09-01 22:51:13,942 - INFO - HTTP Request: POST https://api.openai.com/v1/chat/completions \"HTTP/1.1 200 OK\"\n",
      "2024-09-01 22:51:13,945 - INFO - Processed Glasfaseranbindung - So läuft's ab! #shorts #telekom #glasfaser #tech #shortvideo #magenta.txt and saved to /Users/taha/Desktop/rag/data/Internet & Telefonie/youtube_Glasfaseranbindung - So läuft's ab! #shorts #telekom #glasfaser #tech #shortvideo #magenta.txt\n",
      "2024-09-01 22:51:14,702 - INFO - HTTP Request: POST https://api.openai.com/v1/chat/completions \"HTTP/1.1 200 OK\"\n",
      "2024-09-01 22:51:22,234 - INFO - HTTP Request: POST https://api.openai.com/v1/chat/completions \"HTTP/1.1 200 OK\"\n",
      "2024-09-01 22:51:24,493 - INFO - HTTP Request: POST https://api.openai.com/v1/chat/completions \"HTTP/1.1 200 OK\"\n",
      "2024-09-01 22:51:24,497 - INFO - Processed ZOOM Seminare der Telekom Senioren-Akademie - Teilnahme mit einem Android Tablet.txt and saved to /Users/taha/Desktop/rag/data/Internet & Telefonie/youtube_ZOOM Seminare der Telekom Senioren-Akademie - Teilnahme mit einem Android Tablet.txt\n",
      "2024-09-01 22:51:25,305 - INFO - HTTP Request: POST https://api.openai.com/v1/chat/completions \"HTTP/1.1 200 OK\"\n",
      "2024-09-01 22:51:36,779 - INFO - HTTP Request: POST https://api.openai.com/v1/chat/completions \"HTTP/1.1 200 OK\"\n",
      "2024-09-01 22:51:38,720 - INFO - HTTP Request: POST https://api.openai.com/v1/chat/completions \"HTTP/1.1 200 OK\"\n",
      "2024-09-01 22:51:38,724 - INFO - Processed Bezahlen per Handyrechnung – einfach und schnell einrichten I Telekom.txt and saved to /Users/taha/Desktop/rag/data/Mobilfunk/youtube_Bezahlen per Handyrechnung – einfach und schnell einrichten I Telekom.txt\n",
      "2024-09-01 22:51:39,539 - INFO - HTTP Request: POST https://api.openai.com/v1/chat/completions \"HTTP/1.1 200 OK\"\n",
      "2024-09-01 22:51:47,837 - INFO - HTTP Request: POST https://api.openai.com/v1/chat/completions \"HTTP/1.1 200 OK\"\n",
      "2024-09-01 22:51:48,938 - INFO - HTTP Request: POST https://api.openai.com/v1/chat/completions \"HTTP/1.1 200 OK\"\n",
      "2024-09-01 22:51:48,940 - INFO - Processed CompanyFlex Cloud PBX 2.0 - Microsoft Teams Integration.txt and saved to /Users/taha/Desktop/rag/data/Internet & Telefonie/youtube_CompanyFlex Cloud PBX 2.0 - Microsoft Teams Integration.txt\n",
      "2024-09-01 22:51:49,575 - INFO - HTTP Request: POST https://api.openai.com/v1/chat/completions \"HTTP/1.1 200 OK\"\n",
      "2024-09-01 22:51:56,754 - INFO - HTTP Request: POST https://api.openai.com/v1/chat/completions \"HTTP/1.1 200 OK\"\n",
      "2024-09-01 22:51:57,976 - INFO - HTTP Request: POST https://api.openai.com/v1/chat/completions \"HTTP/1.1 200 OK\"\n",
      "2024-09-01 22:51:57,981 - INFO - Processed MagentaService Live – Deine persönliche Videoberatung.txt and saved to /Users/taha/Desktop/rag/data/Internet & Telefonie/youtube_MagentaService Live – Deine persönliche Videoberatung.txt\n",
      "2024-09-01 22:51:58,927 - INFO - HTTP Request: POST https://api.openai.com/v1/chat/completions \"HTTP/1.1 200 OK\"\n",
      "2024-09-01 22:52:05,247 - INFO - HTTP Request: POST https://api.openai.com/v1/chat/completions \"HTTP/1.1 200 OK\"\n",
      "2024-09-01 22:52:06,779 - INFO - HTTP Request: POST https://api.openai.com/v1/chat/completions \"HTTP/1.1 200 OK\"\n",
      "2024-09-01 22:52:06,784 - INFO - Processed Kann ich dein WLAN-Passwort haben？ - Gastwlan!.txt and saved to /Users/taha/Desktop/rag/data/Internet & Telefonie/youtube_Kann ich dein WLAN-Passwort haben？ - Gastwlan!.txt\n",
      "2024-09-01 22:52:07,700 - INFO - HTTP Request: POST https://api.openai.com/v1/chat/completions \"HTTP/1.1 200 OK\"\n",
      "2024-09-01 22:52:19,478 - INFO - HTTP Request: POST https://api.openai.com/v1/chat/completions \"HTTP/1.1 200 OK\"\n",
      "2024-09-01 22:52:20,912 - INFO - HTTP Request: POST https://api.openai.com/v1/chat/completions \"HTTP/1.1 200 OK\"\n",
      "2024-09-01 22:52:20,918 - INFO - Processed Telekom： Digitalisierungsbox Smart - Einrichtung eines SIP-Trunks im Media Gateway Modus.txt and saved to /Users/taha/Desktop/rag/data/Internet & Telefonie/youtube_Telekom： Digitalisierungsbox Smart - Einrichtung eines SIP-Trunks im Media Gateway Modus.txt\n",
      "2024-09-01 22:52:22,449 - INFO - HTTP Request: POST https://api.openai.com/v1/chat/completions \"HTTP/1.1 200 OK\"\n",
      "2024-09-01 22:52:34,120 - INFO - HTTP Request: POST https://api.openai.com/v1/chat/completions \"HTTP/1.1 200 OK\"\n",
      "2024-09-01 22:52:35,963 - INFO - HTTP Request: POST https://api.openai.com/v1/chat/completions \"HTTP/1.1 200 OK\"\n",
      "2024-09-01 22:52:35,968 - INFO - Processed Telekom： Digitalisierungsbox Smart 2 - Ersteinrichtung DECT150.txt and saved to /Users/taha/Desktop/rag/data/Hilfe bei Störungen/youtube_Telekom： Digitalisierungsbox Smart 2 - Ersteinrichtung DECT150.txt\n",
      "2024-09-01 22:52:36,678 - INFO - HTTP Request: POST https://api.openai.com/v1/chat/completions \"HTTP/1.1 200 OK\"\n",
      "2024-09-01 22:52:45,487 - INFO - HTTP Request: POST https://api.openai.com/v1/chat/completions \"HTTP/1.1 200 OK\"\n",
      "2024-09-01 22:52:46,864 - INFO - HTTP Request: POST https://api.openai.com/v1/chat/completions \"HTTP/1.1 200 OK\"\n",
      "2024-09-01 22:52:46,869 - INFO - Processed Was ist das Telefoniecenter？ #shorts#telekom#telekomhilft.txt and saved to /Users/taha/Desktop/rag/data/Internet & Telefonie/youtube_Was ist das Telefoniecenter？ #shorts#telekom#telekomhilft.txt\n",
      "2024-09-01 22:52:47,637 - INFO - HTTP Request: POST https://api.openai.com/v1/chat/completions \"HTTP/1.1 200 OK\"\n",
      "2024-09-01 22:52:53,476 - INFO - HTTP Request: POST https://api.openai.com/v1/chat/completions \"HTTP/1.1 200 OK\"\n",
      "2024-09-01 22:52:54,907 - INFO - HTTP Request: POST https://api.openai.com/v1/chat/completions \"HTTP/1.1 200 OK\"\n",
      "2024-09-01 22:52:54,910 - INFO - Processed Enkel-Tipp： Android Smartphone mit WLAN verbinden.txt and saved to /Users/taha/Desktop/rag/data/Internet & Telefonie/youtube_Enkel-Tipp： Android Smartphone mit WLAN verbinden.txt\n",
      "2024-09-01 22:52:55,728 - INFO - HTTP Request: POST https://api.openai.com/v1/chat/completions \"HTTP/1.1 200 OK\"\n",
      "2024-09-01 22:53:05,863 - INFO - HTTP Request: POST https://api.openai.com/v1/chat/completions \"HTTP/1.1 200 OK\"\n",
      "2024-09-01 22:53:07,605 - INFO - HTTP Request: POST https://api.openai.com/v1/chat/completions \"HTTP/1.1 200 OK\"\n",
      "2024-09-01 22:53:07,607 - INFO - Processed SimpleShow zum Leistungsmerkmal „Proaktives Faultmanagement“.txt and saved to /Users/taha/Desktop/rag/data/Hilfe bei Störungen/youtube_SimpleShow zum Leistungsmerkmal „Proaktives Faultmanagement“.txt\n",
      "2024-09-01 22:53:08,423 - INFO - HTTP Request: POST https://api.openai.com/v1/chat/completions \"HTTP/1.1 200 OK\"\n",
      "2024-09-01 22:53:13,768 - INFO - HTTP Request: POST https://api.openai.com/v1/chat/completions \"HTTP/1.1 200 OK\"\n",
      "2024-09-01 22:53:14,774 - INFO - HTTP Request: POST https://api.openai.com/v1/chat/completions \"HTTP/1.1 200 OK\"\n",
      "2024-09-01 22:53:14,779 - INFO - Processed Kabel durchschnitten？ So läuft das Internet wieder! #shorts #telekom #magenta #hilfe #internet.txt and saved to /Users/taha/Desktop/rag/data/Hilfe bei Störungen/youtube_Kabel durchschnitten？ So läuft das Internet wieder! #shorts #telekom #magenta #hilfe #internet.txt\n",
      "2024-09-01 22:53:15,591 - INFO - HTTP Request: POST https://api.openai.com/v1/chat/completions \"HTTP/1.1 200 OK\"\n",
      "2024-09-01 22:53:19,567 - INFO - HTTP Request: POST https://api.openai.com/v1/chat/completions \"HTTP/1.1 200 OK\"\n",
      "2024-09-01 22:53:22,017 - INFO - HTTP Request: POST https://api.openai.com/v1/chat/completions \"HTTP/1.1 200 OK\"\n",
      "2024-09-01 22:53:22,022 - INFO - Processed Frag Magenta - Kennst Du es bereits？ #shorts #telekom #magenta #fragmagenta #tech #service #help.txt and saved to /Users/taha/Desktop/rag/data/Vertrag & Rechnung/youtube_Frag Magenta - Kennst Du es bereits？ #shorts #telekom #magenta #fragmagenta #tech #service #help.txt\n",
      "2024-09-01 22:53:22,843 - INFO - HTTP Request: POST https://api.openai.com/v1/chat/completions \"HTTP/1.1 200 OK\"\n",
      "2024-09-01 22:53:36,864 - INFO - HTTP Request: POST https://api.openai.com/v1/chat/completions \"HTTP/1.1 200 OK\"\n",
      "2024-09-01 22:53:38,428 - INFO - HTTP Request: POST https://api.openai.com/v1/chat/completions \"HTTP/1.1 200 OK\"\n",
      "2024-09-01 22:53:38,434 - INFO - Processed Telekom： Meine Mobilfunk-Rechnung - Die erste Rechnung nach einem Tarifwechsel.txt and saved to /Users/taha/Desktop/rag/data/Vertrag & Rechnung/youtube_Telekom： Meine Mobilfunk-Rechnung - Die erste Rechnung nach einem Tarifwechsel.txt\n",
      "2024-09-01 22:53:39,144 - INFO - HTTP Request: POST https://api.openai.com/v1/chat/completions \"HTTP/1.1 200 OK\"\n",
      "2024-09-01 22:53:47,132 - INFO - HTTP Request: POST https://api.openai.com/v1/chat/completions \"HTTP/1.1 200 OK\"\n",
      "2024-09-01 22:53:48,360 - INFO - HTTP Request: POST https://api.openai.com/v1/chat/completions \"HTTP/1.1 200 OK\"\n",
      "2024-09-01 22:53:48,364 - INFO - Processed Festnetz und Handy aus einer Hand - Kennst Du...unsere MeinMagenta App？ I Telekom.txt and saved to /Users/taha/Desktop/rag/data/Apps & Dienste/youtube_Festnetz und Handy aus einer Hand - Kennst Du...unsere MeinMagenta App？ I Telekom.txt\n",
      "2024-09-01 22:53:48,947 - INFO - HTTP Request: POST https://api.openai.com/v1/chat/completions \"HTTP/1.1 200 OK\"\n",
      "2024-09-01 22:53:53,940 - INFO - HTTP Request: POST https://api.openai.com/v1/chat/completions \"HTTP/1.1 200 OK\"\n",
      "2024-09-01 22:53:55,639 - INFO - HTTP Request: POST https://api.openai.com/v1/chat/completions \"HTTP/1.1 200 OK\"\n",
      "2024-09-01 22:53:55,643 - INFO - Processed Einfach und schnell： Wechsel ins beste Netz mit der Telekom.txt and saved to /Users/taha/Desktop/rag/data/Internet & Telefonie/youtube_Einfach und schnell： Wechsel ins beste Netz mit der Telekom.txt\n",
      "2024-09-01 22:53:56,515 - INFO - HTTP Request: POST https://api.openai.com/v1/chat/completions \"HTTP/1.1 200 OK\"\n",
      "2024-09-01 22:54:11,710 - INFO - HTTP Request: POST https://api.openai.com/v1/chat/completions \"HTTP/1.1 200 OK\"\n",
      "2024-09-01 22:54:12,939 - INFO - HTTP Request: POST https://api.openai.com/v1/chat/completions \"HTTP/1.1 200 OK\"\n",
      "2024-09-01 22:54:12,945 - INFO - Processed So kündigst du dein Mietgerät einfach und schnell!.txt and saved to /Users/taha/Desktop/rag/data/Vertrag & Rechnung/youtube_So kündigst du dein Mietgerät einfach und schnell!.txt\n",
      "2024-09-01 22:54:13,755 - INFO - HTTP Request: POST https://api.openai.com/v1/chat/completions \"HTTP/1.1 200 OK\"\n",
      "2024-09-01 22:54:25,844 - INFO - HTTP Request: POST https://api.openai.com/v1/chat/completions \"HTTP/1.1 200 OK\"\n",
      "2024-09-01 22:54:27,580 - INFO - HTTP Request: POST https://api.openai.com/v1/chat/completions \"HTTP/1.1 200 OK\"\n",
      "2024-09-01 22:54:27,584 - INFO - Processed Telekom： DSL-Anschluss schnell und einfach einrichten.txt and saved to /Users/taha/Desktop/rag/data/Internet & Telefonie/youtube_Telekom： DSL-Anschluss schnell und einfach einrichten.txt\n",
      "2024-09-01 22:54:28,399 - INFO - HTTP Request: POST https://api.openai.com/v1/chat/completions \"HTTP/1.1 200 OK\"\n",
      "2024-09-01 22:54:38,847 - INFO - HTTP Request: POST https://api.openai.com/v1/chat/completions \"HTTP/1.1 200 OK\"\n",
      "2024-09-01 22:54:40,150 - INFO - HTTP Request: POST https://api.openai.com/v1/chat/completions \"HTTP/1.1 200 OK\"\n",
      "2024-09-01 22:54:40,154 - INFO - Processed Ein Tag mit dem Servicetechniker - Einblicke in den Außendienst.txt and saved to /Users/taha/Desktop/rag/data/Hilfe bei Störungen/youtube_Ein Tag mit dem Servicetechniker - Einblicke in den Außendienst.txt\n",
      "2024-09-01 22:54:40,995 - INFO - HTTP Request: POST https://api.openai.com/v1/chat/completions \"HTTP/1.1 200 OK\"\n",
      "2024-09-01 22:54:46,141 - INFO - HTTP Request: POST https://api.openai.com/v1/chat/completions \"HTTP/1.1 200 OK\"\n",
      "2024-09-01 22:54:47,324 - INFO - HTTP Request: POST https://api.openai.com/v1/chat/completions \"HTTP/1.1 200 OK\"\n",
      "2024-09-01 22:54:47,328 - INFO - Processed Enkel-Tipps： Wichtige Smartphone-Symbole verständlich erklärt.txt and saved to /Users/taha/Desktop/rag/data/Geräte & Zubehör/youtube_Enkel-Tipps： Wichtige Smartphone-Symbole verständlich erklärt.txt\n",
      "2024-09-01 22:54:48,165 - INFO - HTTP Request: POST https://api.openai.com/v1/chat/completions \"HTTP/1.1 200 OK\"\n",
      "2024-09-01 22:54:54,922 - INFO - HTTP Request: POST https://api.openai.com/v1/chat/completions \"HTTP/1.1 200 OK\"\n",
      "2024-09-01 22:54:56,686 - INFO - HTTP Request: POST https://api.openai.com/v1/chat/completions \"HTTP/1.1 200 OK\"\n",
      "2024-09-01 22:54:56,689 - INFO - Processed Leitung blockiert？! Die Telekom eilt zur Hilfe #shorts #telekom #magenta #leitung #internet #hilfe.txt and saved to /Users/taha/Desktop/rag/data/Internet & Telefonie/youtube_Leitung blockiert？! Die Telekom eilt zur Hilfe #shorts #telekom #magenta #leitung #internet #hilfe.txt\n",
      "2024-09-01 22:54:57,509 - INFO - HTTP Request: POST https://api.openai.com/v1/chat/completions \"HTTP/1.1 200 OK\"\n",
      "2024-09-01 22:55:10,495 - INFO - HTTP Request: POST https://api.openai.com/v1/chat/completions \"HTTP/1.1 200 OK\"\n",
      "2024-09-01 22:55:11,922 - INFO - HTTP Request: POST https://api.openai.com/v1/chat/completions \"HTTP/1.1 200 OK\"\n",
      "2024-09-01 22:55:11,927 - INFO - Processed Digitalisierungsbox Premium – Einrichtung und Funktionen.txt and saved to /Users/taha/Desktop/rag/data/Geräte & Zubehör/youtube_Digitalisierungsbox Premium – Einrichtung und Funktionen.txt\n",
      "2024-09-01 22:55:13,148 - INFO - HTTP Request: POST https://api.openai.com/v1/chat/completions \"HTTP/1.1 200 OK\"\n",
      "2024-09-01 22:55:29,686 - INFO - HTTP Request: POST https://api.openai.com/v1/chat/completions \"HTTP/1.1 200 OK\"\n",
      "2024-09-01 22:55:31,369 - INFO - HTTP Request: POST https://api.openai.com/v1/chat/completions \"HTTP/1.1 200 OK\"\n",
      "2024-09-01 22:55:31,373 - INFO - Processed Telekom： Digitalisierungsbox Smart & Premium - Einführung.txt and saved to /Users/taha/Desktop/rag/data/Geräte & Zubehör/youtube_Telekom： Digitalisierungsbox Smart & Premium - Einführung.txt\n",
      "2024-09-01 22:55:32,029 - INFO - HTTP Request: POST https://api.openai.com/v1/chat/completions \"HTTP/1.1 200 OK\"\n",
      "2024-09-01 22:55:42,234 - INFO - HTTP Request: POST https://api.openai.com/v1/chat/completions \"HTTP/1.1 200 OK\"\n",
      "2024-09-01 22:55:43,668 - INFO - HTTP Request: POST https://api.openai.com/v1/chat/completions \"HTTP/1.1 200 OK\"\n",
      "2024-09-01 22:55:43,673 - INFO - Processed Rufnummernportierung für Geschäftskunden - nehmen Sie Ihre Mobilfunknummer ganz einfach mit.txt and saved to /Users/taha/Desktop/rag/data/Mobilfunk/youtube_Rufnummernportierung für Geschäftskunden - nehmen Sie Ihre Mobilfunknummer ganz einfach mit.txt\n",
      "2024-09-01 22:55:44,485 - INFO - HTTP Request: POST https://api.openai.com/v1/chat/completions \"HTTP/1.1 200 OK\"\n",
      "2024-09-01 22:55:52,567 - INFO - HTTP Request: POST https://api.openai.com/v1/chat/completions \"HTTP/1.1 200 OK\"\n",
      "2024-09-01 22:55:54,520 - INFO - HTTP Request: POST https://api.openai.com/v1/chat/completions \"HTTP/1.1 200 OK\"\n",
      "2024-09-01 22:55:54,526 - INFO - Processed Feste IP-Adresse auf neuen IP-Anschluss übertragen für Geschäftskunden - Anleitung.txt and saved to /Users/taha/Desktop/rag/data/Internet & Telefonie/youtube_Feste IP-Adresse auf neuen IP-Anschluss übertragen für Geschäftskunden - Anleitung.txt\n",
      "2024-09-01 22:55:55,378 - INFO - HTTP Request: POST https://api.openai.com/v1/chat/completions \"HTTP/1.1 200 OK\"\n",
      "2024-09-01 22:56:08,243 - INFO - HTTP Request: POST https://api.openai.com/v1/chat/completions \"HTTP/1.1 200 OK\"\n",
      "2024-09-01 22:56:10,596 - INFO - HTTP Request: POST https://api.openai.com/v1/chat/completions \"HTTP/1.1 200 OK\"\n",
      "2024-09-01 22:56:10,600 - INFO - Processed Telekom： Digitalisierungsbox Smart & Premium -  VPN Site-to-Site zwischen zwei Digitalisierungsboxen.txt and saved to /Users/taha/Desktop/rag/data/Internet & Telefonie/youtube_Telekom： Digitalisierungsbox Smart & Premium -  VPN Site-to-Site zwischen zwei Digitalisierungsboxen.txt\n",
      "2024-09-01 22:56:11,210 - INFO - HTTP Request: POST https://api.openai.com/v1/chat/completions \"HTTP/1.1 200 OK\"\n",
      "2024-09-01 22:56:24,013 - INFO - HTTP Request: POST https://api.openai.com/v1/chat/completions \"HTTP/1.1 200 OK\"\n",
      "2024-09-01 22:56:25,958 - INFO - HTTP Request: POST https://api.openai.com/v1/chat/completions \"HTTP/1.1 200 OK\"\n",
      "2024-09-01 22:56:25,961 - INFO - Processed Telekom hilft News： Dein Wechsel zu MagentaTV - einfach erklärt.txt and saved to /Users/taha/Desktop/rag/data/TV/youtube_Telekom hilft News： Dein Wechsel zu MagentaTV - einfach erklärt.txt\n",
      "2024-09-01 22:56:27,185 - INFO - HTTP Request: POST https://api.openai.com/v1/chat/completions \"HTTP/1.1 200 OK\"\n",
      "2024-09-01 22:56:34,048 - INFO - HTTP Request: POST https://api.openai.com/v1/chat/completions \"HTTP/1.1 200 OK\"\n",
      "2024-09-01 22:56:35,379 - INFO - HTTP Request: POST https://api.openai.com/v1/chat/completions \"HTTP/1.1 200 OK\"\n",
      "2024-09-01 22:56:35,383 - INFO - Processed Online-Ident - Verträge von Zuhause mit der NECT-App bestätigen #shorts #telekom #telekomhilft.txt and saved to /Users/taha/Desktop/rag/data/Vertrag & Rechnung/youtube_Online-Ident - Verträge von Zuhause mit der NECT-App bestätigen #shorts #telekom #telekomhilft.txt\n",
      "2024-09-01 22:56:36,300 - INFO - HTTP Request: POST https://api.openai.com/v1/chat/completions \"HTTP/1.1 200 OK\"\n",
      "2024-09-01 22:56:47,565 - INFO - HTTP Request: POST https://api.openai.com/v1/chat/completions \"HTTP/1.1 200 OK\"\n",
      "2024-09-01 22:56:49,105 - INFO - HTTP Request: POST https://api.openai.com/v1/chat/completions \"HTTP/1.1 200 OK\"\n",
      "2024-09-01 22:56:49,109 - INFO - Processed Telekom： Digibox Smart 2 + Premium 2 – Client-to-Site mit dem bintec Secure IPSec Client.txt and saved to /Users/taha/Desktop/rag/data/Internet & Telefonie/youtube_Telekom： Digibox Smart 2 + Premium 2 – Client-to-Site mit dem bintec Secure IPSec Client.txt\n",
      "2024-09-01 22:56:50,225 - INFO - HTTP Request: POST https://api.openai.com/v1/chat/completions \"HTTP/1.1 200 OK\"\n",
      "2024-09-01 22:56:59,876 - INFO - HTTP Request: POST https://api.openai.com/v1/chat/completions \"HTTP/1.1 200 OK\"\n",
      "2024-09-01 22:57:01,221 - INFO - HTTP Request: POST https://api.openai.com/v1/chat/completions \"HTTP/1.1 200 OK\"\n",
      "2024-09-01 22:57:01,226 - INFO - Processed Störung bei der Telekom melden – So einfach geht's!.txt and saved to /Users/taha/Desktop/rag/data/Hilfe bei Störungen/youtube_Störung bei der Telekom melden – So einfach geht's!.txt\n",
      "2024-09-01 22:57:02,000 - INFO - HTTP Request: POST https://api.openai.com/v1/chat/completions \"HTTP/1.1 200 OK\"\n",
      "2024-09-01 22:57:07,942 - INFO - HTTP Request: POST https://api.openai.com/v1/chat/completions \"HTTP/1.1 200 OK\"\n",
      "2024-09-01 22:57:09,581 - INFO - HTTP Request: POST https://api.openai.com/v1/chat/completions \"HTTP/1.1 200 OK\"\n",
      "2024-09-01 22:57:09,586 - INFO - Processed Enkel-Tipp： Schriftgröße anpassen iPhone.txt and saved to /Users/taha/Desktop/rag/data/Geräte & Zubehör/youtube_Enkel-Tipp： Schriftgröße anpassen iPhone.txt\n",
      "2024-09-01 22:57:10,398 - INFO - HTTP Request: POST https://api.openai.com/v1/chat/completions \"HTTP/1.1 200 OK\"\n",
      "2024-09-01 22:57:23,201 - INFO - HTTP Request: POST https://api.openai.com/v1/chat/completions \"HTTP/1.1 200 OK\"\n",
      "2024-09-01 22:57:24,475 - INFO - HTTP Request: POST https://api.openai.com/v1/chat/completions \"HTTP/1.1 200 OK\"\n",
      "2024-09-01 22:57:24,480 - INFO - Processed So geht WLAN mit Telekom Speedport： Funktionen und Einstellungen im Überblick.txt and saved to /Users/taha/Desktop/rag/data/Internet & Telefonie/youtube_So geht WLAN mit Telekom Speedport： Funktionen und Einstellungen im Überblick.txt\n",
      "2024-09-01 22:57:25,048 - INFO - HTTP Request: POST https://api.openai.com/v1/chat/completions \"HTTP/1.1 200 OK\"\n",
      "2024-09-01 22:57:26,290 - INFO - HTTP Request: POST https://api.openai.com/v1/chat/completions \"HTTP/1.1 200 OK\"\n",
      "2024-09-01 22:57:28,423 - INFO - HTTP Request: POST https://api.openai.com/v1/chat/completions \"HTTP/1.1 200 OK\"\n",
      "2024-09-01 22:57:28,429 - INFO - Processed Telekom： Wegfall Nebenkostenprivileg - MagentaTV statt Kabel-TV I Making of #shorts.txt and saved to /Users/taha/Desktop/rag/data/Others/youtube_Telekom： Wegfall Nebenkostenprivileg - MagentaTV statt Kabel-TV I Making of #shorts.txt\n",
      "2024-09-01 22:57:29,037 - INFO - HTTP Request: POST https://api.openai.com/v1/chat/completions \"HTTP/1.1 200 OK\"\n",
      "2024-09-01 22:57:37,951 - INFO - HTTP Request: POST https://api.openai.com/v1/chat/completions \"HTTP/1.1 200 OK\"\n",
      "2024-09-01 22:57:38,866 - INFO - HTTP Request: POST https://api.openai.com/v1/chat/completions \"HTTP/1.1 200 OK\"\n",
      "2024-09-01 22:57:38,870 - INFO - Processed MagentaTV： Schneller auswählen und steuern mit Sprachsteuerung.txt and saved to /Users/taha/Desktop/rag/data/TV/youtube_MagentaTV： Schneller auswählen und steuern mit Sprachsteuerung.txt\n",
      "2024-09-01 22:57:39,583 - INFO - HTTP Request: POST https://api.openai.com/v1/chat/completions \"HTTP/1.1 200 OK\"\n",
      "2024-09-01 22:57:51,259 - INFO - HTTP Request: POST https://api.openai.com/v1/chat/completions \"HTTP/1.1 200 OK\"\n",
      "2024-09-01 22:57:52,793 - INFO - HTTP Request: POST https://api.openai.com/v1/chat/completions \"HTTP/1.1 200 OK\"\n",
      "2024-09-01 22:57:52,796 - INFO - Processed Telekom： Hybrid 5G⧸LTE der Turbo für dein Internet (1⧸3).txt and saved to /Users/taha/Desktop/rag/data/Internet & Telefonie/youtube_Telekom： Hybrid 5G⧸LTE der Turbo für dein Internet (1⧸3).txt\n",
      "2024-09-01 22:57:53,427 - INFO - HTTP Request: POST https://api.openai.com/v1/chat/completions \"HTTP/1.1 200 OK\"\n",
      "2024-09-01 22:58:00,064 - INFO - HTTP Request: POST https://api.openai.com/v1/chat/completions \"HTTP/1.1 200 OK\"\n",
      "2024-09-01 22:58:01,804 - INFO - HTTP Request: POST https://api.openai.com/v1/chat/completions \"HTTP/1.1 200 OK\"\n",
      "2024-09-01 22:58:01,808 - INFO - Processed Erste Hilfe bei Internetstörungen #telekom #magenta #wlan #problem #help #fyp #tech #support #like.txt and saved to /Users/taha/Desktop/rag/data/Hilfe bei Störungen/youtube_Erste Hilfe bei Internetstörungen #telekom #magenta #wlan #problem #help #fyp #tech #support #like.txt\n",
      "2024-09-01 22:58:04,057 - INFO - HTTP Request: POST https://api.openai.com/v1/chat/completions \"HTTP/1.1 200 OK\"\n",
      "2024-09-01 22:58:06,004 - INFO - HTTP Request: POST https://api.openai.com/v1/chat/completions \"HTTP/1.1 200 OK\"\n",
      "2024-09-01 22:58:07,029 - INFO - HTTP Request: POST https://api.openai.com/v1/chat/completions \"HTTP/1.1 200 OK\"\n",
      "2024-09-01 22:58:07,035 - INFO - Processed Die optimalen Einstellungen am Smart-TV für MagentaTV.txt and saved to /Users/taha/Desktop/rag/data/Hilfe bei Störungen/youtube_Die optimalen Einstellungen am Smart-TV für MagentaTV.txt\n",
      "2024-09-01 22:58:07,846 - INFO - HTTP Request: POST https://api.openai.com/v1/chat/completions \"HTTP/1.1 200 OK\"\n",
      "2024-09-01 22:58:15,321 - INFO - HTTP Request: POST https://api.openai.com/v1/chat/completions \"HTTP/1.1 200 OK\"\n",
      "2024-09-01 22:58:16,236 - INFO - HTTP Request: POST https://api.openai.com/v1/chat/completions \"HTTP/1.1 200 OK\"\n",
      "2024-09-01 22:58:16,241 - INFO - Processed So erkennt ihr von der Telekom autorisierte Verkäufer＊innen.txt and saved to /Users/taha/Desktop/rag/data/Internet & Telefonie/youtube_So erkennt ihr von der Telekom autorisierte Verkäufer＊innen.txt\n",
      "2024-09-01 22:58:16,959 - INFO - HTTP Request: POST https://api.openai.com/v1/chat/completions \"HTTP/1.1 200 OK\"\n",
      "2024-09-01 22:58:22,203 - INFO - HTTP Request: POST https://api.openai.com/v1/chat/completions \"HTTP/1.1 200 OK\"\n",
      "2024-09-01 22:58:23,515 - INFO - HTTP Request: POST https://api.openai.com/v1/chat/completions \"HTTP/1.1 200 OK\"\n",
      "2024-09-01 22:58:23,519 - INFO - Processed Kuriose Kundennachrichten … #shorts #telekom #magenta #comedy #jokes #funny #fyp #like #follow.txt and saved to /Users/taha/Desktop/rag/data/Hilfe bei Störungen/youtube_Kuriose Kundennachrichten … #shorts #telekom #magenta #comedy #jokes #funny #fyp #like #follow.txt\n",
      "2024-09-01 22:58:24,232 - INFO - HTTP Request: POST https://api.openai.com/v1/chat/completions \"HTTP/1.1 200 OK\"\n",
      "2024-09-01 22:58:28,636 - INFO - HTTP Request: POST https://api.openai.com/v1/chat/completions \"HTTP/1.1 200 OK\"\n",
      "2024-09-01 22:58:30,376 - INFO - HTTP Request: POST https://api.openai.com/v1/chat/completions \"HTTP/1.1 200 OK\"\n",
      "2024-09-01 22:58:30,382 - INFO - Processed Magenta Thermostat： Dein smarter Heizungshelfer!#shorts #telekom #magenta #hilfe #thermostat #heizen.txt and saved to /Users/taha/Desktop/rag/data/Geräte & Zubehör/youtube_Magenta Thermostat： Dein smarter Heizungshelfer!#shorts #telekom #magenta #hilfe #thermostat #heizen.txt\n",
      "2024-09-01 22:58:31,018 - INFO - HTTP Request: POST https://api.openai.com/v1/chat/completions \"HTTP/1.1 200 OK\"\n",
      "2024-09-01 22:58:37,752 - INFO - HTTP Request: POST https://api.openai.com/v1/chat/completions \"HTTP/1.1 200 OK\"\n",
      "2024-09-01 22:58:39,366 - INFO - HTTP Request: POST https://api.openai.com/v1/chat/completions \"HTTP/1.1 200 OK\"\n",
      "2024-09-01 22:58:39,369 - INFO - Processed Digitalisierungsbox Premium 2 - Einrichtung IP-Systemtelefon.txt and saved to /Users/taha/Desktop/rag/data/Internet & Telefonie/youtube_Digitalisierungsbox Premium 2 - Einrichtung IP-Systemtelefon.txt\n",
      "2024-09-01 22:58:40,270 - INFO - HTTP Request: POST https://api.openai.com/v1/chat/completions \"HTTP/1.1 200 OK\"\n",
      "2024-09-01 22:58:51,265 - INFO - HTTP Request: POST https://api.openai.com/v1/chat/completions \"HTTP/1.1 200 OK\"\n",
      "2024-09-01 22:58:53,107 - INFO - HTTP Request: POST https://api.openai.com/v1/chat/completions \"HTTP/1.1 200 OK\"\n",
      "2024-09-01 22:58:53,110 - INFO - Processed Digitalisierungbox Premium - Einrichten einer DECT150 Basisstation.txt and saved to /Users/taha/Desktop/rag/data/Internet & Telefonie/youtube_Digitalisierungbox Premium - Einrichten einer DECT150 Basisstation.txt\n",
      "2024-09-01 22:58:53,925 - INFO - HTTP Request: POST https://api.openai.com/v1/chat/completions \"HTTP/1.1 200 OK\"\n",
      "2024-09-01 22:59:09,701 - INFO - HTTP Request: POST https://api.openai.com/v1/chat/completions \"HTTP/1.1 200 OK\"\n",
      "2024-09-01 22:59:11,131 - INFO - HTTP Request: POST https://api.openai.com/v1/chat/completions \"HTTP/1.1 200 OK\"\n",
      "2024-09-01 22:59:11,138 - INFO - Processed CompanyFlex SIP-Trunk - Ersteinrichtung.txt and saved to /Users/taha/Desktop/rag/data/Internet & Telefonie/youtube_CompanyFlex SIP-Trunk - Ersteinrichtung.txt\n",
      "2024-09-01 22:59:11,670 - INFO - HTTP Request: POST https://api.openai.com/v1/chat/completions \"HTTP/1.1 200 OK\"\n",
      "2024-09-01 22:59:15,432 - INFO - HTTP Request: POST https://api.openai.com/v1/chat/completions \"HTTP/1.1 200 OK\"\n",
      "2024-09-01 22:59:17,276 - INFO - HTTP Request: POST https://api.openai.com/v1/chat/completions \"HTTP/1.1 200 OK\"\n",
      "2024-09-01 22:59:17,283 - INFO - Processed Telekom： Microsoft Teams Telefonie in CompanyFlex einrichten.txt and saved to /Users/taha/Desktop/rag/data/Others/youtube_Telekom： Microsoft Teams Telefonie in CompanyFlex einrichten.txt\n",
      "2024-09-01 22:59:18,096 - INFO - HTTP Request: POST https://api.openai.com/v1/chat/completions \"HTTP/1.1 200 OK\"\n",
      "2024-09-01 22:59:26,183 - INFO - HTTP Request: POST https://api.openai.com/v1/chat/completions \"HTTP/1.1 200 OK\"\n",
      "2024-09-01 22:59:28,519 - INFO - HTTP Request: POST https://api.openai.com/v1/chat/completions \"HTTP/1.1 200 OK\"\n",
      "2024-09-01 22:59:28,525 - INFO - Processed Kennst Du...unseren proaktiven Heimnetzservice？ I Telekom.txt and saved to /Users/taha/Desktop/rag/data/Hilfe bei Störungen/youtube_Kennst Du...unseren proaktiven Heimnetzservice？ I Telekom.txt\n",
      "2024-09-01 22:59:29,152 - INFO - HTTP Request: POST https://api.openai.com/v1/chat/completions \"HTTP/1.1 200 OK\"\n",
      "2024-09-01 22:59:30,559 - INFO - HTTP Request: POST https://api.openai.com/v1/chat/completions \"HTTP/1.1 200 OK\"\n",
      "2024-09-01 22:59:32,532 - INFO - HTTP Request: POST https://api.openai.com/v1/chat/completions \"HTTP/1.1 200 OK\"\n",
      "2024-09-01 22:59:32,537 - INFO - Processed Telekom： Die beste Verbindung für MagentaTV I Making of #shorts  #magentatv.txt and saved to /Users/taha/Desktop/rag/data/Others/youtube_Telekom： Die beste Verbindung für MagentaTV I Making of #shorts  #magentatv.txt\n",
      "2024-09-01 22:59:33,350 - INFO - HTTP Request: POST https://api.openai.com/v1/chat/completions \"HTTP/1.1 200 OK\"\n",
      "2024-09-01 22:59:35,695 - INFO - HTTP Request: POST https://api.openai.com/v1/chat/completions \"HTTP/1.1 200 OK\"\n",
      "2024-09-01 22:59:38,279 - INFO - HTTP Request: POST https://api.openai.com/v1/chat/completions \"HTTP/1.1 200 OK\"\n",
      "2024-09-01 22:59:38,284 - INFO - Processed WLAN-Name ändern - Fritzbox und Speedport! #telekom #magenta #wlan #tech #fyp #support #help #change.txt and saved to /Users/taha/Desktop/rag/data/Hilfe bei Störungen/youtube_WLAN-Name ändern - Fritzbox und Speedport! #telekom #magenta #wlan #tech #fyp #support #help #change.txt\n",
      "2024-09-01 22:59:39,117 - INFO - HTTP Request: POST https://api.openai.com/v1/chat/completions \"HTTP/1.1 200 OK\"\n",
      "2024-09-01 22:59:41,556 - INFO - HTTP Request: POST https://api.openai.com/v1/chat/completions \"HTTP/1.1 200 OK\"\n",
      "2024-09-01 22:59:43,160 - INFO - HTTP Request: POST https://api.openai.com/v1/chat/completions \"HTTP/1.1 200 OK\"\n",
      "2024-09-01 22:59:43,163 - INFO - Processed Telekom： DSL-Anschluss einrichten - So geht‘s kinderleicht! #shorts                   👍🎞️🎥👍.txt and saved to /Users/taha/Desktop/rag/data/Hilfe bei Störungen/youtube_Telekom： DSL-Anschluss einrichten - So geht‘s kinderleicht! #shorts                   👍🎞️🎥👍.txt\n",
      "2024-09-01 22:59:43,898 - INFO - HTTP Request: POST https://api.openai.com/v1/chat/completions \"HTTP/1.1 200 OK\"\n",
      "2024-09-01 22:59:47,279 - INFO - HTTP Request: POST https://api.openai.com/v1/chat/completions \"HTTP/1.1 200 OK\"\n",
      "2024-09-01 22:59:49,018 - INFO - HTTP Request: POST https://api.openai.com/v1/chat/completions \"HTTP/1.1 200 OK\"\n",
      "2024-09-01 22:59:49,021 - INFO - Processed Das optimale WLAN-Netz für MagentaTV I Telekom.txt and saved to /Users/taha/Desktop/rag/data/Hilfe bei Störungen/youtube_Das optimale WLAN-Netz für MagentaTV I Telekom.txt\n",
      "2024-09-01 22:59:49,632 - INFO - HTTP Request: POST https://api.openai.com/v1/chat/completions \"HTTP/1.1 200 OK\"\n",
      "2024-09-01 22:59:53,525 - INFO - HTTP Request: POST https://api.openai.com/v1/chat/completions \"HTTP/1.1 200 OK\"\n",
      "2024-09-01 22:59:54,753 - INFO - HTTP Request: POST https://api.openai.com/v1/chat/completions \"HTTP/1.1 200 OK\"\n",
      "2024-09-01 22:59:54,758 - INFO - Processed Enkel-Tipps： Apps korrekt schließen beim iPhone.txt and saved to /Users/taha/Desktop/rag/data/Apps & Dienste/youtube_Enkel-Tipps： Apps korrekt schließen beim iPhone.txt\n",
      "2024-09-01 22:59:55,571 - INFO - HTTP Request: POST https://api.openai.com/v1/chat/completions \"HTTP/1.1 200 OK\"\n",
      "2024-09-01 23:00:11,549 - INFO - HTTP Request: POST https://api.openai.com/v1/chat/completions \"HTTP/1.1 200 OK\"\n",
      "2024-09-01 23:00:13,261 - INFO - HTTP Request: POST https://api.openai.com/v1/chat/completions \"HTTP/1.1 200 OK\"\n",
      "2024-09-01 23:00:13,264 - INFO - Processed So geht der WLAN Call： Mit dem Smartphone über WLAN telefonieren ｜ Telekom.txt and saved to /Users/taha/Desktop/rag/data/Internet & Telefonie/youtube_So geht der WLAN Call： Mit dem Smartphone über WLAN telefonieren ｜ Telekom.txt\n",
      "2024-09-01 23:00:15,028 - INFO - HTTP Request: POST https://api.openai.com/v1/chat/completions \"HTTP/1.1 200 OK\"\n",
      "2024-09-01 23:00:31,993 - INFO - HTTP Request: POST https://api.openai.com/v1/chat/completions \"HTTP/1.1 200 OK\"\n",
      "2024-09-01 23:00:34,178 - INFO - HTTP Request: POST https://api.openai.com/v1/chat/completions \"HTTP/1.1 200 OK\"\n",
      "2024-09-01 23:00:34,183 - INFO - Processed Anrufweiterleitung mit der Digitalisierungsbox Smart & Premium einrichten – Schritt-für-Schritt.txt and saved to /Users/taha/Desktop/rag/data/Internet & Telefonie/youtube_Anrufweiterleitung mit der Digitalisierungsbox Smart & Premium einrichten – Schritt-für-Schritt.txt\n",
      "2024-09-01 23:00:34,998 - INFO - HTTP Request: POST https://api.openai.com/v1/chat/completions \"HTTP/1.1 200 OK\"\n",
      "2024-09-01 23:00:49,336 - INFO - HTTP Request: POST https://api.openai.com/v1/chat/completions \"HTTP/1.1 200 OK\"\n",
      "2024-09-01 23:00:51,223 - INFO - HTTP Request: POST https://api.openai.com/v1/chat/completions \"HTTP/1.1 200 OK\"\n",
      "2024-09-01 23:00:51,233 - INFO - Processed Digitalisierungsbox Premium - Schnelle Einrichtung eines SIP-Trunks im Media Gateway Modus.txt and saved to /Users/taha/Desktop/rag/data/Internet & Telefonie/youtube_Digitalisierungsbox Premium - Schnelle Einrichtung eines SIP-Trunks im Media Gateway Modus.txt\n",
      "2024-09-01 23:00:51,893 - INFO - HTTP Request: POST https://api.openai.com/v1/chat/completions \"HTTP/1.1 200 OK\"\n",
      "2024-09-01 23:00:56,195 - INFO - HTTP Request: POST https://api.openai.com/v1/chat/completions \"HTTP/1.1 200 OK\"\n",
      "2024-09-01 23:00:58,141 - INFO - HTTP Request: POST https://api.openai.com/v1/chat/completions \"HTTP/1.1 200 OK\"\n",
      "2024-09-01 23:00:58,147 - INFO - Processed Telekom： MagentaTV statt Kabel-TV - Wegfall Nebenkostenprivileg.txt and saved to /Users/taha/Desktop/rag/data/TV/youtube_Telekom： MagentaTV statt Kabel-TV - Wegfall Nebenkostenprivileg.txt\n",
      "2024-09-01 23:00:58,855 - INFO - HTTP Request: POST https://api.openai.com/v1/chat/completions \"HTTP/1.1 200 OK\"\n",
      "2024-09-01 23:01:05,922 - INFO - HTTP Request: POST https://api.openai.com/v1/chat/completions \"HTTP/1.1 200 OK\"\n",
      "2024-09-01 23:01:07,154 - INFO - HTTP Request: POST https://api.openai.com/v1/chat/completions \"HTTP/1.1 200 OK\"\n",
      "2024-09-01 23:01:07,158 - INFO - Processed Enkel-Tipp： Wecker stellen beim iPhone.txt and saved to /Users/taha/Desktop/rag/data/Geräte & Zubehör/youtube_Enkel-Tipp： Wecker stellen beim iPhone.txt\n",
      "2024-09-01 23:01:08,075 - INFO - HTTP Request: POST https://api.openai.com/v1/chat/completions \"HTTP/1.1 200 OK\"\n",
      "2024-09-01 23:01:21,486 - INFO - HTTP Request: POST https://api.openai.com/v1/chat/completions \"HTTP/1.1 200 OK\"\n",
      "2024-09-01 23:01:23,228 - INFO - HTTP Request: POST https://api.openai.com/v1/chat/completions \"HTTP/1.1 200 OK\"\n",
      "2024-09-01 23:01:23,231 - INFO - Processed Telekom： Digitalisierungsbox Premium 2 - Ersteinrichtung DECT160.txt and saved to /Users/taha/Desktop/rag/data/Hilfe bei Störungen/youtube_Telekom： Digitalisierungsbox Premium 2 - Ersteinrichtung DECT160.txt\n",
      "2024-09-01 23:01:23,944 - INFO - HTTP Request: POST https://api.openai.com/v1/chat/completions \"HTTP/1.1 200 OK\"\n",
      "2024-09-01 23:01:31,627 - INFO - HTTP Request: POST https://api.openai.com/v1/chat/completions \"HTTP/1.1 200 OK\"\n",
      "2024-09-01 23:01:33,060 - INFO - HTTP Request: POST https://api.openai.com/v1/chat/completions \"HTTP/1.1 200 OK\"\n",
      "2024-09-01 23:01:33,064 - INFO - Processed 6 WLAN-Tipps gegen Störenfriede! #shorts #telekom #magenta #hilfe #wlan #störung #signal.txt and saved to /Users/taha/Desktop/rag/data/Internet & Telefonie/youtube_6 WLAN-Tipps gegen Störenfriede! #shorts #telekom #magenta #hilfe #wlan #störung #signal.txt\n",
      "2024-09-01 23:01:33,775 - INFO - HTTP Request: POST https://api.openai.com/v1/chat/completions \"HTTP/1.1 200 OK\"\n",
      "2024-09-01 23:01:40,125 - INFO - HTTP Request: POST https://api.openai.com/v1/chat/completions \"HTTP/1.1 200 OK\"\n",
      "2024-09-01 23:01:42,378 - INFO - HTTP Request: POST https://api.openai.com/v1/chat/completions \"HTTP/1.1 200 OK\"\n",
      "2024-09-01 23:01:42,381 - INFO - Processed Online-Identifikation： So identifizierst du dich einfach online I Telekom.txt and saved to /Users/taha/Desktop/rag/data/Mobilfunk/youtube_Online-Identifikation： So identifizierst du dich einfach online I Telekom.txt\n",
      "2024-09-01 23:01:43,195 - INFO - HTTP Request: POST https://api.openai.com/v1/chat/completions \"HTTP/1.1 200 OK\"\n",
      "2024-09-01 23:01:54,053 - INFO - HTTP Request: POST https://api.openai.com/v1/chat/completions \"HTTP/1.1 200 OK\"\n",
      "2024-09-01 23:01:55,898 - INFO - HTTP Request: POST https://api.openai.com/v1/chat/completions \"HTTP/1.1 200 OK\"\n",
      "2024-09-01 23:01:55,902 - INFO - Processed Digitalisierungbox Smart - Media Gateway： Einfache Einrichtung über den Telefonie Assistenten.txt and saved to /Users/taha/Desktop/rag/data/Internet & Telefonie/youtube_Digitalisierungbox Smart - Media Gateway： Einfache Einrichtung über den Telefonie Assistenten.txt\n",
      "2024-09-01 23:01:56,638 - INFO - HTTP Request: POST https://api.openai.com/v1/chat/completions \"HTTP/1.1 200 OK\"\n",
      "2024-09-01 23:02:06,340 - INFO - HTTP Request: POST https://api.openai.com/v1/chat/completions \"HTTP/1.1 200 OK\"\n",
      "2024-09-01 23:02:07,774 - INFO - HTTP Request: POST https://api.openai.com/v1/chat/completions \"HTTP/1.1 200 OK\"\n",
      "2024-09-01 23:02:07,779 - INFO - Processed SimpleShow： Mitwirkungspflichten bei der Bereitstellung von Übertragungswegen.txt and saved to /Users/taha/Desktop/rag/data/Internet & Telefonie/youtube_SimpleShow： Mitwirkungspflichten bei der Bereitstellung von Übertragungswegen.txt\n",
      "2024-09-01 23:02:08,448 - INFO - HTTP Request: POST https://api.openai.com/v1/chat/completions \"HTTP/1.1 200 OK\"\n",
      "2024-09-01 23:02:14,802 - INFO - HTTP Request: POST https://api.openai.com/v1/chat/completions \"HTTP/1.1 200 OK\"\n",
      "2024-09-01 23:02:16,466 - INFO - HTTP Request: POST https://api.openai.com/v1/chat/completions \"HTTP/1.1 200 OK\"\n",
      "2024-09-01 23:02:16,470 - INFO - Processed Rundumservice für Router, WLAN, Internet und Magenta TV – Kennst Du…die Persönliche Installation？.txt and saved to /Users/taha/Desktop/rag/data/Hilfe bei Störungen/youtube_Rundumservice für Router, WLAN, Internet und Magenta TV – Kennst Du…die Persönliche Installation？.txt\n",
      "2024-09-01 23:02:17,403 - INFO - HTTP Request: POST https://api.openai.com/v1/chat/completions \"HTTP/1.1 200 OK\"\n",
      "2024-09-01 23:02:32,964 - INFO - HTTP Request: POST https://api.openai.com/v1/chat/completions \"HTTP/1.1 200 OK\"\n",
      "2024-09-01 23:02:34,397 - INFO - HTTP Request: POST https://api.openai.com/v1/chat/completions \"HTTP/1.1 200 OK\"\n",
      "2024-09-01 23:02:34,404 - INFO - Processed Telekom： Digitalisierungsbox Smart -  Einrichtung eines DECT150.txt and saved to /Users/taha/Desktop/rag/data/Hilfe bei Störungen/youtube_Telekom： Digitalisierungsbox Smart -  Einrichtung eines DECT150.txt\n",
      "2024-09-01 23:02:35,504 - INFO - HTTP Request: POST https://api.openai.com/v1/chat/completions \"HTTP/1.1 200 OK\"\n",
      "2024-09-01 23:02:43,514 - INFO - HTTP Request: POST https://api.openai.com/v1/chat/completions \"HTTP/1.1 200 OK\"\n",
      "2024-09-01 23:02:45,252 - INFO - HTTP Request: POST https://api.openai.com/v1/chat/completions \"HTTP/1.1 200 OK\"\n",
      "2024-09-01 23:02:45,260 - INFO - Processed Telekom： Digitalisierungsbox Smart 2 & Premium 2 - Einrichtung Gäste-WLAN.txt and saved to /Users/taha/Desktop/rag/data/Internet & Telefonie/youtube_Telekom： Digitalisierungsbox Smart 2 & Premium 2 - Einrichtung Gäste-WLAN.txt\n",
      "2024-09-01 23:02:45,967 - INFO - HTTP Request: POST https://api.openai.com/v1/chat/completions \"HTTP/1.1 200 OK\"\n",
      "2024-09-01 23:02:54,467 - INFO - HTTP Request: POST https://api.openai.com/v1/chat/completions \"HTTP/1.1 200 OK\"\n",
      "2024-09-01 23:02:55,800 - INFO - HTTP Request: POST https://api.openai.com/v1/chat/completions \"HTTP/1.1 200 OK\"\n",
      "2024-09-01 23:02:55,805 - INFO - Processed PIN oder PUK vergessen？! Keine Panik - Wir helfen Dir! #shorts #telekom #hilfe #magenta #pin #puk.txt and saved to /Users/taha/Desktop/rag/data/Mobilfunk/youtube_PIN oder PUK vergessen？! Keine Panik - Wir helfen Dir! #shorts #telekom #hilfe #magenta #pin #puk.txt\n",
      "2024-09-01 23:02:56,697 - INFO - HTTP Request: POST https://api.openai.com/v1/chat/completions \"HTTP/1.1 200 OK\"\n",
      "2024-09-01 23:03:06,452 - INFO - HTTP Request: POST https://api.openai.com/v1/chat/completions \"HTTP/1.1 200 OK\"\n",
      "2024-09-01 23:03:07,779 - INFO - HTTP Request: POST https://api.openai.com/v1/chat/completions \"HTTP/1.1 200 OK\"\n",
      "2024-09-01 23:03:07,782 - INFO - Processed Störung？ Diagnose selbst durchführen - kinderleicht..txt and saved to /Users/taha/Desktop/rag/data/Hilfe bei Störungen/youtube_Störung？ Diagnose selbst durchführen - kinderleicht..txt\n",
      "2024-09-01 23:03:08,393 - INFO - HTTP Request: POST https://api.openai.com/v1/chat/completions \"HTTP/1.1 200 OK\"\n",
      "2024-09-01 23:03:19,599 - INFO - HTTP Request: POST https://api.openai.com/v1/chat/completions \"HTTP/1.1 200 OK\"\n",
      "2024-09-01 23:03:20,626 - INFO - HTTP Request: POST https://api.openai.com/v1/chat/completions \"HTTP/1.1 200 OK\"\n",
      "2024-09-01 23:03:20,629 - INFO - Processed Magenta TV Sprachsteuerung - So einfach geht's.txt and saved to /Users/taha/Desktop/rag/data/TV/youtube_Magenta TV Sprachsteuerung - So einfach geht's.txt\n",
      "2024-09-01 23:03:21,297 - INFO - HTTP Request: POST https://api.openai.com/v1/chat/completions \"HTTP/1.1 200 OK\"\n",
      "2024-09-01 23:03:30,255 - INFO - HTTP Request: POST https://api.openai.com/v1/chat/completions \"HTTP/1.1 200 OK\"\n",
      "2024-09-01 23:03:31,746 - INFO - HTTP Request: POST https://api.openai.com/v1/chat/completions \"HTTP/1.1 200 OK\"\n",
      "2024-09-01 23:03:31,750 - INFO - Processed MagentaTV Sprachsteuerung： So nutzt du die Sprachbefehle effektiv.txt and saved to /Users/taha/Desktop/rag/data/TV/youtube_MagentaTV Sprachsteuerung： So nutzt du die Sprachbefehle effektiv.txt\n",
      "2024-09-01 23:03:32,560 - INFO - HTTP Request: POST https://api.openai.com/v1/chat/completions \"HTTP/1.1 200 OK\"\n",
      "2024-09-01 23:03:37,375 - INFO - HTTP Request: POST https://api.openai.com/v1/chat/completions \"HTTP/1.1 200 OK\"\n",
      "2024-09-01 23:03:39,114 - INFO - HTTP Request: POST https://api.openai.com/v1/chat/completions \"HTTP/1.1 200 OK\"\n",
      "2024-09-01 23:03:39,118 - INFO - Processed Enkel-Tipps： So finden Sie den nächstgelegenen Telekom Shop.txt and saved to /Users/taha/Desktop/rag/data/Geräte & Zubehör/youtube_Enkel-Tipps： So finden Sie den nächstgelegenen Telekom Shop.txt\n",
      "2024-09-01 23:03:39,934 - INFO - HTTP Request: POST https://api.openai.com/v1/chat/completions \"HTTP/1.1 200 OK\"\n",
      "2024-09-01 23:03:45,572 - INFO - HTTP Request: POST https://api.openai.com/v1/chat/completions \"HTTP/1.1 200 OK\"\n",
      "2024-09-01 23:03:47,047 - INFO - HTTP Request: POST https://api.openai.com/v1/chat/completions \"HTTP/1.1 200 OK\"\n",
      "2024-09-01 23:03:47,050 - INFO - Processed Angriffe aus dem Netz - Schutz vor'm Phishing! #shorts #telekom #magenta #security #fußball #5g.txt and saved to /Users/taha/Desktop/rag/data/Hilfe bei Störungen/youtube_Angriffe aus dem Netz - Schutz vor'm Phishing! #shorts #telekom #magenta #security #fußball #5g.txt\n",
      "2024-09-01 23:03:47,708 - INFO - HTTP Request: POST https://api.openai.com/v1/chat/completions \"HTTP/1.1 200 OK\"\n",
      "2024-09-01 23:03:56,114 - INFO - HTTP Request: POST https://api.openai.com/v1/chat/completions \"HTTP/1.1 200 OK\"\n",
      "2024-09-01 23:03:58,059 - INFO - HTTP Request: POST https://api.openai.com/v1/chat/completions \"HTTP/1.1 200 OK\"\n",
      "2024-09-01 23:03:58,062 - INFO - Processed Suchmaschinenoptimierung für Ihre Webseite–Besser gefunden werden mit Homepage-Baukasten der Telekom.txt and saved to /Users/taha/Desktop/rag/data/Internet & Telefonie/youtube_Suchmaschinenoptimierung für Ihre Webseite–Besser gefunden werden mit Homepage-Baukasten der Telekom.txt\n",
      "2024-09-01 23:03:58,673 - INFO - HTTP Request: POST https://api.openai.com/v1/chat/completions \"HTTP/1.1 200 OK\"\n",
      "2024-09-01 23:04:10,634 - INFO - HTTP Request: POST https://api.openai.com/v1/chat/completions \"HTTP/1.1 200 OK\"\n",
      "2024-09-01 23:04:12,090 - INFO - HTTP Request: POST https://api.openai.com/v1/chat/completions \"HTTP/1.1 200 OK\"\n",
      "2024-09-01 23:04:12,095 - INFO - Processed Telekom hilft News： Installation der MagentaTV App an eurem Smart TV.txt and saved to /Users/taha/Desktop/rag/data/TV/youtube_Telekom hilft News： Installation der MagentaTV App an eurem Smart TV.txt\n",
      "2024-09-01 23:04:12,702 - INFO - HTTP Request: POST https://api.openai.com/v1/chat/completions \"HTTP/1.1 200 OK\"\n",
      "2024-09-01 23:04:17,515 - INFO - HTTP Request: POST https://api.openai.com/v1/chat/completions \"HTTP/1.1 200 OK\"\n",
      "2024-09-01 23:04:19,153 - INFO - HTTP Request: POST https://api.openai.com/v1/chat/completions \"HTTP/1.1 200 OK\"\n",
      "2024-09-01 23:04:19,157 - INFO - Processed MeinMagenta App： Halte dein Datenvolumen im Blick! #shorts #magenta #telekom #diy #fyp #technology.txt and saved to /Users/taha/Desktop/rag/data/Apps & Dienste/youtube_MeinMagenta App： Halte dein Datenvolumen im Blick! #shorts #magenta #telekom #diy #fyp #technology.txt\n",
      "2024-09-01 23:04:20,381 - INFO - HTTP Request: POST https://api.openai.com/v1/chat/completions \"HTTP/1.1 200 OK\"\n",
      "2024-09-01 23:04:32,465 - INFO - HTTP Request: POST https://api.openai.com/v1/chat/completions \"HTTP/1.1 200 OK\"\n",
      "2024-09-01 23:04:34,206 - INFO - HTTP Request: POST https://api.openai.com/v1/chat/completions \"HTTP/1.1 200 OK\"\n",
      "2024-09-01 23:04:34,210 - INFO - Processed Digitale Organisation mit iOS-Geräten – Adressbuch, Kalender und Co. I Telekom Senioren-Akademie.txt and saved to /Users/taha/Desktop/rag/data/Geräte & Zubehör/youtube_Digitale Organisation mit iOS-Geräten – Adressbuch, Kalender und Co. I Telekom Senioren-Akademie.txt\n",
      "2024-09-01 23:04:34,922 - INFO - HTTP Request: POST https://api.openai.com/v1/chat/completions \"HTTP/1.1 200 OK\"\n",
      "2024-09-01 23:04:40,792 - INFO - HTTP Request: POST https://api.openai.com/v1/chat/completions \"HTTP/1.1 200 OK\"\n",
      "2024-09-01 23:04:42,296 - INFO - HTTP Request: POST https://api.openai.com/v1/chat/completions \"HTTP/1.1 200 OK\"\n",
      "2024-09-01 23:04:42,300 - INFO - Processed Bezahlen per Handyrechnung – so funktioniert´s Schritt für Schritt bei Android-Geräten I Telekom.txt and saved to /Users/taha/Desktop/rag/data/Mobilfunk/youtube_Bezahlen per Handyrechnung – so funktioniert´s Schritt für Schritt bei Android-Geräten I Telekom.txt\n",
      "2024-09-01 23:04:43,421 - INFO - HTTP Request: POST https://api.openai.com/v1/chat/completions \"HTTP/1.1 200 OK\"\n",
      "2024-09-01 23:04:48,544 - INFO - HTTP Request: POST https://api.openai.com/v1/chat/completions \"HTTP/1.1 200 OK\"\n",
      "2024-09-01 23:04:49,516 - INFO - HTTP Request: POST https://api.openai.com/v1/chat/completions \"HTTP/1.1 200 OK\"\n",
      "2024-09-01 23:04:49,524 - INFO - Processed Kennst du schon das Kundencenter？ Tipps und Funktionen einfach erklärt.txt and saved to /Users/taha/Desktop/rag/data/Vertrag & Rechnung/youtube_Kennst du schon das Kundencenter？ Tipps und Funktionen einfach erklärt.txt\n",
      "2024-09-01 23:04:50,283 - INFO - HTTP Request: POST https://api.openai.com/v1/chat/completions \"HTTP/1.1 200 OK\"\n",
      "2024-09-01 23:04:56,943 - INFO - HTTP Request: POST https://api.openai.com/v1/chat/completions \"HTTP/1.1 200 OK\"\n",
      "2024-09-01 23:04:58,170 - INFO - HTTP Request: POST https://api.openai.com/v1/chat/completions \"HTTP/1.1 200 OK\"\n",
      "2024-09-01 23:04:58,174 - INFO - Processed Hast Du schon die Mein Magenta App？.txt and saved to /Users/taha/Desktop/rag/data/Apps & Dienste/youtube_Hast Du schon die Mein Magenta App？.txt\n",
      "2024-09-01 23:04:59,090 - INFO - HTTP Request: POST https://api.openai.com/v1/chat/completions \"HTTP/1.1 200 OK\"\n",
      "2024-09-01 23:05:12,197 - INFO - HTTP Request: POST https://api.openai.com/v1/chat/completions \"HTTP/1.1 200 OK\"\n",
      "2024-09-01 23:05:14,348 - INFO - HTTP Request: POST https://api.openai.com/v1/chat/completions \"HTTP/1.1 200 OK\"\n",
      "2024-09-01 23:05:14,355 - INFO - Processed Digitalisierungsbox Smart & Premium - End-to-Site VPN mit einem Android Mobile Device einrichten.txt and saved to /Users/taha/Desktop/rag/data/Internet & Telefonie/youtube_Digitalisierungsbox Smart & Premium - End-to-Site VPN mit einem Android Mobile Device einrichten.txt\n",
      "2024-09-01 23:05:15,007 - INFO - HTTP Request: POST https://api.openai.com/v1/chat/completions \"HTTP/1.1 200 OK\"\n",
      "2024-09-01 23:05:18,138 - INFO - HTTP Request: POST https://api.openai.com/v1/chat/completions \"HTTP/1.1 200 OK\"\n",
      "2024-09-01 23:05:19,570 - INFO - HTTP Request: POST https://api.openai.com/v1/chat/completions \"HTTP/1.1 200 OK\"\n",
      "2024-09-01 23:05:19,574 - INFO - Processed Beste WLAN-Verbindung bei dir Zuhause! #telekom #wlan #netzwerk  #magenta #trending #help #tips #fyp.txt and saved to /Users/taha/Desktop/rag/data/Hilfe bei Störungen/youtube_Beste WLAN-Verbindung bei dir Zuhause! #telekom #wlan #netzwerk  #magenta #trending #help #tips #fyp.txt\n",
      "2024-09-01 23:05:20,492 - INFO - HTTP Request: POST https://api.openai.com/v1/chat/completions \"HTTP/1.1 200 OK\"\n",
      "2024-09-01 23:05:30,425 - INFO - HTTP Request: POST https://api.openai.com/v1/chat/completions \"HTTP/1.1 200 OK\"\n",
      "2024-09-01 23:05:33,190 - INFO - HTTP Request: POST https://api.openai.com/v1/chat/completions \"HTTP/1.1 200 OK\"\n",
      "2024-09-01 23:05:33,195 - INFO - Processed Videokonferenzen mit Zoom durchführen – Schritt-für-Schritt Anleitung I Telekom Senioren-Akademie.txt and saved to /Users/taha/Desktop/rag/data/Internet & Telefonie/youtube_Videokonferenzen mit Zoom durchführen – Schritt-für-Schritt Anleitung I Telekom Senioren-Akademie.txt\n",
      "2024-09-01 23:05:34,483 - INFO - HTTP Request: POST https://api.openai.com/v1/chat/completions \"HTTP/1.1 200 OK\"\n",
      "2024-09-01 23:05:48,754 - INFO - HTTP Request: POST https://api.openai.com/v1/chat/completions \"HTTP/1.1 200 OK\"\n",
      "2024-09-01 23:05:51,212 - INFO - HTTP Request: POST https://api.openai.com/v1/chat/completions \"HTTP/1.1 200 OK\"\n",
      "2024-09-01 23:05:51,216 - INFO - Processed Digitalisierungsbox Smart & Premium - Session Border Controller mit Unify OSBiz.txt and saved to /Users/taha/Desktop/rag/data/Internet & Telefonie/youtube_Digitalisierungsbox Smart & Premium - Session Border Controller mit Unify OSBiz.txt\n",
      "2024-09-01 23:05:51,928 - INFO - HTTP Request: POST https://api.openai.com/v1/chat/completions \"HTTP/1.1 200 OK\"\n",
      "2024-09-01 23:05:52,646 - INFO - HTTP Request: POST https://api.openai.com/v1/chat/completions \"HTTP/1.1 200 OK\"\n",
      "2024-09-01 23:05:53,466 - INFO - HTTP Request: POST https://api.openai.com/v1/chat/completions \"HTTP/1.1 200 OK\"\n",
      "2024-09-01 23:05:53,470 - INFO - Processed Telekom： Making of „Spamfilter“ #shorts.txt and saved to /Users/taha/Desktop/rag/data/Others/youtube_Telekom： Making of „Spamfilter“ #shorts.txt\n",
      "2024-09-01 23:05:54,283 - INFO - HTTP Request: POST https://api.openai.com/v1/chat/completions \"HTTP/1.1 200 OK\"\n",
      "2024-09-01 23:05:56,743 - INFO - HTTP Request: POST https://api.openai.com/v1/chat/completions \"HTTP/1.1 200 OK\"\n",
      "2024-09-01 23:05:58,176 - INFO - HTTP Request: POST https://api.openai.com/v1/chat/completions \"HTTP/1.1 200 OK\"\n",
      "2024-09-01 23:05:58,183 - INFO - Processed Kennt ihr schon unsere Videoberatung？ Hier ist MagentaService Live.txt and saved to /Users/taha/Desktop/rag/data/Geräte & Zubehör/youtube_Kennt ihr schon unsere Videoberatung？ Hier ist MagentaService Live.txt\n",
      "2024-09-01 23:05:58,994 - INFO - HTTP Request: POST https://api.openai.com/v1/chat/completions \"HTTP/1.1 200 OK\"\n",
      "2024-09-01 23:06:07,187 - INFO - HTTP Request: POST https://api.openai.com/v1/chat/completions \"HTTP/1.1 200 OK\"\n",
      "2024-09-01 23:06:09,747 - INFO - HTTP Request: POST https://api.openai.com/v1/chat/completions \"HTTP/1.1 200 OK\"\n",
      "2024-09-01 23:06:09,750 - INFO - Processed Die B2B Schnittstelle für Geschäftskunden.txt and saved to /Users/taha/Desktop/rag/data/Vertrag & Rechnung/youtube_Die B2B Schnittstelle für Geschäftskunden.txt\n",
      "2024-09-01 23:06:10,566 - INFO - HTTP Request: POST https://api.openai.com/v1/chat/completions \"HTTP/1.1 200 OK\"\n",
      "2024-09-01 23:06:22,926 - INFO - HTTP Request: POST https://api.openai.com/v1/chat/completions \"HTTP/1.1 200 OK\"\n",
      "2024-09-01 23:06:24,802 - INFO - HTTP Request: POST https://api.openai.com/v1/chat/completions \"HTTP/1.1 200 OK\"\n",
      "2024-09-01 23:06:24,808 - INFO - Processed MagentaZuhause Schnellstartpaket – So richtest du deinen Ersatzrouter schnell und einfach ein.txt and saved to /Users/taha/Desktop/rag/data/Internet & Telefonie/youtube_MagentaZuhause Schnellstartpaket – So richtest du deinen Ersatzrouter schnell und einfach ein.txt\n",
      "2024-09-01 23:06:25,471 - INFO - HTTP Request: POST https://api.openai.com/v1/chat/completions \"HTTP/1.1 200 OK\"\n",
      "2024-09-01 23:06:34,427 - INFO - HTTP Request: POST https://api.openai.com/v1/chat/completions \"HTTP/1.1 200 OK\"\n",
      "2024-09-01 23:06:36,475 - INFO - HTTP Request: POST https://api.openai.com/v1/chat/completions \"HTTP/1.1 200 OK\"\n",
      "2024-09-01 23:06:36,481 - INFO - Processed CompanyFlex Cloud PBX 2.0 - Anruf übernehmen leicht gemacht.txt and saved to /Users/taha/Desktop/rag/data/Apps & Dienste/youtube_CompanyFlex Cloud PBX 2.0 - Anruf übernehmen leicht gemacht.txt\n",
      "2024-09-01 23:06:37,503 - INFO - HTTP Request: POST https://api.openai.com/v1/chat/completions \"HTTP/1.1 200 OK\"\n",
      "2024-09-01 23:06:40,571 - INFO - HTTP Request: POST https://api.openai.com/v1/chat/completions \"HTTP/1.1 200 OK\"\n",
      "2024-09-01 23:06:43,031 - INFO - HTTP Request: POST https://api.openai.com/v1/chat/completions \"HTTP/1.1 200 OK\"\n",
      "2024-09-01 23:06:43,037 - INFO - Processed WLAN-Name ändern leicht gemacht! #shorts #telekom #magenta #wlan #security #hilfe #smartphone #tech.txt and saved to /Users/taha/Desktop/rag/data/Internet & Telefonie/youtube_WLAN-Name ändern leicht gemacht! #shorts #telekom #magenta #wlan #security #hilfe #smartphone #tech.txt\n",
      "2024-09-01 23:06:43,951 - INFO - HTTP Request: POST https://api.openai.com/v1/chat/completions \"HTTP/1.1 200 OK\"\n",
      "2024-09-01 23:06:54,418 - INFO - HTTP Request: POST https://api.openai.com/v1/chat/completions \"HTTP/1.1 200 OK\"\n",
      "2024-09-01 23:06:55,931 - INFO - HTTP Request: POST https://api.openai.com/v1/chat/completions \"HTTP/1.1 200 OK\"\n",
      "2024-09-01 23:06:55,937 - INFO - Processed Enkel-Tipp： Kontakte verwalten + Geburtsdatum hinzufügen beim iPhone.txt and saved to /Users/taha/Desktop/rag/data/Geräte & Zubehör/youtube_Enkel-Tipp： Kontakte verwalten + Geburtsdatum hinzufügen beim iPhone.txt\n",
      "2024-09-01 23:06:56,956 - INFO - HTTP Request: POST https://api.openai.com/v1/chat/completions \"HTTP/1.1 200 OK\"\n",
      "2024-09-01 23:07:03,100 - INFO - HTTP Request: POST https://api.openai.com/v1/chat/completions \"HTTP/1.1 200 OK\"\n",
      "2024-09-01 23:07:04,636 - INFO - HTTP Request: POST https://api.openai.com/v1/chat/completions \"HTTP/1.1 200 OK\"\n",
      "2024-09-01 23:07:04,641 - INFO - Processed Router-Notfallhilfe： Schnelle Lösungen bei Ausfällen #shorts #telekom #hilfe #router #magenta.txt and saved to /Users/taha/Desktop/rag/data/Hilfe bei Störungen/youtube_Router-Notfallhilfe： Schnelle Lösungen bei Ausfällen #shorts #telekom #hilfe #router #magenta.txt\n",
      "2024-09-01 23:07:06,683 - INFO - HTTP Request: POST https://api.openai.com/v1/chat/completions \"HTTP/1.1 200 OK\"\n",
      "2024-09-01 23:07:17,255 - INFO - HTTP Request: POST https://api.openai.com/v1/chat/completions \"HTTP/1.1 200 OK\"\n",
      "2024-09-01 23:07:18,765 - INFO - HTTP Request: POST https://api.openai.com/v1/chat/completions \"HTTP/1.1 200 OK\"\n",
      "2024-09-01 23:07:18,769 - INFO - Processed Gönn deinem Router eine Auszeit - Wie und weshalb？! #shorts #telekom #hilfe #router #reset #magenta.txt and saved to /Users/taha/Desktop/rag/data/Hilfe bei Störungen/youtube_Gönn deinem Router eine Auszeit - Wie und weshalb？! #shorts #telekom #hilfe #router #reset #magenta.txt\n",
      "2024-09-01 23:07:19,585 - INFO - HTTP Request: POST https://api.openai.com/v1/chat/completions \"HTTP/1.1 200 OK\"\n",
      "2024-09-01 23:07:31,689 - INFO - HTTP Request: POST https://api.openai.com/v1/chat/completions \"HTTP/1.1 200 OK\"\n",
      "2024-09-01 23:07:33,408 - INFO - HTTP Request: POST https://api.openai.com/v1/chat/completions \"HTTP/1.1 200 OK\"\n",
      "2024-09-01 23:07:33,412 - INFO - Processed Telekom hilft News： Wichtige Tipps zur Registrierung bei Disney+.txt and saved to /Users/taha/Desktop/rag/data/Apps & Dienste/youtube_Telekom hilft News： Wichtige Tipps zur Registrierung bei Disney+.txt\n",
      "2024-09-01 23:07:34,587 - INFO - HTTP Request: POST https://api.openai.com/v1/chat/completions \"HTTP/1.1 200 OK\"\n",
      "2024-09-01 23:07:43,957 - INFO - HTTP Request: POST https://api.openai.com/v1/chat/completions \"HTTP/1.1 200 OK\"\n",
      "2024-09-01 23:07:45,596 - INFO - HTTP Request: POST https://api.openai.com/v1/chat/completions \"HTTP/1.1 200 OK\"\n",
      "2024-09-01 23:07:45,602 - INFO - Processed Enkel-Tipp： iPhone mit WLAN verbinden.txt and saved to /Users/taha/Desktop/rag/data/Hilfe bei Störungen/youtube_Enkel-Tipp： iPhone mit WLAN verbinden.txt\n",
      "2024-09-01 23:07:46,414 - INFO - HTTP Request: POST https://api.openai.com/v1/chat/completions \"HTTP/1.1 200 OK\"\n",
      "2024-09-01 23:07:59,522 - INFO - HTTP Request: POST https://api.openai.com/v1/chat/completions \"HTTP/1.1 200 OK\"\n",
      "2024-09-01 23:08:01,262 - INFO - HTTP Request: POST https://api.openai.com/v1/chat/completions \"HTTP/1.1 200 OK\"\n",
      "2024-09-01 23:08:01,265 - INFO - Processed Die neuen MagentaMobil Angebote für alle, die Familie sind - MagentaEins Vorteil.txt and saved to /Users/taha/Desktop/rag/data/MagentaEINS/youtube_Die neuen MagentaMobil Angebote für alle, die Familie sind - MagentaEins Vorteil.txt\n",
      "2024-09-01 23:08:02,183 - INFO - HTTP Request: POST https://api.openai.com/v1/chat/completions \"HTTP/1.1 200 OK\"\n",
      "2024-09-01 23:08:09,865 - INFO - HTTP Request: POST https://api.openai.com/v1/chat/completions \"HTTP/1.1 200 OK\"\n",
      "2024-09-01 23:08:12,116 - INFO - HTTP Request: POST https://api.openai.com/v1/chat/completions \"HTTP/1.1 200 OK\"\n",
      "2024-09-01 23:08:12,119 - INFO - Processed Fußball schauen im Garten？ Speed Home WLAN macht es möglich! #shorts #telekom #fußball #em2024.txt and saved to /Users/taha/Desktop/rag/data/Internet & Telefonie/youtube_Fußball schauen im Garten？ Speed Home WLAN macht es möglich! #shorts #telekom #fußball #em2024.txt\n",
      "2024-09-01 23:08:13,242 - INFO - HTTP Request: POST https://api.openai.com/v1/chat/completions \"HTTP/1.1 200 OK\"\n",
      "2024-09-01 23:08:23,074 - INFO - HTTP Request: POST https://api.openai.com/v1/chat/completions \"HTTP/1.1 200 OK\"\n",
      "2024-09-01 23:08:25,634 - INFO - HTTP Request: POST https://api.openai.com/v1/chat/completions \"HTTP/1.1 200 OK\"\n",
      "2024-09-01 23:08:25,639 - INFO - Processed Telekom： Digitalisierungsbox Premium 2 - Ersteinrichtung PBX.txt and saved to /Users/taha/Desktop/rag/data/Geräte & Zubehör/youtube_Telekom： Digitalisierungsbox Premium 2 - Ersteinrichtung PBX.txt\n",
      "2024-09-01 23:08:27,069 - INFO - HTTP Request: POST https://api.openai.com/v1/chat/completions \"HTTP/1.1 200 OK\"\n",
      "2024-09-01 23:08:35,670 - INFO - HTTP Request: POST https://api.openai.com/v1/chat/completions \"HTTP/1.1 200 OK\"\n",
      "2024-09-01 23:08:37,103 - INFO - HTTP Request: POST https://api.openai.com/v1/chat/completions \"HTTP/1.1 200 OK\"\n",
      "2024-09-01 23:08:37,108 - INFO - Processed Probleme mit dem Computer？ - Der Digital Home Service hilft! #shorts #telekom #telekomhilft #magenta.txt and saved to /Users/taha/Desktop/rag/data/Hilfe bei Störungen/youtube_Probleme mit dem Computer？ - Der Digital Home Service hilft! #shorts #telekom #telekomhilft #magenta.txt\n",
      "2024-09-01 23:08:38,023 - INFO - HTTP Request: POST https://api.openai.com/v1/chat/completions \"HTTP/1.1 200 OK\"\n",
      "2024-09-01 23:08:51,349 - INFO - HTTP Request: POST https://api.openai.com/v1/chat/completions \"HTTP/1.1 200 OK\"\n",
      "2024-09-01 23:08:52,565 - INFO - HTTP Request: POST https://api.openai.com/v1/chat/completions \"HTTP/1.1 200 OK\"\n",
      "2024-09-01 23:08:52,568 - INFO - Processed Telekom hilft News - Thomas stellt euch die Telekom Speedbox 2 vor.txt and saved to /Users/taha/Desktop/rag/data/Geräte & Zubehör/youtube_Telekom hilft News - Thomas stellt euch die Telekom Speedbox 2 vor.txt\n",
      "2024-09-01 23:08:53,183 - INFO - HTTP Request: POST https://api.openai.com/v1/chat/completions \"HTTP/1.1 200 OK\"\n",
      "2024-09-01 23:09:01,488 - INFO - HTTP Request: POST https://api.openai.com/v1/chat/completions \"HTTP/1.1 200 OK\"\n",
      "2024-09-01 23:09:03,011 - INFO - HTTP Request: POST https://api.openai.com/v1/chat/completions \"HTTP/1.1 200 OK\"\n",
      "2024-09-01 23:09:03,017 - INFO - Processed Telefoniecenter – Alles zur Sprachbox.txt and saved to /Users/taha/Desktop/rag/data/Internet & Telefonie/youtube_Telefoniecenter – Alles zur Sprachbox.txt\n",
      "2024-09-01 23:09:03,726 - INFO - HTTP Request: POST https://api.openai.com/v1/chat/completions \"HTTP/1.1 200 OK\"\n",
      "2024-09-01 23:09:11,202 - INFO - HTTP Request: POST https://api.openai.com/v1/chat/completions \"HTTP/1.1 200 OK\"\n",
      "2024-09-01 23:09:12,328 - INFO - HTTP Request: POST https://api.openai.com/v1/chat/completions \"HTTP/1.1 200 OK\"\n",
      "2024-09-01 23:09:12,332 - INFO - Processed Glasfaser II #shorts #telekom #telekomhilft #magenta.txt and saved to /Users/taha/Desktop/rag/data/Internet & Telefonie/youtube_Glasfaser II #shorts #telekom #telekomhilft #magenta.txt\n",
      "2024-09-01 23:09:13,356 - INFO - HTTP Request: POST https://api.openai.com/v1/chat/completions \"HTTP/1.1 200 OK\"\n",
      "2024-09-01 23:09:22,057 - INFO - HTTP Request: POST https://api.openai.com/v1/chat/completions \"HTTP/1.1 200 OK\"\n",
      "2024-09-01 23:09:24,003 - INFO - HTTP Request: POST https://api.openai.com/v1/chat/completions \"HTTP/1.1 200 OK\"\n",
      "2024-09-01 23:09:24,010 - INFO - Processed Wie installiere ich ein Magenta SmartHome Heizkörperthermostat？ ｜ Telekom.txt and saved to /Users/taha/Desktop/rag/data/Geräte & Zubehör/youtube_Wie installiere ich ein Magenta SmartHome Heizkörperthermostat？ ｜ Telekom.txt\n",
      "2024-09-01 23:09:24,820 - INFO - HTTP Request: POST https://api.openai.com/v1/chat/completions \"HTTP/1.1 200 OK\"\n",
      "2024-09-01 23:09:35,267 - INFO - HTTP Request: POST https://api.openai.com/v1/chat/completions \"HTTP/1.1 200 OK\"\n",
      "2024-09-01 23:09:36,703 - INFO - HTTP Request: POST https://api.openai.com/v1/chat/completions \"HTTP/1.1 200 OK\"\n",
      "2024-09-01 23:09:36,709 - INFO - Processed Individuelle Firmenhomepage – einfach und professionell mit dem Homepage-Baukasten der Telekom.txt and saved to /Users/taha/Desktop/rag/data/Apps & Dienste/youtube_Individuelle Firmenhomepage – einfach und professionell mit dem Homepage-Baukasten der Telekom.txt\n",
      "2024-09-01 23:09:37,518 - INFO - HTTP Request: POST https://api.openai.com/v1/chat/completions \"HTTP/1.1 200 OK\"\n",
      "2024-09-01 23:09:43,666 - INFO - HTTP Request: POST https://api.openai.com/v1/chat/completions \"HTTP/1.1 200 OK\"\n",
      "2024-09-01 23:09:44,896 - INFO - HTTP Request: POST https://api.openai.com/v1/chat/completions \"HTTP/1.1 200 OK\"\n",
      "2024-09-01 23:09:44,903 - INFO - Processed Kennst Du...unseren WhatsApp Service？ I Telekom.txt and saved to /Users/taha/Desktop/rag/data/Internet & Telefonie/youtube_Kennst Du...unseren WhatsApp Service？ I Telekom.txt\n",
      "2024-09-01 23:09:45,609 - INFO - HTTP Request: POST https://api.openai.com/v1/chat/completions \"HTTP/1.1 200 OK\"\n",
      "2024-09-01 23:09:57,488 - INFO - HTTP Request: POST https://api.openai.com/v1/chat/completions \"HTTP/1.1 200 OK\"\n",
      "2024-09-01 23:09:59,024 - INFO - HTTP Request: POST https://api.openai.com/v1/chat/completions \"HTTP/1.1 200 OK\"\n",
      "2024-09-01 23:09:59,029 - INFO - Processed Glasfaser III #shorts #telekom #telekomhilft #magenta.txt and saved to /Users/taha/Desktop/rag/data/Internet & Telefonie/youtube_Glasfaser III #shorts #telekom #telekomhilft #magenta.txt\n",
      "2024-09-01 23:09:59,945 - INFO - HTTP Request: POST https://api.openai.com/v1/chat/completions \"HTTP/1.1 200 OK\"\n",
      "2024-09-01 23:10:15,306 - INFO - HTTP Request: POST https://api.openai.com/v1/chat/completions \"HTTP/1.1 200 OK\"\n",
      "2024-09-01 23:10:17,763 - INFO - HTTP Request: POST https://api.openai.com/v1/chat/completions \"HTTP/1.1 200 OK\"\n",
      "2024-09-01 23:10:17,765 - INFO - Processed Alles zur Telekom Abschlussrechnung bei Mobilfunk-Verträgen.txt and saved to /Users/taha/Desktop/rag/data/Vertrag & Rechnung/youtube_Alles zur Telekom Abschlussrechnung bei Mobilfunk-Verträgen.txt\n",
      "2024-09-01 23:10:18,889 - INFO - HTTP Request: POST https://api.openai.com/v1/chat/completions \"HTTP/1.1 200 OK\"\n",
      "2024-09-01 23:10:32,303 - INFO - HTTP Request: POST https://api.openai.com/v1/chat/completions \"HTTP/1.1 200 OK\"\n",
      "2024-09-01 23:10:34,148 - INFO - HTTP Request: POST https://api.openai.com/v1/chat/completions \"HTTP/1.1 200 OK\"\n",
      "2024-09-01 23:10:34,152 - INFO - Processed CompanyFlex Cloud PBX 2.0 - Outlook Integration.txt and saved to /Users/taha/Desktop/rag/data/Apps & Dienste/youtube_CompanyFlex Cloud PBX 2.0 - Outlook Integration.txt\n",
      "2024-09-01 23:10:34,761 - INFO - HTTP Request: POST https://api.openai.com/v1/chat/completions \"HTTP/1.1 200 OK\"\n",
      "2024-09-01 23:10:43,774 - INFO - HTTP Request: POST https://api.openai.com/v1/chat/completions \"HTTP/1.1 200 OK\"\n",
      "2024-09-01 23:10:44,899 - INFO - HTTP Request: POST https://api.openai.com/v1/chat/completions \"HTTP/1.1 200 OK\"\n",
      "2024-09-01 23:10:44,902 - INFO - Processed MagentaTV Summer Essentials! #telekom #magenta #em2024  #fußball #tipps #magentatv.txt and saved to /Users/taha/Desktop/rag/data/TV/youtube_MagentaTV Summer Essentials! #telekom #magenta #em2024  #fußball #tipps #magentatv.txt\n",
      "2024-09-01 23:10:45,820 - INFO - HTTP Request: POST https://api.openai.com/v1/chat/completions \"HTTP/1.1 200 OK\"\n",
      "2024-09-01 23:10:51,455 - INFO - HTTP Request: POST https://api.openai.com/v1/chat/completions \"HTTP/1.1 200 OK\"\n",
      "2024-09-01 23:10:53,912 - INFO - HTTP Request: POST https://api.openai.com/v1/chat/completions \"HTTP/1.1 200 OK\"\n",
      "2024-09-01 23:10:53,917 - INFO - Processed Glasfaser oder Kupfer - Welchen Router brauche Ich？ #shorts #telekom #telekomhilft #magenta.txt and saved to /Users/taha/Desktop/rag/data/Internet & Telefonie/youtube_Glasfaser oder Kupfer - Welchen Router brauche Ich？ #shorts #telekom #telekomhilft #magenta.txt\n",
      "2024-09-01 23:10:54,834 - INFO - HTTP Request: POST https://api.openai.com/v1/chat/completions \"HTTP/1.1 200 OK\"\n",
      "2024-09-01 23:11:06,096 - INFO - HTTP Request: POST https://api.openai.com/v1/chat/completions \"HTTP/1.1 200 OK\"\n",
      "2024-09-01 23:11:08,071 - INFO - HTTP Request: POST https://api.openai.com/v1/chat/completions \"HTTP/1.1 200 OK\"\n",
      "2024-09-01 23:11:08,075 - INFO - Processed Telekom： Digitalisierungsbox Premium 2 - Ersteinrichtung DECT150.txt and saved to /Users/taha/Desktop/rag/data/Internet & Telefonie/youtube_Telekom： Digitalisierungsbox Premium 2 - Ersteinrichtung DECT150.txt\n",
      "2024-09-01 23:11:08,729 - INFO - HTTP Request: POST https://api.openai.com/v1/chat/completions \"HTTP/1.1 200 OK\"\n",
      "2024-09-01 23:11:14,493 - INFO - HTTP Request: POST https://api.openai.com/v1/chat/completions \"HTTP/1.1 200 OK\"\n",
      "2024-09-01 23:11:16,133 - INFO - HTTP Request: POST https://api.openai.com/v1/chat/completions \"HTTP/1.1 200 OK\"\n",
      "2024-09-01 23:11:16,136 - INFO - Processed Leitung selbst freischalten - So geht's! #telekom #hilfe #leitung #magenta #shorts #.txt and saved to /Users/taha/Desktop/rag/data/Internet & Telefonie/youtube_Leitung selbst freischalten - So geht's! #telekom #hilfe #leitung #magenta #shorts #.txt\n",
      "2024-09-01 23:11:17,207 - INFO - HTTP Request: POST https://api.openai.com/v1/chat/completions \"HTTP/1.1 200 OK\"\n",
      "2024-09-01 23:11:25,349 - INFO - HTTP Request: POST https://api.openai.com/v1/chat/completions \"HTTP/1.1 200 OK\"\n",
      "2024-09-01 23:11:27,089 - INFO - HTTP Request: POST https://api.openai.com/v1/chat/completions \"HTTP/1.1 200 OK\"\n",
      "2024-09-01 23:11:27,092 - INFO - Processed Telekom： Selfie-Ident via App - Einfache Identitätsbestätigung Schritt für Schritt.txt and saved to /Users/taha/Desktop/rag/data/Apps & Dienste/youtube_Telekom： Selfie-Ident via App - Einfache Identitätsbestätigung Schritt für Schritt.txt\n",
      "2024-09-01 23:11:27,805 - INFO - HTTP Request: POST https://api.openai.com/v1/chat/completions \"HTTP/1.1 200 OK\"\n",
      "2024-09-01 23:11:41,118 - INFO - HTTP Request: POST https://api.openai.com/v1/chat/completions \"HTTP/1.1 200 OK\"\n",
      "2024-09-01 23:11:42,656 - INFO - HTTP Request: POST https://api.openai.com/v1/chat/completions \"HTTP/1.1 200 OK\"\n",
      "2024-09-01 23:11:42,662 - INFO - Processed Heimnetz – Die besten Tipps für ein perfektes WLAN und Internet in allen Räumen I Telekom.txt and saved to /Users/taha/Desktop/rag/data/Internet & Telefonie/youtube_Heimnetz – Die besten Tipps für ein perfektes WLAN und Internet in allen Räumen I Telekom.txt\n",
      "2024-09-01 23:11:43,423 - INFO - HTTP Request: POST https://api.openai.com/v1/chat/completions \"HTTP/1.1 200 OK\"\n",
      "2024-09-01 23:11:49,003 - INFO - HTTP Request: POST https://api.openai.com/v1/chat/completions \"HTTP/1.1 200 OK\"\n",
      "2024-09-01 23:11:50,234 - INFO - HTTP Request: POST https://api.openai.com/v1/chat/completions \"HTTP/1.1 200 OK\"\n",
      "2024-09-01 23:11:50,237 - INFO - Processed Enkel-Tipp： Wecker stellen beim Android Smartphone.txt and saved to /Users/taha/Desktop/rag/data/Geräte & Zubehör/youtube_Enkel-Tipp： Wecker stellen beim Android Smartphone.txt\n",
      "2024-09-01 23:11:50,947 - INFO - HTTP Request: POST https://api.openai.com/v1/chat/completions \"HTTP/1.1 200 OK\"\n",
      "2024-09-01 23:12:03,951 - INFO - HTTP Request: POST https://api.openai.com/v1/chat/completions \"HTTP/1.1 200 OK\"\n",
      "2024-09-01 23:12:05,581 - INFO - HTTP Request: POST https://api.openai.com/v1/chat/completions \"HTTP/1.1 200 OK\"\n",
      "2024-09-01 23:12:05,586 - INFO - Processed WLAN überall： Richte Dein Speed Home WLAN richtig ein.txt and saved to /Users/taha/Desktop/rag/data/Internet & Telefonie/youtube_WLAN überall： Richte Dein Speed Home WLAN richtig ein.txt\n",
      "2024-09-01 23:12:06,617 - INFO - HTTP Request: POST https://api.openai.com/v1/chat/completions \"HTTP/1.1 200 OK\"\n",
      "2024-09-01 23:12:24,538 - INFO - HTTP Request: POST https://api.openai.com/v1/chat/completions \"HTTP/1.1 200 OK\"\n",
      "2024-09-01 23:12:26,073 - INFO - HTTP Request: POST https://api.openai.com/v1/chat/completions \"HTTP/1.1 200 OK\"\n",
      "2024-09-01 23:12:26,080 - INFO - Processed Telekom： Digitalisierungsbox Premium- Ersteinrichtung Telefonanlage an einem SIP-Mehrgeräteanschluss.txt and saved to /Users/taha/Desktop/rag/data/Hilfe bei Störungen/youtube_Telekom： Digitalisierungsbox Premium- Ersteinrichtung Telefonanlage an einem SIP-Mehrgeräteanschluss.txt\n",
      "2024-09-01 23:12:26,887 - INFO - HTTP Request: POST https://api.openai.com/v1/chat/completions \"HTTP/1.1 200 OK\"\n",
      "2024-09-01 23:12:37,747 - INFO - HTTP Request: POST https://api.openai.com/v1/chat/completions \"HTTP/1.1 200 OK\"\n",
      "2024-09-01 23:12:38,871 - INFO - HTTP Request: POST https://api.openai.com/v1/chat/completions \"HTTP/1.1 200 OK\"\n",
      "2024-09-01 23:12:38,874 - INFO - Processed Änderung der LAN IP Adresse bei der Digitalisierungsbox Smart.txt and saved to /Users/taha/Desktop/rag/data/Internet & Telefonie/youtube_Änderung der LAN IP Adresse bei der Digitalisierungsbox Smart.txt\n",
      "2024-09-01 23:12:39,691 - INFO - HTTP Request: POST https://api.openai.com/v1/chat/completions \"HTTP/1.1 200 OK\"\n",
      "2024-09-01 23:12:50,139 - INFO - HTTP Request: POST https://api.openai.com/v1/chat/completions \"HTTP/1.1 200 OK\"\n",
      "2024-09-01 23:12:51,469 - INFO - HTTP Request: POST https://api.openai.com/v1/chat/completions \"HTTP/1.1 200 OK\"\n",
      "2024-09-01 23:12:51,473 - INFO - Processed Telekom hilft News： Speedbox – Mobil und flexibel ins Internet.txt and saved to /Users/taha/Desktop/rag/data/Internet & Telefonie/youtube_Telekom hilft News： Speedbox – Mobil und flexibel ins Internet.txt\n",
      "2024-09-01 23:12:52,286 - INFO - HTTP Request: POST https://api.openai.com/v1/chat/completions \"HTTP/1.1 200 OK\"\n",
      "2024-09-01 23:13:11,027 - INFO - HTTP Request: POST https://api.openai.com/v1/chat/completions \"HTTP/1.1 200 OK\"\n",
      "2024-09-01 23:13:13,692 - INFO - HTTP Request: POST https://api.openai.com/v1/chat/completions \"HTTP/1.1 200 OK\"\n",
      "2024-09-01 23:13:13,696 - INFO - Processed Для українців： як перевести безкоштовну картку мобільного телефону на передплачений тариф I Telekom.txt and saved to /Users/taha/Desktop/rag/data/Mobilfunk/youtube_Для українців： як перевести безкоштовну картку мобільного телефону на передплачений тариф I Telekom.txt\n",
      "2024-09-01 23:13:14,256 - INFO - HTTP Request: POST https://api.openai.com/v1/chat/completions \"HTTP/1.1 200 OK\"\n",
      "2024-09-01 23:13:25,159 - INFO - HTTP Request: POST https://api.openai.com/v1/chat/completions \"HTTP/1.1 200 OK\"\n",
      "2024-09-01 23:13:26,284 - INFO - HTTP Request: POST https://api.openai.com/v1/chat/completions \"HTTP/1.1 200 OK\"\n",
      "2024-09-01 23:13:26,288 - INFO - Processed Telekom hilft News： Die neue Oberfläche von MagentaTV.txt and saved to /Users/taha/Desktop/rag/data/TV/youtube_Telekom hilft News： Die neue Oberfläche von MagentaTV.txt\n",
      "2024-09-01 23:13:26,925 - INFO - HTTP Request: POST https://api.openai.com/v1/chat/completions \"HTTP/1.1 200 OK\"\n",
      "2024-09-01 23:13:35,710 - INFO - HTTP Request: POST https://api.openai.com/v1/chat/completions \"HTTP/1.1 200 OK\"\n",
      "2024-09-01 23:13:37,139 - INFO - HTTP Request: POST https://api.openai.com/v1/chat/completions \"HTTP/1.1 200 OK\"\n",
      "2024-09-01 23:13:37,147 - INFO - Processed Ready to Surf： Dein neuer Festnetzanschluss ohne Techniker - Schnell und Einfach!.txt and saved to /Users/taha/Desktop/rag/data/Internet & Telefonie/youtube_Ready to Surf： Dein neuer Festnetzanschluss ohne Techniker - Schnell und Einfach!.txt\n",
      "2024-09-01 23:13:37,854 - INFO - HTTP Request: POST https://api.openai.com/v1/chat/completions \"HTTP/1.1 200 OK\"\n",
      "2024-09-01 23:13:45,228 - INFO - HTTP Request: POST https://api.openai.com/v1/chat/completions \"HTTP/1.1 200 OK\"\n",
      "2024-09-01 23:13:46,457 - INFO - HTTP Request: POST https://api.openai.com/v1/chat/completions \"HTTP/1.1 200 OK\"\n",
      "2024-09-01 23:13:46,463 - INFO - Processed Kennst Du…unseren Digital Home Service？.txt and saved to /Users/taha/Desktop/rag/data/Hilfe bei Störungen/youtube_Kennst Du…unseren Digital Home Service？.txt\n",
      "2024-09-01 23:13:47,258 - INFO - HTTP Request: POST https://api.openai.com/v1/chat/completions \"HTTP/1.1 200 OK\"\n",
      "2024-09-01 23:13:55,776 - INFO - HTTP Request: POST https://api.openai.com/v1/chat/completions \"HTTP/1.1 200 OK\"\n",
      "2024-09-01 23:13:57,518 - INFO - HTTP Request: POST https://api.openai.com/v1/chat/completions \"HTTP/1.1 200 OK\"\n",
      "2024-09-01 23:13:57,524 - INFO - Processed ZOOM Seminare der Telekom Senioren-Akademie - Teilnahme mit einem Windows-PC.txt and saved to /Users/taha/Desktop/rag/data/Internet & Telefonie/youtube_ZOOM Seminare der Telekom Senioren-Akademie - Teilnahme mit einem Windows-PC.txt\n",
      "2024-09-01 23:13:58,335 - INFO - HTTP Request: POST https://api.openai.com/v1/chat/completions \"HTTP/1.1 200 OK\"\n",
      "2024-09-01 23:14:07,552 - INFO - HTTP Request: POST https://api.openai.com/v1/chat/completions \"HTTP/1.1 200 OK\"\n",
      "2024-09-01 23:14:09,600 - INFO - HTTP Request: POST https://api.openai.com/v1/chat/completions \"HTTP/1.1 200 OK\"\n",
      "2024-09-01 23:14:09,603 - INFO - Processed Telekom Digitalisierungsbox Smart 2： PBX Ersteinrichtung leicht gemacht.txt and saved to /Users/taha/Desktop/rag/data/Internet & Telefonie/youtube_Telekom Digitalisierungsbox Smart 2： PBX Ersteinrichtung leicht gemacht.txt\n",
      "2024-09-01 23:14:10,418 - INFO - HTTP Request: POST https://api.openai.com/v1/chat/completions \"HTTP/1.1 200 OK\"\n",
      "2024-09-01 23:14:20,456 - INFO - HTTP Request: POST https://api.openai.com/v1/chat/completions \"HTTP/1.1 200 OK\"\n",
      "2024-09-01 23:14:21,889 - INFO - HTTP Request: POST https://api.openai.com/v1/chat/completions \"HTTP/1.1 200 OK\"\n",
      "2024-09-01 23:14:21,893 - INFO - Processed So geht das Verlegen der Glasfaser： Was Sie bei den Leitungswegen beachten müssen ｜ Telekom.txt and saved to /Users/taha/Desktop/rag/data/Internet & Telefonie/youtube_So geht das Verlegen der Glasfaser： Was Sie bei den Leitungswegen beachten müssen ｜ Telekom.txt\n",
      "2024-09-01 23:14:22,709 - INFO - HTTP Request: POST https://api.openai.com/v1/chat/completions \"HTTP/1.1 200 OK\"\n",
      "2024-09-01 23:14:31,513 - INFO - HTTP Request: POST https://api.openai.com/v1/chat/completions \"HTTP/1.1 200 OK\"\n",
      "2024-09-01 23:14:32,639 - INFO - HTTP Request: POST https://api.openai.com/v1/chat/completions \"HTTP/1.1 200 OK\"\n",
      "2024-09-01 23:14:32,643 - INFO - Processed Werde Teil der Telekom hilft Community! #telekom #shorts #magenta #fyp #community #like #follow #yt.txt and saved to /Users/taha/Desktop/rag/data/Internet & Telefonie/youtube_Werde Teil der Telekom hilft Community! #telekom #shorts #magenta #fyp #community #like #follow #yt.txt\n",
      "2024-09-01 23:14:33,460 - INFO - HTTP Request: POST https://api.openai.com/v1/chat/completions \"HTTP/1.1 200 OK\"\n",
      "2024-09-01 23:14:42,163 - INFO - HTTP Request: POST https://api.openai.com/v1/chat/completions \"HTTP/1.1 200 OK\"\n",
      "2024-09-01 23:14:44,214 - INFO - HTTP Request: POST https://api.openai.com/v1/chat/completions \"HTTP/1.1 200 OK\"\n",
      "2024-09-01 23:14:44,218 - INFO - Processed Telekom： Digibox Smart 2 + Premium 2 – Client-to-Site mit Apple iOS ⧸ iPadOS.txt and saved to /Users/taha/Desktop/rag/data/Internet & Telefonie/youtube_Telekom： Digibox Smart 2 + Premium 2 – Client-to-Site mit Apple iOS ⧸ iPadOS.txt\n",
      "2024-09-01 23:14:44,927 - INFO - HTTP Request: POST https://api.openai.com/v1/chat/completions \"HTTP/1.1 200 OK\"\n",
      "2024-09-01 23:14:49,892 - INFO - HTTP Request: POST https://api.openai.com/v1/chat/completions \"HTTP/1.1 200 OK\"\n",
      "2024-09-01 23:14:51,687 - INFO - HTTP Request: POST https://api.openai.com/v1/chat/completions \"HTTP/1.1 200 OK\"\n",
      "2024-09-01 23:14:51,693 - INFO - Processed Enkel-Tipps： Was sind Apps？ - Einfache Erklärung.txt and saved to /Users/taha/Desktop/rag/data/Apps & Dienste/youtube_Enkel-Tipps： Was sind Apps？ - Einfache Erklärung.txt\n",
      "2024-09-01 23:14:52,506 - INFO - HTTP Request: POST https://api.openai.com/v1/chat/completions \"HTTP/1.1 200 OK\"\n",
      "2024-09-01 23:14:59,981 - INFO - HTTP Request: POST https://api.openai.com/v1/chat/completions \"HTTP/1.1 200 OK\"\n",
      "2024-09-01 23:15:01,665 - INFO - HTTP Request: POST https://api.openai.com/v1/chat/completions \"HTTP/1.1 200 OK\"\n",
      "2024-09-01 23:15:01,672 - INFO - Processed CompanyFlex Cloud PBX 2.0 - ControlHub.txt and saved to /Users/taha/Desktop/rag/data/Apps & Dienste/youtube_CompanyFlex Cloud PBX 2.0 - ControlHub.txt\n",
      "2024-09-01 23:15:02,438 - INFO - HTTP Request: POST https://api.openai.com/v1/chat/completions \"HTTP/1.1 200 OK\"\n",
      "2024-09-01 23:15:12,123 - INFO - HTTP Request: POST https://api.openai.com/v1/chat/completions \"HTTP/1.1 200 OK\"\n",
      "2024-09-01 23:15:14,012 - INFO - HTTP Request: POST https://api.openai.com/v1/chat/completions \"HTTP/1.1 200 OK\"\n",
      "2024-09-01 23:15:14,015 - INFO - Processed Digitales Zeitalter verstehen und nutzen - Kennst Du...die Telekom Senioren-Akademie？ I Telekom.txt and saved to /Users/taha/Desktop/rag/data/Apps & Dienste/youtube_Digitales Zeitalter verstehen und nutzen - Kennst Du...die Telekom Senioren-Akademie？ I Telekom.txt\n",
      "2024-09-01 23:15:14,830 - INFO - HTTP Request: POST https://api.openai.com/v1/chat/completions \"HTTP/1.1 200 OK\"\n",
      "2024-09-01 23:15:22,244 - INFO - HTTP Request: POST https://api.openai.com/v1/chat/completions \"HTTP/1.1 200 OK\"\n",
      "2024-09-01 23:15:23,944 - INFO - HTTP Request: POST https://api.openai.com/v1/chat/completions \"HTTP/1.1 200 OK\"\n",
      "2024-09-01 23:15:23,949 - INFO - Processed Telekom hilft News： Internet-Abbrüche vermeiden - So geht's!.txt and saved to /Users/taha/Desktop/rag/data/Hilfe bei Störungen/youtube_Telekom hilft News： Internet-Abbrüche vermeiden - So geht's!.txt\n",
      "2024-09-01 23:15:24,675 - INFO - HTTP Request: POST https://api.openai.com/v1/chat/completions \"HTTP/1.1 200 OK\"\n",
      "2024-09-01 23:15:31,010 - INFO - HTTP Request: POST https://api.openai.com/v1/chat/completions \"HTTP/1.1 200 OK\"\n",
      "2024-09-01 23:15:32,240 - INFO - HTTP Request: POST https://api.openai.com/v1/chat/completions \"HTTP/1.1 200 OK\"\n",
      "2024-09-01 23:15:32,244 - INFO - Processed Enkel-Tipps： Apps korrekt schließen beim Android Smartphone.txt and saved to /Users/taha/Desktop/rag/data/Apps & Dienste/youtube_Enkel-Tipps： Apps korrekt schließen beim Android Smartphone.txt\n",
      "2024-09-01 23:15:32,953 - INFO - HTTP Request: POST https://api.openai.com/v1/chat/completions \"HTTP/1.1 200 OK\"\n",
      "2024-09-01 23:15:42,888 - INFO - HTTP Request: POST https://api.openai.com/v1/chat/completions \"HTTP/1.1 200 OK\"\n",
      "2024-09-01 23:15:44,526 - INFO - HTTP Request: POST https://api.openai.com/v1/chat/completions \"HTTP/1.1 200 OK\"\n",
      "2024-09-01 23:15:44,529 - INFO - Processed Telekom： Hausanschluss und Hausverkabelung FTTH⧸Glasfasertechnik.txt and saved to /Users/taha/Desktop/rag/data/Internet & Telefonie/youtube_Telekom： Hausanschluss und Hausverkabelung FTTH⧸Glasfasertechnik.txt\n",
      "2024-09-01 23:15:45,261 - INFO - HTTP Request: POST https://api.openai.com/v1/chat/completions \"HTTP/1.1 200 OK\"\n",
      "2024-09-01 23:15:55,382 - INFO - HTTP Request: POST https://api.openai.com/v1/chat/completions \"HTTP/1.1 200 OK\"\n",
      "2024-09-01 23:15:56,813 - INFO - HTTP Request: POST https://api.openai.com/v1/chat/completions \"HTTP/1.1 200 OK\"\n",
      "2024-09-01 23:15:56,816 - INFO - Processed Professionelle Homepage selbst erstellen - Einfache Schritte mit dem Telekom Homepage-Baukasten.txt and saved to /Users/taha/Desktop/rag/data/Internet & Telefonie/youtube_Professionelle Homepage selbst erstellen - Einfache Schritte mit dem Telekom Homepage-Baukasten.txt\n",
      "2024-09-01 23:15:57,427 - INFO - HTTP Request: POST https://api.openai.com/v1/chat/completions \"HTTP/1.1 200 OK\"\n",
      "2024-09-01 23:16:10,128 - INFO - HTTP Request: POST https://api.openai.com/v1/chat/completions \"HTTP/1.1 200 OK\"\n",
      "2024-09-01 23:16:11,459 - INFO - HTTP Request: POST https://api.openai.com/v1/chat/completions \"HTTP/1.1 200 OK\"\n",
      "2024-09-01 23:16:11,465 - INFO - Processed Telekom： Business customer's obligations to cooperate  (english)..txt and saved to /Users/taha/Desktop/rag/data/Internet & Telefonie/youtube_Telekom： Business customer's obligations to cooperate  (english)..txt\n",
      "2024-09-01 23:16:12,173 - INFO - HTTP Request: POST https://api.openai.com/v1/chat/completions \"HTTP/1.1 200 OK\"\n",
      "2024-09-01 23:16:17,089 - INFO - HTTP Request: POST https://api.openai.com/v1/chat/completions \"HTTP/1.1 200 OK\"\n",
      "2024-09-01 23:16:18,829 - INFO - HTTP Request: POST https://api.openai.com/v1/chat/completions \"HTTP/1.1 200 OK\"\n",
      "2024-09-01 23:16:18,834 - INFO - Processed So passen Sie die Lautstärke und den Klingelton auf Ihrem iPhone an.txt and saved to /Users/taha/Desktop/rag/data/Geräte & Zubehör/youtube_So passen Sie die Lautstärke und den Klingelton auf Ihrem iPhone an.txt\n",
      "2024-09-01 23:16:19,445 - INFO - HTTP Request: POST https://api.openai.com/v1/chat/completions \"HTTP/1.1 200 OK\"\n",
      "2024-09-01 23:16:22,046 - INFO - HTTP Request: POST https://api.openai.com/v1/chat/completions \"HTTP/1.1 200 OK\"\n",
      "2024-09-01 23:16:23,645 - INFO - HTTP Request: POST https://api.openai.com/v1/chat/completions \"HTTP/1.1 200 OK\"\n",
      "2024-09-01 23:16:23,648 - INFO - Processed Telekom： Selfie-Ident via App #shorts.txt and saved to /Users/taha/Desktop/rag/data/Apps & Dienste/youtube_Telekom： Selfie-Ident via App #shorts.txt\n",
      "2024-09-01 23:16:24,258 - INFO - HTTP Request: POST https://api.openai.com/v1/chat/completions \"HTTP/1.1 200 OK\"\n",
      "2024-09-01 23:16:28,087 - INFO - HTTP Request: POST https://api.openai.com/v1/chat/completions \"HTTP/1.1 200 OK\"\n",
      "2024-09-01 23:16:29,956 - INFO - HTTP Request: POST https://api.openai.com/v1/chat/completions \"HTTP/1.1 200 OK\"\n",
      "2024-09-01 23:16:29,960 - INFO - Processed Video-Ident - Videocall mit Telekom Service.txt and saved to /Users/taha/Desktop/rag/data/Internet & Telefonie/youtube_Video-Ident - Videocall mit Telekom Service.txt\n",
      "2024-09-01 23:16:30,605 - INFO - HTTP Request: POST https://api.openai.com/v1/chat/completions \"HTTP/1.1 200 OK\"\n",
      "2024-09-01 23:16:39,309 - INFO - HTTP Request: POST https://api.openai.com/v1/chat/completions \"HTTP/1.1 200 OK\"\n",
      "2024-09-01 23:16:40,542 - INFO - HTTP Request: POST https://api.openai.com/v1/chat/completions \"HTTP/1.1 200 OK\"\n",
      "2024-09-01 23:16:40,547 - INFO - Processed Datenroaming aktivieren – Mit Travel & Surf ohne versteckte Kosten im Ausland surfen.txt and saved to /Users/taha/Desktop/rag/data/Mobilfunk/youtube_Datenroaming aktivieren – Mit Travel & Surf ohne versteckte Kosten im Ausland surfen.txt\n",
      "2024-09-01 23:16:41,462 - INFO - HTTP Request: POST https://api.openai.com/v1/chat/completions \"HTTP/1.1 200 OK\"\n",
      "2024-09-01 23:16:49,349 - INFO - HTTP Request: POST https://api.openai.com/v1/chat/completions \"HTTP/1.1 200 OK\"\n",
      "2024-09-01 23:16:52,106 - INFO - HTTP Request: POST https://api.openai.com/v1/chat/completions \"HTTP/1.1 200 OK\"\n",
      "2024-09-01 23:16:52,110 - INFO - Processed So geht die Glasfaser-Installation： Schritt-für-Schritt Anleitung für Highspeed-Internet!.txt and saved to /Users/taha/Desktop/rag/data/Internet & Telefonie/youtube_So geht die Glasfaser-Installation： Schritt-für-Schritt Anleitung für Highspeed-Internet!.txt\n",
      "2024-09-01 23:16:53,237 - INFO - HTTP Request: POST https://api.openai.com/v1/chat/completions \"HTTP/1.1 200 OK\"\n",
      "2024-09-01 23:17:07,267 - INFO - HTTP Request: POST https://api.openai.com/v1/chat/completions \"HTTP/1.1 200 OK\"\n",
      "2024-09-01 23:17:08,597 - INFO - HTTP Request: POST https://api.openai.com/v1/chat/completions \"HTTP/1.1 200 OK\"\n",
      "2024-09-01 23:17:08,601 - INFO - Processed Vertragsverwaltung leicht gemacht： Business Service Portal der Telekom im Webinar.txt and saved to /Users/taha/Desktop/rag/data/Vertrag & Rechnung/youtube_Vertragsverwaltung leicht gemacht： Business Service Portal der Telekom im Webinar.txt\n",
      "2024-09-01 23:17:09,417 - INFO - HTTP Request: POST https://api.openai.com/v1/chat/completions \"HTTP/1.1 200 OK\"\n",
      "2024-09-01 23:17:13,615 - INFO - HTTP Request: POST https://api.openai.com/v1/chat/completions \"HTTP/1.1 200 OK\"\n",
      "2024-09-01 23:17:14,741 - INFO - HTTP Request: POST https://api.openai.com/v1/chat/completions \"HTTP/1.1 200 OK\"\n",
      "2024-09-01 23:17:14,742 - INFO - Processed Enkel-Tipps： Was ist eigentlich ein QR Code？.txt and saved to /Users/taha/Desktop/rag/data/Apps & Dienste/youtube_Enkel-Tipps： Was ist eigentlich ein QR Code？.txt\n",
      "2024-09-01 23:17:15,662 - INFO - HTTP Request: POST https://api.openai.com/v1/chat/completions \"HTTP/1.1 200 OK\"\n",
      "2024-09-01 23:17:26,723 - INFO - HTTP Request: POST https://api.openai.com/v1/chat/completions \"HTTP/1.1 200 OK\"\n",
      "2024-09-01 23:17:28,362 - INFO - HTTP Request: POST https://api.openai.com/v1/chat/completions \"HTTP/1.1 200 OK\"\n",
      "2024-09-01 23:17:28,368 - INFO - Processed Abschlussrechnung für Festnetz： Alles, was Du wissen musst.txt and saved to /Users/taha/Desktop/rag/data/Vertrag & Rechnung/youtube_Abschlussrechnung für Festnetz： Alles, was Du wissen musst.txt\n",
      "2024-09-01 23:17:29,282 - INFO - HTTP Request: POST https://api.openai.com/v1/chat/completions \"HTTP/1.1 200 OK\"\n",
      "2024-09-01 23:17:37,066 - INFO - HTTP Request: POST https://api.openai.com/v1/chat/completions \"HTTP/1.1 200 OK\"\n",
      "2024-09-01 23:17:39,523 - INFO - HTTP Request: POST https://api.openai.com/v1/chat/completions \"HTTP/1.1 200 OK\"\n",
      "2024-09-01 23:17:39,528 - INFO - Processed Kontakt zur Telekom - Warum Ihr Eure E-Mail verifizieren solltet ! #shorts #telekom #telekomhilft.txt and saved to /Users/taha/Desktop/rag/data/Vertrag & Rechnung/youtube_Kontakt zur Telekom - Warum Ihr Eure E-Mail verifizieren solltet ! #shorts #telekom #telekomhilft.txt\n",
      "2024-09-01 23:17:40,648 - INFO - HTTP Request: POST https://api.openai.com/v1/chat/completions \"HTTP/1.1 200 OK\"\n",
      "2024-09-01 23:17:52,593 - INFO - HTTP Request: POST https://api.openai.com/v1/chat/completions \"HTTP/1.1 200 OK\"\n",
      "2024-09-01 23:17:53,960 - INFO - HTTP Request: POST https://api.openai.com/v1/chat/completions \"HTTP/1.1 200 OK\"\n",
      "2024-09-01 23:17:53,964 - INFO - Processed Herausforderungen beim Glasfaserausbau.txt and saved to /Users/taha/Desktop/rag/data/Internet & Telefonie/youtube_Herausforderungen beim Glasfaserausbau.txt\n",
      "2024-09-01 23:17:54,985 - INFO - HTTP Request: POST https://api.openai.com/v1/chat/completions \"HTTP/1.1 200 OK\"\n",
      "2024-09-01 23:18:02,155 - INFO - HTTP Request: POST https://api.openai.com/v1/chat/completions \"HTTP/1.1 200 OK\"\n",
      "2024-09-01 23:18:04,305 - INFO - HTTP Request: POST https://api.openai.com/v1/chat/completions \"HTTP/1.1 200 OK\"\n",
      "2024-09-01 23:18:04,309 - INFO - Processed Telekom： eSIM bei Zusatzgeräten.txt and saved to /Users/taha/Desktop/rag/data/Mobilfunk/youtube_Telekom： eSIM bei Zusatzgeräten.txt\n",
      "2024-09-01 23:18:05,021 - INFO - HTTP Request: POST https://api.openai.com/v1/chat/completions \"HTTP/1.1 200 OK\"\n",
      "2024-09-01 23:18:17,617 - INFO - HTTP Request: POST https://api.openai.com/v1/chat/completions \"HTTP/1.1 200 OK\"\n",
      "2024-09-01 23:18:18,639 - INFO - HTTP Request: POST https://api.openai.com/v1/chat/completions \"HTTP/1.1 200 OK\"\n",
      "2024-09-01 23:18:18,643 - INFO - Processed MagentaTV： Schneller Navigieren mit Sprachsteuerung!.txt and saved to /Users/taha/Desktop/rag/data/TV/youtube_MagentaTV： Schneller Navigieren mit Sprachsteuerung!.txt\n",
      "2024-09-01 23:18:19,478 - INFO - HTTP Request: POST https://api.openai.com/v1/chat/completions \"HTTP/1.1 200 OK\"\n",
      "2024-09-01 23:18:25,093 - INFO - HTTP Request: POST https://api.openai.com/v1/chat/completions \"HTTP/1.1 200 OK\"\n",
      "2024-09-01 23:18:26,421 - INFO - HTTP Request: POST https://api.openai.com/v1/chat/completions \"HTTP/1.1 200 OK\"\n",
      "2024-09-01 23:18:26,425 - INFO - Processed Prepaid Guthaben automatisch aufladen leicht gemacht.txt and saved to /Users/taha/Desktop/rag/data/Mobilfunk/youtube_Prepaid Guthaben automatisch aufladen leicht gemacht.txt\n",
      "2024-09-01 23:18:27,138 - INFO - HTTP Request: POST https://api.openai.com/v1/chat/completions \"HTTP/1.1 200 OK\"\n",
      "2024-09-01 23:18:37,174 - INFO - HTTP Request: POST https://api.openai.com/v1/chat/completions \"HTTP/1.1 200 OK\"\n",
      "2024-09-01 23:18:39,121 - INFO - HTTP Request: POST https://api.openai.com/v1/chat/completions \"HTTP/1.1 200 OK\"\n",
      "2024-09-01 23:18:39,124 - INFO - Processed Telekom： Digibox Smart 2 + Premium 2 - Site-to-Site VPN leicht gemacht!.txt and saved to /Users/taha/Desktop/rag/data/Internet & Telefonie/youtube_Telekom： Digibox Smart 2 + Premium 2 - Site-to-Site VPN leicht gemacht!.txt\n",
      "2024-09-01 23:18:39,838 - INFO - HTTP Request: POST https://api.openai.com/v1/chat/completions \"HTTP/1.1 200 OK\"\n",
      "2024-09-01 23:18:46,187 - INFO - HTTP Request: POST https://api.openai.com/v1/chat/completions \"HTTP/1.1 200 OK\"\n",
      "2024-09-01 23:18:47,620 - INFO - HTTP Request: POST https://api.openai.com/v1/chat/completions \"HTTP/1.1 200 OK\"\n",
      "2024-09-01 23:18:47,625 - INFO - Processed Per Handyrechnung bezahlen - warum nicht？ #shorts #telekom #handyrechnung #telekomhilft #magenta.txt and saved to /Users/taha/Desktop/rag/data/Vertrag & Rechnung/youtube_Per Handyrechnung bezahlen - warum nicht？ #shorts #telekom #handyrechnung #telekomhilft #magenta.txt\n",
      "2024-09-01 23:18:48,541 - INFO - HTTP Request: POST https://api.openai.com/v1/chat/completions \"HTTP/1.1 200 OK\"\n",
      "2024-09-01 23:18:59,869 - INFO - HTTP Request: POST https://api.openai.com/v1/chat/completions \"HTTP/1.1 200 OK\"\n",
      "2024-09-01 23:19:01,239 - INFO - HTTP Request: POST https://api.openai.com/v1/chat/completions \"HTTP/1.1 200 OK\"\n",
      "2024-09-01 23:19:01,242 - INFO - Processed Cell Broadcast – das Handy als mobiler Warnmelder.txt and saved to /Users/taha/Desktop/rag/data/Mobilfunk/youtube_Cell Broadcast – das Handy als mobiler Warnmelder.txt\n",
      "2024-09-01 23:19:01,922 - INFO - HTTP Request: POST https://api.openai.com/v1/chat/completions \"HTTP/1.1 200 OK\"\n",
      "2024-09-01 23:19:17,892 - INFO - HTTP Request: POST https://api.openai.com/v1/chat/completions \"HTTP/1.1 200 OK\"\n",
      "2024-09-01 23:19:19,468 - INFO - HTTP Request: POST https://api.openai.com/v1/chat/completions \"HTTP/1.1 200 OK\"\n",
      "2024-09-01 23:19:19,471 - INFO - Processed CompanyFlex Cloud PBX 2.0 – Konferenzen leicht gemacht!.txt and saved to /Users/taha/Desktop/rag/data/Internet & Telefonie/youtube_CompanyFlex Cloud PBX 2.0 – Konferenzen leicht gemacht!.txt\n",
      "2024-09-01 23:19:20,227 - INFO - HTTP Request: POST https://api.openai.com/v1/chat/completions \"HTTP/1.1 200 OK\"\n",
      "2024-09-01 23:19:25,377 - INFO - HTTP Request: POST https://api.openai.com/v1/chat/completions \"HTTP/1.1 200 OK\"\n",
      "2024-09-01 23:19:27,350 - INFO - HTTP Request: POST https://api.openai.com/v1/chat/completions \"HTTP/1.1 200 OK\"\n",
      "2024-09-01 23:19:27,354 - INFO - Processed Internet-Abbrüche？ Hier die Lösung! #shorts #magenta #telekom #internet #wlan #hilfe #störung.txt and saved to /Users/taha/Desktop/rag/data/Hilfe bei Störungen/youtube_Internet-Abbrüche？ Hier die Lösung! #shorts #magenta #telekom #internet #wlan #hilfe #störung.txt\n",
      "2024-09-01 23:19:28,066 - INFO - HTTP Request: POST https://api.openai.com/v1/chat/completions \"HTTP/1.1 200 OK\"\n",
      "2024-09-01 23:19:37,187 - INFO - HTTP Request: POST https://api.openai.com/v1/chat/completions \"HTTP/1.1 200 OK\"\n",
      "2024-09-01 23:19:39,128 - INFO - HTTP Request: POST https://api.openai.com/v1/chat/completions \"HTTP/1.1 200 OK\"\n",
      "2024-09-01 23:19:39,135 - INFO - Processed WLAN-Namen ändern： So geht´s bei der Fritzbox ｜ Telekom.txt and saved to /Users/taha/Desktop/rag/data/Internet & Telefonie/youtube_WLAN-Namen ändern： So geht´s bei der Fritzbox ｜ Telekom.txt\n",
      "2024-09-01 23:19:39,844 - INFO - HTTP Request: POST https://api.openai.com/v1/chat/completions \"HTTP/1.1 200 OK\"\n",
      "2024-09-01 23:19:48,852 - INFO - HTTP Request: POST https://api.openai.com/v1/chat/completions \"HTTP/1.1 200 OK\"\n",
      "2024-09-01 23:19:51,210 - INFO - HTTP Request: POST https://api.openai.com/v1/chat/completions \"HTTP/1.1 200 OK\"\n",
      "2024-09-01 23:19:51,214 - INFO - Processed Telefoniecenter - Erste Schritte ｜ Ihre telefonische Erreichbarkeit einfach online steuern.txt and saved to /Users/taha/Desktop/rag/data/Internet & Telefonie/youtube_Telefoniecenter - Erste Schritte ｜ Ihre telefonische Erreichbarkeit einfach online steuern.txt\n",
      "2024-09-01 23:19:51,926 - INFO - HTTP Request: POST https://api.openai.com/v1/chat/completions \"HTTP/1.1 200 OK\"\n",
      "2024-09-01 23:20:01,861 - INFO - HTTP Request: POST https://api.openai.com/v1/chat/completions \"HTTP/1.1 200 OK\"\n",
      "2024-09-01 23:20:03,294 - INFO - HTTP Request: POST https://api.openai.com/v1/chat/completions \"HTTP/1.1 200 OK\"\n",
      "2024-09-01 23:20:03,303 - INFO - Processed Spam-Schutz bei der Telekom - So einfach geht's!.txt and saved to /Users/taha/Desktop/rag/data/Internet & Telefonie/youtube_Spam-Schutz bei der Telekom - So einfach geht's!.txt\n",
      "2024-09-01 23:20:04,114 - INFO - HTTP Request: POST https://api.openai.com/v1/chat/completions \"HTTP/1.1 200 OK\"\n",
      "2024-09-01 23:20:22,444 - INFO - HTTP Request: POST https://api.openai.com/v1/chat/completions \"HTTP/1.1 200 OK\"\n",
      "2024-09-01 23:20:23,972 - INFO - HTTP Request: POST https://api.openai.com/v1/chat/completions \"HTTP/1.1 200 OK\"\n",
      "2024-09-01 23:20:23,976 - INFO - Processed Digitalisierungbox Smart - Einrichtung eines bintec elmeg IP-Telefons – REV2.txt and saved to /Users/taha/Desktop/rag/data/Internet & Telefonie/youtube_Digitalisierungbox Smart - Einrichtung eines bintec elmeg IP-Telefons – REV2.txt\n",
      "2024-09-01 23:20:24,797 - INFO - HTTP Request: POST https://api.openai.com/v1/chat/completions \"HTTP/1.1 200 OK\"\n",
      "2024-09-01 23:20:27,563 - INFO - HTTP Request: POST https://api.openai.com/v1/chat/completions \"HTTP/1.1 200 OK\"\n",
      "2024-09-01 23:20:29,205 - INFO - HTTP Request: POST https://api.openai.com/v1/chat/completions \"HTTP/1.1 200 OK\"\n",
      "2024-09-01 23:20:29,210 - INFO - Processed Telekom： Kündigung Mietgerät bei der Telekom.txt and saved to /Users/taha/Desktop/rag/data/Geräte & Zubehör/youtube_Telekom： Kündigung Mietgerät bei der Telekom.txt\n",
      "2024-09-01 23:20:29,830 - INFO - HTTP Request: POST https://api.openai.com/v1/chat/completions \"HTTP/1.1 200 OK\"\n",
      "2024-09-01 23:20:34,532 - INFO - HTTP Request: POST https://api.openai.com/v1/chat/completions \"HTTP/1.1 200 OK\"\n",
      "2024-09-01 23:20:36,881 - INFO - HTTP Request: POST https://api.openai.com/v1/chat/completions \"HTTP/1.1 200 OK\"\n",
      "2024-09-01 23:20:36,885 - INFO - Processed So schützt du dein WLAN vor ungebetenen Gästen! #shorts #telekom #wlan #security #magenta.txt and saved to /Users/taha/Desktop/rag/data/Internet & Telefonie/youtube_So schützt du dein WLAN vor ungebetenen Gästen! #shorts #telekom #wlan #security #magenta.txt\n",
      "2024-09-01 23:20:37,804 - INFO - HTTP Request: POST https://api.openai.com/v1/chat/completions \"HTTP/1.1 200 OK\"\n",
      "2024-09-01 23:20:41,286 - INFO - HTTP Request: POST https://api.openai.com/v1/chat/completions \"HTTP/1.1 200 OK\"\n",
      "2024-09-01 23:20:43,029 - INFO - HTTP Request: POST https://api.openai.com/v1/chat/completions \"HTTP/1.1 200 OK\"\n",
      "2024-09-01 23:20:43,036 - INFO - Processed Keine langen Warteschleifen - Nutze den Rückrufservice!.txt and saved to /Users/taha/Desktop/rag/data/Hilfe bei Störungen/youtube_Keine langen Warteschleifen - Nutze den Rückrufservice!.txt\n",
      "2024-09-01 23:20:43,743 - INFO - HTTP Request: POST https://api.openai.com/v1/chat/completions \"HTTP/1.1 200 OK\"\n",
      "2024-09-01 23:20:47,225 - INFO - HTTP Request: POST https://api.openai.com/v1/chat/completions \"HTTP/1.1 200 OK\"\n",
      "2024-09-01 23:20:48,866 - INFO - HTTP Request: POST https://api.openai.com/v1/chat/completions \"HTTP/1.1 200 OK\"\n",
      "2024-09-01 23:20:48,870 - INFO - Processed Zahle einfach per Handyrechnung! #telekom #hilfe #handyrechnung #magenta #tipp #smartphone #easy.txt and saved to /Users/taha/Desktop/rag/data/Vertrag & Rechnung/youtube_Zahle einfach per Handyrechnung! #telekom #hilfe #handyrechnung #magenta #tipp #smartphone #easy.txt\n",
      "2024-09-01 23:20:49,988 - INFO - HTTP Request: POST https://api.openai.com/v1/chat/completions \"HTTP/1.1 200 OK\"\n",
      "2024-09-01 23:20:53,984 - INFO - HTTP Request: POST https://api.openai.com/v1/chat/completions \"HTTP/1.1 200 OK\"\n",
      "2024-09-01 23:20:55,826 - INFO - HTTP Request: POST https://api.openai.com/v1/chat/completions \"HTTP/1.1 200 OK\"\n",
      "2024-09-01 23:20:55,830 - INFO - Processed Schützt euer Postfach vor Spam - Telekom Tipps!.txt and saved to /Users/taha/Desktop/rag/data/Hilfe bei Störungen/youtube_Schützt euer Postfach vor Spam - Telekom Tipps!.txt\n",
      "2024-09-01 23:20:56,797 - INFO - HTTP Request: POST https://api.openai.com/v1/chat/completions \"HTTP/1.1 200 OK\"\n",
      "2024-09-01 23:20:58,283 - INFO - HTTP Request: POST https://api.openai.com/v1/chat/completions \"HTTP/1.1 200 OK\"\n",
      "2024-09-01 23:20:59,206 - INFO - HTTP Request: POST https://api.openai.com/v1/chat/completions \"HTTP/1.1 200 OK\"\n",
      "2024-09-01 23:20:59,212 - INFO - Processed MeinMagenta App： Ihre gesamte Telekom Welt immer im Blick.txt and saved to /Users/taha/Desktop/rag/data/Others/youtube_MeinMagenta App： Ihre gesamte Telekom Welt immer im Blick.txt\n",
      "2024-09-01 23:20:59,922 - INFO - HTTP Request: POST https://api.openai.com/v1/chat/completions \"HTTP/1.1 200 OK\"\n",
      "2024-09-01 23:21:08,720 - INFO - HTTP Request: POST https://api.openai.com/v1/chat/completions \"HTTP/1.1 200 OK\"\n",
      "2024-09-01 23:21:10,369 - INFO - HTTP Request: POST https://api.openai.com/v1/chat/completions \"HTTP/1.1 200 OK\"\n",
      "2024-09-01 23:21:10,375 - INFO - Processed Frag Magenta： Dein digitaler Assistent – Hilfe rund um die Uhr!.txt and saved to /Users/taha/Desktop/rag/data/Hilfe bei Störungen/youtube_Frag Magenta： Dein digitaler Assistent – Hilfe rund um die Uhr!.txt\n",
      "2024-09-01 23:21:11,083 - INFO - HTTP Request: POST https://api.openai.com/v1/chat/completions \"HTTP/1.1 200 OK\"\n",
      "2024-09-01 23:21:19,277 - INFO - HTTP Request: POST https://api.openai.com/v1/chat/completions \"HTTP/1.1 200 OK\"\n",
      "2024-09-01 23:21:21,325 - INFO - HTTP Request: POST https://api.openai.com/v1/chat/completions \"HTTP/1.1 200 OK\"\n",
      "2024-09-01 23:21:21,331 - INFO - Processed Telekom： Telefoniecenter – Themenbereich „Komfort“.txt and saved to /Users/taha/Desktop/rag/data/Internet & Telefonie/youtube_Telekom： Telefoniecenter – Themenbereich „Komfort“.txt\n",
      "2024-09-01 23:21:22,142 - INFO - HTTP Request: POST https://api.openai.com/v1/chat/completions \"HTTP/1.1 200 OK\"\n",
      "2024-09-01 23:21:23,372 - INFO - HTTP Request: POST https://api.openai.com/v1/chat/completions \"HTTP/1.1 200 OK\"\n",
      "2024-09-01 23:21:24,373 - INFO - HTTP Request: POST https://api.openai.com/v1/chat/completions \"HTTP/1.1 200 OK\"\n",
      "2024-09-01 23:21:24,380 - INFO - Processed Top-Standorte für deinen Router! #shorts #magenta #telekom #hilfe #router #internet #empfang.txt and saved to /Users/taha/Desktop/rag/data/Geräte & Zubehör/youtube_Top-Standorte für deinen Router! #shorts #magenta #telekom #hilfe #router #internet #empfang.txt\n",
      "2024-09-01 23:21:25,009 - INFO - HTTP Request: POST https://api.openai.com/v1/chat/completions \"HTTP/1.1 200 OK\"\n",
      "2024-09-01 23:21:30,542 - INFO - HTTP Request: POST https://api.openai.com/v1/chat/completions \"HTTP/1.1 200 OK\"\n",
      "2024-09-01 23:21:31,924 - INFO - HTTP Request: POST https://api.openai.com/v1/chat/completions \"HTTP/1.1 200 OK\"\n",
      "2024-09-01 23:21:31,929 - INFO - Processed So tauschst du deine eSIM： Schritt-für-Schritt-Anleitung.txt and saved to /Users/taha/Desktop/rag/data/Mobilfunk/youtube_So tauschst du deine eSIM： Schritt-für-Schritt-Anleitung.txt\n",
      "2024-09-01 23:21:32,690 - INFO - HTTP Request: POST https://api.openai.com/v1/chat/completions \"HTTP/1.1 200 OK\"\n",
      "2024-09-01 23:21:38,743 - INFO - HTTP Request: POST https://api.openai.com/v1/chat/completions \"HTTP/1.1 200 OK\"\n",
      "2024-09-01 23:21:41,150 - INFO - HTTP Request: POST https://api.openai.com/v1/chat/completions \"HTTP/1.1 200 OK\"\n",
      "2024-09-01 23:21:41,153 - INFO - Processed Teile dein WLAN mit dem QR-Code! #shorts #telekom #wlan #magenta #tech #hilfe #smartphone.txt and saved to /Users/taha/Desktop/rag/data/Internet & Telefonie/youtube_Teile dein WLAN mit dem QR-Code! #shorts #telekom #wlan #magenta #tech #hilfe #smartphone.txt\n",
      "2024-09-01 23:21:42,009 - INFO - HTTP Request: POST https://api.openai.com/v1/chat/completions \"HTTP/1.1 200 OK\"\n",
      "2024-09-01 23:21:50,098 - INFO - HTTP Request: POST https://api.openai.com/v1/chat/completions \"HTTP/1.1 200 OK\"\n",
      "2024-09-01 23:21:51,739 - INFO - HTTP Request: POST https://api.openai.com/v1/chat/completions \"HTTP/1.1 200 OK\"\n",
      "2024-09-01 23:21:51,742 - INFO - Processed Telekom： Digitalisierungsbox Smart -  Ersteinrichtung Media Gateway.txt and saved to /Users/taha/Desktop/rag/data/Geräte & Zubehör/youtube_Telekom： Digitalisierungsbox Smart -  Ersteinrichtung Media Gateway.txt\n",
      "2024-09-01 23:21:52,621 - INFO - HTTP Request: POST https://api.openai.com/v1/chat/completions \"HTTP/1.1 200 OK\"\n",
      "2024-09-01 23:22:03,618 - INFO - HTTP Request: POST https://api.openai.com/v1/chat/completions \"HTTP/1.1 200 OK\"\n",
      "2024-09-01 23:22:05,971 - INFO - HTTP Request: POST https://api.openai.com/v1/chat/completions \"HTTP/1.1 200 OK\"\n",
      "2024-09-01 23:22:05,977 - INFO - Processed Telekom： Digitalisierungsbox Smart 2 & Premium 2 - Einrichtung SFP-Modems.txt and saved to /Users/taha/Desktop/rag/data/Hilfe bei Störungen/youtube_Telekom： Digitalisierungsbox Smart 2 & Premium 2 - Einrichtung SFP-Modems.txt\n",
      "2024-09-01 23:22:06,688 - INFO - HTTP Request: POST https://api.openai.com/v1/chat/completions \"HTTP/1.1 200 OK\"\n",
      "2024-09-01 23:22:13,449 - INFO - HTTP Request: POST https://api.openai.com/v1/chat/completions \"HTTP/1.1 200 OK\"\n",
      "2024-09-01 23:22:14,469 - INFO - HTTP Request: POST https://api.openai.com/v1/chat/completions \"HTTP/1.1 200 OK\"\n",
      "2024-09-01 23:22:14,473 - INFO - Processed MagentaTV-Geräte, die jeder braucht! #shorts #magentatv# telekom #tv #euro2024 #magenta# tech #tipps.txt and saved to /Users/taha/Desktop/rag/data/TV/youtube_MagentaTV-Geräte, die jeder braucht! #shorts #magentatv# telekom #tv #euro2024 #magenta# tech #tipps.txt\n",
      "2024-09-01 23:22:15,089 - INFO - HTTP Request: POST https://api.openai.com/v1/chat/completions \"HTTP/1.1 200 OK\"\n",
      "2024-09-01 23:22:23,688 - INFO - HTTP Request: POST https://api.openai.com/v1/chat/completions \"HTTP/1.1 200 OK\"\n",
      "2024-09-01 23:22:25,429 - INFO - HTTP Request: POST https://api.openai.com/v1/chat/completions \"HTTP/1.1 200 OK\"\n",
      "2024-09-01 23:22:25,433 - INFO - Processed Telekom： Telefoniecenter – Themenbereich „Sicherheit“.txt and saved to /Users/taha/Desktop/rag/data/Internet & Telefonie/youtube_Telekom： Telefoniecenter – Themenbereich „Sicherheit“.txt\n",
      "2024-09-01 23:22:26,635 - INFO - HTTP Request: POST https://api.openai.com/v1/chat/completions \"HTTP/1.1 200 OK\"\n",
      "2024-09-01 23:22:37,614 - INFO - HTTP Request: POST https://api.openai.com/v1/chat/completions \"HTTP/1.1 200 OK\"\n",
      "2024-09-01 23:22:39,728 - INFO - HTTP Request: POST https://api.openai.com/v1/chat/completions \"HTTP/1.1 200 OK\"\n",
      "2024-09-01 23:22:39,733 - INFO - Processed Digitalisierungsbox Smart – Externer Zugriff auf Webserver & Webcam einrichten.txt and saved to /Users/taha/Desktop/rag/data/Internet & Telefonie/youtube_Digitalisierungsbox Smart – Externer Zugriff auf Webserver & Webcam einrichten.txt\n",
      "2024-09-01 23:22:40,201 - INFO - HTTP Request: POST https://api.openai.com/v1/chat/completions \"HTTP/1.1 200 OK\"\n",
      "2024-09-01 23:22:44,270 - INFO - HTTP Request: POST https://api.openai.com/v1/chat/completions \"HTTP/1.1 200 OK\"\n",
      "2024-09-01 23:22:45,601 - INFO - HTTP Request: POST https://api.openai.com/v1/chat/completions \"HTTP/1.1 200 OK\"\n",
      "2024-09-01 23:22:45,606 - INFO - Processed Wir arbeiten bei der Telekom, natürlich ... #telekom #shorts #employees #trending #magenta #tech.txt and saved to /Users/taha/Desktop/rag/data/Others/youtube_Wir arbeiten bei der Telekom, natürlich ... #telekom #shorts #employees #trending #magenta #tech.txt\n",
      "2024-09-01 23:22:46,519 - INFO - HTTP Request: POST https://api.openai.com/v1/chat/completions \"HTTP/1.1 200 OK\"\n",
      "2024-09-01 23:22:53,591 - INFO - HTTP Request: POST https://api.openai.com/v1/chat/completions \"HTTP/1.1 200 OK\"\n",
      "2024-09-01 23:22:54,819 - INFO - HTTP Request: POST https://api.openai.com/v1/chat/completions \"HTTP/1.1 200 OK\"\n",
      "2024-09-01 23:22:54,845 - INFO - Processed Telekom hilft News： Einrichtung von Magenta SmartHome mit Tür-⧸Fensterkontakt.txt and saved to /Users/taha/Desktop/rag/data/Geräte & Zubehör/youtube_Telekom hilft News： Einrichtung von Magenta SmartHome mit Tür-⧸Fensterkontakt.txt\n",
      "2024-09-01 23:22:55,532 - INFO - HTTP Request: POST https://api.openai.com/v1/chat/completions \"HTTP/1.1 200 OK\"\n",
      "2024-09-01 23:23:01,167 - INFO - HTTP Request: POST https://api.openai.com/v1/chat/completions \"HTTP/1.1 200 OK\"\n",
      "2024-09-01 23:23:02,702 - INFO - HTTP Request: POST https://api.openai.com/v1/chat/completions \"HTTP/1.1 200 OK\"\n",
      "2024-09-01 23:23:02,706 - INFO - Processed Das Digital Schutzpaket – Umfassender Schutz für Ihre Familie.txt and saved to /Users/taha/Desktop/rag/data/Internet & Telefonie/youtube_Das Digital Schutzpaket – Umfassender Schutz für Ihre Familie.txt\n",
      "2024-09-01 23:23:03,623 - INFO - HTTP Request: POST https://api.openai.com/v1/chat/completions \"HTTP/1.1 200 OK\"\n",
      "2024-09-01 23:23:17,550 - INFO - HTTP Request: POST https://api.openai.com/v1/chat/completions \"HTTP/1.1 200 OK\"\n",
      "2024-09-01 23:23:19,271 - INFO - HTTP Request: POST https://api.openai.com/v1/chat/completions \"HTTP/1.1 200 OK\"\n",
      "2024-09-01 23:23:19,274 - INFO - Processed Wie bereite ich mich auf einen Technikerbesuch vor？.txt and saved to /Users/taha/Desktop/rag/data/Hilfe bei Störungen/youtube_Wie bereite ich mich auf einen Technikerbesuch vor？.txt\n",
      "2024-09-01 23:23:19,929 - INFO - HTTP Request: POST https://api.openai.com/v1/chat/completions \"HTTP/1.1 200 OK\"\n",
      "2024-09-01 23:23:25,128 - INFO - HTTP Request: POST https://api.openai.com/v1/chat/completions \"HTTP/1.1 200 OK\"\n",
      "2024-09-01 23:23:26,938 - INFO - HTTP Request: POST https://api.openai.com/v1/chat/completions \"HTTP/1.1 200 OK\"\n",
      "2024-09-01 23:23:26,943 - INFO - Processed Geräte Service： Austausch, Reparatur und Selbsthilfe-Tipps #shorts #hilfe #service #telekom #magenta.txt and saved to /Users/taha/Desktop/rag/data/Geräte & Zubehör/youtube_Geräte Service： Austausch, Reparatur und Selbsthilfe-Tipps #shorts #hilfe #service #telekom #magenta.txt\n",
      "2024-09-01 23:23:27,484 - INFO - HTTP Request: POST https://api.openai.com/v1/chat/completions \"HTTP/1.1 200 OK\"\n",
      "2024-09-01 23:23:32,707 - INFO - HTTP Request: POST https://api.openai.com/v1/chat/completions \"HTTP/1.1 200 OK\"\n",
      "2024-09-01 23:23:34,756 - INFO - HTTP Request: POST https://api.openai.com/v1/chat/completions \"HTTP/1.1 200 OK\"\n",
      "2024-09-01 23:23:34,760 - INFO - Processed MagentaTV MegaStream! #telekom #hilfe #magenta #magentatv #streaming #streamer #shorts.txt and saved to /Users/taha/Desktop/rag/data/TV/youtube_MagentaTV MegaStream! #telekom #hilfe #magenta #magentatv #streaming #streamer #shorts.txt\n",
      "2024-09-01 23:23:35,396 - INFO - HTTP Request: POST https://api.openai.com/v1/chat/completions \"HTTP/1.1 200 OK\"\n",
      "2024-09-01 23:23:45,811 - INFO - HTTP Request: POST https://api.openai.com/v1/chat/completions \"HTTP/1.1 200 OK\"\n",
      "2024-09-01 23:23:47,657 - INFO - HTTP Request: POST https://api.openai.com/v1/chat/completions \"HTTP/1.1 200 OK\"\n",
      "2024-09-01 23:23:47,663 - INFO - Processed Glasfaserausbau der Telekom： So profitiert Ihre Immobilie!.txt and saved to /Users/taha/Desktop/rag/data/Internet & Telefonie/youtube_Glasfaserausbau der Telekom： So profitiert Ihre Immobilie!.txt\n",
      "2024-09-01 23:23:48,372 - INFO - HTTP Request: POST https://api.openai.com/v1/chat/completions \"HTTP/1.1 200 OK\"\n",
      "2024-09-01 23:23:58,920 - INFO - HTTP Request: POST https://api.openai.com/v1/chat/completions \"HTTP/1.1 200 OK\"\n",
      "2024-09-01 23:24:01,173 - INFO - HTTP Request: POST https://api.openai.com/v1/chat/completions \"HTTP/1.1 200 OK\"\n",
      "2024-09-01 23:24:01,177 - INFO - Processed Frag Magenta - Digitaler Service auf neue und innovative Weise I Telekom.txt and saved to /Users/taha/Desktop/rag/data/Hilfe bei Störungen/youtube_Frag Magenta - Digitaler Service auf neue und innovative Weise I Telekom.txt\n",
      "2024-09-01 23:24:01,991 - INFO - HTTP Request: POST https://api.openai.com/v1/chat/completions \"HTTP/1.1 200 OK\"\n",
      "2024-09-01 23:24:15,816 - INFO - HTTP Request: POST https://api.openai.com/v1/chat/completions \"HTTP/1.1 200 OK\"\n",
      "2024-09-01 23:24:17,147 - INFO - HTTP Request: POST https://api.openai.com/v1/chat/completions \"HTTP/1.1 200 OK\"\n",
      "2024-09-01 23:24:17,150 - INFO - Processed Telekom hilft News： KombiProtect – GPS-Tracker für Haustiere und mehr.txt and saved to /Users/taha/Desktop/rag/data/Geräte & Zubehör/youtube_Telekom hilft News： KombiProtect – GPS-Tracker für Haustiere und mehr.txt\n",
      "2024-09-01 23:24:17,965 - INFO - HTTP Request: POST https://api.openai.com/v1/chat/completions \"HTTP/1.1 200 OK\"\n",
      "2024-09-01 23:24:24,315 - INFO - HTTP Request: POST https://api.openai.com/v1/chat/completions \"HTTP/1.1 200 OK\"\n",
      "2024-09-01 23:24:25,236 - INFO - HTTP Request: POST https://api.openai.com/v1/chat/completions \"HTTP/1.1 200 OK\"\n",
      "2024-09-01 23:24:25,240 - INFO - Processed Internetleitung nach Umzug einrichten - DIY-Anleitung! #shorts #telekom #internet #hilfe #magenta.txt and saved to /Users/taha/Desktop/rag/data/Internet & Telefonie/youtube_Internetleitung nach Umzug einrichten - DIY-Anleitung! #shorts #telekom #internet #hilfe #magenta.txt\n",
      "2024-09-01 23:24:25,956 - INFO - HTTP Request: POST https://api.openai.com/v1/chat/completions \"HTTP/1.1 200 OK\"\n",
      "2024-09-01 23:24:37,964 - INFO - HTTP Request: POST https://api.openai.com/v1/chat/completions \"HTTP/1.1 200 OK\"\n",
      "2024-09-01 23:24:39,309 - INFO - HTTP Request: POST https://api.openai.com/v1/chat/completions \"HTTP/1.1 200 OK\"\n",
      "2024-09-01 23:24:39,312 - INFO - Processed MagentaTV statt Kabel-TV - Was der Wegfall des Nebenkostenprivilegs für dich bedeutet!.txt and saved to /Users/taha/Desktop/rag/data/TV/youtube_MagentaTV statt Kabel-TV - Was der Wegfall des Nebenkostenprivilegs für dich bedeutet!.txt\n",
      "2024-09-01 23:24:40,001 - INFO - HTTP Request: POST https://api.openai.com/v1/chat/completions \"HTTP/1.1 200 OK\"\n",
      "2024-09-01 23:24:56,267 - INFO - HTTP Request: POST https://api.openai.com/v1/chat/completions \"HTTP/1.1 200 OK\"\n",
      "2024-09-01 23:24:57,701 - INFO - HTTP Request: POST https://api.openai.com/v1/chat/completions \"HTTP/1.1 200 OK\"\n",
      "2024-09-01 23:24:57,706 - INFO - Processed Digitalisierungsbox Smart 2： DECT160 Einrichten – Schritt-für-Schritt Anleitung.txt and saved to /Users/taha/Desktop/rag/data/Internet & Telefonie/youtube_Digitalisierungsbox Smart 2： DECT160 Einrichten – Schritt-für-Schritt Anleitung.txt\n",
      "2024-09-01 23:24:58,516 - INFO - HTTP Request: POST https://api.openai.com/v1/chat/completions \"HTTP/1.1 200 OK\"\n",
      "2024-09-01 23:25:02,613 - INFO - HTTP Request: POST https://api.openai.com/v1/chat/completions \"HTTP/1.1 200 OK\"\n",
      "2024-09-01 23:25:04,355 - INFO - HTTP Request: POST https://api.openai.com/v1/chat/completions \"HTTP/1.1 200 OK\"\n",
      "2024-09-01 23:25:04,359 - INFO - Processed Enkel-Tipps： Inhalte auf dem Smartphone vergrößern.txt and saved to /Users/taha/Desktop/rag/data/Geräte & Zubehör/youtube_Enkel-Tipps： Inhalte auf dem Smartphone vergrößern.txt\n",
      "2024-09-01 23:25:05,070 - INFO - HTTP Request: POST https://api.openai.com/v1/chat/completions \"HTTP/1.1 200 OK\"\n",
      "2024-09-01 23:25:13,979 - INFO - HTTP Request: POST https://api.openai.com/v1/chat/completions \"HTTP/1.1 200 OK\"\n",
      "2024-09-01 23:25:15,619 - INFO - HTTP Request: POST https://api.openai.com/v1/chat/completions \"HTTP/1.1 200 OK\"\n",
      "2024-09-01 23:25:15,623 - INFO - Processed Aktiviere Dein eSIM Profil in Minuten： Einfach und Schnell erklärt!.txt and saved to /Users/taha/Desktop/rag/data/Mobilfunk/youtube_Aktiviere Dein eSIM Profil in Minuten： Einfach und Schnell erklärt!.txt\n",
      "2024-09-01 23:25:16,541 - INFO - HTTP Request: POST https://api.openai.com/v1/chat/completions \"HTTP/1.1 200 OK\"\n",
      "2024-09-01 23:25:28,315 - INFO - HTTP Request: POST https://api.openai.com/v1/chat/completions \"HTTP/1.1 200 OK\"\n",
      "2024-09-01 23:25:29,855 - INFO - HTTP Request: POST https://api.openai.com/v1/chat/completions \"HTTP/1.1 200 OK\"\n",
      "2024-09-01 23:25:29,859 - INFO - Processed Telekom： Digitalisierungsbox Smart -  PBX – Einrichtung über den Telefonie Assistenten.txt and saved to /Users/taha/Desktop/rag/data/Internet & Telefonie/youtube_Telekom： Digitalisierungsbox Smart -  PBX – Einrichtung über den Telefonie Assistenten.txt\n",
      "2024-09-01 23:25:30,978 - INFO - HTTP Request: POST https://api.openai.com/v1/chat/completions \"HTTP/1.1 200 OK\"\n",
      "2024-09-01 23:25:44,190 - INFO - HTTP Request: POST https://api.openai.com/v1/chat/completions \"HTTP/1.1 200 OK\"\n",
      "2024-09-01 23:25:45,724 - INFO - HTTP Request: POST https://api.openai.com/v1/chat/completions \"HTTP/1.1 200 OK\"\n",
      "2024-09-01 23:25:45,731 - INFO - Processed Digitalisierungsbox Premium – PBX-Einrichtung leicht gemacht.txt and saved to /Users/taha/Desktop/rag/data/Internet & Telefonie/youtube_Digitalisierungsbox Premium – PBX-Einrichtung leicht gemacht.txt\n",
      "2024-09-01 23:25:46,542 - INFO - HTTP Request: POST https://api.openai.com/v1/chat/completions \"HTTP/1.1 200 OK\"\n",
      "2024-09-01 23:25:57,809 - INFO - HTTP Request: POST https://api.openai.com/v1/chat/completions \"HTTP/1.1 200 OK\"\n",
      "2024-09-01 23:25:58,936 - INFO - HTTP Request: POST https://api.openai.com/v1/chat/completions \"HTTP/1.1 200 OK\"\n",
      "2024-09-01 23:25:58,940 - INFO - Processed Telekom Speedbox – Inbetriebnahme und Konfiguration.txt and saved to /Users/taha/Desktop/rag/data/Geräte & Zubehör/youtube_Telekom Speedbox – Inbetriebnahme und Konfiguration.txt\n",
      "2024-09-01 23:25:59,753 - INFO - HTTP Request: POST https://api.openai.com/v1/chat/completions \"HTTP/1.1 200 OK\"\n",
      "2024-09-01 23:26:08,049 - INFO - HTTP Request: POST https://api.openai.com/v1/chat/completions \"HTTP/1.1 200 OK\"\n",
      "2024-09-01 23:26:09,790 - INFO - HTTP Request: POST https://api.openai.com/v1/chat/completions \"HTTP/1.1 200 OK\"\n",
      "2024-09-01 23:26:09,797 - INFO - Processed Szenen erstellen mit Telekom Magenta SmartHome.txt and saved to /Users/taha/Desktop/rag/data/Geräte & Zubehör/youtube_Szenen erstellen mit Telekom Magenta SmartHome.txt\n",
      "2024-09-01 23:26:10,509 - INFO - HTTP Request: POST https://api.openai.com/v1/chat/completions \"HTTP/1.1 200 OK\"\n",
      "2024-09-01 23:26:16,915 - INFO - HTTP Request: POST https://api.openai.com/v1/chat/completions \"HTTP/1.1 200 OK\"\n",
      "2024-09-01 23:26:18,290 - INFO - HTTP Request: POST https://api.openai.com/v1/chat/completions \"HTTP/1.1 200 OK\"\n",
      "2024-09-01 23:26:18,294 - INFO - Processed Telekom： Anbindung an FTTH (Fiber to the Home) ⧸ Glasfasertechnik.txt and saved to /Users/taha/Desktop/rag/data/Internet & Telefonie/youtube_Telekom： Anbindung an FTTH (Fiber to the Home) ⧸ Glasfasertechnik.txt\n",
      "2024-09-01 23:26:18,967 - INFO - HTTP Request: POST https://api.openai.com/v1/chat/completions \"HTTP/1.1 200 OK\"\n",
      "2024-09-01 23:26:19,993 - INFO - HTTP Request: POST https://api.openai.com/v1/chat/completions \"HTTP/1.1 200 OK\"\n",
      "2024-09-01 23:26:21,359 - INFO - HTTP Request: POST https://api.openai.com/v1/chat/completions \"HTTP/1.1 200 OK\"\n",
      "2024-09-01 23:26:21,361 - INFO - Processed Die Moderatoren der Telekom Hilfe-Videos： Lernen Sie unser Team kennen!.txt and saved to /Users/taha/Desktop/rag/data/Hilfe bei Störungen/youtube_Die Moderatoren der Telekom Hilfe-Videos： Lernen Sie unser Team kennen!.txt\n",
      "2024-09-01 23:26:24,177 - INFO - HTTP Request: POST https://api.openai.com/v1/chat/completions \"HTTP/1.1 200 OK\"\n",
      "2024-09-01 23:26:34,982 - INFO - HTTP Request: POST https://api.openai.com/v1/chat/completions \"HTTP/1.1 200 OK\"\n",
      "2024-09-01 23:26:36,311 - INFO - HTTP Request: POST https://api.openai.com/v1/chat/completions \"HTTP/1.1 200 OK\"\n",
      "2024-09-01 23:26:36,317 - INFO - Processed Telekom： Digitalisierungsbox Premium - Team Voice Mail Box einrichten.txt and saved to /Users/taha/Desktop/rag/data/Hilfe bei Störungen/youtube_Telekom： Digitalisierungsbox Premium - Team Voice Mail Box einrichten.txt\n",
      "2024-09-01 23:26:37,031 - INFO - HTTP Request: POST https://api.openai.com/v1/chat/completions \"HTTP/1.1 200 OK\"\n",
      "2024-09-01 23:26:47,167 - INFO - HTTP Request: POST https://api.openai.com/v1/chat/completions \"HTTP/1.1 200 OK\"\n",
      "2024-09-01 23:26:48,945 - INFO - HTTP Request: POST https://api.openai.com/v1/chat/completions \"HTTP/1.1 200 OK\"\n",
      "2024-09-01 23:26:48,950 - INFO - Processed ZOOM Seminare der Telekom Senioren-Akademie - Teilnahme mit einem iPad.txt and saved to /Users/taha/Desktop/rag/data/Internet & Telefonie/youtube_ZOOM Seminare der Telekom Senioren-Akademie - Teilnahme mit einem iPad.txt\n",
      "2024-09-01 23:26:49,621 - INFO - HTTP Request: POST https://api.openai.com/v1/chat/completions \"HTTP/1.1 200 OK\"\n",
      "2024-09-01 23:26:54,609 - INFO - HTTP Request: POST https://api.openai.com/v1/chat/completions \"HTTP/1.1 200 OK\"\n",
      "2024-09-01 23:26:55,532 - INFO - HTTP Request: POST https://api.openai.com/v1/chat/completions \"HTTP/1.1 200 OK\"\n",
      "2024-09-01 23:26:55,536 - INFO - Processed Frag Magenta： Der digitale Assistent #shorts#telekom#fragmagenta#support#tech#digitalart#fyp#like.txt and saved to /Users/taha/Desktop/rag/data/Hilfe bei Störungen/youtube_Frag Magenta： Der digitale Assistent #shorts#telekom#fragmagenta#support#tech#digitalart#fyp#like.txt\n",
      "2024-09-01 23:26:56,573 - INFO - HTTP Request: POST https://api.openai.com/v1/chat/completions \"HTTP/1.1 200 OK\"\n",
      "2024-09-01 23:27:14,099 - INFO - HTTP Request: POST https://api.openai.com/v1/chat/completions \"HTTP/1.1 200 OK\"\n",
      "2024-09-01 23:27:16,554 - INFO - HTTP Request: POST https://api.openai.com/v1/chat/completions \"HTTP/1.1 200 OK\"\n",
      "2024-09-01 23:27:16,557 - INFO - Processed Telekom： Digitalisierungsbox Premium - End-to-Site VPN mit dem bintec elmeg Secure IPSec Client.txt and saved to /Users/taha/Desktop/rag/data/Hilfe bei Störungen/youtube_Telekom： Digitalisierungsbox Premium - End-to-Site VPN mit dem bintec elmeg Secure IPSec Client.txt\n",
      "2024-09-01 23:27:17,272 - INFO - HTTP Request: POST https://api.openai.com/v1/chat/completions \"HTTP/1.1 200 OK\"\n",
      "2024-09-01 23:27:22,290 - INFO - HTTP Request: POST https://api.openai.com/v1/chat/completions \"HTTP/1.1 200 OK\"\n",
      "2024-09-01 23:27:24,814 - INFO - HTTP Request: POST https://api.openai.com/v1/chat/completions \"HTTP/1.1 200 OK\"\n",
      "2024-09-01 23:27:24,820 - INFO - Processed Der Freizeichentonservice der Telekom #telekom #telekomhilft #telekomvideos #magenta.txt and saved to /Users/taha/Desktop/rag/data/Internet & Telefonie/youtube_Der Freizeichentonservice der Telekom #telekom #telekomhilft #telekomvideos #magenta.txt\n",
      "2024-09-01 23:27:25,771 - INFO - HTTP Request: POST https://api.openai.com/v1/chat/completions \"HTTP/1.1 200 OK\"\n",
      "2024-09-01 23:27:40,518 - INFO - HTTP Request: POST https://api.openai.com/v1/chat/completions \"HTTP/1.1 200 OK\"\n",
      "2024-09-01 23:27:42,360 - INFO - HTTP Request: POST https://api.openai.com/v1/chat/completions \"HTTP/1.1 200 OK\"\n",
      "2024-09-01 23:27:42,366 - INFO - Processed Glasfaser-Installation： So bereitest du dich optimal vor!.txt and saved to /Users/taha/Desktop/rag/data/Hilfe bei Störungen/youtube_Glasfaser-Installation： So bereitest du dich optimal vor!.txt\n",
      "2024-09-01 23:27:43,076 - INFO - HTTP Request: POST https://api.openai.com/v1/chat/completions \"HTTP/1.1 200 OK\"\n",
      "2024-09-01 23:27:50,346 - INFO - HTTP Request: POST https://api.openai.com/v1/chat/completions \"HTTP/1.1 200 OK\"\n",
      "2024-09-01 23:27:51,473 - INFO - HTTP Request: POST https://api.openai.com/v1/chat/completions \"HTTP/1.1 200 OK\"\n",
      "2024-09-01 23:27:51,475 - INFO - Processed E-Mail-Adresse bei der Telekom bestätigen - So geht's!.txt and saved to /Users/taha/Desktop/rag/data/Vertrag & Rechnung/youtube_E-Mail-Adresse bei der Telekom bestätigen - So geht's!.txt\n",
      "2024-09-01 23:27:52,089 - INFO - HTTP Request: POST https://api.openai.com/v1/chat/completions \"HTTP/1.1 200 OK\"\n",
      "2024-09-01 23:27:58,028 - INFO - HTTP Request: POST https://api.openai.com/v1/chat/completions \"HTTP/1.1 200 OK\"\n",
      "2024-09-01 23:27:59,153 - INFO - HTTP Request: POST https://api.openai.com/v1/chat/completions \"HTTP/1.1 200 OK\"\n",
      "2024-09-01 23:27:59,156 - INFO - Processed 5G Empfänger - Unboxing ｜ Telekom #shorts #telekom #5g #telekomhilft #magenta.txt and saved to /Users/taha/Desktop/rag/data/Internet & Telefonie/youtube_5G Empfänger - Unboxing ｜ Telekom #shorts #telekom #5g #telekomhilft #magenta.txt\n",
      "2024-09-01 23:27:59,972 - INFO - HTTP Request: POST https://api.openai.com/v1/chat/completions \"HTTP/1.1 200 OK\"\n",
      "2024-09-01 23:28:02,740 - INFO - HTTP Request: POST https://api.openai.com/v1/chat/completions \"HTTP/1.1 200 OK\"\n",
      "2024-09-01 23:28:04,378 - INFO - HTTP Request: POST https://api.openai.com/v1/chat/completions \"HTTP/1.1 200 OK\"\n",
      "2024-09-01 23:28:04,383 - INFO - Processed Die beste Verbindung für MagentaTV I Telekom.txt and saved to /Users/taha/Desktop/rag/data/Hilfe bei Störungen/youtube_Die beste Verbindung für MagentaTV I Telekom.txt\n",
      "2024-09-01 23:28:08,267 - INFO - HTTP Request: POST https://api.openai.com/v1/chat/completions \"HTTP/1.1 200 OK\"\n",
      "2024-09-01 23:28:16,256 - INFO - HTTP Request: POST https://api.openai.com/v1/chat/completions \"HTTP/1.1 200 OK\"\n",
      "2024-09-01 23:28:17,279 - INFO - HTTP Request: POST https://api.openai.com/v1/chat/completions \"HTTP/1.1 200 OK\"\n",
      "2024-09-01 23:28:17,283 - INFO - Processed Enkel-Tipp： MeinMagenta App auf dem iPhone installieren - Schritt-für-Schritt Anleitung.txt and saved to /Users/taha/Desktop/rag/data/Apps & Dienste/youtube_Enkel-Tipp： MeinMagenta App auf dem iPhone installieren - Schritt-für-Schritt Anleitung.txt\n",
      "2024-09-01 23:28:17,893 - INFO - HTTP Request: POST https://api.openai.com/v1/chat/completions \"HTTP/1.1 200 OK\"\n",
      "2024-09-01 23:28:24,532 - INFO - HTTP Request: POST https://api.openai.com/v1/chat/completions \"HTTP/1.1 200 OK\"\n",
      "2024-09-01 23:28:25,859 - INFO - HTTP Request: POST https://api.openai.com/v1/chat/completions \"HTTP/1.1 200 OK\"\n",
      "2024-09-01 23:28:25,864 - INFO - Processed Die Telekom Ideenschmiede： Gestalten Sie die Zukunft mit uns!.txt and saved to /Users/taha/Desktop/rag/data/Others/youtube_Die Telekom Ideenschmiede： Gestalten Sie die Zukunft mit uns!.txt\n",
      "2024-09-01 23:28:26,800 - INFO - HTTP Request: POST https://api.openai.com/v1/chat/completions \"HTTP/1.1 200 OK\"\n",
      "2024-09-01 23:28:36,423 - INFO - HTTP Request: POST https://api.openai.com/v1/chat/completions \"HTTP/1.1 200 OK\"\n",
      "2024-09-01 23:28:38,166 - INFO - HTTP Request: POST https://api.openai.com/v1/chat/completions \"HTTP/1.1 200 OK\"\n",
      "2024-09-01 23:28:38,173 - INFO - Processed Telekom： Digitalisierungsbox Smart - Einrichtung eines SIP-Trunks im PBX-Modus.txt and saved to /Users/taha/Desktop/rag/data/Internet & Telefonie/youtube_Telekom： Digitalisierungsbox Smart - Einrichtung eines SIP-Trunks im PBX-Modus.txt\n",
      "2024-09-01 23:28:38,984 - INFO - HTTP Request: POST https://api.openai.com/v1/chat/completions \"HTTP/1.1 200 OK\"\n",
      "2024-09-01 23:28:45,026 - INFO - HTTP Request: POST https://api.openai.com/v1/chat/completions \"HTTP/1.1 200 OK\"\n",
      "2024-09-01 23:28:46,254 - INFO - HTTP Request: POST https://api.openai.com/v1/chat/completions \"HTTP/1.1 200 OK\"\n",
      "2024-09-01 23:28:46,259 - INFO - Processed Enkel-Tipp： Schriftgröße anpassen Android Smartphone.txt and saved to /Users/taha/Desktop/rag/data/Geräte & Zubehör/youtube_Enkel-Tipp： Schriftgröße anpassen Android Smartphone.txt\n",
      "2024-09-01 23:28:47,279 - INFO - HTTP Request: POST https://api.openai.com/v1/chat/completions \"HTTP/1.1 200 OK\"\n",
      "2024-09-01 23:28:55,982 - INFO - HTTP Request: POST https://api.openai.com/v1/chat/completions \"HTTP/1.1 200 OK\"\n",
      "2024-09-01 23:28:57,926 - INFO - HTTP Request: POST https://api.openai.com/v1/chat/completions \"HTTP/1.1 200 OK\"\n",
      "2024-09-01 23:28:57,930 - INFO - Processed Telekom： Digitalisierungsbox Smart & Premium - End-to-Site VPN mit Apple iOS und iPadOS.txt and saved to /Users/taha/Desktop/rag/data/Internet & Telefonie/youtube_Telekom： Digitalisierungsbox Smart & Premium - End-to-Site VPN mit Apple iOS und iPadOS.txt\n",
      "2024-09-01 23:28:59,051 - INFO - HTTP Request: POST https://api.openai.com/v1/chat/completions \"HTTP/1.1 200 OK\"\n",
      "2024-09-01 23:29:14,106 - INFO - HTTP Request: POST https://api.openai.com/v1/chat/completions \"HTTP/1.1 200 OK\"\n",
      "2024-09-01 23:29:15,745 - INFO - HTTP Request: POST https://api.openai.com/v1/chat/completions \"HTTP/1.1 200 OK\"\n",
      "2024-09-01 23:29:15,748 - INFO - Processed Telekom： Digitalisierungsbox Premium - Kalender und Tag⧸Nachtbetrieb einrichten.txt and saved to /Users/taha/Desktop/rag/data/Hilfe bei Störungen/youtube_Telekom： Digitalisierungsbox Premium - Kalender und Tag⧸Nachtbetrieb einrichten.txt\n",
      "2024-09-01 23:29:16,465 - INFO - HTTP Request: POST https://api.openai.com/v1/chat/completions \"HTTP/1.1 200 OK\"\n",
      "2024-09-01 23:29:29,775 - INFO - HTTP Request: POST https://api.openai.com/v1/chat/completions \"HTTP/1.1 200 OK\"\n",
      "2024-09-01 23:29:31,105 - INFO - HTTP Request: POST https://api.openai.com/v1/chat/completions \"HTTP/1.1 200 OK\"\n",
      "2024-09-01 23:29:31,112 - INFO - Processed Deine erste Telekom Rechnung nach Tarifwechsel： Erklärung & Details.txt and saved to /Users/taha/Desktop/rag/data/Vertrag & Rechnung/youtube_Deine erste Telekom Rechnung nach Tarifwechsel： Erklärung & Details.txt\n",
      "2024-09-01 23:29:31,819 - INFO - HTTP Request: POST https://api.openai.com/v1/chat/completions \"HTTP/1.1 200 OK\"\n",
      "2024-09-01 23:29:38,476 - INFO - HTTP Request: POST https://api.openai.com/v1/chat/completions \"HTTP/1.1 200 OK\"\n",
      "2024-09-01 23:29:39,807 - INFO - HTTP Request: POST https://api.openai.com/v1/chat/completions \"HTTP/1.1 200 OK\"\n",
      "2024-09-01 23:29:39,811 - INFO - Processed Wofür brauche Ich den TelekomLogin？ #shorts#telekom#telekomhilft.txt and saved to /Users/taha/Desktop/rag/data/Internet & Telefonie/youtube_Wofür brauche Ich den TelekomLogin？ #shorts#telekom#telekomhilft.txt\n",
      "2024-09-01 23:29:40,523 - INFO - HTTP Request: POST https://api.openai.com/v1/chat/completions \"HTTP/1.1 200 OK\"\n",
      "2024-09-01 23:29:49,437 - INFO - HTTP Request: POST https://api.openai.com/v1/chat/completions \"HTTP/1.1 200 OK\"\n",
      "2024-09-01 23:29:50,764 - INFO - HTTP Request: POST https://api.openai.com/v1/chat/completions \"HTTP/1.1 200 OK\"\n",
      "2024-09-01 23:29:50,767 - INFO - Processed Telekom： MagentaService Live – Persönliche Beratung per Videocall.txt and saved to /Users/taha/Desktop/rag/data/Hilfe bei Störungen/youtube_Telekom： MagentaService Live – Persönliche Beratung per Videocall.txt\n",
      "2024-09-01 23:29:51,581 - INFO - HTTP Request: POST https://api.openai.com/v1/chat/completions \"HTTP/1.1 200 OK\"\n",
      "2024-09-01 23:29:59,338 - INFO - HTTP Request: POST https://api.openai.com/v1/chat/completions \"HTTP/1.1 200 OK\"\n",
      "2024-09-01 23:30:00,697 - INFO - HTTP Request: POST https://api.openai.com/v1/chat/completions \"HTTP/1.1 200 OK\"\n",
      "2024-09-01 23:30:00,704 - INFO - Processed WLAN-Namen ändern： Schnell und einfach ｜ Telekom.txt and saved to /Users/taha/Desktop/rag/data/Internet & Telefonie/youtube_WLAN-Namen ändern： Schnell und einfach ｜ Telekom.txt\n",
      "2024-09-01 23:30:01,367 - INFO - HTTP Request: POST https://api.openai.com/v1/chat/completions \"HTTP/1.1 200 OK\"\n",
      "2024-09-01 23:30:07,255 - INFO - HTTP Request: POST https://api.openai.com/v1/chat/completions \"HTTP/1.1 200 OK\"\n",
      "2024-09-01 23:30:08,583 - INFO - HTTP Request: POST https://api.openai.com/v1/chat/completions \"HTTP/1.1 200 OK\"\n",
      "2024-09-01 23:30:08,588 - INFO - Processed Digitale Soforthilfe ohne Wartezeit - Kennst Du...Frag Magenta？ I Telekom.txt and saved to /Users/taha/Desktop/rag/data/Vertrag & Rechnung/youtube_Digitale Soforthilfe ohne Wartezeit - Kennst Du...Frag Magenta？ I Telekom.txt\n",
      "2024-09-01 23:30:09,504 - INFO - HTTP Request: POST https://api.openai.com/v1/chat/completions \"HTTP/1.1 200 OK\"\n",
      "2024-09-01 23:30:18,106 - INFO - HTTP Request: POST https://api.openai.com/v1/chat/completions \"HTTP/1.1 200 OK\"\n",
      "2024-09-01 23:30:19,542 - INFO - HTTP Request: POST https://api.openai.com/v1/chat/completions \"HTTP/1.1 200 OK\"\n",
      "2024-09-01 23:30:19,548 - INFO - Processed Einfache Anmeldung bei der MeinMagenta App - Schritt für Schritt erklärt!.txt and saved to /Users/taha/Desktop/rag/data/Apps & Dienste/youtube_Einfache Anmeldung bei der MeinMagenta App - Schritt für Schritt erklärt!.txt\n",
      "2024-09-01 23:30:20,566 - INFO - HTTP Request: POST https://api.openai.com/v1/chat/completions \"HTTP/1.1 200 OK\"\n",
      "2024-09-01 23:30:29,164 - INFO - HTTP Request: POST https://api.openai.com/v1/chat/completions \"HTTP/1.1 200 OK\"\n",
      "2024-09-01 23:30:30,906 - INFO - HTTP Request: POST https://api.openai.com/v1/chat/completions \"HTTP/1.1 200 OK\"\n",
      "2024-09-01 23:30:30,909 - INFO - Processed Telekom： Digitalisierungsbox Smart 2 & Premium 2 - Erstinbetriebnahme.txt and saved to /Users/taha/Desktop/rag/data/Internet & Telefonie/youtube_Telekom： Digitalisierungsbox Smart 2 & Premium 2 - Erstinbetriebnahme.txt\n",
      "2024-09-01 23:30:31,930 - INFO - HTTP Request: POST https://api.openai.com/v1/chat/completions \"HTTP/1.1 200 OK\"\n",
      "2024-09-01 23:30:41,755 - INFO - HTTP Request: POST https://api.openai.com/v1/chat/completions \"HTTP/1.1 200 OK\"\n",
      "2024-09-01 23:30:43,502 - INFO - HTTP Request: POST https://api.openai.com/v1/chat/completions \"HTTP/1.1 200 OK\"\n",
      "2024-09-01 23:30:43,506 - INFO - Processed Telekom： Die optimalen Einstellungen am Smart-TV für MagentaTV (3⧸3).txt and saved to /Users/taha/Desktop/rag/data/Hilfe bei Störungen/youtube_Telekom： Die optimalen Einstellungen am Smart-TV für MagentaTV (3⧸3).txt\n",
      "2024-09-01 23:30:44,423 - INFO - HTTP Request: POST https://api.openai.com/v1/chat/completions \"HTTP/1.1 200 OK\"\n",
      "2024-09-01 23:30:54,357 - INFO - HTTP Request: POST https://api.openai.com/v1/chat/completions \"HTTP/1.1 200 OK\"\n",
      "2024-09-01 23:30:55,891 - INFO - HTTP Request: POST https://api.openai.com/v1/chat/completions \"HTTP/1.1 200 OK\"\n",
      "2024-09-01 23:30:55,895 - INFO - Processed Telekom： Digitalisierungsbox Smart 2 & Premium 2 - Einrichtung Portfreischaltung.txt and saved to /Users/taha/Desktop/rag/data/Hilfe bei Störungen/youtube_Telekom： Digitalisierungsbox Smart 2 & Premium 2 - Einrichtung Portfreischaltung.txt\n",
      "2024-09-01 23:30:56,812 - INFO - HTTP Request: POST https://api.openai.com/v1/chat/completions \"HTTP/1.1 200 OK\"\n",
      "2024-09-01 23:31:07,464 - INFO - HTTP Request: POST https://api.openai.com/v1/chat/completions \"HTTP/1.1 200 OK\"\n",
      "2024-09-01 23:31:09,615 - INFO - HTTP Request: POST https://api.openai.com/v1/chat/completions \"HTTP/1.1 200 OK\"\n",
      "2024-09-01 23:31:09,620 - INFO - Processed Telekom： Digitalisierungsbox Smart -  Ersteinrichtung Telefonanlage.txt and saved to /Users/taha/Desktop/rag/data/Internet & Telefonie/youtube_Telekom： Digitalisierungsbox Smart -  Ersteinrichtung Telefonanlage.txt\n"
     ]
    },
    {
     "name": "stdout",
     "output_type": "stream",
     "text": [
      "Processing complete. Combined files saved in their respective category folders under 'website/organized_data'.\n"
     ]
    }
   ],
   "source": [
    "import os\n",
    "import glob\n",
    "from openai import OpenAI\n",
    "import logging\n",
    "\n",
    "# Setup logging\n",
    "logging.basicConfig(level=logging.INFO, format='%(asctime)s - %(levelname)s - %(message)s')\n",
    "\n",
    "# Setup OpenAI API key and client\n",
    "client = OpenAI(api_key=os.getenv(\"OPENAI_API_KEY\"))\n",
    "\n",
    "# Define paths\n",
    "transcripts_dir = 'data/transcripts'\n",
    "organized_data_dir = \"/Users/taha/Desktop/rag/data\"\n",
    "if not os.path.exists(organized_data_dir):\n",
    "    os.makedirs(organized_data_dir)\n",
    "\n",
    "# Define categories\n",
    "categories = [\n",
    "    \"Geräte & Zubehör\",\n",
    "    \"Hilfe bei Störungen\",\n",
    "    \"Internet & Telefonie\",\n",
    "    \"MagentaEINS\",\n",
    "    \"Mobilfunk\",\n",
    "    \"TV\",\n",
    "    \"Vertrag & Rechnung\",\n",
    "    \"Apps & Dienste\",\n",
    "    \"Others\"\n",
    "]\n",
    "\n",
    "# Function to categorize transcript, summarize, and generate questions\n",
    "def process_transcript(file_path):\n",
    "    try:\n",
    "        with open(file_path, 'r', encoding='utf-8') as file:\n",
    "            transcript = file.read()\n",
    "\n",
    "        # Request GPT-4 for category\n",
    "        category_response = client.chat.completions.create(\n",
    "            model=\"gpt-4\",\n",
    "            messages=[\n",
    "                {\"role\": \"system\", \"content\": \"You are a helpful assistant.\"},\n",
    "                {\"role\": \"user\", \"content\": f\"Please categorize the following transcript into one of the categories: {', '.join(categories)}:\\n\\n{transcript}. Please provide only the chosen category name.\"}\n",
    "            ],\n",
    "            max_tokens=20,\n",
    "        )\n",
    "        category = category_response.choices[0].message.content.strip()\n",
    "\n",
    "        # Ensure the category is valid\n",
    "        if category not in categories:\n",
    "            category = \"Others\"\n",
    "\n",
    "        # Request GPT-4 for summary\n",
    "        summary_response = client.chat.completions.create(\n",
    "            model=\"gpt-4\",\n",
    "            messages=[\n",
    "                {\"role\": \"system\", \"content\": \"You are a helpful telecom help assistant.\"},\n",
    "                {\"role\": \"user\", \"content\": f\"Please summarize the following transcript in a concise and clear manner in German. This summary will be used as webpage content:\\n\\n{transcript}\"}\n",
    "            ],\n",
    "        )\n",
    "        summary = summary_response.choices[0].message.content.strip()\n",
    "\n",
    "        # Request GPT-4 for generating a question\n",
    "        question_response = client.chat.completions.create(\n",
    "            model=\"gpt-4\",\n",
    "            messages=[\n",
    "                {\"role\": \"system\", \"content\": \"You are a helpful telecom help assistant.\"},\n",
    "                {\"role\": \"user\", \"content\": f\"Based on the following transcript, generate a relevant question in German:\\n\\n{transcript}\"}\n",
    "            ],\n",
    "            max_tokens=50,\n",
    "        )\n",
    "        question = question_response.choices[0].message.content.strip()\n",
    "\n",
    "        return category, summary, question, transcript\n",
    "    except Exception as e:\n",
    "        logging.error(f\"Error processing {file_path}: {e}\")\n",
    "        return \"Unknown\", None, None, None\n",
    "\n",
    "# Process all transcript files\n",
    "for transcript_file in glob.glob(os.path.join(transcripts_dir, '*.txt')):\n",
    "    filename = os.path.basename(transcript_file)\n",
    "    title, _ = os.path.splitext(filename)\n",
    "    \n",
    "    category, summary, question, transcript = process_transcript(transcript_file)\n",
    "    if summary and question:\n",
    "        # Create category directory if it doesn't exist\n",
    "        category_dir = os.path.join(organized_data_dir, category)\n",
    "        if not os.path.exists(category_dir):\n",
    "            os.makedirs(category_dir)\n",
    "\n",
    "        # Define output path with 'youtube_' prefix\n",
    "        output_path = os.path.join(category_dir, f'youtube_{title}.txt')\n",
    "        with open(output_path, 'w', encoding='utf-8') as combined_file:\n",
    "            combined_file.write(\"Question:\\n\")\n",
    "            combined_file.write(question + \"\\n\\n\")\n",
    "            combined_file.write(\"Answer:\\n\")\n",
    "            combined_file.write(summary + \"\\n\\n\")\n",
    "\n",
    "            # Transcripti txt dosyasina eklemek icin bunu ekle koda\n",
    "            #combined_file.write(\"Youtube transcript:\\n\")\n",
    "            #combined_file.write(transcript)\n",
    "        logging.info(f\"Processed {filename} and saved to {output_path}\")\n",
    "    else:\n",
    "        logging.warning(f\"Skipping {filename} due to errors.\")\n",
    "\n",
    "print(\"Processing complete. Combined files saved in their respective category folder.\")"
   ]
  }
 ],
 "metadata": {
  "kernelspec": {
   "display_name": "venv",
   "language": "python",
   "name": "python3"
  },
  "language_info": {
   "codemirror_mode": {
    "name": "ipython",
    "version": 3
   },
   "file_extension": ".py",
   "mimetype": "text/x-python",
   "name": "python",
   "nbconvert_exporter": "python",
   "pygments_lexer": "ipython3",
   "version": "3.12.5"
  }
 },
 "nbformat": 4,
 "nbformat_minor": 2
}
