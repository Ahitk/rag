{
 "cells": [
  {
   "cell_type": "markdown",
   "metadata": {},
   "source": [
    "# YouTube Video URL Fetcher\n",
    "\n",
    "This script demonstrates how to use the YouTube Data API to fetch video URLs from a specific YouTube channel. The script performs the following tasks:\n",
    "\n",
    "1. Retrieves the channel ID for a given channel name.\n",
    "2. Retrieves the playlist ID for the uploads playlist of the channel.\n",
    "3. Fetches all video IDs from the playlist.\n",
    "4. Converts video IDs into YouTube video URLs.\n",
    "5. Saves the list of video URLs to a specified file.\n",
    "\n",
    "Place your YouTube API key in a `.env` file as shown below:\n",
    "\n",
    "```dotenv\n",
    "YOUTUBE_API_KEY=your_youtube_api_key_here\n"
   ]
  },
  {
   "cell_type": "code",
   "execution_count": 1,
   "metadata": {},
   "outputs": [
    {
     "name": "stdout",
     "output_type": "stream",
     "text": [
      "Fetched 243 video URLs and saved to data/video_urls.txt\n"
     ]
    }
   ],
   "source": [
    "import os\n",
    "from dotenv import load_dotenv\n",
    "from googleapiclient.discovery import build\n",
    "\n",
    "# Load environment variables from a .env file\n",
    "load_dotenv()  # Loads .env file to get API keys.\n",
    "\n",
    "# API Key and channel name\n",
    "api_key = os.getenv(\"YOUTUBE_API_KEY\")  # Retrieve the YouTube API key from environment variables\n",
    "channel_name = 'TelekomHilfe-Videos'  # The name of the YouTube channel to search for\n",
    "\n",
    "def get_channel_id(api_key, channel_name):\n",
    "    \"\"\"\n",
    "    Retrieves the channel ID for a given channel name using the YouTube Data API.\n",
    "    \n",
    "    Args:\n",
    "        api_key (str): The API key for authenticating with the YouTube Data API.\n",
    "        channel_name (str): The name of the YouTube channel to search for.\n",
    "        \n",
    "    Returns:\n",
    "        str or None: The channel ID if found, otherwise None.\n",
    "    \"\"\"\n",
    "    youtube = build('youtube', 'v3', developerKey=api_key)\n",
    "    \n",
    "    # Search for the channel by name\n",
    "    request = youtube.search().list(\n",
    "        part='snippet',\n",
    "        q=channel_name,\n",
    "        type='channel',\n",
    "        maxResults=1\n",
    "    )\n",
    "    response = request.execute()\n",
    "    \n",
    "    # Extract and return the channel ID if available\n",
    "    if response['items']:\n",
    "        return response['items'][0]['id']['channelId']\n",
    "    else:\n",
    "        return None\n",
    "\n",
    "def get_playlist_id(api_key, channel_id):\n",
    "    \"\"\"\n",
    "    Retrieves the playlist ID for the uploads playlist of a given channel ID.\n",
    "    \n",
    "    Args:\n",
    "        api_key (str): The API key for authenticating with the YouTube Data API.\n",
    "        channel_id (str): The ID of the YouTube channel.\n",
    "        \n",
    "    Returns:\n",
    "        str or None: The playlist ID for uploads if found, otherwise None.\n",
    "    \"\"\"\n",
    "    youtube = build('youtube', 'v3', developerKey=api_key)\n",
    "    \n",
    "    # Get the channel details, including the uploads playlist ID\n",
    "    request = youtube.channels().list(\n",
    "        part='contentDetails',\n",
    "        id=channel_id\n",
    "    )\n",
    "    response = request.execute()\n",
    "    \n",
    "    # Extract and return the playlist ID if available\n",
    "    if response['items']:\n",
    "        playlist_id = response['items'][0]['contentDetails']['relatedPlaylists']['uploads']\n",
    "        return playlist_id\n",
    "    else:\n",
    "        return None\n",
    "\n",
    "def get_video_ids_from_playlist(api_key, playlist_id):\n",
    "    \"\"\"\n",
    "    Retrieves all video IDs from a given playlist.\n",
    "    \n",
    "    Args:\n",
    "        api_key (str): The API key for authenticating with the YouTube Data API.\n",
    "        playlist_id (str): The ID of the playlist to fetch video IDs from.\n",
    "        \n",
    "    Returns:\n",
    "        list of str: A list of video IDs from the playlist.\n",
    "    \"\"\"\n",
    "    youtube = build('youtube', 'v3', developerKey=api_key)\n",
    "    video_ids = []\n",
    "    \n",
    "    # Request video IDs from the playlist\n",
    "    request = youtube.playlistItems().list(\n",
    "        part='contentDetails',\n",
    "        playlistId=playlist_id,\n",
    "        maxResults=50\n",
    "    )\n",
    "    \n",
    "    while request:\n",
    "        response = request.execute()\n",
    "        # Append video IDs to the list\n",
    "        video_ids.extend(item['contentDetails']['videoId'] for item in response.get('items', []))\n",
    "        # Get the next page of results if available\n",
    "        request = youtube.playlistItems().list_next(request, response)\n",
    "    \n",
    "    return video_ids\n",
    "\n",
    "def get_video_urls(video_ids):\n",
    "    \"\"\"\n",
    "    Converts a list of video IDs into YouTube video URLs.\n",
    "    \n",
    "    Args:\n",
    "        video_ids (list of str): A list of video IDs to convert.\n",
    "        \n",
    "    Returns:\n",
    "        list of str: A list of full YouTube video URLs.\n",
    "    \"\"\"\n",
    "    return [f\"https://www.youtube.com/watch?v={video_id}\" for video_id in video_ids]\n",
    "\n",
    "def save_urls_to_file(urls, file_path):\n",
    "    \"\"\"\n",
    "    Saves a list of video URLs to a specified file.\n",
    "    \n",
    "    Args:\n",
    "        urls (list of str): The list of URLs to save.\n",
    "        file_path (str): The path to the file where URLs will be saved.\n",
    "    \"\"\"\n",
    "    os.makedirs(os.path.dirname(file_path), exist_ok=True)  # Ensure the directory exists\n",
    "    with open(file_path, 'w') as file:\n",
    "        for url in urls:\n",
    "            file.write(url + '\\n')  # Write each URL on a new line\n",
    "\n",
    "def main():\n",
    "    \"\"\"\n",
    "    Main function to execute the process of fetching video URLs from a YouTube channel\n",
    "    and saving them to a file.\n",
    "    \"\"\"\n",
    "    # Retrieve the channel ID for the given channel name\n",
    "    channel_id = get_channel_id(api_key, channel_name)\n",
    "    if channel_id:\n",
    "        # Retrieve the playlist ID for the uploads playlist of the channel\n",
    "        playlist_id = get_playlist_id(api_key, channel_id)\n",
    "        if playlist_id:\n",
    "            # Get video IDs from the playlist\n",
    "            video_ids = get_video_ids_from_playlist(api_key, playlist_id)\n",
    "            \n",
    "            # Convert video IDs to URLs\n",
    "            video_urls = get_video_urls(video_ids)\n",
    "            \n",
    "            # Save the video URLs to a file\n",
    "            output_file = 'data/video_urls.txt'\n",
    "            save_urls_to_file(video_urls, output_file)\n",
    "            print(f\"Fetched {len(video_urls)} video URLs and saved to {output_file}\")\n",
    "        else:\n",
    "            print(\"Playlist not found.\")\n",
    "    else:\n",
    "        print(\"Channel not found.\")\n",
    "\n",
    "if __name__ == \"__main__\":\n",
    "    main()\n"
   ]
  },
  {
   "cell_type": "markdown",
   "metadata": {},
   "source": [
    "# Downloading and Processing Audio Files from YouTube\n",
    "\n",
    "This notebook automates the process of extracting audio from YouTube videos and converting them to MP3 format, making it useful for collecting and processing audio content for various purposes.\n",
    "\n",
    "\n",
    "### Libraries Used\n",
    "\n",
    "- **`os`**: Provides a way to interact with the operating system, including file and directory operations.\n",
    "- **`yt_dlp`**: A command-line program to download videos from YouTube and other video platforms, used here to extract audio from videos.\n",
    "- **`re`**: Supports regular expression operations to manipulate and validate filenames.\n",
    "\n",
    "### Code Workflow\n",
    "\n",
    "1. **Read Video URLs**:\n",
    "   - Video URLs are read from `data/video_urls.txt`, with each URL stripped of extra whitespace.\n",
    "\n",
    "2. **Configure `yt-dlp`**:\n",
    "   - Set up options for `yt-dlp` to download the best available audio format and convert it to MP3 format.\n",
    "   - The output files are saved in the directory `data/mp3_files/`.\n",
    "\n",
    "3. **Download and Process Audio**:\n",
    "   - For each URL, the script extracts video information and downloads the audio.\n",
    "   - The audio file is then saved as an MP3 file using a sanitized filename.\n",
    "   - If an error occurs during download, it is caught and reported.\n",
    "   - After downloading, the script verifies the presence of the MP3 file and prints a confirmation message.\n",
    "\n",
    "4. **Completion**:\n",
    "   - A message is printed to indicate that all processes have been completed.\n",
    "\n",
    "### Error Handling\n",
    "\n",
    "- Errors during the download process are caught and printed, allowing the script to continue processing other URLs even if one fails.\n",
    "- The existence of the MP3 file is checked to confirm successful download."
   ]
  },
  {
   "cell_type": "code",
   "execution_count": 2,
   "metadata": {},
   "outputs": [
    {
     "name": "stdout",
     "output_type": "stream",
     "text": [
      "File not found: data/mp3_files/magentatv_statt_kabel-tv_-_was_der_wegfall_des_nebenkostenprivilegs_für_dich_bedeutet!.mp3\n",
      "File not found: data/mp3_files/kuriose_kundennachrichten_…_#shorts_#telekom_#magenta_#comedy_#jokes_#funny_#fyp_#like_#follow.mp3\n",
      "File not found: data/mp3_files/werde_teil_der_telekom_hilft_community!_#telekom_#shorts_#magenta_#fyp_#community_#like_#follow_#yt.mp3\n",
      "File not found: data/mp3_files/frag_magenta_der_digitale_assistent_#shorts#telekom#fragmagenta#support#tech#digitalart#fyp#like.mp3\n",
      "File not found: data/mp3_files/wlan-name_ändern_-_fritzbox_und_speedport!_#telekom_#magenta_#wlan_#tech_#fyp_#support_#help_#change.mp3\n",
      "File not found: data/mp3_files/erste_hilfe_bei_internetstörungen_#telekom_#magenta_#wlan_#problem_#help_#fyp_#tech_#support_#like.mp3\n",
      "File not found: data/mp3_files/meinmagenta_app_halte_dein_datenvolumen_im_blick!_#shorts_#magenta_#telekom_#diy_#fyp_#technology.mp3\n",
      "File not found: data/mp3_files/beste_wlan-verbindung_bei_dir_zuhause!_#telekom_#wlan_#netzwerk_#magenta_#trending_#help_#tips_#fyp.mp3\n",
      "File not found: data/mp3_files/wir_arbeiten_bei_der_telekom,_natürlich_..._#telekom_#shorts_#employees_#trending_#magenta_#tech.mp3\n",
      "File not found: data/mp3_files/teile_dein_wlan_mit_dem_qr-code!_#shorts_#telekom_#wlan_#magenta_#tech_#hilfe_#smartphone.mp3\n",
      "File not found: data/mp3_files/frag_magenta_-_kennst_du_es_bereits_#shorts_#telekom_#magenta_#fragmagenta_#tech_#service_#help.mp3\n",
      "File not found: data/mp3_files/heimnetz_–_die_besten_tipps_für_ein_perfektes_wlan_und_internet_in_allen_räumen_i_telekom.mp3\n",
      "File not found: data/mp3_files/telekom_digitalisierungsbox_smart_2_&_premium_2_-_einrichtung_portfreischaltung.mp3\n",
      "File not found: data/mp3_files/telekom_digitalisierungsbox_smart_2_&_premium_2_-_einrichtung_dual-wan.mp3\n",
      "File not found: data/mp3_files/telekom_digitalisierungsbox_smart_2_&_premium_2_-_einrichtung_sfp-modems.mp3\n",
      "File not found: data/mp3_files/telekom_digitalisierungsbox_smart_2_&_premium_2_-_einrichtung_gäste-wlan.mp3\n",
      "File not found: data/mp3_files/wlan-namen_ändern_so_geht's_beim_speedport_telekom.mp3\n",
      "File not found: data/mp3_files/wlan-namen_ändern_schnell_und_einfach_telekom.mp3\n",
      "File not found: data/mp3_files/wlan-namen_ändern_so_geht´s_bei_der_fritzbox_telekom.mp3\n",
      "File not found: data/mp3_files/glasfaseranbindung_-_so_läuft's_ab!_#shorts_#telekom_#glasfaser_#tech_#shortvideo_#magenta.mp3\n",
      "File not found: data/mp3_files/wlan-name_ändern_leicht_gemacht!_#shorts_#telekom_#magenta_#wlan_#security_#hilfe_#smartphone_#tech.mp3\n",
      "File not found: data/mp3_files/ready_to_surf_dein_neuer_festnetzanschluss_ohne_techniker_-_schnell_und_einfach!.mp3\n",
      "File not found: data/mp3_files/magentatv-geräte,_die_jeder_braucht!_#shorts_#magentatv#_telekom_#tv_#euro2024_#magenta#_tech_#tipps.mp3\n",
      "File not found: data/mp3_files/magentatv_megastream!_#telekom_#hilfe_#magenta_#magentatv_#streaming_#streamer_#shorts.mp3\n",
      "File not found: data/mp3_files/störung_diagnose_selbst_durchführen_-_kinderleicht..mp3\n",
      "File not found: data/mp3_files/rundumservice_für_router,_wlan,_internet_und_magenta_tv_–_kennst_du…die_persönliche_installation.mp3\n",
      "File not found: data/mp3_files/videokonferenzen_mit_zoom_durchführen_–_schritt-für-schritt_anleitung_i_telekom_senioren-akademie.mp3\n",
      "File not found: data/mp3_files/digitale_sicherheit_-_tipps_für_sichere_passwörter_i_telekom_senioren-akademie.mp3\n",
      "File not found: data/mp3_files/digitale_organisation_mit_ios-geräten_–_adressbuch,_kalender_und_co._i_telekom_senioren-akademie.mp3\n",
      "File not found: data/mp3_files/digitale_organisation_mit_android-geräten_–_adressbuch,_kalender_und_co._i_telekom_senioren-akademie.mp3\n",
      "File not found: data/mp3_files/digitales_zeitalter_verstehen_und_nutzen_-_kennst_du...die_telekom_senioren-akademie_i_telekom.mp3\n",
      "File not found: data/mp3_files/geräte_service_austausch,_reparatur_und_selbsthilfe-tipps_#shorts_#hilfe_#service_#telekom_#magenta.mp3\n",
      "File not found: data/mp3_files/telekom_hilft_news_dein_wechsel_zu_magentatv_-_einfach_erklärt.mp3\n",
      "File not found: data/mp3_files/zahle_einfach_per_handyrechnung!_#telekom_#hilfe_#handyrechnung_#magenta_#tipp_#smartphone_#easy.mp3\n",
      "File not found: data/mp3_files/per_handyrechnung_bezahlen_-_warum_nicht_#shorts_#telekom_#handyrechnung_#telekomhilft_#magenta.mp3\n",
      "File not found: data/mp3_files/digitale_soforthilfe_ohne_wartezeit_-_kennst_du...frag_magenta_i_telekom.mp3\n",
      "File not found: data/mp3_files/magentatv_summer_essentials!_#telekom_#magenta_#em2024_#fußball_#tipps_#magentatv.mp3\n",
      "File not found: data/mp3_files/frag_magenta_-_digitaler_service_auf_neue_und_innovative_weise_i_telekom.mp3\n",
      "File not found: data/mp3_files/bezahlen_per_handyrechnung_–_so_funktioniert´s_schritt_für_schritt_bei_android-geräten_i_telekom.mp3\n",
      "File not found: data/mp3_files/bezahlen_per_handyrechnung_–_so_funktioniert´s_schritt_für_schritt_bei_ios-geräte_i_telekom.mp3\n",
      "File not found: data/mp3_files/bezahlen_per_handyrechnung_–_einfach_und_schnell_einrichten_i_telekom.mp3\n",
      "File not found: data/mp3_files/wlan_fest_verriegelt_deine_sicherheitscheckliste!_#shorts_#telekom_#magenta_#hilfe_#wlan_#security.mp3\n",
      "File not found: data/mp3_files/leitung_selbst_freischalten_-_so_geht's!_#telekom_#hilfe_#leitung_#magenta_#shorts_#.mp3\n",
      "File not found: data/mp3_files/pin_oder_puk_vergessen!_keine_panik_-_wir_helfen_dir!_#shorts_#telekom_#hilfe_#magenta_#pin_#puk.mp3\n",
      "File not found: data/mp3_files/top-standorte_für_deinen_router!_#shorts_#magenta_#telekom_#hilfe_#router_#internet_#empfang.mp3\n",
      "File not found: data/mp3_files/gönn_deinem_router_eine_auszeit_-_wie_und_weshalb!_#shorts_#telekom_#hilfe_#router_#reset_#magenta.mp3\n",
      "File not found: data/mp3_files/6_wlan-tipps_gegen_störenfriede!_#shorts_#telekom_#magenta_#hilfe_#wlan_#störung_#signal.mp3\n",
      "File not found: data/mp3_files/internetleitung_nach_umzug_einrichten_-_diy-anleitung!_#shorts_#telekom_#internet_#hilfe_#magenta.mp3\n",
      "File not found: data/mp3_files/router-notfallhilfe_schnelle_lösungen_bei_ausfällen_#shorts_#telekom_#hilfe_#router_#magenta.mp3\n",
      "File not found: data/mp3_files/so_geht_das_verlegen_der_glasfaser_was_sie_bei_den_leitungswegen_beachten_müssen_telekom.mp3\n",
      "File not found: data/mp3_files/magenta_thermostat_dein_smarter_heizungshelfer!#shorts_#telekom_#magenta_#hilfe_#thermostat_#heizen.mp3\n",
      "File not found: data/mp3_files/leitung_blockiert!_die_telekom_eilt_zur_hilfe_#shorts_#telekom_#magenta_#leitung_#internet_#hilfe.mp3\n",
      "File not found: data/mp3_files/internet-abbrüche_hier_die_lösung!_#shorts_#magenta_#telekom_#internet_#wlan_#hilfe_#störung.mp3\n",
      "File not found: data/mp3_files/kabel_durchschnitten_so_läuft_das_internet_wieder!_#shorts_#telekom_#magenta_#hilfe_#internet.mp3\n",
      "File not found: data/mp3_files/internet_weg_melde_so_die_störung!_#shorts_#telekom_#telekomhilft_#internet_#wlan_#hilfe_#magenta.mp3\n",
      "File not found: data/mp3_files/angriffe_aus_dem_netz_-_schutz_vor'm_phishing!_#shorts_#telekom_#magenta_#security_#fußball_#5g.mp3\n",
      "File not found: data/mp3_files/so_schützt_du_dein_wlan_vor_ungebetenen_gästen!_#shorts_#telekom_#wlan_#security_#magenta.mp3\n",
      "File not found: data/mp3_files/fußball_schauen_im_garten_speed_home_wlan_macht_es_möglich!_#shorts_#telekom_#fußball_#em2024.mp3\n",
      "File not found: data/mp3_files/wlan_in_allen_ecken_-_mesh_wlan_mit_dem_speedhome_wlan!_#shorts_#telekom_#magenta_#wlan.mp3\n",
      "File not found: data/mp3_files/5g_empfänger_-_unboxing_telekom_#shorts_#telekom_#5g_#telekomhilft_#magenta.mp3\n",
      "File not found: data/mp3_files/glasfaser_oder_kupfer_-_welchen_router_brauche_ich_#shorts_#telekom_#telekomhilft_#magenta.mp3\n",
      "File not found: data/mp3_files/magentatv_one_-_unboxing!_#shorts_#telekom_#telekomhilft_#magenta.mp3\n",
      "File not found: data/mp3_files/kontakt_zur_telekom_-_warum_ihr_eure_e-mail_verifizieren_solltet_!_#shorts_#telekom_#telekomhilft.mp3\n",
      "File not found: data/mp3_files/glasfaser_iii_#shorts_#telekom_#telekomhilft_#magenta.mp3\n",
      "File not found: data/mp3_files/kennst_du...unseren_proaktiven_heimnetzservice_i_telekom.mp3\n",
      "File not found: data/mp3_files/festnetz_und_handy_aus_einer_hand_-_kennst_du...unsere_meinmagenta_app_i_telekom.mp3\n",
      "File not found: data/mp3_files/probleme_mit_dem_computer_-_der_digital_home_service_hilft!_#shorts_#telekom_#telekomhilft_#magenta.mp3\n",
      "File not found: data/mp3_files/glasfaser_ii_#shorts_#telekom_#telekomhilft_#magenta.mp3\n",
      "File not found: data/mp3_files/glasfaser_i_#shorts_#telekom_#telekomhilft_#magenta.mp3\n",
      "File not found: data/mp3_files/kennst_du…unseren_digital_home_service.mp3\n",
      "File not found: data/mp3_files/urlaubsreif_-_telekommobilfunk_im_ausland!_#shorts_#telekom_#telekomhilft_#magenta.mp3\n",
      "File not found: data/mp3_files/der_freizeichentonservice_der_telekom_#telekom_#telekomhilft_#telekomvideos_#magenta.mp3\n",
      "File not found: data/mp3_files/whatsapp_service_in_60_sekunden_erklärt.mp3\n",
      "File not found: data/mp3_files/enkel-tipp_meinmagenta_app_auf_dem_iphone_installieren_-_schritt-für-schritt_anleitung.mp3\n",
      "File not found: data/mp3_files/kann_ich_dein_wlan-passwort_haben_-_gastwlan!.mp3\n",
      "File not found: data/mp3_files/kennst_du...unseren_whatsapp_service_i_telekom.mp3\n",
      "File not found: data/mp3_files/so_tauschst_du_deine_esim_schritt-für-schritt-anleitung.mp3\n",
      "File not found: data/mp3_files/wofür_brauche_ich_den_telekomlogin_#shorts#telekom#telekomhilft.mp3\n",
      "File not found: data/mp3_files/telekom_hilft_news_die_neue_oberfläche_von_magentatv.mp3\n",
      "File not found: data/mp3_files/was_ist_das_telefoniecenter_#shorts#telekom#telekomhilft.mp3\n",
      "File not found: data/mp3_files/keine_langen_warteschleifen_-_nutze_den_rückrufservice!.mp3\n",
      "File not found: data/mp3_files/online-ident_-_verträge_von_zuhause_mit_der_nect-app_bestätigen_#shorts_#telekom_#telekomhilft.mp3\n",
      "File not found: data/mp3_files/hast_du_schon_die_mein_magenta_app.mp3\n",
      "File not found: data/mp3_files/kennst_du_schon_das_kundencenter_tipps_und_funktionen_einfach_erklärt.mp3\n",
      "File not found: data/mp3_files/zoom_seminare_der_telekom_senioren-akademie_-_teilnahme_mit_einem_ipad.mp3\n",
      "File not found: data/mp3_files/zoom_seminare_der_telekom_senioren-akademie_-_teilnahme_mit_einem_windows-pc.mp3\n",
      "File not found: data/mp3_files/zoom_seminare_der_telekom_senioren-akademie_-_teilnahme_mit_einem_android_tablet.mp3\n",
      "File not found: data/mp3_files/companyflex_sip-trunk_-_ersteinrichtung.mp3\n",
      "File not found: data/mp3_files/einfach_und_schnell_wechsel_ins_beste_netz_mit_der_telekom.mp3\n",
      "File not found: data/mp3_files/telekom_magentaservice_live_–_persönliche_beratung_per_videocall.mp3\n",
      "File not found: data/mp3_files/magentaservice_live_–_deine_persönliche_videoberatung.mp3\n",
      "File not found: data/mp3_files/kennt_ihr_schon_unsere_videoberatung_hier_ist_magentaservice_live.mp3\n",
      "File not found: data/mp3_files/schützt_euer_postfach_vor_spam_-_telekom_tipps!.mp3\n",
      "File not found: data/mp3_files/spam-schutz_bei_der_telekom_-_so_einfach_geht's!.mp3\n",
      "File not found: data/mp3_files/telekom_making_of_„spamfilter“_#shorts.mp3\n",
      "File not found: data/mp3_files/die_moderatoren_der_telekom_hilfe-videos_lernen_sie_unser_team_kennen!.mp3\n",
      "File not found: data/mp3_files/die_optimalen_einstellungen_am_smart-tv_für_magentatv.mp3\n",
      "File not found: data/mp3_files/das_optimale_wlan-netz_für_magentatv_i_telekom.mp3\n",
      "File not found: data/mp3_files/die_beste_verbindung_für_magentatv_i_telekom.mp3\n",
      "File not found: data/mp3_files/telekom_die_beste_verbindung_für_magentatv_(13).mp3\n",
      "File not found: data/mp3_files/telekom_das_optimale_wlan-netz_für_magentatv_(23).mp3\n",
      "File not found: data/mp3_files/telekom_die_optimalen_einstellungen_am_smart-tv_für_magentatv_(33).mp3\n",
      "File not found: data/mp3_files/telekom_die_beste_verbindung_für_magentatv_i_making_of_#shorts_#magentatv.mp3\n",
      "File not found: data/mp3_files/telekom_magentatv_statt_kabel-tv_-_wegfall_nebenkostenprivileg.mp3\n",
      "File not found: data/mp3_files/einfache_anmeldung_bei_der_meinmagenta_app_-_schritt_für_schritt_erklärt!.mp3\n",
      "File not found: data/mp3_files/telekom_wegfall_nebenkostenprivileg_-_magentatv_statt_kabel-tv_i_making_of_#shorts.mp3\n",
      "File not found: data/mp3_files/magentazuhause_schnellstartpaket_–_so_richtest_du_deinen_ersatzrouter_schnell_und_einfach_ein.mp3\n",
      "File not found: data/mp3_files/telekom_dsl-anschluss_einrichten_-_so_geht‘s_kinderleicht!_#shorts_👍🎞️🎥👍.mp3\n",
      "File not found: data/mp3_files/telekom_selfie-ident_via_app_#shorts.mp3\n",
      "File not found: data/mp3_files/video-ident_-_videocall_mit_telekom_service.mp3\n",
      "File not found: data/mp3_files/video-ident_videocall_mit_telekom_service_-_schritt_für_schritt.mp3\n",
      "File not found: data/mp3_files/telekom_selfie-ident_via_app_-_einfache_identitätsbestätigung_schritt_für_schritt.mp3\n",
      "File not found: data/mp3_files/online-identifikation_so_identifizierst_du_dich_einfach_online_i_telekom.mp3\n",
      "File not found: data/mp3_files/telekom_kündigung_mietgerät_bei_der_telekom.mp3\n",
      "File not found: data/mp3_files/telekom_dsl-anschluss_schnell_und_einfach_einrichten.mp3\n",
      "File not found: data/mp3_files/wie_bereite_ich_mich_auf_einen_technikerbesuch_vor.mp3\n",
      "File not found: data/mp3_files/e-mail-adresse_bei_der_telekom_bestätigen_-_so_geht's!.mp3\n",
      "File not found: data/mp3_files/so_kündigst_du_dein_mietgerät_einfach_und_schnell!.mp3\n",
      "File not found: data/mp3_files/enkel-tipps_so_finden_sie_den_nächstgelegenen_telekom_shop.mp3\n",
      "File not found: data/mp3_files/enkel-tipps_inhalte_auf_dem_smartphone_vergrößern.mp3\n",
      "File not found: data/mp3_files/enkel-tipps_wichtige_smartphone-symbole_verständlich_erklärt.mp3\n",
      "File not found: data/mp3_files/telekom_esim_bei_zusatzgeräten.mp3\n",
      "File not found: data/mp3_files/so_erkennt_ihr_von_der_telekom_autorisierte_verkäuferinnen.mp3\n",
      "File not found: data/mp3_files/telekom_esim_bei_gerätewechsel_leicht_gemacht.mp3\n",
      "File not found: data/mp3_files/aktiviere_dein_esim_profil_in_minuten_einfach_und_schnell_erklärt!.mp3\n",
      "File not found: data/mp3_files/companyflex_cloud_pbx_2.0_-_outlook_integration.mp3\n",
      "File not found: data/mp3_files/companyflex_sip-trunk_-_arbeitsplatz_powered_by_webex.mp3\n",
      "File not found: data/mp3_files/companyflex_cloud_pbx_2.0_-_microsoft_teams_integration.mp3\n",
      "File not found: data/mp3_files/hybrid_5glte_installation_schritt_für_schritt_erklärt_(23).mp3\n",
      "File not found: data/mp3_files/telekom_hybrid_5glte_der_turbo_für_dein_internet_(13).mp3\n",
      "File not found: data/mp3_files/telekom_hybrid_5glte_bestes_erlebnis_(33).mp3\n",
      "File not found: data/mp3_files/frag_magenta_dein_digitaler_assistent_–_hilfe_rund_um_die_uhr!.mp3\n",
      "File not found: data/mp3_files/deine_erste_telekom_rechnung_nach_tarifwechsel_erklärung_&_details.mp3\n",
      "File not found: data/mp3_files/deine_erste_telekom_rechnung_-_wir_erklären_dir_die_details.mp3\n",
      "File not found: data/mp3_files/enkel-tipps_was_sind_apps_-_einfache_erklärung.mp3\n",
      "File not found: data/mp3_files/enkel-tipps_was_ist_eigentlich_ein_qr_code.mp3\n",
      "File not found: data/mp3_files/cell_broadcast_–_das_handy_als_mobiler_warnmelder.mp3\n",
      "File not found: data/mp3_files/störung_bei_der_telekom_melden_–_so_einfach_geht's!.mp3\n",
      "File not found: data/mp3_files/meinmagenta_app_ihre_gesamte_telekom_welt_immer_im_blick.mp3\n",
      "File not found: data/mp3_files/so_passen_sie_die_lautstärke_und_den_klingelton_auf_ihrem_iphone_an.mp3\n",
      "File not found: data/mp3_files/enkel-tipp_kontakte_verwalten_+_geburtsdatum_hinzufügen_beim_iphone.mp3\n",
      "File not found: data/mp3_files/enkel-tipps_apps_korrekt_schließen_beim_android_smartphone.mp3\n",
      "File not found: data/mp3_files/enkel-tipps_apps_korrekt_schließen_beim_iphone.mp3\n",
      "File not found: data/mp3_files/herausforderungen_beim_glasfaserausbau.mp3\n",
      "File not found: data/mp3_files/companyflex_cloud_pbx_2.0_–_konferenzen_leicht_gemacht!.mp3\n",
      "File not found: data/mp3_files/enkel-tipp_schriftgröße_anpassen_iphone.mp3\n",
      "File not found: data/mp3_files/enkel-tipp_schriftgröße_anpassen_android_smartphone.mp3\n",
      "File not found: data/mp3_files/enkel-tipp_wecker_stellen_beim_iphone.mp3\n",
      "File not found: data/mp3_files/enkel-tipp_wecker_stellen_beim_android_smartphone.mp3\n",
      "File not found: data/mp3_files/enkel-tipp_iphone_mit_wlan_verbinden.mp3\n",
      "File not found: data/mp3_files/enkel-tipp_android_smartphone_mit_wlan_verbinden.mp3\n",
      "File not found: data/mp3_files/для_українців_як_перевести_безкоштовну_картку_мобільного_телефону_на_передплачений_тариф_i_telekom.mp3\n",
      "File not found: data/mp3_files/die_neuen_magentamobil_angebote_für_alle,_die_familie_sind_-_magentaeins_vorteil.mp3\n",
      "File not found: data/mp3_files/die_neuen_magentamobil_angebote_für_alle,_die_familie_sind_-_magentamobil_pluskarten.mp3\n",
      "File not found: data/mp3_files/companyflex_cloud_pbx_2.0_-_anruf_übernehmen_leicht_gemacht.mp3\n",
      "File not found: data/mp3_files/companyflex_cloud_pbx_2.0_-_controlhub.mp3\n",
      "File not found: data/mp3_files/meinmagenta_app_ihre_gesamte_telekom_welt_immer_im_blick_-_kompakt.mp3\n",
      "File not found: data/mp3_files/die_telekom_ideenschmiede_gestalten_sie_die_zukunft_mit_uns!.mp3\n",
      "File not found: data/mp3_files/alles_zur_telekom_abschlussrechnung_bei_mobilfunk-verträgen.mp3\n",
      "File not found: data/mp3_files/abschlussrechnung_für_festnetz_alles,_was_du_wissen_musst.mp3\n",
      "File not found: data/mp3_files/vertragsverwaltung_leicht_gemacht_business_service_portal_der_telekom_im_webinar.mp3\n",
      "File not found: data/mp3_files/magentatv_schneller_auswählen_und_steuern_mit_sprachsteuerung.mp3\n",
      "File not found: data/mp3_files/magenta_tv_sprachsteuerung_-_so_einfach_geht's.mp3\n",
      "File not found: data/mp3_files/magentatv_schneller_navigieren_mit_sprachsteuerung!.mp3\n",
      "File not found: data/mp3_files/so_geht_der_wlan_call_mit_dem_smartphone_über_wlan_telefonieren_telekom.mp3\n",
      "File not found: data/mp3_files/telekom_business_customer's_obligations_to_cooperate_(english)..mp3\n",
      "File not found: data/mp3_files/magentatv_sprachsteuerung_so_nutzt_du_die_sprachbefehle_effektiv.mp3\n",
      "File not found: data/mp3_files/suchmaschinenoptimierung_für_ihre_webseite–besser_gefunden_werden_mit_homepage-baukasten_der_telekom.mp3\n",
      "File not found: data/mp3_files/individuelle_firmenhomepage_–_einfach_und_professionell_mit_dem_homepage-baukasten_der_telekom.mp3\n",
      "File not found: data/mp3_files/professionelle_homepage_selbst_erstellen_-_einfache_schritte_mit_dem_telekom_homepage-baukasten.mp3\n",
      "File not found: data/mp3_files/so_geht_wlan_mit_telekom_speedport_funktionen_und_einstellungen_im_überblick.mp3\n",
      "File not found: data/mp3_files/so_geht_die_glasfaser-installation_schritt-für-schritt_anleitung_für_highspeed-internet!.mp3\n",
      "File not found: data/mp3_files/datenroaming_aktivieren_–_mit_travel_&_surf_ohne_versteckte_kosten_im_ausland_surfen.mp3\n",
      "File not found: data/mp3_files/telekom_hilft_news_internet-abbrüche_vermeiden_-_so_geht's!.mp3\n",
      "File not found: data/mp3_files/die_b2b_schnittstelle_für_geschäftskunden.mp3\n",
      "File not found: data/mp3_files/simpleshow_zum_leistungsmerkmal_„proaktives_faultmanagement“.mp3\n",
      "File not found: data/mp3_files/prepaid_guthaben_automatisch_aufladen_leicht_gemacht.mp3\n",
      "File not found: data/mp3_files/simpleshow_mitwirkungspflichten_bei_der_bereitstellung_von_übertragungswegen.mp3\n",
      "File not found: data/mp3_files/telekom_digibox_smart_2_+_premium_2_-_site-to-site_vpn_leicht_gemacht!.mp3\n",
      "File not found: data/mp3_files/einfache_einrichtung_von_apple_tv_4k_mit_magentatv_tipps_und_tricks.mp3\n",
      "File not found: data/mp3_files/telekom_digibox_smart_2_+_premium_2_–_client-to-site_mit_apple_ios_ipados.mp3\n",
      "File not found: data/mp3_files/telekom_digibox_smart_2_+_premium_2_–_client-to-site_mit_dem_bintec_secure_ipsec_client.mp3\n",
      "File not found: data/mp3_files/telekom_digitalisierungsbox_smart_2_&_premium_2_-_erstinbetriebnahme.mp3\n",
      "File not found: data/mp3_files/telekom_digitalisierungsbox_premium_2_-_ersteinrichtung_pbx.mp3\n",
      "File not found: data/mp3_files/telekom_digitalisierungsbox_smart_2_pbx_ersteinrichtung_leicht_gemacht.mp3\n",
      "File not found: data/mp3_files/digitalisierungsbox_premium_2_-_einrichtung_ip-systemtelefon.mp3\n",
      "File not found: data/mp3_files/telekom_digitalisierungsbox_premium_2_-_ersteinrichtung_dect150.mp3\n",
      "File not found: data/mp3_files/telekom_digitalisierungsbox_premium_2_-_ersteinrichtung_dect160.mp3\n",
      "File not found: data/mp3_files/telekom_digitalisierungsbox_smart_2_-_einrichtung_ip-systemtelefon.mp3\n",
      "File not found: data/mp3_files/digitalisierungsbox_smart_2_dect160_einrichten_–_schritt-für-schritt_anleitung.mp3\n",
      "File not found: data/mp3_files/telekom_digitalisierungsbox_smart_2_-_ersteinrichtung_dect150.mp3\n",
      "File not found: data/mp3_files/wlan_überall_richte_dein_speed_home_wlan_richtig_ein.mp3\n",
      "File not found: data/mp3_files/telekom_hilft_news_wie_solltet_ihr_euch_bei_spam_via_sms_verhalten.mp3\n",
      "File not found: data/mp3_files/telekom_microsoft_teams_telefonie_in_companyflex_einrichten.mp3\n",
      "File not found: data/mp3_files/telekom_hilft_news_wichtige_tipps_zur_registrierung_bei_disney+.mp3\n",
      "File not found: data/mp3_files/telekom_hilft_news_-_thomas_stellt_euch_die_telekom_speedbox_2_vor.mp3\n",
      "File not found: data/mp3_files/das_digital_schutzpaket_–_umfassender_schutz_für_ihre_familie.mp3\n",
      "File not found: data/mp3_files/telekom_hilft_news_installation_der_magentatv_app_an_eurem_smart_tv.mp3\n",
      "File not found: data/mp3_files/wie_installiere_ich_ein_magenta_smarthome_heizkörperthermostat_telekom.mp3\n",
      "File not found: data/mp3_files/telekom_hilft_news_einrichtung_von_magenta_smarthome_mit_tür-fensterkontakt.mp3\n",
      "File not found: data/mp3_files/feste_ip-adresse_auf_neuen_ip-anschluss_übertragen_für_geschäftskunden_-_anleitung.mp3\n",
      "File not found: data/mp3_files/digitalisierungsbox_smart_&_premium_-_end-to-site_vpn_mit_einem_android_mobile_device_einrichten.mp3\n",
      "File not found: data/mp3_files/telekom_digitalisierungsbox_smart_&_premium_-_end-to-site_vpn_mit_apple_ios_und_ipados.mp3\n",
      "File not found: data/mp3_files/anrufweiterleitung_mit_der_digitalisierungsbox_smart_&_premium_einrichten_–_schritt-für-schritt.mp3\n",
      "File not found: data/mp3_files/glasfaser-installation_so_bereitest_du_dich_optimal_vor!.mp3\n",
      "File not found: data/mp3_files/rufnummernportierung_für_geschäftskunden_-_nehmen_sie_ihre_mobilfunknummer_ganz_einfach_mit.mp3\n",
      "File not found: data/mp3_files/telekom_digitalisierungsbox_premium_-_team_voice_mail_box_einrichten.mp3\n",
      "File not found: data/mp3_files/telekom_digitalisierungsbox_premium_-_kalender_und_tagnachtbetrieb_einrichten.mp3\n",
      "File not found: data/mp3_files/digitalisierungsbox_smart_–_externer_zugriff_auf_webserver_&_webcam_einrichten.mp3\n",
      "File not found: data/mp3_files/telekom_digitalisierungsbox_premium-_ersteinrichtung_telefonanlage_an_einem_sip-mehrgeräteanschluss.mp3\n",
      "File not found: data/mp3_files/telekom_digitalisierungsbox_smart_&_premium_-_vpn_site-to-site_zwischen_zwei_digitalisierungsboxen.mp3\n",
      "File not found: data/mp3_files/digitalisierungbox_smart_-_einrichtung_eines_bintec_elmeg_ip-telefons_–_rev2.mp3\n",
      "File not found: data/mp3_files/telekom_digitalisierungsbox_premium_-_einrichtung_eines_sip-trunks_im_pbx-modus.mp3\n",
      "File not found: data/mp3_files/telekom_digitalisierungsbox_smart_-_ersteinrichtung_telefonanlage.mp3\n",
      "File not found: data/mp3_files/telekom_digitalisierungsbox_premium_-_einrichtung_eines_bintec_elmeg_ip-telefons_–_rev2.mp3\n",
      "File not found: data/mp3_files/telekom_digitalisierungsbox_smart_-_pbx_–_einrichtung_über_den_telefonie_assistenten.mp3\n",
      "File not found: data/mp3_files/digitalisierungsbox_premium_–_pbx-einrichtung_leicht_gemacht.mp3\n",
      "File not found: data/mp3_files/digitalisierungsbox_smart_&_premium_-_session_border_controller_mit_unify_osbiz.mp3\n",
      "File not found: data/mp3_files/änderung_der_lan_ip_adresse_bei_der_digitalisierungsbox_smart.mp3\n",
      "File not found: data/mp3_files/telekom_digitalisierungsbox_smart_-_einrichtung_eines_sip-trunks_im_media_gateway_modus.mp3\n",
      "File not found: data/mp3_files/digitalisierungbox_smart_-_media_gateway_einfache_einrichtung_über_den_telefonie_assistenten.mp3\n",
      "File not found: data/mp3_files/telekom_digitalisierungsbox_smart_-_einrichtung_eines_dect150.mp3\n",
      "File not found: data/mp3_files/digitalisierungbox_premium_-_einrichten_einer_dect150_basisstation.mp3\n",
      "File not found: data/mp3_files/telekom_digitalisierungsbox_smart_-_einrichtung_eines_sip-trunks_im_pbx-modus.mp3\n",
      "File not found: data/mp3_files/telekom_digitalisierungsbox_smart_-_ersteinrichtung_media_gateway.mp3\n",
      "File not found: data/mp3_files/telekom_digitalisierungsbox_premium_-_end-to-site_vpn_mit_dem_bintec_elmeg_secure_ipsec_client.mp3\n",
      "File not found: data/mp3_files/telekom_digitalisierungsbox_smart_&_premium_-_einführung.mp3\n",
      "File not found: data/mp3_files/digitalisierungsbox_premium_-_schnelle_einrichtung_eines_sip-trunks_im_media_gateway_modus.mp3\n",
      "File not found: data/mp3_files/szenen_erstellen_mit_telekom_magenta_smarthome.mp3\n",
      "File not found: data/mp3_files/telekom_speedbox_–_inbetriebnahme_und_konfiguration.mp3\n",
      "File not found: data/mp3_files/telekom_hilft_news_speedbox_–_mobil_und_flexibel_ins_internet.mp3\n",
      "File not found: data/mp3_files/telekom_hilft_news_kombiprotect_–_gps-tracker_für_haustiere_und_mehr.mp3\n",
      "File not found: data/mp3_files/glasfaserausbau_der_telekom_so_profitiert_ihre_immobilie!.mp3\n",
      "File not found: data/mp3_files/ein_tag_mit_dem_servicetechniker_-_einblicke_in_den_außendienst.mp3\n",
      "File not found: data/mp3_files/telefoniecenter_-_erste_schritte_ihre_telefonische_erreichbarkeit_einfach_online_steuern.mp3\n",
      "File not found: data/mp3_files/telefoniecenter_–_alles_zur_sprachbox.mp3\n",
      "File not found: data/mp3_files/telekom_telefoniecenter_–_themenbereich_„sicherheit“.mp3\n",
      "File not found: data/mp3_files/telekom_telefoniecenter_–_themenbereich_„komfort“.mp3\n",
      "File not found: data/mp3_files/telekom_telefoniecenter_–_themenbereich_„erreichbarkeit“.mp3\n",
      "File not found: data/mp3_files/telekom_anbindung_an_ftth_(fiber_to_the_home)_glasfasertechnik.mp3\n",
      "File not found: data/mp3_files/telekom_hausanschluss_und_hausverkabelung_ftthglasfasertechnik.mp3\n",
      "File not found: data/mp3_files/digitalisierungsbox_premium_–_einrichtung_und_funktionen.mp3\n",
      "File not found: data/mp3_files/telekom_meine_mobilfunk-rechnung_-_die_erste_rechnung_nach_einem_tarifwechsel.mp3\n",
      "All operations completed.\n"
     ]
    }
   ],
   "source": [
    "import os\n",
    "import yt_dlp\n",
    "import re\n",
    "\n",
    "# Function to create a safe filename by removing or replacing invalid characters\n",
    "def safe_filename(filename):\n",
    "    # Remove invalid characters for filenames\n",
    "    filename = re.sub(r'[\\\\/*?:\"<>|]', \"\", filename)\n",
    "    # Replace spaces with underscores\n",
    "    filename = re.sub(r'\\s+', '_', filename)\n",
    "    # Limit the filename length to 255 characters\n",
    "    filename = filename[:255]\n",
    "    return filename.lower()\n",
    "\n",
    "# Read video URLs from 'data/video_urls.txt'\n",
    "input_file_path = \"data/video_urls.txt\"\n",
    "with open(input_file_path, \"r\") as file:\n",
    "    video_urls = [line.strip() for line in file.readlines()]\n",
    "\n",
    "# yt-dlp options for downloading and processing audio files\n",
    "ydl_opts = {\n",
    "    # Download the best available audio format\n",
    "    'format': 'bestaudio/best',\n",
    "    # Post-process the downloaded file to extract audio and convert to MP3\n",
    "    'postprocessors': [{\n",
    "        'key': 'FFmpegExtractAudio',\n",
    "        'preferredcodec': 'mp3',\n",
    "        'preferredquality': '192',\n",
    "    }],\n",
    "    # Output template for the downloaded files\n",
    "    'outtmpl': 'data/mp3_files/%(title)s.%(ext)s',\n",
    "    # Suppress verbose output\n",
    "    'quiet': True,\n",
    "}\n",
    "\n",
    "# Loop through each video URL to download and save audio files\n",
    "for video_url in video_urls:\n",
    "    with yt_dlp.YoutubeDL(ydl_opts) as ydl:\n",
    "        try:\n",
    "            # Extract information and download the video\n",
    "            info_dict = ydl.extract_info(video_url, download=True)\n",
    "            # Get the title of the video\n",
    "            title = info_dict.get('title', None)\n",
    "            # Create a safe filename from the video title\n",
    "            safe_title = safe_filename(title)\n",
    "            # Define the path for the MP3 file\n",
    "            mp3_filename = f\"data/mp3_files/{safe_title}.mp3\"\n",
    "        except Exception as e:\n",
    "            # Print an error message if there is an issue with downloading\n",
    "            print(f\"Download error: {e}\")\n",
    "            continue\n",
    "\n",
    "        # Check if the MP3 file has been successfully created\n",
    "        if not os.path.exists(mp3_filename):\n",
    "            print(f\"File not found: {mp3_filename}\")\n",
    "            continue\n",
    "\n",
    "        # Print a success message with the path of the downloaded MP3 file\n",
    "        print(f\"MP3 file successfully downloaded: {mp3_filename}\")\n",
    "\n",
    "# Indicate that all processes have completed\n",
    "print(\"All operations completed.\")\n"
   ]
  },
  {
   "cell_type": "markdown",
   "metadata": {},
   "source": [
    "# MP3 Files Transcription\n",
    "\n",
    "It is designed to handle the transcription of MP3 audio files using the Whisper model. The notebook performs the following steps:\n",
    "\n",
    "1. **Conversion of MP3 Files to WAV Format**:\n",
    "   - MP3 files are converted to WAV format as Whisper works more efficiently with WAV files for transcription.\n",
    "\n",
    "2. **Transcription of WAV Files**:\n",
    "   - The converted WAV files are processed using the Whisper model to generate transcriptions.\n",
    "\n",
    "3. **Saving Transcriptions**:\n",
    "   - The transcriptions are saved as text files in a specified directory."
   ]
  },
  {
   "cell_type": "code",
   "execution_count": 3,
   "metadata": {},
   "outputs": [
    {
     "name": "stderr",
     "output_type": "stream",
     "text": [
      "/Users/taha/Desktop/rag/venv/lib/python3.12/site-packages/whisper/__init__.py:146: FutureWarning: You are using `torch.load` with `weights_only=False` (the current default value), which uses the default pickle module implicitly. It is possible to construct malicious pickle data which will execute arbitrary code during unpickling (See https://github.com/pytorch/pytorch/blob/main/SECURITY.md#untrusted-models for more details). In a future release, the default value for `weights_only` will be flipped to `True`. This limits the functions that could be executed during unpickling. Arbitrary objects will no longer be allowed to be loaded via this mode unless they are explicitly allowlisted by the user via `torch.serialization.add_safe_globals`. We recommend you start setting `weights_only=True` for any use case where you don't have full control of the loaded file. Please open an issue on GitHub for any issues related to this experimental feature.\n",
      "  checkpoint = torch.load(fp, map_location=device)\n",
      "/Users/taha/Desktop/rag/venv/lib/python3.12/site-packages/whisper/transcribe.py:115: UserWarning: FP16 is not supported on CPU; using FP32 instead\n",
      "  warnings.warn(\"FP16 is not supported on CPU; using FP32 instead\")\n"
     ]
    },
    {
     "name": "stdout",
     "output_type": "stream",
     "text": [
      "Transcription saved for: Änderung der LAN IP Adresse bei der Digitalisierungsbox Smart.mp3\n"
     ]
    },
    {
     "name": "stderr",
     "output_type": "stream",
     "text": [
      "/Users/taha/Desktop/rag/venv/lib/python3.12/site-packages/whisper/transcribe.py:115: UserWarning: FP16 is not supported on CPU; using FP32 instead\n",
      "  warnings.warn(\"FP16 is not supported on CPU; using FP32 instead\")\n"
     ]
    },
    {
     "name": "stdout",
     "output_type": "stream",
     "text": [
      "Transcription saved for: Для українців： як перевести безкоштовну картку мобільного телефону на передплачений тариф I Telekom.mp3\n"
     ]
    },
    {
     "name": "stderr",
     "output_type": "stream",
     "text": [
      "/Users/taha/Desktop/rag/venv/lib/python3.12/site-packages/whisper/transcribe.py:115: UserWarning: FP16 is not supported on CPU; using FP32 instead\n",
      "  warnings.warn(\"FP16 is not supported on CPU; using FP32 instead\")\n"
     ]
    },
    {
     "name": "stdout",
     "output_type": "stream",
     "text": [
      "Transcription saved for: Telekom hilft News： Speedbox – Mobil und flexibel ins Internet.mp3\n"
     ]
    },
    {
     "name": "stderr",
     "output_type": "stream",
     "text": [
      "/Users/taha/Desktop/rag/venv/lib/python3.12/site-packages/whisper/transcribe.py:115: UserWarning: FP16 is not supported on CPU; using FP32 instead\n",
      "  warnings.warn(\"FP16 is not supported on CPU; using FP32 instead\")\n"
     ]
    },
    {
     "name": "stdout",
     "output_type": "stream",
     "text": [
      "Transcription saved for: Telekom hilft News： Die neue Oberfläche von MagentaTV.mp3\n"
     ]
    },
    {
     "name": "stderr",
     "output_type": "stream",
     "text": [
      "/Users/taha/Desktop/rag/venv/lib/python3.12/site-packages/whisper/transcribe.py:115: UserWarning: FP16 is not supported on CPU; using FP32 instead\n",
      "  warnings.warn(\"FP16 is not supported on CPU; using FP32 instead\")\n"
     ]
    },
    {
     "name": "stdout",
     "output_type": "stream",
     "text": [
      "Transcription saved for: Heimnetz – Die besten Tipps für ein perfektes WLAN und Internet in allen Räumen I Telekom.mp3\n"
     ]
    },
    {
     "name": "stderr",
     "output_type": "stream",
     "text": [
      "/Users/taha/Desktop/rag/venv/lib/python3.12/site-packages/whisper/transcribe.py:115: UserWarning: FP16 is not supported on CPU; using FP32 instead\n",
      "  warnings.warn(\"FP16 is not supported on CPU; using FP32 instead\")\n"
     ]
    },
    {
     "name": "stdout",
     "output_type": "stream",
     "text": [
      "Transcription saved for: Enkel-Tipp： Wecker stellen beim Android Smartphone.mp3\n"
     ]
    },
    {
     "name": "stderr",
     "output_type": "stream",
     "text": [
      "/Users/taha/Desktop/rag/venv/lib/python3.12/site-packages/whisper/transcribe.py:115: UserWarning: FP16 is not supported on CPU; using FP32 instead\n",
      "  warnings.warn(\"FP16 is not supported on CPU; using FP32 instead\")\n"
     ]
    },
    {
     "name": "stdout",
     "output_type": "stream",
     "text": [
      "Transcription saved for: WLAN überall： Richte Dein Speed Home WLAN richtig ein.mp3\n"
     ]
    },
    {
     "name": "stderr",
     "output_type": "stream",
     "text": [
      "/Users/taha/Desktop/rag/venv/lib/python3.12/site-packages/whisper/transcribe.py:115: UserWarning: FP16 is not supported on CPU; using FP32 instead\n",
      "  warnings.warn(\"FP16 is not supported on CPU; using FP32 instead\")\n"
     ]
    },
    {
     "name": "stdout",
     "output_type": "stream",
     "text": [
      "Transcription saved for: Telekom： Digitalisierungsbox Premium- Ersteinrichtung Telefonanlage an einem SIP-Mehrgeräteanschluss.mp3\n"
     ]
    },
    {
     "name": "stderr",
     "output_type": "stream",
     "text": [
      "/Users/taha/Desktop/rag/venv/lib/python3.12/site-packages/whisper/transcribe.py:115: UserWarning: FP16 is not supported on CPU; using FP32 instead\n",
      "  warnings.warn(\"FP16 is not supported on CPU; using FP32 instead\")\n"
     ]
    },
    {
     "name": "stdout",
     "output_type": "stream",
     "text": [
      "Transcription saved for: MagentaTV Summer Essentials! #telekom #magenta #em2024  #fußball #tipps #magentatv.mp3\n"
     ]
    },
    {
     "name": "stderr",
     "output_type": "stream",
     "text": [
      "/Users/taha/Desktop/rag/venv/lib/python3.12/site-packages/whisper/transcribe.py:115: UserWarning: FP16 is not supported on CPU; using FP32 instead\n",
      "  warnings.warn(\"FP16 is not supported on CPU; using FP32 instead\")\n"
     ]
    },
    {
     "name": "stdout",
     "output_type": "stream",
     "text": [
      "Transcription saved for: Telekom： Digitalisierungsbox Premium 2 - Ersteinrichtung DECT150.mp3\n"
     ]
    },
    {
     "name": "stderr",
     "output_type": "stream",
     "text": [
      "/Users/taha/Desktop/rag/venv/lib/python3.12/site-packages/whisper/transcribe.py:115: UserWarning: FP16 is not supported on CPU; using FP32 instead\n",
      "  warnings.warn(\"FP16 is not supported on CPU; using FP32 instead\")\n"
     ]
    },
    {
     "name": "stdout",
     "output_type": "stream",
     "text": [
      "Transcription saved for: Glasfaser oder Kupfer - Welchen Router brauche Ich？ #shorts #telekom #telekomhilft #magenta.mp3\n"
     ]
    },
    {
     "name": "stderr",
     "output_type": "stream",
     "text": [
      "/Users/taha/Desktop/rag/venv/lib/python3.12/site-packages/whisper/transcribe.py:115: UserWarning: FP16 is not supported on CPU; using FP32 instead\n",
      "  warnings.warn(\"FP16 is not supported on CPU; using FP32 instead\")\n"
     ]
    },
    {
     "name": "stdout",
     "output_type": "stream",
     "text": [
      "Transcription saved for: Telekom： Selfie-Ident via App - Einfache Identitätsbestätigung Schritt für Schritt.mp3\n"
     ]
    },
    {
     "name": "stderr",
     "output_type": "stream",
     "text": [
      "/Users/taha/Desktop/rag/venv/lib/python3.12/site-packages/whisper/transcribe.py:115: UserWarning: FP16 is not supported on CPU; using FP32 instead\n",
      "  warnings.warn(\"FP16 is not supported on CPU; using FP32 instead\")\n"
     ]
    },
    {
     "name": "stdout",
     "output_type": "stream",
     "text": [
      "Transcription saved for: Leitung selbst freischalten - So geht's! #telekom #hilfe #leitung #magenta #shorts #.mp3\n"
     ]
    },
    {
     "name": "stderr",
     "output_type": "stream",
     "text": [
      "/Users/taha/Desktop/rag/venv/lib/python3.12/site-packages/whisper/transcribe.py:115: UserWarning: FP16 is not supported on CPU; using FP32 instead\n",
      "  warnings.warn(\"FP16 is not supported on CPU; using FP32 instead\")\n"
     ]
    },
    {
     "name": "stdout",
     "output_type": "stream",
     "text": [
      "Transcription saved for: Telekom hilft News - Thomas stellt euch die Telekom Speedbox 2 vor.mp3\n"
     ]
    },
    {
     "name": "stderr",
     "output_type": "stream",
     "text": [
      "/Users/taha/Desktop/rag/venv/lib/python3.12/site-packages/whisper/transcribe.py:115: UserWarning: FP16 is not supported on CPU; using FP32 instead\n",
      "  warnings.warn(\"FP16 is not supported on CPU; using FP32 instead\")\n"
     ]
    },
    {
     "name": "stdout",
     "output_type": "stream",
     "text": [
      "Transcription saved for: Individuelle Firmenhomepage – einfach und professionell mit dem Homepage-Baukasten der Telekom.mp3\n"
     ]
    },
    {
     "name": "stderr",
     "output_type": "stream",
     "text": [
      "/Users/taha/Desktop/rag/venv/lib/python3.12/site-packages/whisper/transcribe.py:115: UserWarning: FP16 is not supported on CPU; using FP32 instead\n",
      "  warnings.warn(\"FP16 is not supported on CPU; using FP32 instead\")\n"
     ]
    },
    {
     "name": "stdout",
     "output_type": "stream",
     "text": [
      "Transcription saved for: Wie installiere ich ein Magenta SmartHome Heizkörperthermostat？ ｜ Telekom.mp3\n"
     ]
    },
    {
     "name": "stderr",
     "output_type": "stream",
     "text": [
      "/Users/taha/Desktop/rag/venv/lib/python3.12/site-packages/whisper/transcribe.py:115: UserWarning: FP16 is not supported on CPU; using FP32 instead\n",
      "  warnings.warn(\"FP16 is not supported on CPU; using FP32 instead\")\n"
     ]
    },
    {
     "name": "stdout",
     "output_type": "stream",
     "text": [
      "Transcription saved for: Glasfaser II #shorts #telekom #telekomhilft #magenta.mp3\n"
     ]
    },
    {
     "name": "stderr",
     "output_type": "stream",
     "text": [
      "/Users/taha/Desktop/rag/venv/lib/python3.12/site-packages/whisper/transcribe.py:115: UserWarning: FP16 is not supported on CPU; using FP32 instead\n",
      "  warnings.warn(\"FP16 is not supported on CPU; using FP32 instead\")\n"
     ]
    },
    {
     "name": "stdout",
     "output_type": "stream",
     "text": [
      "Transcription saved for: Telefoniecenter – Alles zur Sprachbox.mp3\n"
     ]
    },
    {
     "name": "stderr",
     "output_type": "stream",
     "text": [
      "/Users/taha/Desktop/rag/venv/lib/python3.12/site-packages/whisper/transcribe.py:115: UserWarning: FP16 is not supported on CPU; using FP32 instead\n",
      "  warnings.warn(\"FP16 is not supported on CPU; using FP32 instead\")\n"
     ]
    },
    {
     "name": "stdout",
     "output_type": "stream",
     "text": [
      "Transcription saved for: Glasfaser III #shorts #telekom #telekomhilft #magenta.mp3\n"
     ]
    },
    {
     "name": "stderr",
     "output_type": "stream",
     "text": [
      "/Users/taha/Desktop/rag/venv/lib/python3.12/site-packages/whisper/transcribe.py:115: UserWarning: FP16 is not supported on CPU; using FP32 instead\n",
      "  warnings.warn(\"FP16 is not supported on CPU; using FP32 instead\")\n"
     ]
    },
    {
     "name": "stdout",
     "output_type": "stream",
     "text": [
      "Transcription saved for: Kennst Du...unseren WhatsApp Service？ I Telekom.mp3\n"
     ]
    },
    {
     "name": "stderr",
     "output_type": "stream",
     "text": [
      "/Users/taha/Desktop/rag/venv/lib/python3.12/site-packages/whisper/transcribe.py:115: UserWarning: FP16 is not supported on CPU; using FP32 instead\n",
      "  warnings.warn(\"FP16 is not supported on CPU; using FP32 instead\")\n"
     ]
    },
    {
     "name": "stdout",
     "output_type": "stream",
     "text": [
      "Transcription saved for: CompanyFlex Cloud PBX 2.0 - Outlook Integration.mp3\n"
     ]
    },
    {
     "name": "stderr",
     "output_type": "stream",
     "text": [
      "/Users/taha/Desktop/rag/venv/lib/python3.12/site-packages/whisper/transcribe.py:115: UserWarning: FP16 is not supported on CPU; using FP32 instead\n",
      "  warnings.warn(\"FP16 is not supported on CPU; using FP32 instead\")\n"
     ]
    },
    {
     "name": "stdout",
     "output_type": "stream",
     "text": [
      "Transcription saved for: Alles zur Telekom Abschlussrechnung bei Mobilfunk-Verträgen.mp3\n"
     ]
    },
    {
     "name": "stderr",
     "output_type": "stream",
     "text": [
      "/Users/taha/Desktop/rag/venv/lib/python3.12/site-packages/whisper/transcribe.py:115: UserWarning: FP16 is not supported on CPU; using FP32 instead\n",
      "  warnings.warn(\"FP16 is not supported on CPU; using FP32 instead\")\n"
     ]
    },
    {
     "name": "stdout",
     "output_type": "stream",
     "text": [
      "Transcription saved for: Fußball schauen im Garten？ Speed Home WLAN macht es möglich! #shorts #telekom #fußball #em2024.mp3\n"
     ]
    },
    {
     "name": "stderr",
     "output_type": "stream",
     "text": [
      "/Users/taha/Desktop/rag/venv/lib/python3.12/site-packages/whisper/transcribe.py:115: UserWarning: FP16 is not supported on CPU; using FP32 instead\n",
      "  warnings.warn(\"FP16 is not supported on CPU; using FP32 instead\")\n"
     ]
    },
    {
     "name": "stdout",
     "output_type": "stream",
     "text": [
      "Transcription saved for: Telekom： Digitalisierungsbox Premium 2 - Ersteinrichtung PBX.mp3\n"
     ]
    },
    {
     "name": "stderr",
     "output_type": "stream",
     "text": [
      "/Users/taha/Desktop/rag/venv/lib/python3.12/site-packages/whisper/transcribe.py:115: UserWarning: FP16 is not supported on CPU; using FP32 instead\n",
      "  warnings.warn(\"FP16 is not supported on CPU; using FP32 instead\")\n"
     ]
    },
    {
     "name": "stdout",
     "output_type": "stream",
     "text": [
      "Transcription saved for: Probleme mit dem Computer？ - Der Digital Home Service hilft! #shorts #telekom #telekomhilft #magenta.mp3\n"
     ]
    },
    {
     "name": "stderr",
     "output_type": "stream",
     "text": [
      "/Users/taha/Desktop/rag/venv/lib/python3.12/site-packages/whisper/transcribe.py:115: UserWarning: FP16 is not supported on CPU; using FP32 instead\n",
      "  warnings.warn(\"FP16 is not supported on CPU; using FP32 instead\")\n"
     ]
    },
    {
     "name": "stdout",
     "output_type": "stream",
     "text": [
      "Transcription saved for: Router-Notfallhilfe： Schnelle Lösungen bei Ausfällen #shorts #telekom #hilfe #router #magenta.mp3\n"
     ]
    },
    {
     "name": "stderr",
     "output_type": "stream",
     "text": [
      "/Users/taha/Desktop/rag/venv/lib/python3.12/site-packages/whisper/transcribe.py:115: UserWarning: FP16 is not supported on CPU; using FP32 instead\n",
      "  warnings.warn(\"FP16 is not supported on CPU; using FP32 instead\")\n"
     ]
    },
    {
     "name": "stdout",
     "output_type": "stream",
     "text": [
      "Transcription saved for: Enkel-Tipp： Kontakte verwalten + Geburtsdatum hinzufügen beim iPhone.mp3\n"
     ]
    },
    {
     "name": "stderr",
     "output_type": "stream",
     "text": [
      "/Users/taha/Desktop/rag/venv/lib/python3.12/site-packages/whisper/transcribe.py:115: UserWarning: FP16 is not supported on CPU; using FP32 instead\n",
      "  warnings.warn(\"FP16 is not supported on CPU; using FP32 instead\")\n"
     ]
    },
    {
     "name": "stdout",
     "output_type": "stream",
     "text": [
      "Transcription saved for: Telekom hilft News： Wichtige Tipps zur Registrierung bei Disney+.mp3\n"
     ]
    },
    {
     "name": "stderr",
     "output_type": "stream",
     "text": [
      "/Users/taha/Desktop/rag/venv/lib/python3.12/site-packages/whisper/transcribe.py:115: UserWarning: FP16 is not supported on CPU; using FP32 instead\n",
      "  warnings.warn(\"FP16 is not supported on CPU; using FP32 instead\")\n"
     ]
    },
    {
     "name": "stdout",
     "output_type": "stream",
     "text": [
      "Transcription saved for: Gönn deinem Router eine Auszeit - Wie und weshalb？! #shorts #telekom #hilfe #router #reset #magenta.mp3\n"
     ]
    },
    {
     "name": "stderr",
     "output_type": "stream",
     "text": [
      "/Users/taha/Desktop/rag/venv/lib/python3.12/site-packages/whisper/transcribe.py:115: UserWarning: FP16 is not supported on CPU; using FP32 instead\n",
      "  warnings.warn(\"FP16 is not supported on CPU; using FP32 instead\")\n"
     ]
    },
    {
     "name": "stdout",
     "output_type": "stream",
     "text": [
      "Transcription saved for: Die neuen MagentaMobil Angebote für alle, die Familie sind - MagentaEins Vorteil.mp3\n"
     ]
    },
    {
     "name": "stderr",
     "output_type": "stream",
     "text": [
      "/Users/taha/Desktop/rag/venv/lib/python3.12/site-packages/whisper/transcribe.py:115: UserWarning: FP16 is not supported on CPU; using FP32 instead\n",
      "  warnings.warn(\"FP16 is not supported on CPU; using FP32 instead\")\n"
     ]
    },
    {
     "name": "stdout",
     "output_type": "stream",
     "text": [
      "Transcription saved for: Enkel-Tipp： iPhone mit WLAN verbinden.mp3\n"
     ]
    },
    {
     "name": "stderr",
     "output_type": "stream",
     "text": [
      "/Users/taha/Desktop/rag/venv/lib/python3.12/site-packages/whisper/transcribe.py:115: UserWarning: FP16 is not supported on CPU; using FP32 instead\n",
      "  warnings.warn(\"FP16 is not supported on CPU; using FP32 instead\")\n"
     ]
    },
    {
     "name": "stdout",
     "output_type": "stream",
     "text": [
      "Transcription saved for: MagentaZuhause Schnellstartpaket – So richtest du deinen Ersatzrouter schnell und einfach ein.mp3\n"
     ]
    },
    {
     "name": "stderr",
     "output_type": "stream",
     "text": [
      "/Users/taha/Desktop/rag/venv/lib/python3.12/site-packages/whisper/transcribe.py:115: UserWarning: FP16 is not supported on CPU; using FP32 instead\n",
      "  warnings.warn(\"FP16 is not supported on CPU; using FP32 instead\")\n"
     ]
    },
    {
     "name": "stdout",
     "output_type": "stream",
     "text": [
      "Transcription saved for: Die B2B Schnittstelle für Geschäftskunden.mp3\n"
     ]
    },
    {
     "name": "stderr",
     "output_type": "stream",
     "text": [
      "/Users/taha/Desktop/rag/venv/lib/python3.12/site-packages/whisper/transcribe.py:115: UserWarning: FP16 is not supported on CPU; using FP32 instead\n",
      "  warnings.warn(\"FP16 is not supported on CPU; using FP32 instead\")\n"
     ]
    },
    {
     "name": "stdout",
     "output_type": "stream",
     "text": [
      "Transcription saved for: WLAN-Name ändern leicht gemacht! #shorts #telekom #magenta #wlan #security #hilfe #smartphone #tech.mp3\n"
     ]
    },
    {
     "name": "stderr",
     "output_type": "stream",
     "text": [
      "/Users/taha/Desktop/rag/venv/lib/python3.12/site-packages/whisper/transcribe.py:115: UserWarning: FP16 is not supported on CPU; using FP32 instead\n",
      "  warnings.warn(\"FP16 is not supported on CPU; using FP32 instead\")\n"
     ]
    },
    {
     "name": "stdout",
     "output_type": "stream",
     "text": [
      "Transcription saved for: CompanyFlex Cloud PBX 2.0 - Anruf übernehmen leicht gemacht.mp3\n"
     ]
    },
    {
     "name": "stderr",
     "output_type": "stream",
     "text": [
      "/Users/taha/Desktop/rag/venv/lib/python3.12/site-packages/whisper/transcribe.py:115: UserWarning: FP16 is not supported on CPU; using FP32 instead\n",
      "  warnings.warn(\"FP16 is not supported on CPU; using FP32 instead\")\n"
     ]
    },
    {
     "name": "stdout",
     "output_type": "stream",
     "text": [
      "Transcription saved for: Telekom： Making of „Spamfilter“ #shorts.mp3\n"
     ]
    },
    {
     "name": "stderr",
     "output_type": "stream",
     "text": [
      "/Users/taha/Desktop/rag/venv/lib/python3.12/site-packages/whisper/transcribe.py:115: UserWarning: FP16 is not supported on CPU; using FP32 instead\n",
      "  warnings.warn(\"FP16 is not supported on CPU; using FP32 instead\")\n"
     ]
    },
    {
     "name": "stdout",
     "output_type": "stream",
     "text": [
      "Transcription saved for: Kennt ihr schon unsere Videoberatung？ Hier ist MagentaService Live.mp3\n"
     ]
    },
    {
     "name": "stderr",
     "output_type": "stream",
     "text": [
      "/Users/taha/Desktop/rag/venv/lib/python3.12/site-packages/whisper/transcribe.py:115: UserWarning: FP16 is not supported on CPU; using FP32 instead\n",
      "  warnings.warn(\"FP16 is not supported on CPU; using FP32 instead\")\n"
     ]
    },
    {
     "name": "stdout",
     "output_type": "stream",
     "text": [
      "Transcription saved for: Prepaid Guthaben automatisch aufladen leicht gemacht.mp3\n"
     ]
    },
    {
     "name": "stderr",
     "output_type": "stream",
     "text": [
      "/Users/taha/Desktop/rag/venv/lib/python3.12/site-packages/whisper/transcribe.py:115: UserWarning: FP16 is not supported on CPU; using FP32 instead\n",
      "  warnings.warn(\"FP16 is not supported on CPU; using FP32 instead\")\n"
     ]
    },
    {
     "name": "stdout",
     "output_type": "stream",
     "text": [
      "Transcription saved for: Telekom： Digibox Smart 2 + Premium 2 - Site-to-Site VPN leicht gemacht!.mp3\n"
     ]
    },
    {
     "name": "stderr",
     "output_type": "stream",
     "text": [
      "/Users/taha/Desktop/rag/venv/lib/python3.12/site-packages/whisper/transcribe.py:115: UserWarning: FP16 is not supported on CPU; using FP32 instead\n",
      "  warnings.warn(\"FP16 is not supported on CPU; using FP32 instead\")\n"
     ]
    },
    {
     "name": "stdout",
     "output_type": "stream",
     "text": [
      "Transcription saved for: Cell Broadcast – das Handy als mobiler Warnmelder.mp3\n"
     ]
    },
    {
     "name": "stderr",
     "output_type": "stream",
     "text": [
      "/Users/taha/Desktop/rag/venv/lib/python3.12/site-packages/whisper/transcribe.py:115: UserWarning: FP16 is not supported on CPU; using FP32 instead\n",
      "  warnings.warn(\"FP16 is not supported on CPU; using FP32 instead\")\n"
     ]
    },
    {
     "name": "stdout",
     "output_type": "stream",
     "text": [
      "Transcription saved for: Per Handyrechnung bezahlen - warum nicht？ #shorts #telekom #handyrechnung #telekomhilft #magenta.mp3\n"
     ]
    },
    {
     "name": "stderr",
     "output_type": "stream",
     "text": [
      "/Users/taha/Desktop/rag/venv/lib/python3.12/site-packages/whisper/transcribe.py:115: UserWarning: FP16 is not supported on CPU; using FP32 instead\n",
      "  warnings.warn(\"FP16 is not supported on CPU; using FP32 instead\")\n"
     ]
    },
    {
     "name": "stdout",
     "output_type": "stream",
     "text": [
      "Transcription saved for: Internet-Abbrüche？ Hier die Lösung! #shorts #magenta #telekom #internet #wlan #hilfe #störung.mp3\n"
     ]
    },
    {
     "name": "stderr",
     "output_type": "stream",
     "text": [
      "/Users/taha/Desktop/rag/venv/lib/python3.12/site-packages/whisper/transcribe.py:115: UserWarning: FP16 is not supported on CPU; using FP32 instead\n",
      "  warnings.warn(\"FP16 is not supported on CPU; using FP32 instead\")\n"
     ]
    },
    {
     "name": "stdout",
     "output_type": "stream",
     "text": [
      "Transcription saved for: CompanyFlex Cloud PBX 2.0 – Konferenzen leicht gemacht!.mp3\n"
     ]
    },
    {
     "name": "stderr",
     "output_type": "stream",
     "text": [
      "/Users/taha/Desktop/rag/venv/lib/python3.12/site-packages/whisper/transcribe.py:115: UserWarning: FP16 is not supported on CPU; using FP32 instead\n",
      "  warnings.warn(\"FP16 is not supported on CPU; using FP32 instead\")\n"
     ]
    },
    {
     "name": "stdout",
     "output_type": "stream",
     "text": [
      "Transcription saved for: Telekom： eSIM bei Zusatzgeräten.mp3\n"
     ]
    },
    {
     "name": "stderr",
     "output_type": "stream",
     "text": [
      "/Users/taha/Desktop/rag/venv/lib/python3.12/site-packages/whisper/transcribe.py:115: UserWarning: FP16 is not supported on CPU; using FP32 instead\n",
      "  warnings.warn(\"FP16 is not supported on CPU; using FP32 instead\")\n"
     ]
    },
    {
     "name": "stdout",
     "output_type": "stream",
     "text": [
      "Transcription saved for: MagentaTV： Schneller Navigieren mit Sprachsteuerung!.mp3\n"
     ]
    },
    {
     "name": "stderr",
     "output_type": "stream",
     "text": [
      "/Users/taha/Desktop/rag/venv/lib/python3.12/site-packages/whisper/transcribe.py:115: UserWarning: FP16 is not supported on CPU; using FP32 instead\n",
      "  warnings.warn(\"FP16 is not supported on CPU; using FP32 instead\")\n"
     ]
    },
    {
     "name": "stdout",
     "output_type": "stream",
     "text": [
      "Transcription saved for: Herausforderungen beim Glasfaserausbau.mp3\n"
     ]
    },
    {
     "name": "stderr",
     "output_type": "stream",
     "text": [
      "/Users/taha/Desktop/rag/venv/lib/python3.12/site-packages/whisper/transcribe.py:115: UserWarning: FP16 is not supported on CPU; using FP32 instead\n",
      "  warnings.warn(\"FP16 is not supported on CPU; using FP32 instead\")\n"
     ]
    },
    {
     "name": "stdout",
     "output_type": "stream",
     "text": [
      "Transcription saved for: Vertragsverwaltung leicht gemacht： Business Service Portal der Telekom im Webinar.mp3\n"
     ]
    },
    {
     "name": "stderr",
     "output_type": "stream",
     "text": [
      "/Users/taha/Desktop/rag/venv/lib/python3.12/site-packages/whisper/transcribe.py:115: UserWarning: FP16 is not supported on CPU; using FP32 instead\n",
      "  warnings.warn(\"FP16 is not supported on CPU; using FP32 instead\")\n"
     ]
    },
    {
     "name": "stdout",
     "output_type": "stream",
     "text": [
      "Transcription saved for: So geht die Glasfaser-Installation： Schritt-für-Schritt Anleitung für Highspeed-Internet!.mp3\n"
     ]
    },
    {
     "name": "stderr",
     "output_type": "stream",
     "text": [
      "/Users/taha/Desktop/rag/venv/lib/python3.12/site-packages/whisper/transcribe.py:115: UserWarning: FP16 is not supported on CPU; using FP32 instead\n",
      "  warnings.warn(\"FP16 is not supported on CPU; using FP32 instead\")\n"
     ]
    },
    {
     "name": "stdout",
     "output_type": "stream",
     "text": [
      "Transcription saved for: Abschlussrechnung für Festnetz： Alles, was Du wissen musst.mp3\n"
     ]
    },
    {
     "name": "stderr",
     "output_type": "stream",
     "text": [
      "/Users/taha/Desktop/rag/venv/lib/python3.12/site-packages/whisper/transcribe.py:115: UserWarning: FP16 is not supported on CPU; using FP32 instead\n",
      "  warnings.warn(\"FP16 is not supported on CPU; using FP32 instead\")\n"
     ]
    },
    {
     "name": "stdout",
     "output_type": "stream",
     "text": [
      "Transcription saved for: Enkel-Tipps： Was ist eigentlich ein QR Code？.mp3\n"
     ]
    },
    {
     "name": "stderr",
     "output_type": "stream",
     "text": [
      "/Users/taha/Desktop/rag/venv/lib/python3.12/site-packages/whisper/transcribe.py:115: UserWarning: FP16 is not supported on CPU; using FP32 instead\n",
      "  warnings.warn(\"FP16 is not supported on CPU; using FP32 instead\")\n"
     ]
    },
    {
     "name": "stdout",
     "output_type": "stream",
     "text": [
      "Transcription saved for: Kontakt zur Telekom - Warum Ihr Eure E-Mail verifizieren solltet ! #shorts #telekom #telekomhilft.mp3\n"
     ]
    },
    {
     "name": "stderr",
     "output_type": "stream",
     "text": [
      "/Users/taha/Desktop/rag/venv/lib/python3.12/site-packages/whisper/transcribe.py:115: UserWarning: FP16 is not supported on CPU; using FP32 instead\n",
      "  warnings.warn(\"FP16 is not supported on CPU; using FP32 instead\")\n"
     ]
    },
    {
     "name": "stdout",
     "output_type": "stream",
     "text": [
      "Transcription saved for: Datenroaming aktivieren – Mit Travel & Surf ohne versteckte Kosten im Ausland surfen.mp3\n"
     ]
    },
    {
     "name": "stderr",
     "output_type": "stream",
     "text": [
      "/Users/taha/Desktop/rag/venv/lib/python3.12/site-packages/whisper/transcribe.py:115: UserWarning: FP16 is not supported on CPU; using FP32 instead\n",
      "  warnings.warn(\"FP16 is not supported on CPU; using FP32 instead\")\n"
     ]
    },
    {
     "name": "stdout",
     "output_type": "stream",
     "text": [
      "Transcription saved for: Video-Ident - Videocall mit Telekom Service.mp3\n"
     ]
    },
    {
     "name": "stderr",
     "output_type": "stream",
     "text": [
      "/Users/taha/Desktop/rag/venv/lib/python3.12/site-packages/whisper/transcribe.py:115: UserWarning: FP16 is not supported on CPU; using FP32 instead\n",
      "  warnings.warn(\"FP16 is not supported on CPU; using FP32 instead\")\n"
     ]
    },
    {
     "name": "stdout",
     "output_type": "stream",
     "text": [
      "Transcription saved for: Telekom： Hausanschluss und Hausverkabelung FTTH⧸Glasfasertechnik.mp3\n"
     ]
    },
    {
     "name": "stderr",
     "output_type": "stream",
     "text": [
      "/Users/taha/Desktop/rag/venv/lib/python3.12/site-packages/whisper/transcribe.py:115: UserWarning: FP16 is not supported on CPU; using FP32 instead\n",
      "  warnings.warn(\"FP16 is not supported on CPU; using FP32 instead\")\n"
     ]
    },
    {
     "name": "stdout",
     "output_type": "stream",
     "text": [
      "Transcription saved for: Telekom： Business customer's obligations to cooperate  (english)..mp3\n"
     ]
    },
    {
     "name": "stderr",
     "output_type": "stream",
     "text": [
      "/Users/taha/Desktop/rag/venv/lib/python3.12/site-packages/whisper/transcribe.py:115: UserWarning: FP16 is not supported on CPU; using FP32 instead\n",
      "  warnings.warn(\"FP16 is not supported on CPU; using FP32 instead\")\n"
     ]
    },
    {
     "name": "stdout",
     "output_type": "stream",
     "text": [
      "Transcription saved for: Professionelle Homepage selbst erstellen - Einfache Schritte mit dem Telekom Homepage-Baukasten.mp3\n"
     ]
    },
    {
     "name": "stderr",
     "output_type": "stream",
     "text": [
      "/Users/taha/Desktop/rag/venv/lib/python3.12/site-packages/whisper/transcribe.py:115: UserWarning: FP16 is not supported on CPU; using FP32 instead\n",
      "  warnings.warn(\"FP16 is not supported on CPU; using FP32 instead\")\n"
     ]
    },
    {
     "name": "stdout",
     "output_type": "stream",
     "text": [
      "Transcription saved for: So passen Sie die Lautstärke und den Klingelton auf Ihrem iPhone an.mp3\n"
     ]
    },
    {
     "name": "stderr",
     "output_type": "stream",
     "text": [
      "/Users/taha/Desktop/rag/venv/lib/python3.12/site-packages/whisper/transcribe.py:115: UserWarning: FP16 is not supported on CPU; using FP32 instead\n",
      "  warnings.warn(\"FP16 is not supported on CPU; using FP32 instead\")\n"
     ]
    },
    {
     "name": "stdout",
     "output_type": "stream",
     "text": [
      "Transcription saved for: Telekom： Selfie-Ident via App #shorts.mp3\n"
     ]
    },
    {
     "name": "stderr",
     "output_type": "stream",
     "text": [
      "/Users/taha/Desktop/rag/venv/lib/python3.12/site-packages/whisper/transcribe.py:115: UserWarning: FP16 is not supported on CPU; using FP32 instead\n",
      "  warnings.warn(\"FP16 is not supported on CPU; using FP32 instead\")\n"
     ]
    },
    {
     "name": "stdout",
     "output_type": "stream",
     "text": [
      "Transcription saved for: Werde Teil der Telekom hilft Community! #telekom #shorts #magenta #fyp #community #like #follow #yt.mp3\n"
     ]
    },
    {
     "name": "stderr",
     "output_type": "stream",
     "text": [
      "/Users/taha/Desktop/rag/venv/lib/python3.12/site-packages/whisper/transcribe.py:115: UserWarning: FP16 is not supported on CPU; using FP32 instead\n",
      "  warnings.warn(\"FP16 is not supported on CPU; using FP32 instead\")\n"
     ]
    },
    {
     "name": "stdout",
     "output_type": "stream",
     "text": [
      "Transcription saved for: Telekom： Digibox Smart 2 + Premium 2 – Client-to-Site mit Apple iOS ⧸ iPadOS.mp3\n"
     ]
    },
    {
     "name": "stderr",
     "output_type": "stream",
     "text": [
      "/Users/taha/Desktop/rag/venv/lib/python3.12/site-packages/whisper/transcribe.py:115: UserWarning: FP16 is not supported on CPU; using FP32 instead\n",
      "  warnings.warn(\"FP16 is not supported on CPU; using FP32 instead\")\n"
     ]
    },
    {
     "name": "stdout",
     "output_type": "stream",
     "text": [
      "Transcription saved for: CompanyFlex Cloud PBX 2.0 - ControlHub.mp3\n"
     ]
    },
    {
     "name": "stderr",
     "output_type": "stream",
     "text": [
      "/Users/taha/Desktop/rag/venv/lib/python3.12/site-packages/whisper/transcribe.py:115: UserWarning: FP16 is not supported on CPU; using FP32 instead\n",
      "  warnings.warn(\"FP16 is not supported on CPU; using FP32 instead\")\n"
     ]
    },
    {
     "name": "stdout",
     "output_type": "stream",
     "text": [
      "Transcription saved for: Enkel-Tipps： Was sind Apps？ - Einfache Erklärung.mp3\n"
     ]
    },
    {
     "name": "stderr",
     "output_type": "stream",
     "text": [
      "/Users/taha/Desktop/rag/venv/lib/python3.12/site-packages/whisper/transcribe.py:115: UserWarning: FP16 is not supported on CPU; using FP32 instead\n",
      "  warnings.warn(\"FP16 is not supported on CPU; using FP32 instead\")\n"
     ]
    },
    {
     "name": "stdout",
     "output_type": "stream",
     "text": [
      "Transcription saved for: Enkel-Tipps： Apps korrekt schließen beim Android Smartphone.mp3\n"
     ]
    },
    {
     "name": "stderr",
     "output_type": "stream",
     "text": [
      "/Users/taha/Desktop/rag/venv/lib/python3.12/site-packages/whisper/transcribe.py:115: UserWarning: FP16 is not supported on CPU; using FP32 instead\n",
      "  warnings.warn(\"FP16 is not supported on CPU; using FP32 instead\")\n"
     ]
    },
    {
     "name": "stdout",
     "output_type": "stream",
     "text": [
      "Transcription saved for: Telekom hilft News： Internet-Abbrüche vermeiden - So geht's!.mp3\n"
     ]
    },
    {
     "name": "stderr",
     "output_type": "stream",
     "text": [
      "/Users/taha/Desktop/rag/venv/lib/python3.12/site-packages/whisper/transcribe.py:115: UserWarning: FP16 is not supported on CPU; using FP32 instead\n",
      "  warnings.warn(\"FP16 is not supported on CPU; using FP32 instead\")\n"
     ]
    },
    {
     "name": "stdout",
     "output_type": "stream",
     "text": [
      "Transcription saved for: Digitales Zeitalter verstehen und nutzen - Kennst Du...die Telekom Senioren-Akademie？ I Telekom.mp3\n"
     ]
    },
    {
     "name": "stderr",
     "output_type": "stream",
     "text": [
      "/Users/taha/Desktop/rag/venv/lib/python3.12/site-packages/whisper/transcribe.py:115: UserWarning: FP16 is not supported on CPU; using FP32 instead\n",
      "  warnings.warn(\"FP16 is not supported on CPU; using FP32 instead\")\n"
     ]
    },
    {
     "name": "stdout",
     "output_type": "stream",
     "text": [
      "Transcription saved for: Ready to Surf： Dein neuer Festnetzanschluss ohne Techniker - Schnell und Einfach!.mp3\n"
     ]
    },
    {
     "name": "stderr",
     "output_type": "stream",
     "text": [
      "/Users/taha/Desktop/rag/venv/lib/python3.12/site-packages/whisper/transcribe.py:115: UserWarning: FP16 is not supported on CPU; using FP32 instead\n",
      "  warnings.warn(\"FP16 is not supported on CPU; using FP32 instead\")\n"
     ]
    },
    {
     "name": "stdout",
     "output_type": "stream",
     "text": [
      "Transcription saved for: ZOOM Seminare der Telekom Senioren-Akademie - Teilnahme mit einem Windows-PC.mp3\n"
     ]
    },
    {
     "name": "stderr",
     "output_type": "stream",
     "text": [
      "/Users/taha/Desktop/rag/venv/lib/python3.12/site-packages/whisper/transcribe.py:115: UserWarning: FP16 is not supported on CPU; using FP32 instead\n",
      "  warnings.warn(\"FP16 is not supported on CPU; using FP32 instead\")\n"
     ]
    },
    {
     "name": "stdout",
     "output_type": "stream",
     "text": [
      "Transcription saved for: Kennst Du…unseren Digital Home Service？.mp3\n"
     ]
    },
    {
     "name": "stderr",
     "output_type": "stream",
     "text": [
      "/Users/taha/Desktop/rag/venv/lib/python3.12/site-packages/whisper/transcribe.py:115: UserWarning: FP16 is not supported on CPU; using FP32 instead\n",
      "  warnings.warn(\"FP16 is not supported on CPU; using FP32 instead\")\n"
     ]
    },
    {
     "name": "stdout",
     "output_type": "stream",
     "text": [
      "Transcription saved for: Telekom Digitalisierungsbox Smart 2： PBX Ersteinrichtung leicht gemacht.mp3\n"
     ]
    },
    {
     "name": "stderr",
     "output_type": "stream",
     "text": [
      "/Users/taha/Desktop/rag/venv/lib/python3.12/site-packages/whisper/transcribe.py:115: UserWarning: FP16 is not supported on CPU; using FP32 instead\n",
      "  warnings.warn(\"FP16 is not supported on CPU; using FP32 instead\")\n"
     ]
    },
    {
     "name": "stdout",
     "output_type": "stream",
     "text": [
      "Transcription saved for: So geht das Verlegen der Glasfaser： Was Sie bei den Leitungswegen beachten müssen ｜ Telekom.mp3\n"
     ]
    },
    {
     "name": "stderr",
     "output_type": "stream",
     "text": [
      "/Users/taha/Desktop/rag/venv/lib/python3.12/site-packages/whisper/transcribe.py:115: UserWarning: FP16 is not supported on CPU; using FP32 instead\n",
      "  warnings.warn(\"FP16 is not supported on CPU; using FP32 instead\")\n"
     ]
    },
    {
     "name": "stdout",
     "output_type": "stream",
     "text": [
      "Transcription saved for: Digitalisierungsbox Smart 2： DECT160 Einrichten – Schritt-für-Schritt Anleitung.mp3\n"
     ]
    },
    {
     "name": "stderr",
     "output_type": "stream",
     "text": [
      "/Users/taha/Desktop/rag/venv/lib/python3.12/site-packages/whisper/transcribe.py:115: UserWarning: FP16 is not supported on CPU; using FP32 instead\n",
      "  warnings.warn(\"FP16 is not supported on CPU; using FP32 instead\")\n"
     ]
    },
    {
     "name": "stdout",
     "output_type": "stream",
     "text": [
      "Transcription saved for: Enkel-Tipps： Inhalte auf dem Smartphone vergrößern.mp3\n"
     ]
    },
    {
     "name": "stderr",
     "output_type": "stream",
     "text": [
      "/Users/taha/Desktop/rag/venv/lib/python3.12/site-packages/whisper/transcribe.py:115: UserWarning: FP16 is not supported on CPU; using FP32 instead\n",
      "  warnings.warn(\"FP16 is not supported on CPU; using FP32 instead\")\n"
     ]
    },
    {
     "name": "stdout",
     "output_type": "stream",
     "text": [
      "Transcription saved for: Digitalisierungsbox Premium – PBX-Einrichtung leicht gemacht.mp3\n"
     ]
    },
    {
     "name": "stderr",
     "output_type": "stream",
     "text": [
      "/Users/taha/Desktop/rag/venv/lib/python3.12/site-packages/whisper/transcribe.py:115: UserWarning: FP16 is not supported on CPU; using FP32 instead\n",
      "  warnings.warn(\"FP16 is not supported on CPU; using FP32 instead\")\n"
     ]
    },
    {
     "name": "stdout",
     "output_type": "stream",
     "text": [
      "Transcription saved for: Telekom： Digitalisierungsbox Smart -  PBX – Einrichtung über den Telefonie Assistenten.mp3\n"
     ]
    },
    {
     "name": "stderr",
     "output_type": "stream",
     "text": [
      "/Users/taha/Desktop/rag/venv/lib/python3.12/site-packages/whisper/transcribe.py:115: UserWarning: FP16 is not supported on CPU; using FP32 instead\n",
      "  warnings.warn(\"FP16 is not supported on CPU; using FP32 instead\")\n"
     ]
    },
    {
     "name": "stdout",
     "output_type": "stream",
     "text": [
      "Transcription saved for: Aktiviere Dein eSIM Profil in Minuten： Einfach und Schnell erklärt!.mp3\n"
     ]
    },
    {
     "name": "stderr",
     "output_type": "stream",
     "text": [
      "/Users/taha/Desktop/rag/venv/lib/python3.12/site-packages/whisper/transcribe.py:115: UserWarning: FP16 is not supported on CPU; using FP32 instead\n",
      "  warnings.warn(\"FP16 is not supported on CPU; using FP32 instead\")\n"
     ]
    },
    {
     "name": "stdout",
     "output_type": "stream",
     "text": [
      "Transcription saved for: Telekom Speedbox – Inbetriebnahme und Konfiguration.mp3\n"
     ]
    },
    {
     "name": "stderr",
     "output_type": "stream",
     "text": [
      "/Users/taha/Desktop/rag/venv/lib/python3.12/site-packages/whisper/transcribe.py:115: UserWarning: FP16 is not supported on CPU; using FP32 instead\n",
      "  warnings.warn(\"FP16 is not supported on CPU; using FP32 instead\")\n"
     ]
    },
    {
     "name": "stdout",
     "output_type": "stream",
     "text": [
      "Transcription saved for: Glasfaserausbau der Telekom： So profitiert Ihre Immobilie!.mp3\n"
     ]
    },
    {
     "name": "stderr",
     "output_type": "stream",
     "text": [
      "/Users/taha/Desktop/rag/venv/lib/python3.12/site-packages/whisper/transcribe.py:115: UserWarning: FP16 is not supported on CPU; using FP32 instead\n",
      "  warnings.warn(\"FP16 is not supported on CPU; using FP32 instead\")\n"
     ]
    },
    {
     "name": "stdout",
     "output_type": "stream",
     "text": [
      "Transcription saved for: MagentaTV MegaStream! #telekom #hilfe #magenta #magentatv #streaming #streamer #shorts.mp3\n"
     ]
    },
    {
     "name": "stderr",
     "output_type": "stream",
     "text": [
      "/Users/taha/Desktop/rag/venv/lib/python3.12/site-packages/whisper/transcribe.py:115: UserWarning: FP16 is not supported on CPU; using FP32 instead\n",
      "  warnings.warn(\"FP16 is not supported on CPU; using FP32 instead\")\n"
     ]
    },
    {
     "name": "stdout",
     "output_type": "stream",
     "text": [
      "Transcription saved for: Telekom hilft News： KombiProtect – GPS-Tracker für Haustiere und mehr.mp3\n"
     ]
    },
    {
     "name": "stderr",
     "output_type": "stream",
     "text": [
      "/Users/taha/Desktop/rag/venv/lib/python3.12/site-packages/whisper/transcribe.py:115: UserWarning: FP16 is not supported on CPU; using FP32 instead\n",
      "  warnings.warn(\"FP16 is not supported on CPU; using FP32 instead\")\n"
     ]
    },
    {
     "name": "stdout",
     "output_type": "stream",
     "text": [
      "Transcription saved for: Frag Magenta - Digitaler Service auf neue und innovative Weise I Telekom.mp3\n"
     ]
    },
    {
     "name": "stderr",
     "output_type": "stream",
     "text": [
      "/Users/taha/Desktop/rag/venv/lib/python3.12/site-packages/whisper/transcribe.py:115: UserWarning: FP16 is not supported on CPU; using FP32 instead\n",
      "  warnings.warn(\"FP16 is not supported on CPU; using FP32 instead\")\n"
     ]
    },
    {
     "name": "stdout",
     "output_type": "stream",
     "text": [
      "Transcription saved for: MagentaTV statt Kabel-TV - Was der Wegfall des Nebenkostenprivilegs für dich bedeutet!.mp3\n"
     ]
    },
    {
     "name": "stderr",
     "output_type": "stream",
     "text": [
      "/Users/taha/Desktop/rag/venv/lib/python3.12/site-packages/whisper/transcribe.py:115: UserWarning: FP16 is not supported on CPU; using FP32 instead\n",
      "  warnings.warn(\"FP16 is not supported on CPU; using FP32 instead\")\n"
     ]
    },
    {
     "name": "stdout",
     "output_type": "stream",
     "text": [
      "Transcription saved for: Internetleitung nach Umzug einrichten - DIY-Anleitung! #shorts #telekom #internet #hilfe #magenta.mp3\n"
     ]
    },
    {
     "name": "stderr",
     "output_type": "stream",
     "text": [
      "/Users/taha/Desktop/rag/venv/lib/python3.12/site-packages/whisper/transcribe.py:115: UserWarning: FP16 is not supported on CPU; using FP32 instead\n",
      "  warnings.warn(\"FP16 is not supported on CPU; using FP32 instead\")\n"
     ]
    },
    {
     "name": "stdout",
     "output_type": "stream",
     "text": [
      "Transcription saved for: Geräte Service： Austausch, Reparatur und Selbsthilfe-Tipps #shorts #hilfe #service #telekom #magenta.mp3\n"
     ]
    },
    {
     "name": "stderr",
     "output_type": "stream",
     "text": [
      "/Users/taha/Desktop/rag/venv/lib/python3.12/site-packages/whisper/transcribe.py:115: UserWarning: FP16 is not supported on CPU; using FP32 instead\n",
      "  warnings.warn(\"FP16 is not supported on CPU; using FP32 instead\")\n"
     ]
    },
    {
     "name": "stdout",
     "output_type": "stream",
     "text": [
      "Transcription saved for: Telekom： Telefoniecenter – Themenbereich „Sicherheit“.mp3\n"
     ]
    },
    {
     "name": "stderr",
     "output_type": "stream",
     "text": [
      "/Users/taha/Desktop/rag/venv/lib/python3.12/site-packages/whisper/transcribe.py:115: UserWarning: FP16 is not supported on CPU; using FP32 instead\n",
      "  warnings.warn(\"FP16 is not supported on CPU; using FP32 instead\")\n"
     ]
    },
    {
     "name": "stdout",
     "output_type": "stream",
     "text": [
      "Transcription saved for: Digitalisierungsbox Smart – Externer Zugriff auf Webserver & Webcam einrichten.mp3\n"
     ]
    },
    {
     "name": "stderr",
     "output_type": "stream",
     "text": [
      "/Users/taha/Desktop/rag/venv/lib/python3.12/site-packages/whisper/transcribe.py:115: UserWarning: FP16 is not supported on CPU; using FP32 instead\n",
      "  warnings.warn(\"FP16 is not supported on CPU; using FP32 instead\")\n"
     ]
    },
    {
     "name": "stdout",
     "output_type": "stream",
     "text": [
      "Transcription saved for: MagentaTV-Geräte, die jeder braucht! #shorts #magentatv# telekom #tv #euro2024 #magenta# tech #tipps.mp3\n"
     ]
    },
    {
     "name": "stderr",
     "output_type": "stream",
     "text": [
      "/Users/taha/Desktop/rag/venv/lib/python3.12/site-packages/whisper/transcribe.py:115: UserWarning: FP16 is not supported on CPU; using FP32 instead\n",
      "  warnings.warn(\"FP16 is not supported on CPU; using FP32 instead\")\n"
     ]
    },
    {
     "name": "stdout",
     "output_type": "stream",
     "text": [
      "Transcription saved for: Wir arbeiten bei der Telekom, natürlich ... #telekom #shorts #employees #trending #magenta #tech.mp3\n"
     ]
    },
    {
     "name": "stderr",
     "output_type": "stream",
     "text": [
      "/Users/taha/Desktop/rag/venv/lib/python3.12/site-packages/whisper/transcribe.py:115: UserWarning: FP16 is not supported on CPU; using FP32 instead\n",
      "  warnings.warn(\"FP16 is not supported on CPU; using FP32 instead\")\n"
     ]
    },
    {
     "name": "stdout",
     "output_type": "stream",
     "text": [
      "Transcription saved for: Telekom hilft News： Einrichtung von Magenta SmartHome mit Tür-⧸Fensterkontakt.mp3\n"
     ]
    },
    {
     "name": "stderr",
     "output_type": "stream",
     "text": [
      "/Users/taha/Desktop/rag/venv/lib/python3.12/site-packages/whisper/transcribe.py:115: UserWarning: FP16 is not supported on CPU; using FP32 instead\n",
      "  warnings.warn(\"FP16 is not supported on CPU; using FP32 instead\")\n"
     ]
    },
    {
     "name": "stdout",
     "output_type": "stream",
     "text": [
      "Transcription saved for: Das Digital Schutzpaket – Umfassender Schutz für Ihre Familie.mp3\n"
     ]
    },
    {
     "name": "stderr",
     "output_type": "stream",
     "text": [
      "/Users/taha/Desktop/rag/venv/lib/python3.12/site-packages/whisper/transcribe.py:115: UserWarning: FP16 is not supported on CPU; using FP32 instead\n",
      "  warnings.warn(\"FP16 is not supported on CPU; using FP32 instead\")\n"
     ]
    },
    {
     "name": "stdout",
     "output_type": "stream",
     "text": [
      "Transcription saved for: Wie bereite ich mich auf einen Technikerbesuch vor？.mp3\n"
     ]
    },
    {
     "name": "stderr",
     "output_type": "stream",
     "text": [
      "/Users/taha/Desktop/rag/venv/lib/python3.12/site-packages/whisper/transcribe.py:115: UserWarning: FP16 is not supported on CPU; using FP32 instead\n",
      "  warnings.warn(\"FP16 is not supported on CPU; using FP32 instead\")\n"
     ]
    },
    {
     "name": "stdout",
     "output_type": "stream",
     "text": [
      "Transcription saved for: Frag Magenta： Dein digitaler Assistent – Hilfe rund um die Uhr!.mp3\n"
     ]
    },
    {
     "name": "stderr",
     "output_type": "stream",
     "text": [
      "/Users/taha/Desktop/rag/venv/lib/python3.12/site-packages/whisper/transcribe.py:115: UserWarning: FP16 is not supported on CPU; using FP32 instead\n",
      "  warnings.warn(\"FP16 is not supported on CPU; using FP32 instead\")\n"
     ]
    },
    {
     "name": "stdout",
     "output_type": "stream",
     "text": [
      "Transcription saved for: MeinMagenta App： Ihre gesamte Telekom Welt immer im Blick.mp3\n"
     ]
    },
    {
     "name": "stderr",
     "output_type": "stream",
     "text": [
      "/Users/taha/Desktop/rag/venv/lib/python3.12/site-packages/whisper/transcribe.py:115: UserWarning: FP16 is not supported on CPU; using FP32 instead\n",
      "  warnings.warn(\"FP16 is not supported on CPU; using FP32 instead\")\n"
     ]
    },
    {
     "name": "stdout",
     "output_type": "stream",
     "text": [
      "Transcription saved for: Telekom： Telefoniecenter – Themenbereich „Komfort“.mp3\n"
     ]
    },
    {
     "name": "stderr",
     "output_type": "stream",
     "text": [
      "/Users/taha/Desktop/rag/venv/lib/python3.12/site-packages/whisper/transcribe.py:115: UserWarning: FP16 is not supported on CPU; using FP32 instead\n",
      "  warnings.warn(\"FP16 is not supported on CPU; using FP32 instead\")\n"
     ]
    },
    {
     "name": "stdout",
     "output_type": "stream",
     "text": [
      "Transcription saved for: Teile dein WLAN mit dem QR-Code! #shorts #telekom #wlan #magenta #tech #hilfe #smartphone.mp3\n"
     ]
    },
    {
     "name": "stderr",
     "output_type": "stream",
     "text": [
      "/Users/taha/Desktop/rag/venv/lib/python3.12/site-packages/whisper/transcribe.py:115: UserWarning: FP16 is not supported on CPU; using FP32 instead\n",
      "  warnings.warn(\"FP16 is not supported on CPU; using FP32 instead\")\n"
     ]
    },
    {
     "name": "stdout",
     "output_type": "stream",
     "text": [
      "Transcription saved for: Telekom： Digitalisierungsbox Smart -  Ersteinrichtung Media Gateway.mp3\n"
     ]
    },
    {
     "name": "stderr",
     "output_type": "stream",
     "text": [
      "/Users/taha/Desktop/rag/venv/lib/python3.12/site-packages/whisper/transcribe.py:115: UserWarning: FP16 is not supported on CPU; using FP32 instead\n",
      "  warnings.warn(\"FP16 is not supported on CPU; using FP32 instead\")\n"
     ]
    },
    {
     "name": "stdout",
     "output_type": "stream",
     "text": [
      "Transcription saved for: Top-Standorte für deinen Router! #shorts #magenta #telekom #hilfe #router #internet #empfang.mp3\n"
     ]
    },
    {
     "name": "stderr",
     "output_type": "stream",
     "text": [
      "/Users/taha/Desktop/rag/venv/lib/python3.12/site-packages/whisper/transcribe.py:115: UserWarning: FP16 is not supported on CPU; using FP32 instead\n",
      "  warnings.warn(\"FP16 is not supported on CPU; using FP32 instead\")\n"
     ]
    },
    {
     "name": "stdout",
     "output_type": "stream",
     "text": [
      "Transcription saved for: So tauschst du deine eSIM： Schritt-für-Schritt-Anleitung.mp3\n"
     ]
    },
    {
     "name": "stderr",
     "output_type": "stream",
     "text": [
      "/Users/taha/Desktop/rag/venv/lib/python3.12/site-packages/whisper/transcribe.py:115: UserWarning: FP16 is not supported on CPU; using FP32 instead\n",
      "  warnings.warn(\"FP16 is not supported on CPU; using FP32 instead\")\n"
     ]
    },
    {
     "name": "stdout",
     "output_type": "stream",
     "text": [
      "Transcription saved for: Telekom： Digitalisierungsbox Smart 2 & Premium 2 - Einrichtung SFP-Modems.mp3\n"
     ]
    },
    {
     "name": "stderr",
     "output_type": "stream",
     "text": [
      "/Users/taha/Desktop/rag/venv/lib/python3.12/site-packages/whisper/transcribe.py:115: UserWarning: FP16 is not supported on CPU; using FP32 instead\n",
      "  warnings.warn(\"FP16 is not supported on CPU; using FP32 instead\")\n"
     ]
    },
    {
     "name": "stdout",
     "output_type": "stream",
     "text": [
      "Transcription saved for: Keine langen Warteschleifen - Nutze den Rückrufservice!.mp3\n"
     ]
    },
    {
     "name": "stderr",
     "output_type": "stream",
     "text": [
      "/Users/taha/Desktop/rag/venv/lib/python3.12/site-packages/whisper/transcribe.py:115: UserWarning: FP16 is not supported on CPU; using FP32 instead\n",
      "  warnings.warn(\"FP16 is not supported on CPU; using FP32 instead\")\n"
     ]
    },
    {
     "name": "stdout",
     "output_type": "stream",
     "text": [
      "Transcription saved for: Schützt euer Postfach vor Spam - Telekom Tipps!.mp3\n"
     ]
    },
    {
     "name": "stderr",
     "output_type": "stream",
     "text": [
      "/Users/taha/Desktop/rag/venv/lib/python3.12/site-packages/whisper/transcribe.py:115: UserWarning: FP16 is not supported on CPU; using FP32 instead\n",
      "  warnings.warn(\"FP16 is not supported on CPU; using FP32 instead\")\n"
     ]
    },
    {
     "name": "stdout",
     "output_type": "stream",
     "text": [
      "Transcription saved for: Zahle einfach per Handyrechnung! #telekom #hilfe #handyrechnung #magenta #tipp #smartphone #easy.mp3\n"
     ]
    },
    {
     "name": "stderr",
     "output_type": "stream",
     "text": [
      "/Users/taha/Desktop/rag/venv/lib/python3.12/site-packages/whisper/transcribe.py:115: UserWarning: FP16 is not supported on CPU; using FP32 instead\n",
      "  warnings.warn(\"FP16 is not supported on CPU; using FP32 instead\")\n"
     ]
    },
    {
     "name": "stdout",
     "output_type": "stream",
     "text": [
      "Transcription saved for: Digitalisierungbox Smart - Einrichtung eines bintec elmeg IP-Telefons – REV2.mp3\n"
     ]
    },
    {
     "name": "stderr",
     "output_type": "stream",
     "text": [
      "/Users/taha/Desktop/rag/venv/lib/python3.12/site-packages/whisper/transcribe.py:115: UserWarning: FP16 is not supported on CPU; using FP32 instead\n",
      "  warnings.warn(\"FP16 is not supported on CPU; using FP32 instead\")\n"
     ]
    },
    {
     "name": "stdout",
     "output_type": "stream",
     "text": [
      "Transcription saved for: So schützt du dein WLAN vor ungebetenen Gästen! #shorts #telekom #wlan #security #magenta.mp3\n"
     ]
    },
    {
     "name": "stderr",
     "output_type": "stream",
     "text": [
      "/Users/taha/Desktop/rag/venv/lib/python3.12/site-packages/whisper/transcribe.py:115: UserWarning: FP16 is not supported on CPU; using FP32 instead\n",
      "  warnings.warn(\"FP16 is not supported on CPU; using FP32 instead\")\n"
     ]
    },
    {
     "name": "stdout",
     "output_type": "stream",
     "text": [
      "Transcription saved for: Telekom： Kündigung Mietgerät bei der Telekom.mp3\n"
     ]
    },
    {
     "name": "stderr",
     "output_type": "stream",
     "text": [
      "/Users/taha/Desktop/rag/venv/lib/python3.12/site-packages/whisper/transcribe.py:115: UserWarning: FP16 is not supported on CPU; using FP32 instead\n",
      "  warnings.warn(\"FP16 is not supported on CPU; using FP32 instead\")\n"
     ]
    },
    {
     "name": "stdout",
     "output_type": "stream",
     "text": [
      "Transcription saved for: WLAN-Namen ändern： So geht´s bei der Fritzbox ｜ Telekom.mp3\n"
     ]
    },
    {
     "name": "stderr",
     "output_type": "stream",
     "text": [
      "/Users/taha/Desktop/rag/venv/lib/python3.12/site-packages/whisper/transcribe.py:115: UserWarning: FP16 is not supported on CPU; using FP32 instead\n",
      "  warnings.warn(\"FP16 is not supported on CPU; using FP32 instead\")\n"
     ]
    },
    {
     "name": "stdout",
     "output_type": "stream",
     "text": [
      "Transcription saved for: Spam-Schutz bei der Telekom - So einfach geht's!.mp3\n"
     ]
    },
    {
     "name": "stderr",
     "output_type": "stream",
     "text": [
      "/Users/taha/Desktop/rag/venv/lib/python3.12/site-packages/whisper/transcribe.py:115: UserWarning: FP16 is not supported on CPU; using FP32 instead\n",
      "  warnings.warn(\"FP16 is not supported on CPU; using FP32 instead\")\n"
     ]
    },
    {
     "name": "stdout",
     "output_type": "stream",
     "text": [
      "Transcription saved for: Telefoniecenter - Erste Schritte ｜ Ihre telefonische Erreichbarkeit einfach online steuern.mp3\n"
     ]
    },
    {
     "name": "stderr",
     "output_type": "stream",
     "text": [
      "/Users/taha/Desktop/rag/venv/lib/python3.12/site-packages/whisper/transcribe.py:115: UserWarning: FP16 is not supported on CPU; using FP32 instead\n",
      "  warnings.warn(\"FP16 is not supported on CPU; using FP32 instead\")\n"
     ]
    },
    {
     "name": "stdout",
     "output_type": "stream",
     "text": [
      "Transcription saved for: Telekom： Digitalisierungsbox Smart -  Ersteinrichtung Telefonanlage.mp3\n"
     ]
    },
    {
     "name": "stderr",
     "output_type": "stream",
     "text": [
      "/Users/taha/Desktop/rag/venv/lib/python3.12/site-packages/whisper/transcribe.py:115: UserWarning: FP16 is not supported on CPU; using FP32 instead\n",
      "  warnings.warn(\"FP16 is not supported on CPU; using FP32 instead\")\n"
     ]
    },
    {
     "name": "stdout",
     "output_type": "stream",
     "text": [
      "Transcription saved for: WLAN-Namen ändern： Schnell und einfach ｜ Telekom.mp3\n"
     ]
    },
    {
     "name": "stderr",
     "output_type": "stream",
     "text": [
      "/Users/taha/Desktop/rag/venv/lib/python3.12/site-packages/whisper/transcribe.py:115: UserWarning: FP16 is not supported on CPU; using FP32 instead\n",
      "  warnings.warn(\"FP16 is not supported on CPU; using FP32 instead\")\n"
     ]
    },
    {
     "name": "stdout",
     "output_type": "stream",
     "text": [
      "Transcription saved for: Telekom： MagentaService Live – Persönliche Beratung per Videocall.mp3\n"
     ]
    },
    {
     "name": "stderr",
     "output_type": "stream",
     "text": [
      "/Users/taha/Desktop/rag/venv/lib/python3.12/site-packages/whisper/transcribe.py:115: UserWarning: FP16 is not supported on CPU; using FP32 instead\n",
      "  warnings.warn(\"FP16 is not supported on CPU; using FP32 instead\")\n"
     ]
    },
    {
     "name": "stdout",
     "output_type": "stream",
     "text": [
      "Transcription saved for: Telekom： Digitalisierungsbox Smart 2 & Premium 2 - Erstinbetriebnahme.mp3\n"
     ]
    },
    {
     "name": "stderr",
     "output_type": "stream",
     "text": [
      "/Users/taha/Desktop/rag/venv/lib/python3.12/site-packages/whisper/transcribe.py:115: UserWarning: FP16 is not supported on CPU; using FP32 instead\n",
      "  warnings.warn(\"FP16 is not supported on CPU; using FP32 instead\")\n"
     ]
    },
    {
     "name": "stdout",
     "output_type": "stream",
     "text": [
      "Transcription saved for: Digitale Soforthilfe ohne Wartezeit - Kennst Du...Frag Magenta？ I Telekom.mp3\n"
     ]
    },
    {
     "name": "stderr",
     "output_type": "stream",
     "text": [
      "/Users/taha/Desktop/rag/venv/lib/python3.12/site-packages/whisper/transcribe.py:115: UserWarning: FP16 is not supported on CPU; using FP32 instead\n",
      "  warnings.warn(\"FP16 is not supported on CPU; using FP32 instead\")\n"
     ]
    },
    {
     "name": "stdout",
     "output_type": "stream",
     "text": [
      "Transcription saved for: Einfache Anmeldung bei der MeinMagenta App - Schritt für Schritt erklärt!.mp3\n"
     ]
    },
    {
     "name": "stderr",
     "output_type": "stream",
     "text": [
      "/Users/taha/Desktop/rag/venv/lib/python3.12/site-packages/whisper/transcribe.py:115: UserWarning: FP16 is not supported on CPU; using FP32 instead\n",
      "  warnings.warn(\"FP16 is not supported on CPU; using FP32 instead\")\n"
     ]
    },
    {
     "name": "stdout",
     "output_type": "stream",
     "text": [
      "Transcription saved for: Telekom： Digitalisierungsbox Smart 2 & Premium 2 - Einrichtung Portfreischaltung.mp3\n"
     ]
    },
    {
     "name": "stderr",
     "output_type": "stream",
     "text": [
      "/Users/taha/Desktop/rag/venv/lib/python3.12/site-packages/whisper/transcribe.py:115: UserWarning: FP16 is not supported on CPU; using FP32 instead\n",
      "  warnings.warn(\"FP16 is not supported on CPU; using FP32 instead\")\n"
     ]
    },
    {
     "name": "stdout",
     "output_type": "stream",
     "text": [
      "Transcription saved for: Telekom： Die optimalen Einstellungen am Smart-TV für MagentaTV (3⧸3).mp3\n"
     ]
    },
    {
     "name": "stderr",
     "output_type": "stream",
     "text": [
      "/Users/taha/Desktop/rag/venv/lib/python3.12/site-packages/whisper/transcribe.py:115: UserWarning: FP16 is not supported on CPU; using FP32 instead\n",
      "  warnings.warn(\"FP16 is not supported on CPU; using FP32 instead\")\n"
     ]
    },
    {
     "name": "stdout",
     "output_type": "stream",
     "text": [
      "Transcription saved for: Enkel-Tipp： Schriftgröße anpassen Android Smartphone.mp3\n"
     ]
    },
    {
     "name": "stderr",
     "output_type": "stream",
     "text": [
      "/Users/taha/Desktop/rag/venv/lib/python3.12/site-packages/whisper/transcribe.py:115: UserWarning: FP16 is not supported on CPU; using FP32 instead\n",
      "  warnings.warn(\"FP16 is not supported on CPU; using FP32 instead\")\n"
     ]
    },
    {
     "name": "stdout",
     "output_type": "stream",
     "text": [
      "Transcription saved for: Telekom： Digitalisierungsbox Smart - Einrichtung eines SIP-Trunks im PBX-Modus.mp3\n"
     ]
    },
    {
     "name": "stderr",
     "output_type": "stream",
     "text": [
      "/Users/taha/Desktop/rag/venv/lib/python3.12/site-packages/whisper/transcribe.py:115: UserWarning: FP16 is not supported on CPU; using FP32 instead\n",
      "  warnings.warn(\"FP16 is not supported on CPU; using FP32 instead\")\n"
     ]
    },
    {
     "name": "stdout",
     "output_type": "stream",
     "text": [
      "Transcription saved for: Telekom： Digitalisierungsbox Premium - Kalender und Tag⧸Nachtbetrieb einrichten.mp3\n"
     ]
    },
    {
     "name": "stderr",
     "output_type": "stream",
     "text": [
      "/Users/taha/Desktop/rag/venv/lib/python3.12/site-packages/whisper/transcribe.py:115: UserWarning: FP16 is not supported on CPU; using FP32 instead\n",
      "  warnings.warn(\"FP16 is not supported on CPU; using FP32 instead\")\n"
     ]
    },
    {
     "name": "stdout",
     "output_type": "stream",
     "text": [
      "Transcription saved for: Telekom： Digitalisierungsbox Smart & Premium - End-to-Site VPN mit Apple iOS und iPadOS.mp3\n"
     ]
    },
    {
     "name": "stderr",
     "output_type": "stream",
     "text": [
      "/Users/taha/Desktop/rag/venv/lib/python3.12/site-packages/whisper/transcribe.py:115: UserWarning: FP16 is not supported on CPU; using FP32 instead\n",
      "  warnings.warn(\"FP16 is not supported on CPU; using FP32 instead\")\n"
     ]
    },
    {
     "name": "stdout",
     "output_type": "stream",
     "text": [
      "Transcription saved for: Deine erste Telekom Rechnung nach Tarifwechsel： Erklärung & Details.mp3\n"
     ]
    },
    {
     "name": "stderr",
     "output_type": "stream",
     "text": [
      "/Users/taha/Desktop/rag/venv/lib/python3.12/site-packages/whisper/transcribe.py:115: UserWarning: FP16 is not supported on CPU; using FP32 instead\n",
      "  warnings.warn(\"FP16 is not supported on CPU; using FP32 instead\")\n"
     ]
    },
    {
     "name": "stdout",
     "output_type": "stream",
     "text": [
      "Transcription saved for: Wofür brauche Ich den TelekomLogin？ #shorts#telekom#telekomhilft.mp3\n"
     ]
    },
    {
     "name": "stderr",
     "output_type": "stream",
     "text": [
      "/Users/taha/Desktop/rag/venv/lib/python3.12/site-packages/whisper/transcribe.py:115: UserWarning: FP16 is not supported on CPU; using FP32 instead\n",
      "  warnings.warn(\"FP16 is not supported on CPU; using FP32 instead\")\n"
     ]
    },
    {
     "name": "stdout",
     "output_type": "stream",
     "text": [
      "Transcription saved for: Enkel-Tipp： MeinMagenta App auf dem iPhone installieren - Schritt-für-Schritt Anleitung.mp3\n"
     ]
    },
    {
     "name": "stderr",
     "output_type": "stream",
     "text": [
      "/Users/taha/Desktop/rag/venv/lib/python3.12/site-packages/whisper/transcribe.py:115: UserWarning: FP16 is not supported on CPU; using FP32 instead\n",
      "  warnings.warn(\"FP16 is not supported on CPU; using FP32 instead\")\n"
     ]
    },
    {
     "name": "stdout",
     "output_type": "stream",
     "text": [
      "Transcription saved for: Die Telekom Ideenschmiede： Gestalten Sie die Zukunft mit uns!.mp3\n"
     ]
    },
    {
     "name": "stderr",
     "output_type": "stream",
     "text": [
      "/Users/taha/Desktop/rag/venv/lib/python3.12/site-packages/whisper/transcribe.py:115: UserWarning: FP16 is not supported on CPU; using FP32 instead\n",
      "  warnings.warn(\"FP16 is not supported on CPU; using FP32 instead\")\n"
     ]
    },
    {
     "name": "stdout",
     "output_type": "stream",
     "text": [
      "Transcription saved for: E-Mail-Adresse bei der Telekom bestätigen - So geht's!.mp3\n"
     ]
    },
    {
     "name": "stderr",
     "output_type": "stream",
     "text": [
      "/Users/taha/Desktop/rag/venv/lib/python3.12/site-packages/whisper/transcribe.py:115: UserWarning: FP16 is not supported on CPU; using FP32 instead\n",
      "  warnings.warn(\"FP16 is not supported on CPU; using FP32 instead\")\n"
     ]
    },
    {
     "name": "stdout",
     "output_type": "stream",
     "text": [
      "Transcription saved for: 5G Empfänger - Unboxing ｜ Telekom #shorts #telekom #5g #telekomhilft #magenta.mp3\n"
     ]
    },
    {
     "name": "stderr",
     "output_type": "stream",
     "text": [
      "/Users/taha/Desktop/rag/venv/lib/python3.12/site-packages/whisper/transcribe.py:115: UserWarning: FP16 is not supported on CPU; using FP32 instead\n",
      "  warnings.warn(\"FP16 is not supported on CPU; using FP32 instead\")\n"
     ]
    },
    {
     "name": "stdout",
     "output_type": "stream",
     "text": [
      "Transcription saved for: Die beste Verbindung für MagentaTV I Telekom.mp3\n"
     ]
    },
    {
     "name": "stderr",
     "output_type": "stream",
     "text": [
      "/Users/taha/Desktop/rag/venv/lib/python3.12/site-packages/whisper/transcribe.py:115: UserWarning: FP16 is not supported on CPU; using FP32 instead\n",
      "  warnings.warn(\"FP16 is not supported on CPU; using FP32 instead\")\n"
     ]
    },
    {
     "name": "stdout",
     "output_type": "stream",
     "text": [
      "Transcription saved for: Telekom： Digitalisierungsbox Premium - End-to-Site VPN mit dem bintec elmeg Secure IPSec Client.mp3\n"
     ]
    },
    {
     "name": "stderr",
     "output_type": "stream",
     "text": [
      "/Users/taha/Desktop/rag/venv/lib/python3.12/site-packages/whisper/transcribe.py:115: UserWarning: FP16 is not supported on CPU; using FP32 instead\n",
      "  warnings.warn(\"FP16 is not supported on CPU; using FP32 instead\")\n"
     ]
    },
    {
     "name": "stdout",
     "output_type": "stream",
     "text": [
      "Transcription saved for: Der Freizeichentonservice der Telekom #telekom #telekomhilft #telekomvideos #magenta.mp3\n"
     ]
    },
    {
     "name": "stderr",
     "output_type": "stream",
     "text": [
      "/Users/taha/Desktop/rag/venv/lib/python3.12/site-packages/whisper/transcribe.py:115: UserWarning: FP16 is not supported on CPU; using FP32 instead\n",
      "  warnings.warn(\"FP16 is not supported on CPU; using FP32 instead\")\n"
     ]
    },
    {
     "name": "stdout",
     "output_type": "stream",
     "text": [
      "Transcription saved for: Glasfaser-Installation： So bereitest du dich optimal vor!.mp3\n"
     ]
    },
    {
     "name": "stderr",
     "output_type": "stream",
     "text": [
      "/Users/taha/Desktop/rag/venv/lib/python3.12/site-packages/whisper/transcribe.py:115: UserWarning: FP16 is not supported on CPU; using FP32 instead\n",
      "  warnings.warn(\"FP16 is not supported on CPU; using FP32 instead\")\n"
     ]
    },
    {
     "name": "stdout",
     "output_type": "stream",
     "text": [
      "Transcription saved for: ZOOM Seminare der Telekom Senioren-Akademie - Teilnahme mit einem iPad.mp3\n"
     ]
    },
    {
     "name": "stderr",
     "output_type": "stream",
     "text": [
      "/Users/taha/Desktop/rag/venv/lib/python3.12/site-packages/whisper/transcribe.py:115: UserWarning: FP16 is not supported on CPU; using FP32 instead\n",
      "  warnings.warn(\"FP16 is not supported on CPU; using FP32 instead\")\n"
     ]
    },
    {
     "name": "stdout",
     "output_type": "stream",
     "text": [
      "Transcription saved for: Telekom： Digitalisierungsbox Premium - Team Voice Mail Box einrichten.mp3\n"
     ]
    },
    {
     "name": "stderr",
     "output_type": "stream",
     "text": [
      "/Users/taha/Desktop/rag/venv/lib/python3.12/site-packages/whisper/transcribe.py:115: UserWarning: FP16 is not supported on CPU; using FP32 instead\n",
      "  warnings.warn(\"FP16 is not supported on CPU; using FP32 instead\")\n"
     ]
    },
    {
     "name": "stdout",
     "output_type": "stream",
     "text": [
      "Transcription saved for: Frag Magenta： Der digitale Assistent #shorts#telekom#fragmagenta#support#tech#digitalart#fyp#like.mp3\n"
     ]
    },
    {
     "name": "stderr",
     "output_type": "stream",
     "text": [
      "/Users/taha/Desktop/rag/venv/lib/python3.12/site-packages/whisper/transcribe.py:115: UserWarning: FP16 is not supported on CPU; using FP32 instead\n",
      "  warnings.warn(\"FP16 is not supported on CPU; using FP32 instead\")\n"
     ]
    },
    {
     "name": "stdout",
     "output_type": "stream",
     "text": [
      "Transcription saved for: Telekom： Anbindung an FTTH (Fiber to the Home) ⧸ Glasfasertechnik.mp3\n"
     ]
    },
    {
     "name": "stderr",
     "output_type": "stream",
     "text": [
      "/Users/taha/Desktop/rag/venv/lib/python3.12/site-packages/whisper/transcribe.py:115: UserWarning: FP16 is not supported on CPU; using FP32 instead\n",
      "  warnings.warn(\"FP16 is not supported on CPU; using FP32 instead\")\n"
     ]
    },
    {
     "name": "stdout",
     "output_type": "stream",
     "text": [
      "Transcription saved for: Szenen erstellen mit Telekom Magenta SmartHome.mp3\n"
     ]
    },
    {
     "name": "stderr",
     "output_type": "stream",
     "text": [
      "/Users/taha/Desktop/rag/venv/lib/python3.12/site-packages/whisper/transcribe.py:115: UserWarning: FP16 is not supported on CPU; using FP32 instead\n",
      "  warnings.warn(\"FP16 is not supported on CPU; using FP32 instead\")\n"
     ]
    },
    {
     "name": "stdout",
     "output_type": "stream",
     "text": [
      "Transcription saved for: Die Moderatoren der Telekom Hilfe-Videos： Lernen Sie unser Team kennen!.mp3\n"
     ]
    },
    {
     "name": "stderr",
     "output_type": "stream",
     "text": [
      "/Users/taha/Desktop/rag/venv/lib/python3.12/site-packages/whisper/transcribe.py:115: UserWarning: FP16 is not supported on CPU; using FP32 instead\n",
      "  warnings.warn(\"FP16 is not supported on CPU; using FP32 instead\")\n"
     ]
    },
    {
     "name": "stdout",
     "output_type": "stream",
     "text": [
      "Transcription saved for: ZOOM Seminare der Telekom Senioren-Akademie - Teilnahme mit einem Android Tablet.mp3\n"
     ]
    },
    {
     "name": "stderr",
     "output_type": "stream",
     "text": [
      "/Users/taha/Desktop/rag/venv/lib/python3.12/site-packages/whisper/transcribe.py:115: UserWarning: FP16 is not supported on CPU; using FP32 instead\n",
      "  warnings.warn(\"FP16 is not supported on CPU; using FP32 instead\")\n"
     ]
    },
    {
     "name": "stdout",
     "output_type": "stream",
     "text": [
      "Transcription saved for: Bezahlen per Handyrechnung – einfach und schnell einrichten I Telekom.mp3\n"
     ]
    },
    {
     "name": "stderr",
     "output_type": "stream",
     "text": [
      "/Users/taha/Desktop/rag/venv/lib/python3.12/site-packages/whisper/transcribe.py:115: UserWarning: FP16 is not supported on CPU; using FP32 instead\n",
      "  warnings.warn(\"FP16 is not supported on CPU; using FP32 instead\")\n"
     ]
    },
    {
     "name": "stdout",
     "output_type": "stream",
     "text": [
      "Transcription saved for: CompanyFlex Cloud PBX 2.0 - Microsoft Teams Integration.mp3\n"
     ]
    },
    {
     "name": "stderr",
     "output_type": "stream",
     "text": [
      "/Users/taha/Desktop/rag/venv/lib/python3.12/site-packages/whisper/transcribe.py:115: UserWarning: FP16 is not supported on CPU; using FP32 instead\n",
      "  warnings.warn(\"FP16 is not supported on CPU; using FP32 instead\")\n"
     ]
    },
    {
     "name": "stdout",
     "output_type": "stream",
     "text": [
      "Transcription saved for: MagentaService Live – Deine persönliche Videoberatung.mp3\n"
     ]
    },
    {
     "name": "stderr",
     "output_type": "stream",
     "text": [
      "/Users/taha/Desktop/rag/venv/lib/python3.12/site-packages/whisper/transcribe.py:115: UserWarning: FP16 is not supported on CPU; using FP32 instead\n",
      "  warnings.warn(\"FP16 is not supported on CPU; using FP32 instead\")\n"
     ]
    },
    {
     "name": "stdout",
     "output_type": "stream",
     "text": [
      "Transcription saved for: CompanyFlex SIP-Trunk - Arbeitsplatz powered by Webex.mp3\n"
     ]
    },
    {
     "name": "stderr",
     "output_type": "stream",
     "text": [
      "/Users/taha/Desktop/rag/venv/lib/python3.12/site-packages/whisper/transcribe.py:115: UserWarning: FP16 is not supported on CPU; using FP32 instead\n",
      "  warnings.warn(\"FP16 is not supported on CPU; using FP32 instead\")\n"
     ]
    },
    {
     "name": "stdout",
     "output_type": "stream",
     "text": [
      "Transcription saved for: WhatsApp Service in 60 Sekunden erklärt.mp3\n"
     ]
    },
    {
     "name": "stderr",
     "output_type": "stream",
     "text": [
      "/Users/taha/Desktop/rag/venv/lib/python3.12/site-packages/whisper/transcribe.py:115: UserWarning: FP16 is not supported on CPU; using FP32 instead\n",
      "  warnings.warn(\"FP16 is not supported on CPU; using FP32 instead\")\n"
     ]
    },
    {
     "name": "stdout",
     "output_type": "stream",
     "text": [
      "Transcription saved for: Telekom： Telefoniecenter – Themenbereich „Erreichbarkeit“.mp3\n"
     ]
    },
    {
     "name": "stderr",
     "output_type": "stream",
     "text": [
      "/Users/taha/Desktop/rag/venv/lib/python3.12/site-packages/whisper/transcribe.py:115: UserWarning: FP16 is not supported on CPU; using FP32 instead\n",
      "  warnings.warn(\"FP16 is not supported on CPU; using FP32 instead\")\n"
     ]
    },
    {
     "name": "stdout",
     "output_type": "stream",
     "text": [
      "Transcription saved for: Internet weg？ Melde so die Störung! #shorts #telekom #telekomhilft #internet #wlan #hilfe #magenta.mp3\n"
     ]
    },
    {
     "name": "stderr",
     "output_type": "stream",
     "text": [
      "/Users/taha/Desktop/rag/venv/lib/python3.12/site-packages/whisper/transcribe.py:115: UserWarning: FP16 is not supported on CPU; using FP32 instead\n",
      "  warnings.warn(\"FP16 is not supported on CPU; using FP32 instead\")\n"
     ]
    },
    {
     "name": "stdout",
     "output_type": "stream",
     "text": [
      "Transcription saved for: Glasfaseranbindung - So läuft's ab! #shorts #telekom #glasfaser #tech #shortvideo #magenta.mp3\n"
     ]
    },
    {
     "name": "stderr",
     "output_type": "stream",
     "text": [
      "/Users/taha/Desktop/rag/venv/lib/python3.12/site-packages/whisper/transcribe.py:115: UserWarning: FP16 is not supported on CPU; using FP32 instead\n",
      "  warnings.warn(\"FP16 is not supported on CPU; using FP32 instead\")\n"
     ]
    },
    {
     "name": "stdout",
     "output_type": "stream",
     "text": [
      "Transcription saved for: MagentaTV One - Unboxing! #shorts #telekom #telekomhilft #magenta.mp3\n"
     ]
    },
    {
     "name": "stderr",
     "output_type": "stream",
     "text": [
      "/Users/taha/Desktop/rag/venv/lib/python3.12/site-packages/whisper/transcribe.py:115: UserWarning: FP16 is not supported on CPU; using FP32 instead\n",
      "  warnings.warn(\"FP16 is not supported on CPU; using FP32 instead\")\n"
     ]
    },
    {
     "name": "stdout",
     "output_type": "stream",
     "text": [
      "Transcription saved for: MeinMagenta App： Ihre gesamte Telekom Welt immer im Blick - kompakt.mp3\n"
     ]
    },
    {
     "name": "stderr",
     "output_type": "stream",
     "text": [
      "/Users/taha/Desktop/rag/venv/lib/python3.12/site-packages/whisper/transcribe.py:115: UserWarning: FP16 is not supported on CPU; using FP32 instead\n",
      "  warnings.warn(\"FP16 is not supported on CPU; using FP32 instead\")\n"
     ]
    },
    {
     "name": "stdout",
     "output_type": "stream",
     "text": [
      "Transcription saved for: Digitale Organisation mit Android-Geräten – Adressbuch, Kalender und Co. I Telekom Senioren-Akademie.mp3\n"
     ]
    },
    {
     "name": "stderr",
     "output_type": "stream",
     "text": [
      "/Users/taha/Desktop/rag/venv/lib/python3.12/site-packages/whisper/transcribe.py:115: UserWarning: FP16 is not supported on CPU; using FP32 instead\n",
      "  warnings.warn(\"FP16 is not supported on CPU; using FP32 instead\")\n"
     ]
    },
    {
     "name": "stdout",
     "output_type": "stream",
     "text": [
      "Transcription saved for: Telekom： Das optimale WLAN-Netz für MagentaTV (2⧸3).mp3\n"
     ]
    },
    {
     "name": "stderr",
     "output_type": "stream",
     "text": [
      "/Users/taha/Desktop/rag/venv/lib/python3.12/site-packages/whisper/transcribe.py:115: UserWarning: FP16 is not supported on CPU; using FP32 instead\n",
      "  warnings.warn(\"FP16 is not supported on CPU; using FP32 instead\")\n"
     ]
    },
    {
     "name": "stdout",
     "output_type": "stream",
     "text": [
      "Transcription saved for: Urlaubsreif ？ - TelekomMobilfunk im Ausland! #shorts #telekom #telekomhilft #magenta.mp3\n"
     ]
    },
    {
     "name": "stderr",
     "output_type": "stream",
     "text": [
      "/Users/taha/Desktop/rag/venv/lib/python3.12/site-packages/whisper/transcribe.py:115: UserWarning: FP16 is not supported on CPU; using FP32 instead\n",
      "  warnings.warn(\"FP16 is not supported on CPU; using FP32 instead\")\n"
     ]
    },
    {
     "name": "stdout",
     "output_type": "stream",
     "text": [
      "Transcription saved for: Telekom： Hybrid 5G⧸LTE Bestes Erlebnis (3⧸3).mp3\n"
     ]
    },
    {
     "name": "stderr",
     "output_type": "stream",
     "text": [
      "/Users/taha/Desktop/rag/venv/lib/python3.12/site-packages/whisper/transcribe.py:115: UserWarning: FP16 is not supported on CPU; using FP32 instead\n",
      "  warnings.warn(\"FP16 is not supported on CPU; using FP32 instead\")\n"
     ]
    },
    {
     "name": "stdout",
     "output_type": "stream",
     "text": [
      "Transcription saved for: Telekom： Digitalisierungsbox Smart 2 - Einrichtung IP-Systemtelefon.mp3\n"
     ]
    },
    {
     "name": "stderr",
     "output_type": "stream",
     "text": [
      "/Users/taha/Desktop/rag/venv/lib/python3.12/site-packages/whisper/transcribe.py:115: UserWarning: FP16 is not supported on CPU; using FP32 instead\n",
      "  warnings.warn(\"FP16 is not supported on CPU; using FP32 instead\")\n"
     ]
    },
    {
     "name": "stdout",
     "output_type": "stream",
     "text": [
      "Transcription saved for: Glasfaser I #shorts #telekom #telekomhilft #magenta.mp3\n"
     ]
    },
    {
     "name": "stderr",
     "output_type": "stream",
     "text": [
      "/Users/taha/Desktop/rag/venv/lib/python3.12/site-packages/whisper/transcribe.py:115: UserWarning: FP16 is not supported on CPU; using FP32 instead\n",
      "  warnings.warn(\"FP16 is not supported on CPU; using FP32 instead\")\n"
     ]
    },
    {
     "name": "stdout",
     "output_type": "stream",
     "text": [
      "Transcription saved for: Digitale Sicherheit - Tipps für sichere Passwörter I Telekom Senioren-Akademie.mp3\n"
     ]
    },
    {
     "name": "stderr",
     "output_type": "stream",
     "text": [
      "/Users/taha/Desktop/rag/venv/lib/python3.12/site-packages/whisper/transcribe.py:115: UserWarning: FP16 is not supported on CPU; using FP32 instead\n",
      "  warnings.warn(\"FP16 is not supported on CPU; using FP32 instead\")\n"
     ]
    },
    {
     "name": "stdout",
     "output_type": "stream",
     "text": [
      "Transcription saved for: Bezahlen per Handyrechnung – so funktioniert´s Schritt für Schritt bei IOS-Geräte I Telekom.mp3\n"
     ]
    },
    {
     "name": "stderr",
     "output_type": "stream",
     "text": [
      "/Users/taha/Desktop/rag/venv/lib/python3.12/site-packages/whisper/transcribe.py:115: UserWarning: FP16 is not supported on CPU; using FP32 instead\n",
      "  warnings.warn(\"FP16 is not supported on CPU; using FP32 instead\")\n"
     ]
    },
    {
     "name": "stdout",
     "output_type": "stream",
     "text": [
      "Transcription saved for: Telekom hilft News： Wie solltet ihr euch bei Spam via SMS verhalten？.mp3\n"
     ]
    },
    {
     "name": "stderr",
     "output_type": "stream",
     "text": [
      "/Users/taha/Desktop/rag/venv/lib/python3.12/site-packages/whisper/transcribe.py:115: UserWarning: FP16 is not supported on CPU; using FP32 instead\n",
      "  warnings.warn(\"FP16 is not supported on CPU; using FP32 instead\")\n"
     ]
    },
    {
     "name": "stdout",
     "output_type": "stream",
     "text": [
      "Transcription saved for: Telekom： eSIM bei Gerätewechsel leicht gemacht.mp3\n"
     ]
    },
    {
     "name": "stderr",
     "output_type": "stream",
     "text": [
      "/Users/taha/Desktop/rag/venv/lib/python3.12/site-packages/whisper/transcribe.py:115: UserWarning: FP16 is not supported on CPU; using FP32 instead\n",
      "  warnings.warn(\"FP16 is not supported on CPU; using FP32 instead\")\n"
     ]
    },
    {
     "name": "stdout",
     "output_type": "stream",
     "text": [
      "Transcription saved for: Hybrid 5G⧸LTE Installation： Schritt für Schritt erklärt (2⧸3).mp3\n"
     ]
    },
    {
     "name": "stderr",
     "output_type": "stream",
     "text": [
      "/Users/taha/Desktop/rag/venv/lib/python3.12/site-packages/whisper/transcribe.py:115: UserWarning: FP16 is not supported on CPU; using FP32 instead\n",
      "  warnings.warn(\"FP16 is not supported on CPU; using FP32 instead\")\n"
     ]
    },
    {
     "name": "stdout",
     "output_type": "stream",
     "text": [
      "Transcription saved for: Video-Ident： Videocall mit Telekom Service - Schritt für Schritt.mp3\n"
     ]
    },
    {
     "name": "stderr",
     "output_type": "stream",
     "text": [
      "/Users/taha/Desktop/rag/venv/lib/python3.12/site-packages/whisper/transcribe.py:115: UserWarning: FP16 is not supported on CPU; using FP32 instead\n",
      "  warnings.warn(\"FP16 is not supported on CPU; using FP32 instead\")\n"
     ]
    },
    {
     "name": "stdout",
     "output_type": "stream",
     "text": [
      "Transcription saved for: Telekom： Digitalisierungsbox Premium - Einrichtung eines SIP-Trunks im PBX-Modus.mp3\n"
     ]
    },
    {
     "name": "stderr",
     "output_type": "stream",
     "text": [
      "/Users/taha/Desktop/rag/venv/lib/python3.12/site-packages/whisper/transcribe.py:115: UserWarning: FP16 is not supported on CPU; using FP32 instead\n",
      "  warnings.warn(\"FP16 is not supported on CPU; using FP32 instead\")\n"
     ]
    },
    {
     "name": "stdout",
     "output_type": "stream",
     "text": [
      "Transcription saved for: Telekom： Digitalisierungsbox Premium - Einrichtung eines bintec elmeg IP-Telefons – REV2.mp3\n"
     ]
    },
    {
     "name": "stderr",
     "output_type": "stream",
     "text": [
      "/Users/taha/Desktop/rag/venv/lib/python3.12/site-packages/whisper/transcribe.py:115: UserWarning: FP16 is not supported on CPU; using FP32 instead\n",
      "  warnings.warn(\"FP16 is not supported on CPU; using FP32 instead\")\n"
     ]
    },
    {
     "name": "stdout",
     "output_type": "stream",
     "text": [
      "Transcription saved for: Die neuen MagentaMobil Angebote für alle, die Familie sind - MagentaMobil PlusKarten.mp3\n"
     ]
    },
    {
     "name": "stderr",
     "output_type": "stream",
     "text": [
      "/Users/taha/Desktop/rag/venv/lib/python3.12/site-packages/whisper/transcribe.py:115: UserWarning: FP16 is not supported on CPU; using FP32 instead\n",
      "  warnings.warn(\"FP16 is not supported on CPU; using FP32 instead\")\n"
     ]
    },
    {
     "name": "stdout",
     "output_type": "stream",
     "text": [
      "Transcription saved for: WLAN in allen Ecken？ - Mesh WLAN mit dem Speedhome WLAN! #shorts #telekom #magenta #wlan.mp3\n"
     ]
    },
    {
     "name": "stderr",
     "output_type": "stream",
     "text": [
      "/Users/taha/Desktop/rag/venv/lib/python3.12/site-packages/whisper/transcribe.py:115: UserWarning: FP16 is not supported on CPU; using FP32 instead\n",
      "  warnings.warn(\"FP16 is not supported on CPU; using FP32 instead\")\n"
     ]
    },
    {
     "name": "stdout",
     "output_type": "stream",
     "text": [
      "Transcription saved for: Deine erste Telekom Rechnung - Wir erklären dir die Details.mp3\n"
     ]
    },
    {
     "name": "stderr",
     "output_type": "stream",
     "text": [
      "/Users/taha/Desktop/rag/venv/lib/python3.12/site-packages/whisper/transcribe.py:115: UserWarning: FP16 is not supported on CPU; using FP32 instead\n",
      "  warnings.warn(\"FP16 is not supported on CPU; using FP32 instead\")\n"
     ]
    },
    {
     "name": "stdout",
     "output_type": "stream",
     "text": [
      "Transcription saved for: WLAN fest verriegelt： Deine Sicherheitscheckliste! #shorts #telekom #magenta #hilfe #wlan #security.mp3\n"
     ]
    },
    {
     "name": "stderr",
     "output_type": "stream",
     "text": [
      "/Users/taha/Desktop/rag/venv/lib/python3.12/site-packages/whisper/transcribe.py:115: UserWarning: FP16 is not supported on CPU; using FP32 instead\n",
      "  warnings.warn(\"FP16 is not supported on CPU; using FP32 instead\")\n"
     ]
    },
    {
     "name": "stdout",
     "output_type": "stream",
     "text": [
      "Transcription saved for: Telekom： Digitalisierungsbox Smart 2 & Premium 2 - Einrichtung Dual-WAN.mp3\n"
     ]
    },
    {
     "name": "stderr",
     "output_type": "stream",
     "text": [
      "/Users/taha/Desktop/rag/venv/lib/python3.12/site-packages/whisper/transcribe.py:115: UserWarning: FP16 is not supported on CPU; using FP32 instead\n",
      "  warnings.warn(\"FP16 is not supported on CPU; using FP32 instead\")\n"
     ]
    },
    {
     "name": "stdout",
     "output_type": "stream",
     "text": [
      "Transcription saved for: WLAN-Namen ändern： So geht's beim Speedport ｜ Telekom.mp3\n"
     ]
    },
    {
     "name": "stderr",
     "output_type": "stream",
     "text": [
      "/Users/taha/Desktop/rag/venv/lib/python3.12/site-packages/whisper/transcribe.py:115: UserWarning: FP16 is not supported on CPU; using FP32 instead\n",
      "  warnings.warn(\"FP16 is not supported on CPU; using FP32 instead\")\n"
     ]
    },
    {
     "name": "stdout",
     "output_type": "stream",
     "text": [
      "Transcription saved for: Telekom： Die beste Verbindung für MagentaTV (1⧸3).mp3\n"
     ]
    },
    {
     "name": "stderr",
     "output_type": "stream",
     "text": [
      "/Users/taha/Desktop/rag/venv/lib/python3.12/site-packages/whisper/transcribe.py:115: UserWarning: FP16 is not supported on CPU; using FP32 instead\n",
      "  warnings.warn(\"FP16 is not supported on CPU; using FP32 instead\")\n"
     ]
    },
    {
     "name": "stdout",
     "output_type": "stream",
     "text": [
      "Transcription saved for: Einfache Einrichtung von Apple TV 4K mit MagentaTV： Tipps und Tricks.mp3\n"
     ]
    },
    {
     "name": "stderr",
     "output_type": "stream",
     "text": [
      "/Users/taha/Desktop/rag/venv/lib/python3.12/site-packages/whisper/transcribe.py:115: UserWarning: FP16 is not supported on CPU; using FP32 instead\n",
      "  warnings.warn(\"FP16 is not supported on CPU; using FP32 instead\")\n"
     ]
    },
    {
     "name": "stdout",
     "output_type": "stream",
     "text": [
      "Transcription saved for: Rufnummernportierung für Geschäftskunden - nehmen Sie Ihre Mobilfunknummer ganz einfach mit.mp3\n"
     ]
    },
    {
     "name": "stderr",
     "output_type": "stream",
     "text": [
      "/Users/taha/Desktop/rag/venv/lib/python3.12/site-packages/whisper/transcribe.py:115: UserWarning: FP16 is not supported on CPU; using FP32 instead\n",
      "  warnings.warn(\"FP16 is not supported on CPU; using FP32 instead\")\n"
     ]
    },
    {
     "name": "stdout",
     "output_type": "stream",
     "text": [
      "Transcription saved for: Feste IP-Adresse auf neuen IP-Anschluss übertragen für Geschäftskunden - Anleitung.mp3\n"
     ]
    },
    {
     "name": "stderr",
     "output_type": "stream",
     "text": [
      "/Users/taha/Desktop/rag/venv/lib/python3.12/site-packages/whisper/transcribe.py:115: UserWarning: FP16 is not supported on CPU; using FP32 instead\n",
      "  warnings.warn(\"FP16 is not supported on CPU; using FP32 instead\")\n"
     ]
    },
    {
     "name": "stdout",
     "output_type": "stream",
     "text": [
      "Transcription saved for: Telekom： Digitalisierungsbox Smart & Premium - Einführung.mp3\n"
     ]
    },
    {
     "name": "stderr",
     "output_type": "stream",
     "text": [
      "/Users/taha/Desktop/rag/venv/lib/python3.12/site-packages/whisper/transcribe.py:115: UserWarning: FP16 is not supported on CPU; using FP32 instead\n",
      "  warnings.warn(\"FP16 is not supported on CPU; using FP32 instead\")\n"
     ]
    },
    {
     "name": "stdout",
     "output_type": "stream",
     "text": [
      "Transcription saved for: Telekom： DSL-Anschluss schnell und einfach einrichten.mp3\n"
     ]
    },
    {
     "name": "stderr",
     "output_type": "stream",
     "text": [
      "/Users/taha/Desktop/rag/venv/lib/python3.12/site-packages/whisper/transcribe.py:115: UserWarning: FP16 is not supported on CPU; using FP32 instead\n",
      "  warnings.warn(\"FP16 is not supported on CPU; using FP32 instead\")\n"
     ]
    },
    {
     "name": "stdout",
     "output_type": "stream",
     "text": [
      "Transcription saved for: Enkel-Tipps： Wichtige Smartphone-Symbole verständlich erklärt.mp3\n"
     ]
    },
    {
     "name": "stderr",
     "output_type": "stream",
     "text": [
      "/Users/taha/Desktop/rag/venv/lib/python3.12/site-packages/whisper/transcribe.py:115: UserWarning: FP16 is not supported on CPU; using FP32 instead\n",
      "  warnings.warn(\"FP16 is not supported on CPU; using FP32 instead\")\n"
     ]
    },
    {
     "name": "stdout",
     "output_type": "stream",
     "text": [
      "Transcription saved for: Ein Tag mit dem Servicetechniker - Einblicke in den Außendienst.mp3\n"
     ]
    },
    {
     "name": "stderr",
     "output_type": "stream",
     "text": [
      "/Users/taha/Desktop/rag/venv/lib/python3.12/site-packages/whisper/transcribe.py:115: UserWarning: FP16 is not supported on CPU; using FP32 instead\n",
      "  warnings.warn(\"FP16 is not supported on CPU; using FP32 instead\")\n"
     ]
    },
    {
     "name": "stdout",
     "output_type": "stream",
     "text": [
      "Transcription saved for: Digitalisierungsbox Premium – Einrichtung und Funktionen.mp3\n"
     ]
    },
    {
     "name": "stderr",
     "output_type": "stream",
     "text": [
      "/Users/taha/Desktop/rag/venv/lib/python3.12/site-packages/whisper/transcribe.py:115: UserWarning: FP16 is not supported on CPU; using FP32 instead\n",
      "  warnings.warn(\"FP16 is not supported on CPU; using FP32 instead\")\n"
     ]
    },
    {
     "name": "stdout",
     "output_type": "stream",
     "text": [
      "Transcription saved for: Leitung blockiert？! Die Telekom eilt zur Hilfe #shorts #telekom #magenta #leitung #internet #hilfe.mp3\n"
     ]
    },
    {
     "name": "stderr",
     "output_type": "stream",
     "text": [
      "/Users/taha/Desktop/rag/venv/lib/python3.12/site-packages/whisper/transcribe.py:115: UserWarning: FP16 is not supported on CPU; using FP32 instead\n",
      "  warnings.warn(\"FP16 is not supported on CPU; using FP32 instead\")\n"
     ]
    },
    {
     "name": "stdout",
     "output_type": "stream",
     "text": [
      "Transcription saved for: So kündigst du dein Mietgerät einfach und schnell!.mp3\n"
     ]
    },
    {
     "name": "stderr",
     "output_type": "stream",
     "text": [
      "/Users/taha/Desktop/rag/venv/lib/python3.12/site-packages/whisper/transcribe.py:115: UserWarning: FP16 is not supported on CPU; using FP32 instead\n",
      "  warnings.warn(\"FP16 is not supported on CPU; using FP32 instead\")\n"
     ]
    },
    {
     "name": "stdout",
     "output_type": "stream",
     "text": [
      "Transcription saved for: Einfach und schnell： Wechsel ins beste Netz mit der Telekom.mp3\n"
     ]
    },
    {
     "name": "stderr",
     "output_type": "stream",
     "text": [
      "/Users/taha/Desktop/rag/venv/lib/python3.12/site-packages/whisper/transcribe.py:115: UserWarning: FP16 is not supported on CPU; using FP32 instead\n",
      "  warnings.warn(\"FP16 is not supported on CPU; using FP32 instead\")\n"
     ]
    },
    {
     "name": "stdout",
     "output_type": "stream",
     "text": [
      "Transcription saved for: Frag Magenta - Kennst Du es bereits？ #shorts #telekom #magenta #fragmagenta #tech #service #help.mp3\n"
     ]
    },
    {
     "name": "stderr",
     "output_type": "stream",
     "text": [
      "/Users/taha/Desktop/rag/venv/lib/python3.12/site-packages/whisper/transcribe.py:115: UserWarning: FP16 is not supported on CPU; using FP32 instead\n",
      "  warnings.warn(\"FP16 is not supported on CPU; using FP32 instead\")\n"
     ]
    },
    {
     "name": "stdout",
     "output_type": "stream",
     "text": [
      "Transcription saved for: Telekom： Meine Mobilfunk-Rechnung - Die erste Rechnung nach einem Tarifwechsel.mp3\n"
     ]
    },
    {
     "name": "stderr",
     "output_type": "stream",
     "text": [
      "/Users/taha/Desktop/rag/venv/lib/python3.12/site-packages/whisper/transcribe.py:115: UserWarning: FP16 is not supported on CPU; using FP32 instead\n",
      "  warnings.warn(\"FP16 is not supported on CPU; using FP32 instead\")\n"
     ]
    },
    {
     "name": "stdout",
     "output_type": "stream",
     "text": [
      "Transcription saved for: Festnetz und Handy aus einer Hand - Kennst Du...unsere MeinMagenta App？ I Telekom.mp3\n"
     ]
    },
    {
     "name": "stderr",
     "output_type": "stream",
     "text": [
      "/Users/taha/Desktop/rag/venv/lib/python3.12/site-packages/whisper/transcribe.py:115: UserWarning: FP16 is not supported on CPU; using FP32 instead\n",
      "  warnings.warn(\"FP16 is not supported on CPU; using FP32 instead\")\n"
     ]
    },
    {
     "name": "stdout",
     "output_type": "stream",
     "text": [
      "Transcription saved for: SimpleShow zum Leistungsmerkmal „Proaktives Faultmanagement“.mp3\n"
     ]
    },
    {
     "name": "stderr",
     "output_type": "stream",
     "text": [
      "/Users/taha/Desktop/rag/venv/lib/python3.12/site-packages/whisper/transcribe.py:115: UserWarning: FP16 is not supported on CPU; using FP32 instead\n",
      "  warnings.warn(\"FP16 is not supported on CPU; using FP32 instead\")\n"
     ]
    },
    {
     "name": "stdout",
     "output_type": "stream",
     "text": [
      "Transcription saved for: Kabel durchschnitten？ So läuft das Internet wieder! #shorts #telekom #magenta #hilfe #internet.mp3\n"
     ]
    },
    {
     "name": "stderr",
     "output_type": "stream",
     "text": [
      "/Users/taha/Desktop/rag/venv/lib/python3.12/site-packages/whisper/transcribe.py:115: UserWarning: FP16 is not supported on CPU; using FP32 instead\n",
      "  warnings.warn(\"FP16 is not supported on CPU; using FP32 instead\")\n"
     ]
    },
    {
     "name": "stdout",
     "output_type": "stream",
     "text": [
      "Transcription saved for: Kann ich dein WLAN-Passwort haben？ - Gastwlan!.mp3\n"
     ]
    },
    {
     "name": "stderr",
     "output_type": "stream",
     "text": [
      "/Users/taha/Desktop/rag/venv/lib/python3.12/site-packages/whisper/transcribe.py:115: UserWarning: FP16 is not supported on CPU; using FP32 instead\n",
      "  warnings.warn(\"FP16 is not supported on CPU; using FP32 instead\")\n"
     ]
    },
    {
     "name": "stdout",
     "output_type": "stream",
     "text": [
      "Transcription saved for: Telekom： Digitalisierungsbox Smart 2 - Ersteinrichtung DECT150.mp3\n"
     ]
    },
    {
     "name": "stderr",
     "output_type": "stream",
     "text": [
      "/Users/taha/Desktop/rag/venv/lib/python3.12/site-packages/whisper/transcribe.py:115: UserWarning: FP16 is not supported on CPU; using FP32 instead\n",
      "  warnings.warn(\"FP16 is not supported on CPU; using FP32 instead\")\n"
     ]
    },
    {
     "name": "stdout",
     "output_type": "stream",
     "text": [
      "Transcription saved for: Telekom： Digitalisierungsbox Smart - Einrichtung eines SIP-Trunks im Media Gateway Modus.mp3\n"
     ]
    },
    {
     "name": "stderr",
     "output_type": "stream",
     "text": [
      "/Users/taha/Desktop/rag/venv/lib/python3.12/site-packages/whisper/transcribe.py:115: UserWarning: FP16 is not supported on CPU; using FP32 instead\n",
      "  warnings.warn(\"FP16 is not supported on CPU; using FP32 instead\")\n"
     ]
    },
    {
     "name": "stdout",
     "output_type": "stream",
     "text": [
      "Transcription saved for: Was ist das Telefoniecenter？ #shorts#telekom#telekomhilft.mp3\n"
     ]
    },
    {
     "name": "stderr",
     "output_type": "stream",
     "text": [
      "/Users/taha/Desktop/rag/venv/lib/python3.12/site-packages/whisper/transcribe.py:115: UserWarning: FP16 is not supported on CPU; using FP32 instead\n",
      "  warnings.warn(\"FP16 is not supported on CPU; using FP32 instead\")\n"
     ]
    },
    {
     "name": "stdout",
     "output_type": "stream",
     "text": [
      "Transcription saved for: Enkel-Tipp： Android Smartphone mit WLAN verbinden.mp3\n"
     ]
    },
    {
     "name": "stderr",
     "output_type": "stream",
     "text": [
      "/Users/taha/Desktop/rag/venv/lib/python3.12/site-packages/whisper/transcribe.py:115: UserWarning: FP16 is not supported on CPU; using FP32 instead\n",
      "  warnings.warn(\"FP16 is not supported on CPU; using FP32 instead\")\n"
     ]
    },
    {
     "name": "stdout",
     "output_type": "stream",
     "text": [
      "Transcription saved for: Das optimale WLAN-Netz für MagentaTV I Telekom.mp3\n"
     ]
    },
    {
     "name": "stderr",
     "output_type": "stream",
     "text": [
      "/Users/taha/Desktop/rag/venv/lib/python3.12/site-packages/whisper/transcribe.py:115: UserWarning: FP16 is not supported on CPU; using FP32 instead\n",
      "  warnings.warn(\"FP16 is not supported on CPU; using FP32 instead\")\n"
     ]
    },
    {
     "name": "stdout",
     "output_type": "stream",
     "text": [
      "Transcription saved for: Telekom： DSL-Anschluss einrichten - So geht‘s kinderleicht! #shorts                   👍🎞️🎥👍.mp3\n"
     ]
    },
    {
     "name": "stderr",
     "output_type": "stream",
     "text": [
      "/Users/taha/Desktop/rag/venv/lib/python3.12/site-packages/whisper/transcribe.py:115: UserWarning: FP16 is not supported on CPU; using FP32 instead\n",
      "  warnings.warn(\"FP16 is not supported on CPU; using FP32 instead\")\n"
     ]
    },
    {
     "name": "stdout",
     "output_type": "stream",
     "text": [
      "Transcription saved for: WLAN-Name ändern - Fritzbox und Speedport! #telekom #magenta #wlan #tech #fyp #support #help #change.mp3\n"
     ]
    },
    {
     "name": "stderr",
     "output_type": "stream",
     "text": [
      "/Users/taha/Desktop/rag/venv/lib/python3.12/site-packages/whisper/transcribe.py:115: UserWarning: FP16 is not supported on CPU; using FP32 instead\n",
      "  warnings.warn(\"FP16 is not supported on CPU; using FP32 instead\")\n"
     ]
    },
    {
     "name": "stdout",
     "output_type": "stream",
     "text": [
      "Transcription saved for: Enkel-Tipps： Apps korrekt schließen beim iPhone.mp3\n"
     ]
    },
    {
     "name": "stderr",
     "output_type": "stream",
     "text": [
      "/Users/taha/Desktop/rag/venv/lib/python3.12/site-packages/whisper/transcribe.py:115: UserWarning: FP16 is not supported on CPU; using FP32 instead\n",
      "  warnings.warn(\"FP16 is not supported on CPU; using FP32 instead\")\n"
     ]
    },
    {
     "name": "stdout",
     "output_type": "stream",
     "text": [
      "Transcription saved for: So geht der WLAN Call： Mit dem Smartphone über WLAN telefonieren ｜ Telekom.mp3\n"
     ]
    },
    {
     "name": "stderr",
     "output_type": "stream",
     "text": [
      "/Users/taha/Desktop/rag/venv/lib/python3.12/site-packages/whisper/transcribe.py:115: UserWarning: FP16 is not supported on CPU; using FP32 instead\n",
      "  warnings.warn(\"FP16 is not supported on CPU; using FP32 instead\")\n"
     ]
    },
    {
     "name": "stdout",
     "output_type": "stream",
     "text": [
      "Transcription saved for: Anrufweiterleitung mit der Digitalisierungsbox Smart & Premium einrichten – Schritt-für-Schritt.mp3\n"
     ]
    },
    {
     "name": "stderr",
     "output_type": "stream",
     "text": [
      "/Users/taha/Desktop/rag/venv/lib/python3.12/site-packages/whisper/transcribe.py:115: UserWarning: FP16 is not supported on CPU; using FP32 instead\n",
      "  warnings.warn(\"FP16 is not supported on CPU; using FP32 instead\")\n"
     ]
    },
    {
     "name": "stdout",
     "output_type": "stream",
     "text": [
      "Transcription saved for: Kennst Du...unseren proaktiven Heimnetzservice？ I Telekom.mp3\n"
     ]
    },
    {
     "name": "stderr",
     "output_type": "stream",
     "text": [
      "/Users/taha/Desktop/rag/venv/lib/python3.12/site-packages/whisper/transcribe.py:115: UserWarning: FP16 is not supported on CPU; using FP32 instead\n",
      "  warnings.warn(\"FP16 is not supported on CPU; using FP32 instead\")\n"
     ]
    },
    {
     "name": "stdout",
     "output_type": "stream",
     "text": [
      "Transcription saved for: Telekom： Die beste Verbindung für MagentaTV I Making of #shorts  #magentatv.mp3\n"
     ]
    },
    {
     "name": "stderr",
     "output_type": "stream",
     "text": [
      "/Users/taha/Desktop/rag/venv/lib/python3.12/site-packages/whisper/transcribe.py:115: UserWarning: FP16 is not supported on CPU; using FP32 instead\n",
      "  warnings.warn(\"FP16 is not supported on CPU; using FP32 instead\")\n"
     ]
    },
    {
     "name": "stdout",
     "output_type": "stream",
     "text": [
      "Transcription saved for: Telekom： Microsoft Teams Telefonie in CompanyFlex einrichten.mp3\n"
     ]
    },
    {
     "name": "stderr",
     "output_type": "stream",
     "text": [
      "/Users/taha/Desktop/rag/venv/lib/python3.12/site-packages/whisper/transcribe.py:115: UserWarning: FP16 is not supported on CPU; using FP32 instead\n",
      "  warnings.warn(\"FP16 is not supported on CPU; using FP32 instead\")\n"
     ]
    },
    {
     "name": "stdout",
     "output_type": "stream",
     "text": [
      "Transcription saved for: Digitalisierungbox Premium - Einrichten einer DECT150 Basisstation.mp3\n"
     ]
    },
    {
     "name": "stderr",
     "output_type": "stream",
     "text": [
      "/Users/taha/Desktop/rag/venv/lib/python3.12/site-packages/whisper/transcribe.py:115: UserWarning: FP16 is not supported on CPU; using FP32 instead\n",
      "  warnings.warn(\"FP16 is not supported on CPU; using FP32 instead\")\n"
     ]
    },
    {
     "name": "stdout",
     "output_type": "stream",
     "text": [
      "Transcription saved for: CompanyFlex SIP-Trunk - Ersteinrichtung.mp3\n"
     ]
    },
    {
     "name": "stderr",
     "output_type": "stream",
     "text": [
      "/Users/taha/Desktop/rag/venv/lib/python3.12/site-packages/whisper/transcribe.py:115: UserWarning: FP16 is not supported on CPU; using FP32 instead\n",
      "  warnings.warn(\"FP16 is not supported on CPU; using FP32 instead\")\n"
     ]
    },
    {
     "name": "stdout",
     "output_type": "stream",
     "text": [
      "Transcription saved for: Kuriose Kundennachrichten … #shorts #telekom #magenta #comedy #jokes #funny #fyp #like #follow.mp3\n"
     ]
    },
    {
     "name": "stderr",
     "output_type": "stream",
     "text": [
      "/Users/taha/Desktop/rag/venv/lib/python3.12/site-packages/whisper/transcribe.py:115: UserWarning: FP16 is not supported on CPU; using FP32 instead\n",
      "  warnings.warn(\"FP16 is not supported on CPU; using FP32 instead\")\n"
     ]
    },
    {
     "name": "stdout",
     "output_type": "stream",
     "text": [
      "Transcription saved for: So erkennt ihr von der Telekom autorisierte Verkäufer＊innen.mp3\n"
     ]
    },
    {
     "name": "stderr",
     "output_type": "stream",
     "text": [
      "/Users/taha/Desktop/rag/venv/lib/python3.12/site-packages/whisper/transcribe.py:115: UserWarning: FP16 is not supported on CPU; using FP32 instead\n",
      "  warnings.warn(\"FP16 is not supported on CPU; using FP32 instead\")\n"
     ]
    },
    {
     "name": "stdout",
     "output_type": "stream",
     "text": [
      "Transcription saved for: Digitalisierungsbox Premium 2 - Einrichtung IP-Systemtelefon.mp3\n"
     ]
    },
    {
     "name": "stderr",
     "output_type": "stream",
     "text": [
      "/Users/taha/Desktop/rag/venv/lib/python3.12/site-packages/whisper/transcribe.py:115: UserWarning: FP16 is not supported on CPU; using FP32 instead\n",
      "  warnings.warn(\"FP16 is not supported on CPU; using FP32 instead\")\n"
     ]
    },
    {
     "name": "stdout",
     "output_type": "stream",
     "text": [
      "Transcription saved for: Magenta Thermostat： Dein smarter Heizungshelfer!#shorts #telekom #magenta #hilfe #thermostat #heizen.mp3\n"
     ]
    },
    {
     "name": "stderr",
     "output_type": "stream",
     "text": [
      "/Users/taha/Desktop/rag/venv/lib/python3.12/site-packages/whisper/transcribe.py:115: UserWarning: FP16 is not supported on CPU; using FP32 instead\n",
      "  warnings.warn(\"FP16 is not supported on CPU; using FP32 instead\")\n"
     ]
    },
    {
     "name": "stdout",
     "output_type": "stream",
     "text": [
      "Transcription saved for: MagentaTV： Schneller auswählen und steuern mit Sprachsteuerung.mp3\n"
     ]
    },
    {
     "name": "stderr",
     "output_type": "stream",
     "text": [
      "/Users/taha/Desktop/rag/venv/lib/python3.12/site-packages/whisper/transcribe.py:115: UserWarning: FP16 is not supported on CPU; using FP32 instead\n",
      "  warnings.warn(\"FP16 is not supported on CPU; using FP32 instead\")\n"
     ]
    },
    {
     "name": "stdout",
     "output_type": "stream",
     "text": [
      "Transcription saved for: Telekom： Hybrid 5G⧸LTE der Turbo für dein Internet (1⧸3).mp3\n"
     ]
    },
    {
     "name": "stderr",
     "output_type": "stream",
     "text": [
      "/Users/taha/Desktop/rag/venv/lib/python3.12/site-packages/whisper/transcribe.py:115: UserWarning: FP16 is not supported on CPU; using FP32 instead\n",
      "  warnings.warn(\"FP16 is not supported on CPU; using FP32 instead\")\n"
     ]
    },
    {
     "name": "stdout",
     "output_type": "stream",
     "text": [
      "Transcription saved for: Die optimalen Einstellungen am Smart-TV für MagentaTV.mp3\n"
     ]
    },
    {
     "name": "stderr",
     "output_type": "stream",
     "text": [
      "/Users/taha/Desktop/rag/venv/lib/python3.12/site-packages/whisper/transcribe.py:115: UserWarning: FP16 is not supported on CPU; using FP32 instead\n",
      "  warnings.warn(\"FP16 is not supported on CPU; using FP32 instead\")\n"
     ]
    },
    {
     "name": "stdout",
     "output_type": "stream",
     "text": [
      "Transcription saved for: Erste Hilfe bei Internetstörungen #telekom #magenta #wlan #problem #help #fyp #tech #support #like.mp3\n"
     ]
    },
    {
     "name": "stderr",
     "output_type": "stream",
     "text": [
      "/Users/taha/Desktop/rag/venv/lib/python3.12/site-packages/whisper/transcribe.py:115: UserWarning: FP16 is not supported on CPU; using FP32 instead\n",
      "  warnings.warn(\"FP16 is not supported on CPU; using FP32 instead\")\n"
     ]
    },
    {
     "name": "stdout",
     "output_type": "stream",
     "text": [
      "Transcription saved for: Telekom： Wegfall Nebenkostenprivileg - MagentaTV statt Kabel-TV I Making of #shorts.mp3\n"
     ]
    },
    {
     "name": "stderr",
     "output_type": "stream",
     "text": [
      "/Users/taha/Desktop/rag/venv/lib/python3.12/site-packages/whisper/transcribe.py:115: UserWarning: FP16 is not supported on CPU; using FP32 instead\n",
      "  warnings.warn(\"FP16 is not supported on CPU; using FP32 instead\")\n"
     ]
    },
    {
     "name": "stdout",
     "output_type": "stream",
     "text": [
      "Transcription saved for: So geht WLAN mit Telekom Speedport： Funktionen und Einstellungen im Überblick.mp3\n"
     ]
    },
    {
     "name": "stderr",
     "output_type": "stream",
     "text": [
      "/Users/taha/Desktop/rag/venv/lib/python3.12/site-packages/whisper/transcribe.py:115: UserWarning: FP16 is not supported on CPU; using FP32 instead\n",
      "  warnings.warn(\"FP16 is not supported on CPU; using FP32 instead\")\n"
     ]
    },
    {
     "name": "stdout",
     "output_type": "stream",
     "text": [
      "Transcription saved for: Enkel-Tipp： Schriftgröße anpassen iPhone.mp3\n"
     ]
    },
    {
     "name": "stderr",
     "output_type": "stream",
     "text": [
      "/Users/taha/Desktop/rag/venv/lib/python3.12/site-packages/whisper/transcribe.py:115: UserWarning: FP16 is not supported on CPU; using FP32 instead\n",
      "  warnings.warn(\"FP16 is not supported on CPU; using FP32 instead\")\n"
     ]
    },
    {
     "name": "stdout",
     "output_type": "stream",
     "text": [
      "Transcription saved for: Telekom hilft News： Dein Wechsel zu MagentaTV - einfach erklärt.mp3\n"
     ]
    },
    {
     "name": "stderr",
     "output_type": "stream",
     "text": [
      "/Users/taha/Desktop/rag/venv/lib/python3.12/site-packages/whisper/transcribe.py:115: UserWarning: FP16 is not supported on CPU; using FP32 instead\n",
      "  warnings.warn(\"FP16 is not supported on CPU; using FP32 instead\")\n"
     ]
    },
    {
     "name": "stdout",
     "output_type": "stream",
     "text": [
      "Transcription saved for: Telekom： Digitalisierungsbox Smart & Premium -  VPN Site-to-Site zwischen zwei Digitalisierungsboxen.mp3\n"
     ]
    },
    {
     "name": "stderr",
     "output_type": "stream",
     "text": [
      "/Users/taha/Desktop/rag/venv/lib/python3.12/site-packages/whisper/transcribe.py:115: UserWarning: FP16 is not supported on CPU; using FP32 instead\n",
      "  warnings.warn(\"FP16 is not supported on CPU; using FP32 instead\")\n"
     ]
    },
    {
     "name": "stdout",
     "output_type": "stream",
     "text": [
      "Transcription saved for: Online-Ident - Verträge von Zuhause mit der NECT-App bestätigen #shorts #telekom #telekomhilft.mp3\n"
     ]
    },
    {
     "name": "stderr",
     "output_type": "stream",
     "text": [
      "/Users/taha/Desktop/rag/venv/lib/python3.12/site-packages/whisper/transcribe.py:115: UserWarning: FP16 is not supported on CPU; using FP32 instead\n",
      "  warnings.warn(\"FP16 is not supported on CPU; using FP32 instead\")\n"
     ]
    },
    {
     "name": "stdout",
     "output_type": "stream",
     "text": [
      "Transcription saved for: Störung bei der Telekom melden – So einfach geht's!.mp3\n"
     ]
    },
    {
     "name": "stderr",
     "output_type": "stream",
     "text": [
      "/Users/taha/Desktop/rag/venv/lib/python3.12/site-packages/whisper/transcribe.py:115: UserWarning: FP16 is not supported on CPU; using FP32 instead\n",
      "  warnings.warn(\"FP16 is not supported on CPU; using FP32 instead\")\n"
     ]
    },
    {
     "name": "stdout",
     "output_type": "stream",
     "text": [
      "Transcription saved for: Telekom： Digibox Smart 2 + Premium 2 – Client-to-Site mit dem bintec Secure IPSec Client.mp3\n"
     ]
    },
    {
     "name": "stderr",
     "output_type": "stream",
     "text": [
      "/Users/taha/Desktop/rag/venv/lib/python3.12/site-packages/whisper/transcribe.py:115: UserWarning: FP16 is not supported on CPU; using FP32 instead\n",
      "  warnings.warn(\"FP16 is not supported on CPU; using FP32 instead\")\n"
     ]
    },
    {
     "name": "stdout",
     "output_type": "stream",
     "text": [
      "Transcription saved for: Digitalisierungsbox Smart & Premium - End-to-Site VPN mit einem Android Mobile Device einrichten.mp3\n"
     ]
    },
    {
     "name": "stderr",
     "output_type": "stream",
     "text": [
      "/Users/taha/Desktop/rag/venv/lib/python3.12/site-packages/whisper/transcribe.py:115: UserWarning: FP16 is not supported on CPU; using FP32 instead\n",
      "  warnings.warn(\"FP16 is not supported on CPU; using FP32 instead\")\n"
     ]
    },
    {
     "name": "stdout",
     "output_type": "stream",
     "text": [
      "Transcription saved for: Hast Du schon die Mein Magenta App？.mp3\n"
     ]
    },
    {
     "name": "stderr",
     "output_type": "stream",
     "text": [
      "/Users/taha/Desktop/rag/venv/lib/python3.12/site-packages/whisper/transcribe.py:115: UserWarning: FP16 is not supported on CPU; using FP32 instead\n",
      "  warnings.warn(\"FP16 is not supported on CPU; using FP32 instead\")\n"
     ]
    },
    {
     "name": "stdout",
     "output_type": "stream",
     "text": [
      "Transcription saved for: Kennst du schon das Kundencenter？ Tipps und Funktionen einfach erklärt.mp3\n"
     ]
    },
    {
     "name": "stderr",
     "output_type": "stream",
     "text": [
      "/Users/taha/Desktop/rag/venv/lib/python3.12/site-packages/whisper/transcribe.py:115: UserWarning: FP16 is not supported on CPU; using FP32 instead\n",
      "  warnings.warn(\"FP16 is not supported on CPU; using FP32 instead\")\n"
     ]
    },
    {
     "name": "stdout",
     "output_type": "stream",
     "text": [
      "Transcription saved for: Beste WLAN-Verbindung bei dir Zuhause! #telekom #wlan #netzwerk  #magenta #trending #help #tips #fyp.mp3\n"
     ]
    },
    {
     "name": "stderr",
     "output_type": "stream",
     "text": [
      "/Users/taha/Desktop/rag/venv/lib/python3.12/site-packages/whisper/transcribe.py:115: UserWarning: FP16 is not supported on CPU; using FP32 instead\n",
      "  warnings.warn(\"FP16 is not supported on CPU; using FP32 instead\")\n"
     ]
    },
    {
     "name": "stdout",
     "output_type": "stream",
     "text": [
      "Transcription saved for: Digitalisierungsbox Smart & Premium - Session Border Controller mit Unify OSBiz.mp3\n"
     ]
    },
    {
     "name": "stderr",
     "output_type": "stream",
     "text": [
      "/Users/taha/Desktop/rag/venv/lib/python3.12/site-packages/whisper/transcribe.py:115: UserWarning: FP16 is not supported on CPU; using FP32 instead\n",
      "  warnings.warn(\"FP16 is not supported on CPU; using FP32 instead\")\n"
     ]
    },
    {
     "name": "stdout",
     "output_type": "stream",
     "text": [
      "Transcription saved for: Videokonferenzen mit Zoom durchführen – Schritt-für-Schritt Anleitung I Telekom Senioren-Akademie.mp3\n"
     ]
    },
    {
     "name": "stderr",
     "output_type": "stream",
     "text": [
      "/Users/taha/Desktop/rag/venv/lib/python3.12/site-packages/whisper/transcribe.py:115: UserWarning: FP16 is not supported on CPU; using FP32 instead\n",
      "  warnings.warn(\"FP16 is not supported on CPU; using FP32 instead\")\n"
     ]
    },
    {
     "name": "stdout",
     "output_type": "stream",
     "text": [
      "Transcription saved for: Suchmaschinenoptimierung für Ihre Webseite–Besser gefunden werden mit Homepage-Baukasten der Telekom.mp3\n"
     ]
    },
    {
     "name": "stderr",
     "output_type": "stream",
     "text": [
      "/Users/taha/Desktop/rag/venv/lib/python3.12/site-packages/whisper/transcribe.py:115: UserWarning: FP16 is not supported on CPU; using FP32 instead\n",
      "  warnings.warn(\"FP16 is not supported on CPU; using FP32 instead\")\n"
     ]
    },
    {
     "name": "stdout",
     "output_type": "stream",
     "text": [
      "Transcription saved for: Telekom hilft News： Installation der MagentaTV App an eurem Smart TV.mp3\n"
     ]
    },
    {
     "name": "stderr",
     "output_type": "stream",
     "text": [
      "/Users/taha/Desktop/rag/venv/lib/python3.12/site-packages/whisper/transcribe.py:115: UserWarning: FP16 is not supported on CPU; using FP32 instead\n",
      "  warnings.warn(\"FP16 is not supported on CPU; using FP32 instead\")\n"
     ]
    },
    {
     "name": "stdout",
     "output_type": "stream",
     "text": [
      "Transcription saved for: Bezahlen per Handyrechnung – so funktioniert´s Schritt für Schritt bei Android-Geräten I Telekom.mp3\n"
     ]
    },
    {
     "name": "stderr",
     "output_type": "stream",
     "text": [
      "/Users/taha/Desktop/rag/venv/lib/python3.12/site-packages/whisper/transcribe.py:115: UserWarning: FP16 is not supported on CPU; using FP32 instead\n",
      "  warnings.warn(\"FP16 is not supported on CPU; using FP32 instead\")\n"
     ]
    },
    {
     "name": "stdout",
     "output_type": "stream",
     "text": [
      "Transcription saved for: Digitale Organisation mit iOS-Geräten – Adressbuch, Kalender und Co. I Telekom Senioren-Akademie.mp3\n"
     ]
    },
    {
     "name": "stderr",
     "output_type": "stream",
     "text": [
      "/Users/taha/Desktop/rag/venv/lib/python3.12/site-packages/whisper/transcribe.py:115: UserWarning: FP16 is not supported on CPU; using FP32 instead\n",
      "  warnings.warn(\"FP16 is not supported on CPU; using FP32 instead\")\n"
     ]
    },
    {
     "name": "stdout",
     "output_type": "stream",
     "text": [
      "Transcription saved for: MeinMagenta App： Halte dein Datenvolumen im Blick! #shorts #magenta #telekom #diy #fyp #technology.mp3\n"
     ]
    },
    {
     "name": "stderr",
     "output_type": "stream",
     "text": [
      "/Users/taha/Desktop/rag/venv/lib/python3.12/site-packages/whisper/transcribe.py:115: UserWarning: FP16 is not supported on CPU; using FP32 instead\n",
      "  warnings.warn(\"FP16 is not supported on CPU; using FP32 instead\")\n"
     ]
    },
    {
     "name": "stdout",
     "output_type": "stream",
     "text": [
      "Transcription saved for: Enkel-Tipps： So finden Sie den nächstgelegenen Telekom Shop.mp3\n"
     ]
    },
    {
     "name": "stderr",
     "output_type": "stream",
     "text": [
      "/Users/taha/Desktop/rag/venv/lib/python3.12/site-packages/whisper/transcribe.py:115: UserWarning: FP16 is not supported on CPU; using FP32 instead\n",
      "  warnings.warn(\"FP16 is not supported on CPU; using FP32 instead\")\n"
     ]
    },
    {
     "name": "stdout",
     "output_type": "stream",
     "text": [
      "Transcription saved for: Angriffe aus dem Netz - Schutz vor'm Phishing! #shorts #telekom #magenta #security #fußball #5g.mp3\n"
     ]
    },
    {
     "name": "stderr",
     "output_type": "stream",
     "text": [
      "/Users/taha/Desktop/rag/venv/lib/python3.12/site-packages/whisper/transcribe.py:115: UserWarning: FP16 is not supported on CPU; using FP32 instead\n",
      "  warnings.warn(\"FP16 is not supported on CPU; using FP32 instead\")\n"
     ]
    },
    {
     "name": "stdout",
     "output_type": "stream",
     "text": [
      "Transcription saved for: PIN oder PUK vergessen？! Keine Panik - Wir helfen Dir! #shorts #telekom #hilfe #magenta #pin #puk.mp3\n"
     ]
    },
    {
     "name": "stderr",
     "output_type": "stream",
     "text": [
      "/Users/taha/Desktop/rag/venv/lib/python3.12/site-packages/whisper/transcribe.py:115: UserWarning: FP16 is not supported on CPU; using FP32 instead\n",
      "  warnings.warn(\"FP16 is not supported on CPU; using FP32 instead\")\n"
     ]
    },
    {
     "name": "stdout",
     "output_type": "stream",
     "text": [
      "Transcription saved for: Störung？ Diagnose selbst durchführen - kinderleicht..mp3\n"
     ]
    },
    {
     "name": "stderr",
     "output_type": "stream",
     "text": [
      "/Users/taha/Desktop/rag/venv/lib/python3.12/site-packages/whisper/transcribe.py:115: UserWarning: FP16 is not supported on CPU; using FP32 instead\n",
      "  warnings.warn(\"FP16 is not supported on CPU; using FP32 instead\")\n"
     ]
    },
    {
     "name": "stdout",
     "output_type": "stream",
     "text": [
      "Transcription saved for: Telekom： Digitalisierungsbox Smart 2 & Premium 2 - Einrichtung Gäste-WLAN.mp3\n"
     ]
    },
    {
     "name": "stderr",
     "output_type": "stream",
     "text": [
      "/Users/taha/Desktop/rag/venv/lib/python3.12/site-packages/whisper/transcribe.py:115: UserWarning: FP16 is not supported on CPU; using FP32 instead\n",
      "  warnings.warn(\"FP16 is not supported on CPU; using FP32 instead\")\n"
     ]
    },
    {
     "name": "stdout",
     "output_type": "stream",
     "text": [
      "Transcription saved for: MagentaTV Sprachsteuerung： So nutzt du die Sprachbefehle effektiv.mp3\n"
     ]
    },
    {
     "name": "stderr",
     "output_type": "stream",
     "text": [
      "/Users/taha/Desktop/rag/venv/lib/python3.12/site-packages/whisper/transcribe.py:115: UserWarning: FP16 is not supported on CPU; using FP32 instead\n",
      "  warnings.warn(\"FP16 is not supported on CPU; using FP32 instead\")\n"
     ]
    },
    {
     "name": "stdout",
     "output_type": "stream",
     "text": [
      "Transcription saved for: Magenta TV Sprachsteuerung - So einfach geht's.mp3\n"
     ]
    },
    {
     "name": "stderr",
     "output_type": "stream",
     "text": [
      "/Users/taha/Desktop/rag/venv/lib/python3.12/site-packages/whisper/transcribe.py:115: UserWarning: FP16 is not supported on CPU; using FP32 instead\n",
      "  warnings.warn(\"FP16 is not supported on CPU; using FP32 instead\")\n"
     ]
    },
    {
     "name": "stdout",
     "output_type": "stream",
     "text": [
      "Transcription saved for: SimpleShow： Mitwirkungspflichten bei der Bereitstellung von Übertragungswegen.mp3\n"
     ]
    },
    {
     "name": "stderr",
     "output_type": "stream",
     "text": [
      "/Users/taha/Desktop/rag/venv/lib/python3.12/site-packages/whisper/transcribe.py:115: UserWarning: FP16 is not supported on CPU; using FP32 instead\n",
      "  warnings.warn(\"FP16 is not supported on CPU; using FP32 instead\")\n"
     ]
    },
    {
     "name": "stdout",
     "output_type": "stream",
     "text": [
      "Transcription saved for: Telekom： Digitalisierungsbox Smart -  Einrichtung eines DECT150.mp3\n"
     ]
    },
    {
     "name": "stderr",
     "output_type": "stream",
     "text": [
      "/Users/taha/Desktop/rag/venv/lib/python3.12/site-packages/whisper/transcribe.py:115: UserWarning: FP16 is not supported on CPU; using FP32 instead\n",
      "  warnings.warn(\"FP16 is not supported on CPU; using FP32 instead\")\n"
     ]
    },
    {
     "name": "stdout",
     "output_type": "stream",
     "text": [
      "Transcription saved for: Rundumservice für Router, WLAN, Internet und Magenta TV – Kennst Du…die Persönliche Installation？.mp3\n"
     ]
    },
    {
     "name": "stderr",
     "output_type": "stream",
     "text": [
      "/Users/taha/Desktop/rag/venv/lib/python3.12/site-packages/whisper/transcribe.py:115: UserWarning: FP16 is not supported on CPU; using FP32 instead\n",
      "  warnings.warn(\"FP16 is not supported on CPU; using FP32 instead\")\n"
     ]
    },
    {
     "name": "stdout",
     "output_type": "stream",
     "text": [
      "Transcription saved for: Enkel-Tipp： Wecker stellen beim iPhone.mp3\n"
     ]
    },
    {
     "name": "stderr",
     "output_type": "stream",
     "text": [
      "/Users/taha/Desktop/rag/venv/lib/python3.12/site-packages/whisper/transcribe.py:115: UserWarning: FP16 is not supported on CPU; using FP32 instead\n",
      "  warnings.warn(\"FP16 is not supported on CPU; using FP32 instead\")\n"
     ]
    },
    {
     "name": "stdout",
     "output_type": "stream",
     "text": [
      "Transcription saved for: Telekom： Digitalisierungsbox Premium 2 - Ersteinrichtung DECT160.mp3\n"
     ]
    },
    {
     "name": "stderr",
     "output_type": "stream",
     "text": [
      "/Users/taha/Desktop/rag/venv/lib/python3.12/site-packages/whisper/transcribe.py:115: UserWarning: FP16 is not supported on CPU; using FP32 instead\n",
      "  warnings.warn(\"FP16 is not supported on CPU; using FP32 instead\")\n"
     ]
    },
    {
     "name": "stdout",
     "output_type": "stream",
     "text": [
      "Transcription saved for: Digitalisierungbox Smart - Media Gateway： Einfache Einrichtung über den Telefonie Assistenten.mp3\n"
     ]
    },
    {
     "name": "stderr",
     "output_type": "stream",
     "text": [
      "/Users/taha/Desktop/rag/venv/lib/python3.12/site-packages/whisper/transcribe.py:115: UserWarning: FP16 is not supported on CPU; using FP32 instead\n",
      "  warnings.warn(\"FP16 is not supported on CPU; using FP32 instead\")\n"
     ]
    },
    {
     "name": "stdout",
     "output_type": "stream",
     "text": [
      "Transcription saved for: Online-Identifikation： So identifizierst du dich einfach online I Telekom.mp3\n"
     ]
    },
    {
     "name": "stderr",
     "output_type": "stream",
     "text": [
      "/Users/taha/Desktop/rag/venv/lib/python3.12/site-packages/whisper/transcribe.py:115: UserWarning: FP16 is not supported on CPU; using FP32 instead\n",
      "  warnings.warn(\"FP16 is not supported on CPU; using FP32 instead\")\n"
     ]
    },
    {
     "name": "stdout",
     "output_type": "stream",
     "text": [
      "Transcription saved for: 6 WLAN-Tipps gegen Störenfriede! #shorts #telekom #magenta #hilfe #wlan #störung #signal.mp3\n"
     ]
    },
    {
     "name": "stderr",
     "output_type": "stream",
     "text": [
      "/Users/taha/Desktop/rag/venv/lib/python3.12/site-packages/whisper/transcribe.py:115: UserWarning: FP16 is not supported on CPU; using FP32 instead\n",
      "  warnings.warn(\"FP16 is not supported on CPU; using FP32 instead\")\n"
     ]
    },
    {
     "name": "stdout",
     "output_type": "stream",
     "text": [
      "Transcription saved for: Digitalisierungsbox Premium - Schnelle Einrichtung eines SIP-Trunks im Media Gateway Modus.mp3\n"
     ]
    },
    {
     "name": "stderr",
     "output_type": "stream",
     "text": [
      "/Users/taha/Desktop/rag/venv/lib/python3.12/site-packages/whisper/transcribe.py:115: UserWarning: FP16 is not supported on CPU; using FP32 instead\n",
      "  warnings.warn(\"FP16 is not supported on CPU; using FP32 instead\")\n"
     ]
    },
    {
     "name": "stdout",
     "output_type": "stream",
     "text": [
      "Transcription saved for: Telekom： MagentaTV statt Kabel-TV - Wegfall Nebenkostenprivileg.mp3\n"
     ]
    }
   ],
   "source": [
    "# transcribe_mp3_files.ipynb\n",
    "\n",
    "import os\n",
    "import whisper\n",
    "from pydub import AudioSegment\n",
    "\n",
    "# Define paths for input and output folders\n",
    "mp3_folder = 'data/mp3_files'  # Folder containing the MP3 files to be processed\n",
    "wav_folder = 'data/wav_files'  # Folder where converted WAV files will be saved\n",
    "transcript_folder = 'data/transcripts'  # Folder where transcriptions will be saved\n",
    "\n",
    "# Create necessary folders if they do not exist\n",
    "os.makedirs(wav_folder, exist_ok=True)  # Create the WAV files folder if it does not exist\n",
    "os.makedirs(transcript_folder, exist_ok=True)  # Create the transcripts folder if it does not exist\n",
    "\n",
    "# Load the Whisper model for transcription\n",
    "model = whisper.load_model(\"base\")\n",
    "\n",
    "# Function to convert MP3 file to WAV format\n",
    "def convert_mp3_to_wav(mp3_path, wav_path):\n",
    "    \"\"\"\n",
    "    Convert an MP3 file to WAV format using the AudioSegment module.\n",
    "    \n",
    "    Parameters:\n",
    "    mp3_path (str): Path to the input MP3 file.\n",
    "    wav_path (str): Path where the output WAV file will be saved.\n",
    "    \"\"\"\n",
    "    audio = AudioSegment.from_mp3(mp3_path)  # Load MP3 file\n",
    "    audio.export(wav_path, format='wav')  # Export as WAV file\n",
    "\n",
    "# Function to transcribe audio file in WAV format\n",
    "def transcribe_audio(wav_path):\n",
    "    \"\"\"\n",
    "    Transcribe the audio from a WAV file using the Whisper model.\n",
    "    \n",
    "    Parameters:\n",
    "    wav_path (str): Path to the WAV file to be transcribed.\n",
    "    \n",
    "    Returns:\n",
    "    str: Transcribed text from the audio file.\n",
    "    \"\"\"\n",
    "    result = model.transcribe(wav_path)  # Transcribe the WAV file\n",
    "    return result['text']  # Return the transcribed text\n",
    "\n",
    "# Process each MP3 file in the specified folder\n",
    "for mp3_file in os.listdir(mp3_folder):\n",
    "    if mp3_file.endswith('.mp3'):  # Check if the file has an MP3 extension\n",
    "        mp3_path = os.path.join(mp3_folder, mp3_file)  # Full path to the MP3 file\n",
    "        wav_file = mp3_file.replace('.mp3', '.wav')  # Generate the WAV filename\n",
    "        wav_path = os.path.join(wav_folder, wav_file)  # Full path to the WAV file\n",
    "        transcript_file = mp3_file.replace('.mp3', '.txt')  # Generate the transcript filename\n",
    "        transcript_path = os.path.join(transcript_folder, transcript_file)  # Full path to the transcript file\n",
    "        \n",
    "        # Convert MP3 file to WAV format\n",
    "        convert_mp3_to_wav(mp3_path, wav_path)\n",
    "        \n",
    "        # Transcribe the WAV file\n",
    "        transcript = transcribe_audio(wav_path)\n",
    "        \n",
    "        # Save the transcription to a text file\n",
    "        with open(transcript_path, 'w') as f:\n",
    "            f.write(transcript)\n",
    "        \n",
    "        # Print a message indicating that the transcription has been saved\n",
    "        print(f\"Transcription saved for: {mp3_file}\")\n"
   ]
  }
 ],
 "metadata": {
  "kernelspec": {
   "display_name": "venv",
   "language": "python",
   "name": "python3"
  },
  "language_info": {
   "codemirror_mode": {
    "name": "ipython",
    "version": 3
   },
   "file_extension": ".py",
   "mimetype": "text/x-python",
   "name": "python",
   "nbconvert_exporter": "python",
   "pygments_lexer": "ipython3",
   "version": "3.12.5"
  }
 },
 "nbformat": 4,
 "nbformat_minor": 2
}
